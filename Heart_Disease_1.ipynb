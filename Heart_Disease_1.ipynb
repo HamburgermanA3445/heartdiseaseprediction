{
  "nbformat": 4,
  "nbformat_minor": 0,
  "metadata": {
    "colab": {
      "provenance": [],
      "authorship_tag": "ABX9TyOJQvU6DYu7Sr6WPeYP8h3P",
      "include_colab_link": true
    },
    "kernelspec": {
      "name": "python3",
      "display_name": "Python 3"
    },
    "language_info": {
      "name": "python"
    }
  },
  "cells": [
    {
      "cell_type": "markdown",
      "metadata": {
        "id": "view-in-github",
        "colab_type": "text"
      },
      "source": [
        "<a href=\"https://colab.research.google.com/github/HamburgermanA3445/heartdiseaseprediction/blob/main/Heart_Disease_1.ipynb\" target=\"_parent\"><img src=\"https://colab.research.google.com/assets/colab-badge.svg\" alt=\"Open In Colab\"/></a>"
      ]
    },
    {
      "cell_type": "markdown",
      "source": [
        "Unsuccessful, obtained from Kaggle:\n",
        "\n",
        "https://www.kaggle.com/datasets/alphiree/cardiovascular-diseases-risk-prediction-dataset\n",
        "\n",
        "*some of the cells at the end were not run"
      ],
      "metadata": {
        "id": "fHIn3EV7Cjk1"
      }
    },
    {
      "cell_type": "code",
      "source": [
        "!unzip \"/content/heart_1.zip\""
      ],
      "metadata": {
        "colab": {
          "base_uri": "https://localhost:8080/"
        },
        "id": "S6V-lZy9Xaqt",
        "outputId": "65bcb0f1-dc77-4076-97fc-87f408ee7b9c"
      },
      "execution_count": null,
      "outputs": [
        {
          "output_type": "stream",
          "name": "stdout",
          "text": [
            "Archive:  /content/heart_1.zip\n",
            "  inflating: CVD_cleaned.csv         \n"
          ]
        }
      ]
    },
    {
      "cell_type": "markdown",
      "source": [
        "#Logistic Model"
      ],
      "metadata": {
        "id": "zJaxqrv-Ksue"
      }
    },
    {
      "cell_type": "code",
      "source": [
        "import pandas as pd\n",
        "from sklearn.model_selection import train_test_split\n",
        "from sklearn.linear_model import LogisticRegression\n",
        "from sklearn.preprocessing import LabelEncoder"
      ],
      "metadata": {
        "id": "oB2YmYuqXdB1"
      },
      "execution_count": null,
      "outputs": []
    },
    {
      "cell_type": "code",
      "source": [
        "heart_data = pd.read_csv(\"/content/CVD_cleaned.csv\")\n",
        "#heart_data = heart_data[\"Exercise\"]\n",
        "#heart_data = heart_data.replace({'No, pre-diabetes or borderline diabetes': 2, 'Yes, but female told only during pregnancy': 3, '70-74': 10, '60-64': 8, '75-79': 11, '80+': 12, '65-69': 9, '50-54': 6, '45-49': 5, '18-24': 0, '30-34': 2, '55-59': 7, '35-39': 3, '40-44': 4, '25-29': 1, \"Yes\": 1, \"No\": 0, \"Female\": 0, \"Excellent\": 4, \"Male\": 1, \"Poor\": 0, \"Fair\": 1, \"Good\": 2, \"Very Good\": 3, \"Within the past 2 years\": 1, \"Within the past year\": 0, \"Within the past 5 years\": 2, \"5 or more years ago\": 3, \"Never\": 4})"
      ],
      "metadata": {
        "id": "HBfI_JItXdEM"
      },
      "execution_count": null,
      "outputs": []
    },
    {
      "cell_type": "code",
      "source": [
        "heart_data.columns"
      ],
      "metadata": {
        "colab": {
          "base_uri": "https://localhost:8080/"
        },
        "id": "-1mUGmY4XdIx",
        "outputId": "b2b2e3ab-620b-4813-adc3-7e5af4adedf5"
      },
      "execution_count": null,
      "outputs": [
        {
          "output_type": "execute_result",
          "data": {
            "text/plain": [
              "Index(['General_Health', 'Checkup', 'Exercise', 'Heart_Disease', 'Skin_Cancer',\n",
              "       'Other_Cancer', 'Depression', 'Diabetes', 'Arthritis', 'Sex',\n",
              "       'Age_Category', 'Height_(cm)', 'Weight_(kg)', 'BMI', 'Smoking_History',\n",
              "       'Alcohol_Consumption', 'Fruit_Consumption',\n",
              "       'Green_Vegetables_Consumption', 'FriedPotato_Consumption'],\n",
              "      dtype='object')"
            ]
          },
          "metadata": {},
          "execution_count": 5
        }
      ]
    },
    {
      "cell_type": "code",
      "source": [
        "label_encoders = {}\n",
        "\n",
        "for col in heart_data.select_dtypes(include=['object']).columns:\n",
        "    le = LabelEncoder()\n",
        "    heart_data[col] = le.fit_transform(heart_data[col])\n",
        "    label_encoders[col] = le"
      ],
      "metadata": {
        "id": "9mlemnroCsWQ"
      },
      "execution_count": null,
      "outputs": []
    },
    {
      "cell_type": "code",
      "source": [
        "all_columns = heart_data.columns.drop('Heart_Disease')"
      ],
      "metadata": {
        "id": "WR5drfXaLgrI"
      },
      "execution_count": null,
      "outputs": []
    },
    {
      "cell_type": "code",
      "source": [
        "heart_data.head()"
      ],
      "metadata": {
        "id": "cnbXNe-AaUlU",
        "colab": {
          "base_uri": "https://localhost:8080/",
          "height": 226
        },
        "outputId": "59dadb8e-4a62-43b4-a9c7-621369fbbe3b"
      },
      "execution_count": null,
      "outputs": [
        {
          "output_type": "execute_result",
          "data": {
            "text/plain": [
              "   General_Health  Checkup  Exercise  Heart_Disease  Skin_Cancer  \\\n",
              "0               3        2         0              0            0   \n",
              "1               4        4         0              1            0   \n",
              "2               4        4         1              0            0   \n",
              "3               3        4         1              1            0   \n",
              "4               2        4         0              0            0   \n",
              "\n",
              "   Other_Cancer  Depression  Diabetes  Arthritis  Sex  Age_Category  \\\n",
              "0             0           0         0          1    0            10   \n",
              "1             0           0         2          0    0            10   \n",
              "2             0           0         2          0    0             8   \n",
              "3             0           0         2          0    1            11   \n",
              "4             0           0         0          0    1            12   \n",
              "\n",
              "   Height_(cm)  Weight_(kg)    BMI  Smoking_History  Alcohol_Consumption  \\\n",
              "0        150.0        32.66  14.54                1                  0.0   \n",
              "1        165.0        77.11  28.29                0                  0.0   \n",
              "2        163.0        88.45  33.47                0                  4.0   \n",
              "3        180.0        93.44  28.73                0                  0.0   \n",
              "4        191.0        88.45  24.37                1                  0.0   \n",
              "\n",
              "   Fruit_Consumption  Green_Vegetables_Consumption  FriedPotato_Consumption  \n",
              "0               30.0                          16.0                     12.0  \n",
              "1               30.0                           0.0                      4.0  \n",
              "2               12.0                           3.0                     16.0  \n",
              "3               30.0                          30.0                      8.0  \n",
              "4                8.0                           4.0                      0.0  "
            ],
            "text/html": [
              "\n",
              "  <div id=\"df-da3a9646-2ee7-45f7-a2f5-ffd0e6cf103f\" class=\"colab-df-container\">\n",
              "    <div>\n",
              "<style scoped>\n",
              "    .dataframe tbody tr th:only-of-type {\n",
              "        vertical-align: middle;\n",
              "    }\n",
              "\n",
              "    .dataframe tbody tr th {\n",
              "        vertical-align: top;\n",
              "    }\n",
              "\n",
              "    .dataframe thead th {\n",
              "        text-align: right;\n",
              "    }\n",
              "</style>\n",
              "<table border=\"1\" class=\"dataframe\">\n",
              "  <thead>\n",
              "    <tr style=\"text-align: right;\">\n",
              "      <th></th>\n",
              "      <th>General_Health</th>\n",
              "      <th>Checkup</th>\n",
              "      <th>Exercise</th>\n",
              "      <th>Heart_Disease</th>\n",
              "      <th>Skin_Cancer</th>\n",
              "      <th>Other_Cancer</th>\n",
              "      <th>Depression</th>\n",
              "      <th>Diabetes</th>\n",
              "      <th>Arthritis</th>\n",
              "      <th>Sex</th>\n",
              "      <th>Age_Category</th>\n",
              "      <th>Height_(cm)</th>\n",
              "      <th>Weight_(kg)</th>\n",
              "      <th>BMI</th>\n",
              "      <th>Smoking_History</th>\n",
              "      <th>Alcohol_Consumption</th>\n",
              "      <th>Fruit_Consumption</th>\n",
              "      <th>Green_Vegetables_Consumption</th>\n",
              "      <th>FriedPotato_Consumption</th>\n",
              "    </tr>\n",
              "  </thead>\n",
              "  <tbody>\n",
              "    <tr>\n",
              "      <th>0</th>\n",
              "      <td>3</td>\n",
              "      <td>2</td>\n",
              "      <td>0</td>\n",
              "      <td>0</td>\n",
              "      <td>0</td>\n",
              "      <td>0</td>\n",
              "      <td>0</td>\n",
              "      <td>0</td>\n",
              "      <td>1</td>\n",
              "      <td>0</td>\n",
              "      <td>10</td>\n",
              "      <td>150.0</td>\n",
              "      <td>32.66</td>\n",
              "      <td>14.54</td>\n",
              "      <td>1</td>\n",
              "      <td>0.0</td>\n",
              "      <td>30.0</td>\n",
              "      <td>16.0</td>\n",
              "      <td>12.0</td>\n",
              "    </tr>\n",
              "    <tr>\n",
              "      <th>1</th>\n",
              "      <td>4</td>\n",
              "      <td>4</td>\n",
              "      <td>0</td>\n",
              "      <td>1</td>\n",
              "      <td>0</td>\n",
              "      <td>0</td>\n",
              "      <td>0</td>\n",
              "      <td>2</td>\n",
              "      <td>0</td>\n",
              "      <td>0</td>\n",
              "      <td>10</td>\n",
              "      <td>165.0</td>\n",
              "      <td>77.11</td>\n",
              "      <td>28.29</td>\n",
              "      <td>0</td>\n",
              "      <td>0.0</td>\n",
              "      <td>30.0</td>\n",
              "      <td>0.0</td>\n",
              "      <td>4.0</td>\n",
              "    </tr>\n",
              "    <tr>\n",
              "      <th>2</th>\n",
              "      <td>4</td>\n",
              "      <td>4</td>\n",
              "      <td>1</td>\n",
              "      <td>0</td>\n",
              "      <td>0</td>\n",
              "      <td>0</td>\n",
              "      <td>0</td>\n",
              "      <td>2</td>\n",
              "      <td>0</td>\n",
              "      <td>0</td>\n",
              "      <td>8</td>\n",
              "      <td>163.0</td>\n",
              "      <td>88.45</td>\n",
              "      <td>33.47</td>\n",
              "      <td>0</td>\n",
              "      <td>4.0</td>\n",
              "      <td>12.0</td>\n",
              "      <td>3.0</td>\n",
              "      <td>16.0</td>\n",
              "    </tr>\n",
              "    <tr>\n",
              "      <th>3</th>\n",
              "      <td>3</td>\n",
              "      <td>4</td>\n",
              "      <td>1</td>\n",
              "      <td>1</td>\n",
              "      <td>0</td>\n",
              "      <td>0</td>\n",
              "      <td>0</td>\n",
              "      <td>2</td>\n",
              "      <td>0</td>\n",
              "      <td>1</td>\n",
              "      <td>11</td>\n",
              "      <td>180.0</td>\n",
              "      <td>93.44</td>\n",
              "      <td>28.73</td>\n",
              "      <td>0</td>\n",
              "      <td>0.0</td>\n",
              "      <td>30.0</td>\n",
              "      <td>30.0</td>\n",
              "      <td>8.0</td>\n",
              "    </tr>\n",
              "    <tr>\n",
              "      <th>4</th>\n",
              "      <td>2</td>\n",
              "      <td>4</td>\n",
              "      <td>0</td>\n",
              "      <td>0</td>\n",
              "      <td>0</td>\n",
              "      <td>0</td>\n",
              "      <td>0</td>\n",
              "      <td>0</td>\n",
              "      <td>0</td>\n",
              "      <td>1</td>\n",
              "      <td>12</td>\n",
              "      <td>191.0</td>\n",
              "      <td>88.45</td>\n",
              "      <td>24.37</td>\n",
              "      <td>1</td>\n",
              "      <td>0.0</td>\n",
              "      <td>8.0</td>\n",
              "      <td>4.0</td>\n",
              "      <td>0.0</td>\n",
              "    </tr>\n",
              "  </tbody>\n",
              "</table>\n",
              "</div>\n",
              "    <div class=\"colab-df-buttons\">\n",
              "\n",
              "  <div class=\"colab-df-container\">\n",
              "    <button class=\"colab-df-convert\" onclick=\"convertToInteractive('df-da3a9646-2ee7-45f7-a2f5-ffd0e6cf103f')\"\n",
              "            title=\"Convert this dataframe to an interactive table.\"\n",
              "            style=\"display:none;\">\n",
              "\n",
              "  <svg xmlns=\"http://www.w3.org/2000/svg\" height=\"24px\" viewBox=\"0 -960 960 960\">\n",
              "    <path d=\"M120-120v-720h720v720H120Zm60-500h600v-160H180v160Zm220 220h160v-160H400v160Zm0 220h160v-160H400v160ZM180-400h160v-160H180v160Zm440 0h160v-160H620v160ZM180-180h160v-160H180v160Zm440 0h160v-160H620v160Z\"/>\n",
              "  </svg>\n",
              "    </button>\n",
              "\n",
              "  <style>\n",
              "    .colab-df-container {\n",
              "      display:flex;\n",
              "      gap: 12px;\n",
              "    }\n",
              "\n",
              "    .colab-df-convert {\n",
              "      background-color: #E8F0FE;\n",
              "      border: none;\n",
              "      border-radius: 50%;\n",
              "      cursor: pointer;\n",
              "      display: none;\n",
              "      fill: #1967D2;\n",
              "      height: 32px;\n",
              "      padding: 0 0 0 0;\n",
              "      width: 32px;\n",
              "    }\n",
              "\n",
              "    .colab-df-convert:hover {\n",
              "      background-color: #E2EBFA;\n",
              "      box-shadow: 0px 1px 2px rgba(60, 64, 67, 0.3), 0px 1px 3px 1px rgba(60, 64, 67, 0.15);\n",
              "      fill: #174EA6;\n",
              "    }\n",
              "\n",
              "    .colab-df-buttons div {\n",
              "      margin-bottom: 4px;\n",
              "    }\n",
              "\n",
              "    [theme=dark] .colab-df-convert {\n",
              "      background-color: #3B4455;\n",
              "      fill: #D2E3FC;\n",
              "    }\n",
              "\n",
              "    [theme=dark] .colab-df-convert:hover {\n",
              "      background-color: #434B5C;\n",
              "      box-shadow: 0px 1px 3px 1px rgba(0, 0, 0, 0.15);\n",
              "      filter: drop-shadow(0px 1px 2px rgba(0, 0, 0, 0.3));\n",
              "      fill: #FFFFFF;\n",
              "    }\n",
              "  </style>\n",
              "\n",
              "    <script>\n",
              "      const buttonEl =\n",
              "        document.querySelector('#df-da3a9646-2ee7-45f7-a2f5-ffd0e6cf103f button.colab-df-convert');\n",
              "      buttonEl.style.display =\n",
              "        google.colab.kernel.accessAllowed ? 'block' : 'none';\n",
              "\n",
              "      async function convertToInteractive(key) {\n",
              "        const element = document.querySelector('#df-da3a9646-2ee7-45f7-a2f5-ffd0e6cf103f');\n",
              "        const dataTable =\n",
              "          await google.colab.kernel.invokeFunction('convertToInteractive',\n",
              "                                                    [key], {});\n",
              "        if (!dataTable) return;\n",
              "\n",
              "        const docLinkHtml = 'Like what you see? Visit the ' +\n",
              "          '<a target=\"_blank\" href=https://colab.research.google.com/notebooks/data_table.ipynb>data table notebook</a>'\n",
              "          + ' to learn more about interactive tables.';\n",
              "        element.innerHTML = '';\n",
              "        dataTable['output_type'] = 'display_data';\n",
              "        await google.colab.output.renderOutput(dataTable, element);\n",
              "        const docLink = document.createElement('div');\n",
              "        docLink.innerHTML = docLinkHtml;\n",
              "        element.appendChild(docLink);\n",
              "      }\n",
              "    </script>\n",
              "  </div>\n",
              "\n",
              "\n",
              "<div id=\"df-c4e4aae4-a9df-45fa-baec-c3002ead142a\">\n",
              "  <button class=\"colab-df-quickchart\" onclick=\"quickchart('df-c4e4aae4-a9df-45fa-baec-c3002ead142a')\"\n",
              "            title=\"Suggest charts\"\n",
              "            style=\"display:none;\">\n",
              "\n",
              "<svg xmlns=\"http://www.w3.org/2000/svg\" height=\"24px\"viewBox=\"0 0 24 24\"\n",
              "     width=\"24px\">\n",
              "    <g>\n",
              "        <path d=\"M19 3H5c-1.1 0-2 .9-2 2v14c0 1.1.9 2 2 2h14c1.1 0 2-.9 2-2V5c0-1.1-.9-2-2-2zM9 17H7v-7h2v7zm4 0h-2V7h2v10zm4 0h-2v-4h2v4z\"/>\n",
              "    </g>\n",
              "</svg>\n",
              "  </button>\n",
              "\n",
              "<style>\n",
              "  .colab-df-quickchart {\n",
              "      --bg-color: #E8F0FE;\n",
              "      --fill-color: #1967D2;\n",
              "      --hover-bg-color: #E2EBFA;\n",
              "      --hover-fill-color: #174EA6;\n",
              "      --disabled-fill-color: #AAA;\n",
              "      --disabled-bg-color: #DDD;\n",
              "  }\n",
              "\n",
              "  [theme=dark] .colab-df-quickchart {\n",
              "      --bg-color: #3B4455;\n",
              "      --fill-color: #D2E3FC;\n",
              "      --hover-bg-color: #434B5C;\n",
              "      --hover-fill-color: #FFFFFF;\n",
              "      --disabled-bg-color: #3B4455;\n",
              "      --disabled-fill-color: #666;\n",
              "  }\n",
              "\n",
              "  .colab-df-quickchart {\n",
              "    background-color: var(--bg-color);\n",
              "    border: none;\n",
              "    border-radius: 50%;\n",
              "    cursor: pointer;\n",
              "    display: none;\n",
              "    fill: var(--fill-color);\n",
              "    height: 32px;\n",
              "    padding: 0;\n",
              "    width: 32px;\n",
              "  }\n",
              "\n",
              "  .colab-df-quickchart:hover {\n",
              "    background-color: var(--hover-bg-color);\n",
              "    box-shadow: 0 1px 2px rgba(60, 64, 67, 0.3), 0 1px 3px 1px rgba(60, 64, 67, 0.15);\n",
              "    fill: var(--button-hover-fill-color);\n",
              "  }\n",
              "\n",
              "  .colab-df-quickchart-complete:disabled,\n",
              "  .colab-df-quickchart-complete:disabled:hover {\n",
              "    background-color: var(--disabled-bg-color);\n",
              "    fill: var(--disabled-fill-color);\n",
              "    box-shadow: none;\n",
              "  }\n",
              "\n",
              "  .colab-df-spinner {\n",
              "    border: 2px solid var(--fill-color);\n",
              "    border-color: transparent;\n",
              "    border-bottom-color: var(--fill-color);\n",
              "    animation:\n",
              "      spin 1s steps(1) infinite;\n",
              "  }\n",
              "\n",
              "  @keyframes spin {\n",
              "    0% {\n",
              "      border-color: transparent;\n",
              "      border-bottom-color: var(--fill-color);\n",
              "      border-left-color: var(--fill-color);\n",
              "    }\n",
              "    20% {\n",
              "      border-color: transparent;\n",
              "      border-left-color: var(--fill-color);\n",
              "      border-top-color: var(--fill-color);\n",
              "    }\n",
              "    30% {\n",
              "      border-color: transparent;\n",
              "      border-left-color: var(--fill-color);\n",
              "      border-top-color: var(--fill-color);\n",
              "      border-right-color: var(--fill-color);\n",
              "    }\n",
              "    40% {\n",
              "      border-color: transparent;\n",
              "      border-right-color: var(--fill-color);\n",
              "      border-top-color: var(--fill-color);\n",
              "    }\n",
              "    60% {\n",
              "      border-color: transparent;\n",
              "      border-right-color: var(--fill-color);\n",
              "    }\n",
              "    80% {\n",
              "      border-color: transparent;\n",
              "      border-right-color: var(--fill-color);\n",
              "      border-bottom-color: var(--fill-color);\n",
              "    }\n",
              "    90% {\n",
              "      border-color: transparent;\n",
              "      border-bottom-color: var(--fill-color);\n",
              "    }\n",
              "  }\n",
              "</style>\n",
              "\n",
              "  <script>\n",
              "    async function quickchart(key) {\n",
              "      const quickchartButtonEl =\n",
              "        document.querySelector('#' + key + ' button');\n",
              "      quickchartButtonEl.disabled = true;  // To prevent multiple clicks.\n",
              "      quickchartButtonEl.classList.add('colab-df-spinner');\n",
              "      try {\n",
              "        const charts = await google.colab.kernel.invokeFunction(\n",
              "            'suggestCharts', [key], {});\n",
              "      } catch (error) {\n",
              "        console.error('Error during call to suggestCharts:', error);\n",
              "      }\n",
              "      quickchartButtonEl.classList.remove('colab-df-spinner');\n",
              "      quickchartButtonEl.classList.add('colab-df-quickchart-complete');\n",
              "    }\n",
              "    (() => {\n",
              "      let quickchartButtonEl =\n",
              "        document.querySelector('#df-c4e4aae4-a9df-45fa-baec-c3002ead142a button');\n",
              "      quickchartButtonEl.style.display =\n",
              "        google.colab.kernel.accessAllowed ? 'block' : 'none';\n",
              "    })();\n",
              "  </script>\n",
              "</div>\n",
              "\n",
              "    </div>\n",
              "  </div>\n"
            ],
            "application/vnd.google.colaboratory.intrinsic+json": {
              "type": "dataframe",
              "variable_name": "heart_data"
            }
          },
          "metadata": {},
          "execution_count": 9
        }
      ]
    },
    {
      "cell_type": "code",
      "source": [
        "x_data = pd.read_csv(\"/content/CVD_cleaned.csv\")\n",
        "col = x_data.columns\n",
        "\n",
        "for l in col:\n",
        "  all_x = []\n",
        "  for x in x_data[l]:\n",
        "    if x not in all_x:\n",
        "      all_x.append(x)\n",
        "  print(f'{l}: {all_x}')"
      ],
      "metadata": {
        "colab": {
          "base_uri": "https://localhost:8080/"
        },
        "id": "vx0LU2paXdGa",
        "outputId": "f63389da-527b-44a8-b7d8-9b8fde3af882"
      },
      "execution_count": null,
      "outputs": [
        {
          "output_type": "stream",
          "name": "stdout",
          "text": [
            "General_Health: ['Poor', 'Very Good', 'Good', 'Fair', 'Excellent']\n",
            "Checkup: ['Within the past 2 years', 'Within the past year', '5 or more years ago', 'Within the past 5 years', 'Never']\n",
            "Exercise: ['No', 'Yes']\n",
            "Heart_Disease: ['No', 'Yes']\n",
            "Skin_Cancer: ['No', 'Yes']\n",
            "Other_Cancer: ['No', 'Yes']\n",
            "Depression: ['No', 'Yes']\n",
            "Diabetes: ['No', 'Yes', 'No, pre-diabetes or borderline diabetes', 'Yes, but female told only during pregnancy']\n",
            "Arthritis: ['Yes', 'No']\n",
            "Sex: ['Female', 'Male']\n",
            "Age_Category: ['70-74', '60-64', '75-79', '80+', '65-69', '50-54', '45-49', '18-24', '30-34', '55-59', '35-39', '40-44', '25-29']\n",
            "Height_(cm): [150.0, 165.0, 163.0, 180.0, 191.0, 183.0, 175.0, 160.0, 168.0, 178.0, 152.0, 157.0, 188.0, 185.0, 170.0, 173.0, 155.0, 193.0, 196.0, 206.0, 198.0, 140.0, 135.0, 145.0, 147.0, 142.0, 201.0, 218.0, 124.0, 203.0, 137.0, 122.0, 216.0, 224.0, 229.0, 151.0, 177.0, 164.0, 162.0, 156.0, 153.0, 169.0, 167.0, 172.0, 106.0, 190.0, 143.0, 171.0, 154.0, 176.0, 200.0, 146.0, 148.0, 158.0, 159.0, 187.0, 104.0, 120.0, 107.0, 211.0, 226.0, 182.0, 213.0, 97.0, 184.0, 125.0, 127.0, 234.0, 130.0, 119.0, 132.0, 105.0, 166.0, 181.0, 186.0, 91.0, 174.0, 208.0, 149.0, 96.0, 197.0, 161.0, 94.0, 103.0, 221.0, 134.0, 144.0, 189.0, 100.0, 179.0, 117.0, 99.0, 102.0, 110.0, 241.0, 115.0, 205.0, 195.0, 108.0]\n",
            "Weight_(kg): [32.66, 77.11, 88.45, 93.44, 154.22, 69.85, 108.86, 72.57, 91.63, 74.84, 73.48, 83.91, 113.4, 52.16, 116.12, 99.79, 81.65, 104.33, 79.38, 55.79, 124.74, 81.19, 70.31, 112.49, 147.42, 84.82, 102.06, 64.41, 60.78, 61.23, 88.0, 90.72, 49.9, 85.28, 120.2, 69.4, 62.14, 65.77, 89.81, 66.68, 86.18, 72.12, 87.54, 62.6, 75.75, 88.9, 92.08, 56.7, 68.04, 79.83, 63.5, 58.97, 114.76, 45.36, 73.94, 54.43, 125.19, 77.56, 96.16, 95.25, 115.67, 82.55, 136.08, 78.93, 70.76, 95.71, 53.52, 87.09, 55.34, 83.01, 123.38, 98.88, 73.03, 76.66, 97.52, 71.67, 83.46, 122.47, 58.06, 74.39, 67.13, 82.1, 47.63, 99.34, 85.73, 108.41, 91.17, 57.61, 63.05, 45.81, 94.35, 44.45, 117.93, 107.5, 127.01, 106.59, 107.95, 89.36, 92.99, 53.07, 78.02, 131.09, 97.98, 84.37, 111.13, 50.8, 57.15, 64.86, 80.29, 76.2, 114.31, 65.32, 97.07, 67.59, 75.3, 105.69, 110.68, 86.64, 51.26, 61.69, 107.05, 42.64, 40.82, 101.6, 90.26, 131.54, 98.43, 78.47, 59.87, 68.95, 60.33, 94.8, 48.53, 96.62, 117.48, 102.51, 46.27, 109.77, 58.51, 68.49, 133.81, 158.76, 52.62, 80.74, 48.99, 117.03, 54.88, 33.11, 51.71, 92.53, 34.02, 44.91, 105.23, 145.6, 106.14, 56.25, 139.71, 124.28, 103.42, 71.21, 138.35, 143.34, 101.15, 103.87, 145.15, 93.89, 49.44, 46.72, 120.66, 132.9, 112.04, 167.83, 142.88, 66.22, 63.96, 162.39, 176.9, 121.56, 111.58, 136.98, 110.22, 170.1, 122.02, 133.36, 119.75, 129.27, 175.54, 151.95, 118.39, 121.11, 132.45, 135.62, 119.29, 102.97, 172.37, 156.49, 43.09, 43.54, 157.4, 59.42, 181.44, 125.65, 127.91, 144.7, 149.69, 113.85, 163.29, 100.7, 115.21, 112.94, 208.65, 127.46, 100.24, 136.53, 50.35, 130.63, 122.92, 141.97, 47.17, 142.43, 132.0, 118.84, 116.57, 151.5, 137.44, 72.0, 140.61, 169.19, 44.0, 160.57, 104.78, 130.18, 65.0, 134.72, 48.08, 139.25, 53.98, 36.29, 129.73, 38.56, 228.16, 166.92, 148.32, 174.63, 146.96, 235.87, 161.03, 152.86, 105.0, 75.0, 109.0, 123.83, 165.56, 42.18, 134.26, 140.16, 228.61, 128.82, 39.92, 78.0, 109.32, 204.12, 85.0, 141.52, 161.48, 185.97, 90.0, 61.0, 95.0, 60.0, 45.0, 126.1, 82.0, 137.89, 70.0, 64.0, 100.0, 63.0, 126.55, 135.17, 74.0, 150.59, 83.0, 189.15, 143.79, 97.0, 73.0, 54.0, 80.0, 164.2, 55.0, 155.13, 52.0, 67.0, 144.24, 68.0, 226.8, 62.0, 76.0, 190.51, 146.51, 188.24, 199.58, 79.0, 96.0, 152.41, 58.0, 138.8, 118.0, 165.11, 153.31, 84.0, 38.1, 41.73, 39.01, 37.19, 87.0, 128.37, 156.04, 187.79, 168.28, 136.0, 35.38, 166.01, 213.19, 89.0, 66.0, 40.37, 81.0, 210.92, 50.0, 155.58, 25.4, 224.53, 179.17, 159.66, 176.45, 209.56, 151.05, 148.78, 217.72, 146.06, 140.0, 219.99, 86.0, 141.07, 110.0, 92.0, 31.75, 41.28, 33.57, 130.0, 48.0, 161.93, 94.0, 98.0, 183.25, 53.0, 34.47, 120.0, 77.0, 183.7, 272.16, 171.46, 206.84, 26.76, 200.0, 69.0, 101.0, 180.53, 47.0, 126.0, 59.0, 215.46, 175.99, 166.47, 184.61, 153.77, 39.46, 174.18, 186.43, 46.0, 40.0, 195.04, 104.0, 201.85, 147.87, 192.78, 36.74, 162.84, 134.0, 157.85, 191.87, 272.61, 51.0, 231.33, 37.65, 93.0, 56.0, 149.23, 154.68, 158.3, 194.59, 179.62, 159.0, 210.47, 180.98, 169.64, 285.76, 177.81, 119.0, 150.0, 159.21, 167.38, 244.03, 163.75, 168.74, 173.27, 227.7, 99.0, 200.94, 229.52, 219.54, 232.69, 175.09, 229.97, 293.02, 200.49, 195.95, 190.96, 212.73, 150.14, 229.06, 178.72, 181.89, 34.93, 171.0, 156.94, 176.0, 57.0, 71.0, 103.0, 254.01, 30.84, 249.48, 240.4, 238.14, 205.93, 273.52, 215.0, 187.33, 182.0, 164.65, 233.6, 29.94, 199.13, 185.07, 216.36, 186.88, 189.6, 173.73, 219.09, 24.95, 203.21, 210.01, 35.83, 190.06, 116.0, 197.31, 154.0, 180.08, 102.0, 222.26, 202.76, 27.22, 206.38, 135.0, 170.55, 160.0, 43.0, 188.69, 106.0, 177.35, 112.0, 160.12, 195.0, 172.82, 220.45, 184.16, 185.52, 26.31, 41.0, 274.42, 207.75, 180.0, 175.0, 141.0, 230.88, 222.71, 258.55, 203.66, 113.0, 182.34, 195.5, 191.42, 215.91, 178.26, 257.64, 244.94, 263.08, 214.1, 117.0, 172.0, 115.0, 185.0, 247.21, 39.0, 193.68, 127.0, 30.0, 250.0, 252.2, 283.5, 49.0, 42.0]\n",
            "BMI: [14.54, 28.29, 33.47, 28.73, 24.37, 46.11, 22.74, 39.94, 27.46, 34.67, 29.23, 23.92, 29.86, 35.87, 22.46, 43.94, 29.84, 29.05, 33.0, 30.04, 22.5, 26.58, 38.35, 30.72, 34.54, 32.92, 30.18, 31.0, 45.33, 32.77, 31.12, 28.89, 25.73, 22.24, 21.63, 25.79, 27.44, 25.63, 24.69, 27.98, 27.84, 30.9, 29.53, 17.75, 30.34, 45.49, 29.88, 23.52, 34.97, 22.71, 14.06, 30.11, 27.78, 26.63, 31.18, 26.5, 23.48, 23.0, 25.1, 33.28, 26.18, 24.45, 25.39, 38.28, 29.13, 28.19, 28.34, 24.41, 24.21, 26.76, 21.14, 25.61, 22.31, 31.75, 31.01, 25.84, 32.28, 35.33, 27.12, 31.47, 28.7, 35.29, 25.69, 26.31, 18.89, 24.8, 23.78, 35.43, 22.67, 33.23, 31.89, 27.81, 33.6, 30.29, 29.57, 30.21, 33.89, 41.16, 28.97, 21.46, 27.67, 43.05, 32.88, 25.23, 25.96, 20.53, 37.76, 25.85, 23.57, 36.22, 22.3, 28.32, 24.03, 25.33, 20.38, 23.73, 17.79, 31.32, 22.87, 26.96, 25.07, 24.89, 21.11, 31.25, 30.41, 20.37, 18.88, 34.21, 43.9, 18.79, 27.53, 23.3, 31.28, 29.45, 30.91, 33.91, 25.51, 29.95, 26.61, 29.99, 25.5, 24.28, 30.23, 32.32, 30.81, 38.74, 37.38, 19.14, 20.05, 26.52, 26.47, 30.82, 22.15, 20.36, 27.29, 20.6, 38.77, 33.2, 26.45, 21.86, 20.25, 25.97, 21.58, 19.2, 41.38, 27.41, 27.91, 35.44, 22.14, 31.53, 27.5, 34.5, 31.09, 23.86, 30.79, 26.57, 32.01, 25.83, 33.65, 23.41, 31.57, 42.51, 39.48, 20.4, 37.2, 34.61, 15.82, 36.26, 26.37, 27.34, 25.77, 41.98, 23.63, 49.6, 30.67, 36.81, 18.29, 29.18, 34.7, 32.74, 24.51, 42.16, 29.09, 30.27, 31.91, 19.47, 26.15, 28.41, 51.19, 39.58, 30.07, 28.12, 21.8, 27.73, 30.02, 17.54, 39.68, 27.71, 39.6, 22.4, 41.5, 30.38, 25.06, 29.41, 35.28, 27.96, 43.26, 21.89, 20.8, 20.51, 25.02, 33.52, 24.79, 44.93, 23.03, 25.24, 43.22, 25.2, 29.29, 26.54, 38.37, 18.24, 41.79, 22.63, 23.91, 34.9, 21.95, 36.96, 20.22, 22.32, 19.84, 29.01, 17.76, 25.09, 25.75, 28.25, 44.29, 17.91, 17.58, 34.06, 32.69, 23.34, 32.12, 29.26, 22.38, 28.66, 38.01, 21.26, 37.23, 35.02, 36.61, 28.84, 28.79, 18.01, 29.04, 19.94, 34.3, 25.78, 24.53, 38.84, 26.88, 25.66, 37.12, 26.78, 36.05, 21.29, 32.61, 23.56, 23.49, 31.71, 23.4, 26.34, 19.74, 35.26, 23.62, 20.18, 26.94, 26.83, 24.63, 27.99, 36.13, 24.81, 23.67, 37.79, 17.81, 32.19, 30.54, 29.76, 32.22, 31.93, 19.87, 23.75, 19.8, 26.07, 17.23, 34.02, 27.28, 50.9, 28.48, 26.04, 18.31, 31.64, 30.56, 33.43, 34.17, 28.35, 37.61, 23.11, 18.07, 30.36, 38.62, 22.86, 42.87, 27.37, 23.59, 40.35, 38.27, 23.81, 20.48, 44.85, 28.13, 30.13, 35.78, 23.26, 23.05, 34.46, 19.97, 24.39, 18.95, 23.72, 43.93, 24.96, 29.12, 21.79, 33.83, 16.64, 25.68, 22.0, 45.73, 25.92, 51.69, 22.45, 28.53, 22.65, 29.6, 27.06, 21.81, 25.42, 20.78, 29.81, 25.58, 36.84, 20.2, 25.82, 27.2, 31.62, 35.73, 28.15, 34.75, 18.27, 26.95, 22.26, 32.93, 32.81, 29.52, 36.32, 20.5, 24.83, 32.62, 35.94, 22.81, 22.53, 37.66, 48.82, 24.33, 34.33, 24.05, 33.96, 41.2, 27.05, 36.44, 16.23, 31.38, 34.03, 33.99, 31.9, 30.52, 24.13, 20.0, 19.27, 21.09, 20.08, 27.02, 37.45, 16.54, 51.81, 31.74, 23.83, 27.32, 22.6, 49.92, 33.84, 24.62, 30.68, 21.83, 35.9, 20.63, 46.83, 27.26, 45.6, 31.78, 31.83, 20.09, 20.34, 42.91, 32.98, 17.47, 20.98, 30.61, 28.95, 21.97, 38.09, 37.94, 23.33, 36.76, 24.72, 35.71, 26.26, 23.17, 26.29, 35.51, 37.59, 20.92, 37.13, 32.45, 49.49, 26.09, 21.22, 32.0, 32.5, 26.12, 32.08, 19.77, 33.82, 40.24, 28.06, 23.53, 40.39, 43.85, 22.43, 29.85, 30.65, 30.3, 40.0, 22.66, 46.25, 40.51, 40.25, 40.41, 25.8, 25.13, 32.1, 18.69, 18.72, 27.92, 28.75, 25.0, 36.31, 18.71, 35.52, 42.29, 32.55, 27.89, 16.62, 45.19, 30.99, 32.78, 34.15, 45.89, 36.58, 20.83, 31.33, 33.09, 16.04, 22.36, 26.32, 23.06, 35.95, 43.88, 29.27, 20.12, 36.49, 36.39, 19.53, 43.27, 25.11, 19.13, 27.4, 27.1, 24.61, 31.82, 38.34, 21.21, 49.48, 19.26, 34.18, 43.58, 33.67, 20.62, 29.71, 32.11, 33.38, 21.7, 39.16, 31.95, 35.15, 25.04, 28.8, 19.37, 26.9, 27.6, 31.15, 18.02, 21.91, 21.4, 33.79, 27.59, 21.93, 43.07, 31.87, 38.41, 33.25, 21.52, 35.62, 51.21, 32.42, 31.19, 27.54, 35.61, 33.75, 28.28, 34.87, 25.22, 56.07, 23.01, 25.94, 24.34, 30.43, 50.07, 29.35, 18.56, 49.34, 26.06, 36.94, 22.96, 39.84, 29.68, 39.71, 23.13, 51.84, 40.18, 32.06, 25.29, 47.47, 57.02, 37.25, 34.44, 32.56, 40.09, 47.65, 20.85, 21.24, 26.39, 48.92, 23.74, 27.8, 27.72, 41.35, 23.04, 44.39, 16.73, 19.57, 23.46, 36.02, 24.27, 38.45, 33.45, 31.31, 30.17, 38.97, 34.31, 26.97, 42.09, 21.41, 23.44, 21.03, 30.83, 22.04, 57.59, 24.14, 26.68, 23.69, 18.75, 33.66, 27.21, 45.2, 31.66, 37.97, 48.37, 23.37, 30.7, 24.75, 28.17, 46.87, 34.96, 22.92, 26.22, 42.13, 39.51, 21.61, 21.13, 34.11, 29.03, 29.02, 34.74, 29.66, 20.82, 48.07, 32.27, 31.63, 31.06, 24.66, 36.4, 24.86, 28.67, 32.37, 41.82, 38.52, 19.67, 33.61, 23.39, 24.97, 37.3, 35.08, 37.68, 48.06, 40.55, 29.65, 34.95, 43.33, 30.24, 43.01, 32.87, 21.87, 33.72, 20.64, 24.02, 34.01, 30.37, 21.18, 50.13, 45.31, 61.11, 47.2, 17.38, 38.26, 22.89, 25.7, 44.22, 29.21, 34.59, 18.04, 37.42, 33.07, 29.87, 36.21, 20.07, 36.62, 32.89, 52.9, 36.87, 24.78, 26.43, 21.32, 38.65, 26.4, 23.89, 46.18, 24.87, 43.56, 44.63, 40.03, 41.05, 17.16, 33.4, 63.47, 21.73, 31.16, 42.43, 23.38, 37.44, 30.86, 28.82, 62.65, 31.17, 30.55, 37.88, 39.46, 29.63, 22.69, 35.58, 25.37, 26.16, 22.27, 22.68, 18.6, 21.48, 19.92, 34.99, 27.76, 36.55, 32.67, 47.43, 37.28, 52.51, 26.65, 45.52, 26.19, 37.6, 18.54, 25.46, 27.88, 36.92, 15.21, 19.49, 40.96, 31.41, 20.77, 23.43, 52.15, 28.45, 30.0, 22.8, 35.19, 46.34, 30.62, 33.36, 30.92, 43.09, 33.11, 20.01, 30.4, 38.92, 43.46, 34.57, 18.83, 25.34, 51.68, 32.54, 49.02, 25.4, 29.37, 32.49, 28.62, 22.47, 28.27, 25.54, 25.25, 35.13, 29.43, 51.49, 48.73, 35.24, 34.14, 24.95, 16.24, 50.21, 41.01, 31.8, 34.34, 28.1, 28.59, 30.73, 36.95, 46.99, 39.78, 21.5, 40.19, 23.29, 55.79, 28.6, 21.62, 21.16, 40.34, 44.92, 35.4, 19.64, 64.16, 48.42, 53.04, 34.37, 53.26, 22.52, 40.83, 32.71, 27.25, 24.59, 51.65, 53.14, 36.28, 39.33, 41.15, 37.21, 23.8, 44.01, 28.52, 44.81, 24.55, 37.93, 24.64, 23.23, 21.12, 26.36, 39.32, 53.96, 23.09, 32.26, 25.36, 33.19, 45.0, 39.05, 42.32, 32.43, 35.57, 26.92, 27.17, 38.07, 31.5, 33.73, 50.09, 35.36, 37.49, 25.86, 39.99, 27.48, 28.37, 40.44, 29.58, 28.5, 45.54, 17.7, 31.6, 39.54, 42.77, 20.3, 27.86, 41.6, 43.4, 55.45, 23.71, 40.17, 41.61, 68.02, 36.25, 25.56, 42.57, 18.65, 33.87, 33.51, 28.21, 40.74, 39.53, 43.35, 43.65, 22.78, 31.46, 25.62, 32.02, 29.16, 38.36, 40.77, 24.24, 42.07, 26.13, 27.93, 18.62, 37.8, 34.77, 50.3, 39.36, 42.05, 38.02, 41.71, 48.24, 29.38, 16.79, 26.64, 19.48, 37.11, 31.4, 33.95, 39.86, 38.39, 23.24, 21.56, 28.91, 35.56, 33.29, 32.24, 27.63, 27.55, 24.71, 23.96, 31.96, 55.62, 25.32, 24.56, 41.96, 31.42, 31.14, 36.9, 25.55, 45.83, 25.59, 27.39, 45.35, 46.59, 26.11, 49.09, 46.64, 22.05, 27.62, 28.51, 37.5, 26.85, 29.44, 40.89, 14.92, 25.45, 33.57, 39.06, 21.31, 35.67, 29.7, 21.75, 29.55, 24.22, 21.3, 18.3, 36.54, 18.16, 29.19, 20.81, 54.69, 37.56, 48.81, 53.25, 46.06, 34.16, 34.86, 46.58, 34.58, 37.4, 33.3, 49.38, 52.01, 29.54, 44.3, 31.58, 36.18, 22.35, 22.22, 46.81, 20.66, 16.31, 21.47, 33.63, 36.8, 27.31, 42.04, 30.08, 58.42, 26.87, 29.89, 24.2, 24.11, 31.24, 19.59, 15.81, 26.46, 54.08, 28.43, 28.76, 40.61, 36.33, 28.0, 17.22, 21.37, 25.18, 25.52, 40.72, 29.69, 42.83, 55.44, 17.63, 44.94, 20.9, 35.88, 22.11, 28.87, 17.07, 39.28, 22.62, 50.12, 15.92, 34.28, 30.42, 57.57, 26.69, 30.85, 19.58, 17.03, 34.39, 51.37, 39.5, 21.94, 45.44, 23.65, 26.72, 14.61, 39.13, 31.51, 17.71, 40.23, 39.77, 26.3, 33.05, 42.38, 37.31, 20.87, 23.82, 34.08, 42.98, 30.8, 35.35, 19.3, 23.85, 29.79, 41.09, 18.99, 21.34, 18.13, 18.37, 56.38, 38.16, 43.77, 49.78, 30.71, 21.77, 39.31, 29.24, 36.73, 26.75, 35.3, 46.52, 19.79, 20.7, 35.0, 33.64, 39.42, 21.28, 22.13, 19.75, 27.94, 27.04, 37.43, 40.6, 42.72, 21.08, 27.07, 28.49, 29.8, 17.85, 42.97, 20.52, 20.41, 45.98, 28.56, 20.97, 20.03, 24.19, 16.16, 20.67, 41.04, 40.45, 37.89, 44.09, 16.65, 37.95, 36.59, 32.91, 44.82, 27.15, 49.76, 42.6, 18.25, 38.11, 56.64, 29.08, 30.47, 28.99, 13.31, 16.45, 23.02, 58.59, 22.85, 16.37, 23.18, 89.1, 30.69, 46.0, 28.23, 28.31, 30.28, 17.72, 35.11, 45.7, 20.94, 33.12, 16.14, 31.79, 29.1, 22.83, 25.38, 21.96, 22.73, 32.95, 19.15, 22.55, 58.24, 40.78, 17.51, 47.83, 33.37, 28.9, 38.08, 45.65, 45.61, 27.52, 34.51, 23.12, 26.79, 31.05, 32.46, 37.37, 23.08, 18.38, 66.08, 38.44, 45.76, 25.53, 42.22, 26.14, 24.82, 58.53, 38.95, 32.96, 53.67, 48.66, 33.48, 24.31, 24.68, 50.75, 29.62, 35.85, 76.79, 31.04, 20.47, 22.2, 20.06, 26.56, 20.55, 44.1, 28.98, 36.17, 39.08, 48.47, 22.99, 27.57, 20.45, 17.97, 26.25, 42.1, 47.26, 47.0, 24.46, 28.93, 25.08, 25.15, 30.1, 31.35, 24.94, 38.67, 43.24, 30.14, 19.66, 25.9, 33.08, 24.18, 39.14, 19.89, 32.99, 50.22, 35.53, 60.08, 37.41, 47.55, 21.44, 40.29, 30.45, 35.31, 37.02, 33.5, 18.94, 47.61, 20.54, 35.74, 44.64, 26.91, 28.04, 48.71, 40.69, 44.43, 16.46, 31.48, 28.74, 29.83, 20.19, 27.61, 42.23, 20.75, 60.82, 48.78, 28.02, 32.59, 35.82, 38.73, 21.43, 31.45, 32.72, 21.54, 19.46, 23.15, 32.44, 20.33, 41.81, 28.08, 33.78, 27.69, 34.98, 19.11, 26.71, 50.86, 24.25, 27.22, 49.93, 40.01, 18.8, 57.17, 31.65, 33.44, 19.69, 17.57, 24.01, 19.01, 19.73, 26.0, 47.78, 51.75, 27.97, 16.95, 27.27, 41.84, 44.26, 17.92, 47.9, 35.48, 31.02, 42.53, 36.14, 86.51, 37.74, 24.54, 36.15, 24.3, 26.7, 43.19, 22.16, 45.88, 46.2, 22.56, 40.02, 26.08, 38.87, 19.85, 18.46, 33.33, 60.36, 36.04, 63.77, 16.74, 21.42, 36.57, 22.18, 22.98, 41.4, 39.87, 21.02, 38.47, 42.33, 18.4, 31.1, 50.31, 68.97, 47.46, 51.67, 40.14, 38.63, 35.83, 48.69, 18.47, 52.46, 22.72, 20.73, 21.74, 16.63, 28.57, 19.39, 34.22, 30.12, 32.23, 37.75, 44.48, 23.99, 23.6, 33.13, 45.17, 28.63, 54.03, 61.79, 21.2, 34.2, 46.09, 22.59, 26.17, 45.78, 34.41, 38.75, 18.5, 54.78, 13.48, 21.25, 54.25, 19.91, 21.59, 49.95, 32.17, 43.71, 40.57, 19.65, 19.05, 18.09, 15.78, 25.89, 35.7, 39.11, 17.49, 30.96, 15.64, 21.57, 23.42, 28.46, 16.8, 23.98, 15.17, 23.87, 17.14, 16.83, 51.92, 34.72, 49.2, 21.64, 25.99, 28.72, 24.9, 24.07, 30.95, 59.22, 33.8, 41.0, 59.44, 34.93, 52.25, 35.96, 22.48, 29.48, 47.99, 41.57, 38.79, 40.13, 21.68, 42.27, 15.05, 18.9, 19.07, 22.08, 26.66, 20.16, 41.8, 34.69, 25.87, 51.08, 44.86, 19.16, 32.03, 45.18, 24.67, 33.81, 43.12, 32.58, 36.48, 28.01, 17.27, 23.19, 18.66, 18.17, 13.72, 41.88, 32.36, 22.42, 24.98, 17.89, 27.18, 44.76, 37.55, 38.04, 54.14, 48.62, 18.08, 19.4, 41.66, 16.82, 21.35, 45.42, 42.61, 51.59, 48.26, 17.11, 42.3, 33.14, 27.47, 15.41, 19.22, 40.5, 15.01, 29.0, 33.77, 18.74, 17.31, 17.95, 39.18, 27.75, 47.72, 27.82, 65.91, 43.62, 26.93, 26.6, 26.23, 44.34, 28.03, 32.6, 31.56, 26.89, 39.74, 42.42, 31.84, 22.49, 57.39, 20.84, 35.25, 24.84, 32.21, 16.13, 34.88, 31.61, 17.43, 43.8, 23.36, 34.94, 22.1, 23.31, 24.65, 39.27, 24.09, 38.78, 38.13, 30.05, 56.55, 52.75, 37.03, 16.27, 41.63, 41.99, 36.72, 42.12, 38.61, 38.86, 42.37, 41.37, 34.52, 25.26, 41.45, 16.99, 22.19, 15.45, 36.03, 30.76, 29.75, 50.49, 34.53, 36.52, 41.34, 34.84, 28.55, 35.55, 27.49, 36.67, 15.7, 34.45, 38.96, 41.97, 13.99, 46.22, 19.08, 45.04, 23.88, 28.68, 74.68, 31.07, 46.96, 21.71, 23.51, 31.85, 47.64, 30.26, 45.34, 49.03, 40.59, 24.0, 32.41, 71.74, 26.84, 19.19, 48.55, 13.56, 41.44, 37.46, 39.75, 20.68, 25.71, 40.85, 47.92, 25.81, 54.87, 17.15, 36.79, 32.25, 34.38, 16.9, 41.1, 30.78, 28.07, 32.47, 67.79, 43.13, 28.36, 17.56, 32.64, 46.35, 36.36, 17.01, 15.35, 17.94, 29.91, 24.1, 51.87, 61.37, 36.64, 27.87, 43.6, 13.61, 32.39, 25.28, 33.54, 19.9, 38.98, 37.16, 21.9, 49.47, 44.08, 39.22, 40.62, 27.64, 19.71, 32.84, 51.6, 44.33, 16.43, 47.29, 33.98, 34.04, 18.36, 38.54, 32.14, 15.98, 29.14, 36.34, 37.7, 46.26, 44.4, 25.72, 36.19, 42.4, 25.14, 27.68, 27.83, 41.32, 27.35, 44.55, 51.54, 47.24, 34.89, 30.46, 46.86, 54.91, 21.53, 38.55, 56.58, 24.91, 51.77, 24.48, 33.59, 16.05, 41.47, 38.12, 22.51, 15.97, 30.98, 23.94, 56.49, 15.51, 47.76, 40.27, 16.36, 30.5, 44.46, 41.65, 40.42, 31.27, 51.36, 20.91, 18.64, 33.01, 19.42, 28.65, 50.03, 18.14, 37.08, 41.14, 20.29, 42.31, 49.13, 39.8, 26.05, 50.18, 35.14, 55.25, 41.73, 24.43, 18.85, 48.36, 30.25, 37.73, 40.82, 35.05, 38.25, 50.77, 48.5, 56.31, 27.51, 21.38, 18.48, 23.07, 27.79, 34.23, 32.75, 37.22, 20.99, 38.21, 55.38, 66.88, 41.02, 33.41, 41.39, 20.02, 22.03, 15.36, 34.83, 19.0, 23.1, 34.62, 18.18, 13.87, 57.5, 41.19, 49.91, 30.51, 36.78, 42.18, 19.04, 50.0, 47.42, 36.08, 30.57, 45.92, 44.87, 15.59, 34.56, 50.19, 24.12, 39.59, 23.54, 35.32, 44.36, 79.06, 29.5, 18.52, 57.41, 18.58, 17.36, 20.31, 36.65, 28.42, 24.85, 34.07, 32.35, 49.23, 34.48, 46.29, 22.21, 18.81, 16.01, 38.94, 15.62, 16.1, 31.55, 46.05, 70.76, 14.23, 36.35, 38.31, 37.62, 20.23, 32.34, 23.25, 29.94, 42.93, 29.15, 29.82, 30.74, 18.26, 35.06, 54.88, 46.94, 21.92, 37.51, 38.3, 41.64, 25.27, 47.8, 35.54, 31.77, 32.04, 53.47, 29.49, 36.98, 29.17, 19.31, 40.43, 16.93, 18.97, 17.33, 39.89, 17.68, 17.87, 56.7, 51.15, 50.48, 42.74, 27.16, 43.76, 52.3, 47.56, 35.01, 29.97, 20.43, 40.79, 81.71, 17.86, 34.25, 25.21, 62.95, 54.38, 25.19, 33.7, 61.08, 59.88, 52.73, 18.19, 23.22, 42.69, 22.75, 40.32, 41.42, 18.41, 39.49, 16.76, 19.61, 31.54, 30.66, 57.95, 53.22, 18.32, 34.26, 33.32, 18.84, 45.71, 20.61, 34.36, 16.89, 17.34, 59.5, 55.51, 14.74, 22.07, 17.64, 26.41, 30.87, 27.14, 85.96, 20.27, 38.9, 36.89, 43.79, 49.5, 25.93, 33.86, 31.52, 42.88, 17.59, 42.81, 25.65, 64.56, 35.12, 24.99, 41.95, 15.28, 12.16, 20.56, 53.71, 35.69, 27.09, 25.41, 61.35, 19.93, 17.65, 59.52, 19.6, 23.58, 16.48, 40.31, 70.33, 43.82, 16.98, 36.88, 37.77, 24.17, 64.93, 46.53, 14.25, 16.6, 17.18, 18.1, 40.26, 25.16, 30.09, 35.07, 16.5, 40.28, 32.57, 54.93, 37.87, 14.88, 47.84, 43.54, 55.8, 22.76, 35.8, 39.37, 13.73, 33.76, 50.78, 16.49, 40.75, 37.54, 36.75, 17.74, 16.41, 34.05, 17.09, 30.48, 21.15, 65.31, 29.56, 44.15, 48.08, 31.37, 37.35, 58.58, 55.82, 53.16, 52.61, 19.96, 36.56, 40.05, 18.23, 34.12, 49.69, 16.87, 43.36, 35.41, 36.99, 24.5, 23.9, 64.44, 35.04, 18.68, 15.0, 26.73, 52.77, 54.52, 36.91, 42.11, 21.67, 54.32, 45.53, 43.75, 22.29, 37.1, 37.69, 33.53, 36.09, 50.64, 20.89, 57.29, 16.94, 82.39, 38.23, 39.52, 36.66, 48.87, 44.6, 28.22, 20.95, 20.28, 48.1, 32.73, 78.17, 19.21, 23.21, 34.79, 44.2, 40.04, 33.15, 21.06, 35.18, 16.12, 19.33, 33.9, 49.77, 47.02, 25.12, 19.51, 28.16, 21.66, 26.82, 41.94, 38.32, 49.61, 37.91, 18.12, 27.0, 33.58, 36.85, 25.03, 53.59, 45.03, 28.05, 19.25, 32.51, 52.26, 21.84, 43.67, 15.94, 28.14, 15.66, 21.05, 17.9, 37.86, 16.07, 18.33, 12.21, 24.52, 18.87, 41.7, 54.61, 24.26, 65.78, 25.3, 51.7, 25.49, 15.2, 28.94, 57.25, 56.85, 28.96, 51.97, 43.08, 32.76, 35.34, 56.12, 31.2, 31.13, 49.75, 14.53, 29.39, 32.82, 32.31, 38.1, 45.91, 62.19, 47.13, 29.98, 35.09, 55.61, 41.21, 42.85, 35.75, 29.47, 22.77, 14.95, 28.47, 19.5, 39.03, 43.86, 18.11, 22.82, 15.83, 34.19, 45.75, 27.01, 23.95, 53.55, 16.25, 50.84, 44.14, 16.29, 57.78, 18.55, 36.11, 47.35, 23.84, 38.99, 26.33, 26.99, 44.53, 40.06, 30.39, 16.06, 19.72, 22.44, 56.68, 35.91, 50.58, 49.79, 74.06, 26.62, 73.51, 43.43, 38.14, 31.39, 25.44, 40.56, 98.44, 37.57, 54.58, 42.5, 18.82, 30.89, 36.5, 14.98, 22.95, 12.55, 44.06, 25.88, 28.92, 41.77, 25.01, 36.77, 20.72, 22.64, 37.98, 62.07, 51.09, 36.1, 19.76, 47.12, 31.44, 35.5, 39.45, 46.16, 19.03, 38.17, 47.7, 21.07, 32.2, 29.42, 46.68, 19.52, 38.89, 57.6, 51.02, 39.0, 38.58, 40.37, 41.27, 46.63, 29.73, 62.0, 42.7, 30.32, 32.86, 41.25, 56.43, 28.71, 22.17, 24.58, 44.11, 36.6, 29.4, 46.8, 26.21, 46.72, 46.03, 83.68, 44.23, 51.38, 43.89, 59.2, 40.9, 24.44, 17.5, 45.68, 60.16, 45.16, 36.12, 38.22, 47.5, 18.0, 35.22, 40.46, 39.61, 68.35, 35.98, 61.71, 47.09, 21.82, 40.67, 16.0, 37.24, 26.98, 58.75, 20.69, 22.09, 53.28, 23.47, 34.09, 48.96, 19.02, 62.7, 53.21, 47.85, 33.1, 37.36, 20.76, 27.58, 45.43, 16.21, 14.76, 38.06, 41.18, 54.75, 21.51, 28.4, 23.7, 62.34, 20.71, 55.97, 37.9, 45.66, 38.83, 28.24, 39.82, 43.49, 67.81, 73.46, 50.91, 46.79, 40.68, 39.23, 42.25, 49.59, 17.04, 39.3, 55.24, 36.68, 22.12, 24.16, 58.98, 52.86, 22.02, 51.96, 45.14, 44.59, 45.58, 43.38, 32.48, 39.72, 46.97, 53.09, 15.19, 51.3, 33.06, 18.78, 61.03, 48.65, 19.99, 39.38, 62.33, 20.93, 46.41, 34.76, 17.77, 68.67, 60.84, 50.66, 44.83, 58.52, 16.92, 49.43, 24.6, 51.42, 27.24, 35.89, 14.14, 21.01, 28.38, 39.47, 20.21, 54.23, 41.48, 35.84, 39.2, 35.93, 37.07, 56.25, 18.42, 33.93, 38.38, 46.36, 41.87, 41.54, 78.12, 62.67, 42.84, 45.26, 46.17, 46.69, 51.12, 16.97, 36.47, 16.69, 32.7, 50.25, 21.0, 36.01, 25.57, 40.1, 44.79, 53.02, 30.94, 50.81, 59.81, 59.37, 44.95, 20.58, 41.03, 35.49, 42.82, 56.26, 63.1, 44.97, 62.62, 14.35, 22.39, 52.94, 33.04, 46.65, 34.6, 23.35, 51.17, 65.84, 48.29, 65.23, 48.79, 55.2, 20.14, 50.08, 56.41, 42.54, 17.28, 66.43, 51.98, 42.76, 62.4, 24.77, 55.6, 54.82, 34.73, 57.67, 45.77, 18.73, 48.21, 39.17, 48.23, 51.74, 55.36, 48.05, 29.74, 38.5, 47.31, 58.99, 15.95, 40.94, 18.39, 13.2, 22.94, 32.85, 16.88, 25.48, 60.14, 17.17, 29.9, 28.88, 38.49, 22.57, 15.79, 17.19, 45.11, 66.0, 37.0, 20.49, 14.64, 16.56, 27.66, 83.01, 52.0, 38.0, 51.56, 54.74, 41.56, 59.91, 35.99, 64.66, 70.31, 23.2, 42.34, 19.23, 64.45, 39.44, 43.7, 34.78, 50.79, 34.13, 46.07, 35.23, 57.48, 22.28, 43.16, 67.35, 14.24, 45.06, 15.6, 23.5, 15.87, 26.86, 69.74, 48.75, 53.85, 16.55, 65.71, 40.99, 43.03, 97.58, 31.86, 25.91, 42.41, 82.81, 45.01, 73.03, 32.13, 48.14, 48.74, 50.94, 51.73, 55.76, 54.24, 40.21, 49.18, 36.3, 40.07, 15.77, 39.56, 15.75, 32.15, 15.55, 34.85, 52.91, 52.37, 42.2, 42.47, 57.64, 21.76, 16.42, 29.46, 45.84, 15.5, 16.19, 53.92, 55.73, 45.05, 47.77, 57.37, 52.13, 64.02, 40.97, 15.07, 39.62, 79.29, 15.33, 53.0, 40.64, 47.93, 43.53, 41.12, 52.14, 19.12, 51.22, 52.29, 65.48, 48.16, 56.71, 39.69, 14.7, 54.57, 40.7, 30.75, 38.71, 58.36, 42.68, 36.16, 44.84, 48.0, 55.74, 45.32, 22.41, 48.58, 17.13, 32.18, 23.66, 38.59, 51.76, 39.43, 18.49, 49.8, 58.54, 52.49, 59.57, 31.98, 15.34, 67.31, 62.76, 48.18, 13.25, 27.65, 21.88, 44.07, 63.74, 44.78, 72.61, 39.15, 43.91, 31.81, 54.53, 39.19, 37.71, 60.06, 18.44, 55.65, 52.89, 34.92, 34.27, 54.07, 17.08, 68.23, 49.42, 59.3, 42.62, 50.36, 46.82, 64.21, 59.72, 35.65, 47.3, 69.24, 25.74, 39.65, 49.87, 15.31, 50.46, 17.8, 65.97, 36.41, 38.66, 20.32, 17.3, 38.53, 41.76, 29.07, 43.28, 18.61, 47.87, 65.77, 47.01, 12.91, 28.85, 42.0, 54.42, 14.77, 70.18, 51.57, 14.37, 26.81, 60.53, 37.65, 22.91, 65.37, 37.85, 47.08, 42.45, 48.15, 46.93, 54.9, 68.66, 21.19, 34.29, 46.67, 31.94, 82.19, 43.97, 52.34, 24.47, 37.84, 26.8, 19.44, 30.31, 15.48, 41.51, 23.61, 42.35, 71.56, 46.48, 47.44, 42.8, 61.07, 18.7, 62.35, 50.42, 45.63, 12.48, 53.9, 48.04, 80.89, 64.37, 47.37, 16.81, 63.27, 49.62, 49.51, 36.29, 31.11, 59.41, 33.85, 28.78, 25.35, 25.31, 51.33, 30.16, 29.3, 46.49, 14.63, 16.72, 60.23, 36.06, 33.68, 51.79, 28.3, 45.48, 16.3, 25.67, 48.35, 27.85, 66.13, 44.17, 29.77, 70.48, 54.68, 51.25, 60.74, 44.21, 37.47, 16.4, 76.02, 53.01, 19.06, 48.83, 29.25, 34.8, 14.48, 48.34, 48.45, 75.86, 50.39, 31.08, 32.05, 26.44, 39.29, 88.57, 49.81, 26.24, 44.25, 71.13, 22.88, 57.18, 50.72, 44.37, 66.76, 39.67, 48.95, 61.28, 66.51, 69.86, 82.31, 58.43, 41.93, 54.39, 48.12, 35.59, 45.36, 57.79, 49.32, 67.93, 46.76, 59.07, 49.07, 49.55, 47.81, 81.48, 50.51, 44.05, 59.06, 41.36, 37.18, 37.52, 45.85, 14.47, 47.67, 37.34, 45.93, 67.24, 60.93, 13.05, 51.72, 47.19, 45.09, 57.61, 47.11, 47.63, 58.26, 52.11, 59.97, 54.98, 57.22, 67.67, 30.93, 43.84, 44.62, 91.82, 52.12, 73.18, 56.13, 12.92, 66.9, 14.51, 50.97, 55.41, 68.91, 13.19, 44.19, 58.1, 45.5, 58.45, 58.46, 16.47, 81.67, 47.89, 46.23, 52.56, 12.4, 62.14, 47.06, 67.68, 50.93, 29.92, 36.82, 48.44, 43.42, 79.41, 44.99, 85.23, 78.31, 52.18, 63.42, 15.04, 72.25, 15.11, 40.86, 13.39, 56.82, 43.0, 50.85, 40.91, 72.63, 30.53, 74.07, 63.33, 44.03, 44.91, 17.42, 45.12, 55.05, 30.97, 44.7, 78.65, 47.14, 44.72, 46.37, 49.26, 65.9, 64.13, 15.73, 55.66, 41.23, 81.37, 56.99, 66.56, 53.46, 70.71, 62.17, 54.13, 14.17, 44.35, 75.18, 18.59, 30.19, 53.7, 22.25, 39.79, 78.04, 15.65, 19.34, 54.79, 46.08, 12.53, 43.74, 34.55, 13.37, 48.56, 50.26, 51.32, 26.01, 57.06, 39.21, 53.51, 84.04, 58.18, 43.48, 13.0, 51.48, 42.14, 39.25, 52.62, 52.8, 17.46, 68.4, 54.55, 55.5, 58.77, 55.96, 66.21, 17.98, 40.92, 59.34, 15.91, 22.34, 13.22, 56.33, 31.97, 15.23, 47.59, 36.37, 58.32, 54.5, 48.09, 85.69, 69.52, 48.2, 40.8, 62.49, 59.05, 54.64, 51.03, 14.08, 29.28, 23.55, 41.86, 66.45, 48.52, 43.25, 62.54, 28.69, 67.06, 60.89, 43.59, 46.28, 50.83, 83.2, 15.49, 40.81, 15.54, 13.67, 49.88, 31.67, 25.47, 56.18, 27.42, 49.39, 69.91, 50.45, 13.23, 22.79, 35.81, 53.81, 15.06, 51.45, 30.49, 38.82, 41.52, 56.15, 28.64, 57.14, 40.76, 52.68, 16.44, 16.57, 27.13, 35.79, 33.27, 48.27, 58.57, 85.74, 32.52, 39.93, 49.82, 15.46, 20.1, 34.82, 43.51, 73.37, 33.97, 55.78, 41.29, 90.39, 45.23, 64.06, 18.92, 81.19, 39.41, 43.47, 48.91, 50.98, 59.4, 17.29, 20.86, 23.16, 45.62, 59.23, 12.2, 63.86, 15.25, 42.44, 61.09, 39.73, 38.69, 78.92, 68.05, 82.23, 56.81, 63.28, 73.28, 53.91, 49.64, 53.84, 51.82, 51.06, 66.94, 63.92, 50.59, 49.24, 60.54, 16.18, 55.75, 58.63, 21.72, 75.37, 64.29, 56.01, 47.45, 66.77, 24.49, 72.22, 36.45, 27.7, 20.74, 19.35, 78.3, 61.64, 22.37, 41.75, 65.14, 53.75, 23.27, 60.69, 78.83, 45.1, 40.93, 16.7, 41.9, 58.91, 52.57, 51.16, 24.04, 13.14, 12.89, 51.05, 31.22, 22.01, 57.88, 57.94, 17.2, 14.78, 34.0, 63.23, 32.79, 27.38, 19.38, 46.92, 67.64, 31.49, 44.77, 45.3, 23.77, 26.51, 62.99, 26.02, 59.67, 46.43, 42.89, 15.18, 55.08, 70.03, 34.43, 76.99, 57.03, 55.88, 50.04, 43.83, 51.0, 55.09, 15.22, 57.3, 75.95, 61.87, 38.91, 17.99, 52.24, 52.42, 28.54, 47.21, 48.4, 21.85, 42.9, 12.11, 53.36, 47.74, 51.39, 45.37, 66.95, 73.84, 70.72, 54.41, 52.52, 63.51, 50.11, 57.51, 17.53, 62.55, 51.94, 49.41, 73.89, 46.46, 63.3, 64.88, 43.37, 46.27, 29.11, 14.32, 44.32, 41.28, 36.27, 46.98, 52.5, 60.37, 32.97, 24.4, 13.35, 14.75, 14.65, 13.26, 57.52, 55.99, 49.65, 46.84, 33.02, 29.59, 14.1, 15.3, 17.24, 43.64, 41.74, 36.46, 60.59, 49.36, 38.6, 19.95, 60.61, 14.45, 55.28, 15.42, 58.28, 52.47, 35.68, 42.55, 34.4, 38.88, 46.74, 57.16, 53.56, 46.66, 66.89, 64.2, 49.08, 62.39, 47.25, 17.55, 72.74, 34.68, 52.35, 55.0, 47.07, 56.9, 72.31, 33.62, 87.18, 53.5, 64.98, 48.31, 29.36, 52.53, 15.12, 50.63, 46.04, 42.63, 44.71, 52.16, 51.93, 50.52, 38.46, 59.71, 60.3, 46.45, 58.27, 14.41, 20.04, 15.14, 24.06, 48.9, 59.87, 14.44, 37.78, 63.56, 55.68, 42.75, 64.99, 13.85, 30.59, 43.5, 63.75, 20.17, 22.06, 13.95, 26.03, 21.78, 51.27, 24.35, 37.09, 31.99, 18.98, 59.85, 62.42, 36.71, 38.51, 29.93, 27.36, 56.28, 19.45, 14.0, 26.55, 32.53, 27.03, 71.29, 32.07, 53.52, 55.46, 47.38, 73.22, 19.29, 43.69, 60.48, 14.9, 25.6, 29.72, 60.94, 65.38, 59.63, 54.34, 62.5, 24.29, 15.15, 16.2, 68.57, 59.27, 16.39, 42.21, 35.1, 49.21, 38.57, 59.98, 73.74, 37.19, 40.73, 47.39, 39.83, 51.88, 15.96, 16.67, 16.28, 18.22, 60.62, 12.12, 54.2, 53.23, 55.04, 13.9, 52.92, 46.77, 48.63, 60.46, 71.88, 49.1, 14.81, 62.02, 72.65, 43.55, 57.42, 45.56, 54.04, 17.35, 14.26, 24.15, 19.81, 16.68, 60.05, 57.2, 22.58, 14.03, 51.58, 75.72, 26.2, 68.9, 51.5, 33.26, 13.75, 78.94, 17.1, 44.02, 57.72, 83.0, 94.94, 75.49, 18.96, 47.05, 62.57, 55.98, 14.12, 46.1, 18.51, 46.7, 44.44, 44.49, 48.32, 60.76, 44.8, 62.64, 43.81, 18.34, 22.54, 26.35, 45.25, 20.11, 27.3, 26.28, 48.54, 24.36, 14.93, 28.33, 50.14, 19.7, 80.79, 19.68, 40.53, 67.14, 37.72, 57.56, 59.99, 61.22, 17.41, 25.43, 74.5, 60.15, 40.33, 17.66, 20.44, 52.66, 49.37, 19.41, 45.59, 71.9, 40.47, 23.68, 26.49, 31.43, 55.64, 62.53, 50.29, 67.33, 47.94, 29.06, 55.17, 59.66, 40.11, 63.5, 50.88, 54.59, 55.55, 46.3, 25.05, 84.75, 47.62, 43.1, 16.32, 50.71, 64.12, 43.14, 54.33, 31.59, 99.17, 41.55, 53.74, 63.11, 62.8, 61.45, 29.34, 42.99, 50.95, 73.1, 53.98, 41.43, 43.02, 53.41, 60.25, 49.96, 48.43, 29.51, 50.16, 68.06, 48.02, 61.82, 16.53, 97.65, 50.65, 91.23, 70.29, 49.71, 73.92, 48.22, 64.57, 65.56, 52.7, 61.41, 60.0, 61.49, 70.88, 80.66, 49.57, 62.44, 75.33, 69.89, 57.63, 21.45, 17.37, 55.21, 31.34, 44.68, 46.38, 47.23, 44.45, 50.92, 40.52, 54.97, 51.9, 44.47, 59.8, 67.15, 14.62, 49.11, 51.55, 64.71, 57.82, 75.17, 17.69, 60.26, 56.96, 81.02, 58.74, 79.25, 77.31, 57.74, 73.24, 23.79, 53.08, 14.59, 24.38, 53.38, 76.74, 58.71, 43.18, 65.54, 20.96, 58.73, 20.57, 16.84, 55.42, 25.76, 87.22, 48.88, 21.17, 50.62, 64.07, 33.31, 63.99, 59.18, 64.08, 14.38, 64.42, 56.46, 69.94, 48.59, 24.92, 66.65, 52.96, 13.02, 42.03, 62.91, 59.29, 47.33, 65.53, 28.58, 50.69, 31.92, 63.13, 17.02, 52.87, 19.82, 42.26, 55.23, 71.8, 55.91, 62.31, 56.44, 32.63, 81.5, 61.33, 44.89, 15.8, 57.46, 13.24, 12.7, 42.59, 53.57, 12.17, 69.5, 96.52, 50.32, 74.12, 54.56, 42.48, 20.39, 13.74, 50.99, 45.95, 99.33, 19.83, 67.72, 42.01, 19.32, 28.09, 62.01, 53.31, 35.46, 71.42, 74.24, 13.89, 54.29, 46.61, 44.41, 26.74, 12.65, 26.48, 66.4, 68.95, 45.47, 31.23, 43.21, 33.49, 43.72, 21.1, 58.83, 25.95, 61.14, 57.98, 65.83, 42.19, 48.28, 74.6, 13.64, 18.21, 53.12, 13.63, 80.74, 12.88, 82.28, 36.69, 46.62, 94.41, 32.8, 30.6, 14.69, 52.78, 33.21, 45.4, 57.33, 20.65, 39.12, 29.22, 32.29, 42.86, 12.02, 13.06, 13.82, 52.21, 73.16, 86.32, 91.52, 48.01, 60.42, 17.12, 52.72, 45.57, 57.92, 82.11, 35.27, 55.84, 48.64, 84.87, 52.31, 57.0, 68.42, 53.32, 87.71, 56.65, 70.69, 39.01, 38.42, 36.43, 65.74, 64.3, 15.9, 77.47, 33.18, 48.94, 14.04, 55.19, 79.35, 59.12, 29.96, 12.05, 30.06, 76.17, 35.6, 72.05, 83.26, 33.56, 83.45, 46.39, 53.42, 43.06, 48.7, 41.91, 52.79, 40.87, 92.45, 52.58, 57.27, 57.84, 49.94, 43.87, 52.08, 43.41, 73.63, 57.11, 48.76, 47.03, 79.71, 82.37, 40.88, 28.18, 65.1, 32.4, 31.69, 58.6, 45.46, 12.87, 21.49, 41.3, 44.16, 14.28, 45.41, 38.29, 51.91, 63.83, 19.09, 56.32]\n",
            "Smoking_History: ['Yes', 'No']\n",
            "Alcohol_Consumption: [0.0, 4.0, 3.0, 8.0, 30.0, 2.0, 12.0, 1.0, 5.0, 10.0, 20.0, 17.0, 16.0, 6.0, 25.0, 28.0, 15.0, 7.0, 9.0, 24.0, 11.0, 29.0, 27.0, 14.0, 21.0, 23.0, 18.0, 26.0, 22.0, 13.0, 19.0]\n",
            "Fruit_Consumption: [30.0, 12.0, 8.0, 16.0, 2.0, 1.0, 60.0, 0.0, 7.0, 5.0, 3.0, 6.0, 90.0, 28.0, 20.0, 4.0, 80.0, 24.0, 15.0, 10.0, 25.0, 14.0, 120.0, 32.0, 40.0, 17.0, 45.0, 100.0, 9.0, 99.0, 96.0, 35.0, 50.0, 56.0, 48.0, 27.0, 72.0, 36.0, 84.0, 26.0, 23.0, 18.0, 21.0, 42.0, 22.0, 11.0, 112.0, 29.0, 64.0, 70.0, 33.0, 76.0, 44.0, 39.0, 75.0, 31.0, 92.0, 104.0, 88.0, 65.0, 55.0, 13.0, 38.0, 63.0, 97.0, 108.0, 19.0, 52.0, 98.0, 37.0, 68.0, 34.0, 41.0, 116.0, 54.0, 62.0, 85.0]\n",
            "Green_Vegetables_Consumption: [16.0, 0.0, 3.0, 30.0, 4.0, 12.0, 8.0, 20.0, 1.0, 10.0, 5.0, 2.0, 6.0, 60.0, 28.0, 25.0, 14.0, 40.0, 7.0, 22.0, 24.0, 15.0, 120.0, 90.0, 19.0, 13.0, 11.0, 80.0, 27.0, 17.0, 56.0, 18.0, 9.0, 21.0, 99.0, 29.0, 31.0, 45.0, 23.0, 100.0, 104.0, 32.0, 48.0, 75.0, 36.0, 35.0, 112.0, 26.0, 50.0, 33.0, 96.0, 52.0, 76.0, 84.0, 34.0, 97.0, 88.0, 98.0, 68.0, 92.0, 55.0, 95.0, 64.0, 124.0, 61.0, 65.0, 77.0, 85.0, 44.0, 39.0, 70.0, 93.0, 128.0, 37.0, 53.0]\n",
            "FriedPotato_Consumption: [12.0, 4.0, 16.0, 8.0, 0.0, 1.0, 2.0, 30.0, 20.0, 15.0, 10.0, 3.0, 7.0, 28.0, 5.0, 9.0, 6.0, 120.0, 32.0, 14.0, 60.0, 33.0, 48.0, 25.0, 24.0, 21.0, 90.0, 13.0, 99.0, 17.0, 18.0, 40.0, 56.0, 34.0, 36.0, 44.0, 100.0, 11.0, 64.0, 45.0, 80.0, 29.0, 68.0, 26.0, 50.0, 22.0, 95.0, 23.0, 27.0, 112.0, 35.0, 31.0, 98.0, 96.0, 88.0, 92.0, 19.0, 76.0, 49.0, 97.0, 128.0, 41.0, 37.0, 42.0, 52.0, 72.0, 46.0, 124.0, 84.0]\n"
          ]
        }
      ]
    },
    {
      "cell_type": "code",
      "source": [
        "import numpy as np\n",
        "import seaborn as sns\n",
        "import matplotlib.pyplot as plt\n",
        "from sklearn.metrics import accuracy_score, f1_score"
      ],
      "metadata": {
        "id": "KWHOWu29XdK5"
      },
      "execution_count": null,
      "outputs": []
    },
    {
      "cell_type": "code",
      "source": [
        "X = heart_data[['Exercise', 'General_Health', 'Age_Category']]\n",
        "y = heart_data['Heart_Disease']\n",
        "X_train, X_test, y_train, y_test = train_test_split(X, y, test_size=0.2, random_state=42)\n",
        "lg = LogisticRegression()\n",
        "lg.fit(X_train, y_train)\n",
        "y_pred = lg.predict(X_test)\n",
        "accuracy_score(y_test, y_pred)"
      ],
      "metadata": {
        "colab": {
          "base_uri": "https://localhost:8080/"
        },
        "id": "z_Sagf_hXdNQ",
        "outputId": "893f3628-698b-4d7c-d060-a691ff6b96e2"
      },
      "execution_count": null,
      "outputs": [
        {
          "output_type": "execute_result",
          "data": {
            "text/plain": [
              "0.9191044341195707"
            ]
          },
          "metadata": {},
          "execution_count": 12
        }
      ]
    },
    {
      "cell_type": "code",
      "source": [
        "a_dict = {}\n",
        "for p in all_columns:\n",
        "  X = heart_data[[p]]\n",
        "  y = heart_data['Heart_Disease']\n",
        "  X_train, X_test, y_train, y_test = train_test_split(X, y, test_size=0.2, random_state=42)\n",
        "  lg = LogisticRegression()\n",
        "  lg.fit(X_train, y_train)\n",
        "  y_pred = lg.predict(X_test)\n",
        "  accuracy = accuracy_score(y_test, y_pred)\n",
        "  #f1 = f1_score(X_test, y_test)\n",
        "  a_dict[p] = accuracy\n",
        "\n",
        "a_dict = sorted(a_dict.items(), key= lambda x: x[1])\n",
        "print(f'{a_dict[-1][0]} had the highest score of {a_dict[-1][1]}')"
      ],
      "metadata": {
        "id": "reLHRBG7jkpy",
        "colab": {
          "base_uri": "https://localhost:8080/"
        },
        "outputId": "855a8e2b-411e-4cb5-8f74-396ab808cb78"
      },
      "execution_count": null,
      "outputs": [
        {
          "output_type": "stream",
          "name": "stdout",
          "text": [
            "FriedPotato_Consumption had the highest score of 0.9191044341195707\n"
          ]
        }
      ]
    },
    {
      "cell_type": "code",
      "source": [
        "a_dict"
      ],
      "metadata": {
        "colab": {
          "base_uri": "https://localhost:8080/"
        },
        "id": "q6LQMleHamx9",
        "outputId": "e760aae4-4009-4b19-c150-e37e81066256"
      },
      "execution_count": null,
      "outputs": [
        {
          "output_type": "execute_result",
          "data": {
            "text/plain": [
              "[('General_Health', 0.9191044341195707),\n",
              " ('Checkup', 0.9191044341195707),\n",
              " ('Exercise', 0.9191044341195707),\n",
              " ('Skin_Cancer', 0.9191044341195707),\n",
              " ('Other_Cancer', 0.9191044341195707),\n",
              " ('Depression', 0.9191044341195707),\n",
              " ('Diabetes', 0.9191044341195707),\n",
              " ('Arthritis', 0.9191044341195707),\n",
              " ('Sex', 0.9191044341195707),\n",
              " ('Age_Category', 0.9191044341195707),\n",
              " ('Height_(cm)', 0.9191044341195707),\n",
              " ('Weight_(kg)', 0.9191044341195707),\n",
              " ('BMI', 0.9191044341195707),\n",
              " ('Smoking_History', 0.9191044341195707),\n",
              " ('Alcohol_Consumption', 0.9191044341195707),\n",
              " ('Fruit_Consumption', 0.9191044341195707),\n",
              " ('Green_Vegetables_Consumption', 0.9191044341195707),\n",
              " ('FriedPotato_Consumption', 0.9191044341195707)]"
            ]
          },
          "metadata": {},
          "execution_count": 14
        }
      ]
    },
    {
      "cell_type": "code",
      "source": [
        "print(heart_data['Heart_Disease'].value_counts())"
      ],
      "metadata": {
        "colab": {
          "base_uri": "https://localhost:8080/"
        },
        "id": "dALo8VjzbOPA",
        "outputId": "44c3ae39-4607-4054-b0a0-cc030e1c87c2"
      },
      "execution_count": null,
      "outputs": [
        {
          "output_type": "stream",
          "name": "stdout",
          "text": [
            "Heart_Disease\n",
            "0    283883\n",
            "1     24971\n",
            "Name: count, dtype: int64\n"
          ]
        }
      ]
    },
    {
      "cell_type": "code",
      "source": [
        "from sklearn.metrics import classification_report\n",
        "\n",
        "print(classification_report(y_test, y_pred))"
      ],
      "metadata": {
        "colab": {
          "base_uri": "https://localhost:8080/"
        },
        "id": "3X-e3jLVbTf8",
        "outputId": "5b8bec18-f38f-4096-c61f-55b90b63e3a9"
      },
      "execution_count": null,
      "outputs": [
        {
          "output_type": "stream",
          "name": "stdout",
          "text": [
            "              precision    recall  f1-score   support\n",
            "\n",
            "           0       0.92      1.00      0.96     56774\n",
            "           1       0.00      0.00      0.00      4997\n",
            "\n",
            "    accuracy                           0.92     61771\n",
            "   macro avg       0.46      0.50      0.48     61771\n",
            "weighted avg       0.84      0.92      0.88     61771\n",
            "\n"
          ]
        },
        {
          "output_type": "stream",
          "name": "stderr",
          "text": [
            "/usr/local/lib/python3.10/dist-packages/sklearn/metrics/_classification.py:1344: UndefinedMetricWarning: Precision and F-score are ill-defined and being set to 0.0 in labels with no predicted samples. Use `zero_division` parameter to control this behavior.\n",
            "  _warn_prf(average, modifier, msg_start, len(result))\n",
            "/usr/local/lib/python3.10/dist-packages/sklearn/metrics/_classification.py:1344: UndefinedMetricWarning: Precision and F-score are ill-defined and being set to 0.0 in labels with no predicted samples. Use `zero_division` parameter to control this behavior.\n",
            "  _warn_prf(average, modifier, msg_start, len(result))\n",
            "/usr/local/lib/python3.10/dist-packages/sklearn/metrics/_classification.py:1344: UndefinedMetricWarning: Precision and F-score are ill-defined and being set to 0.0 in labels with no predicted samples. Use `zero_division` parameter to control this behavior.\n",
            "  _warn_prf(average, modifier, msg_start, len(result))\n"
          ]
        }
      ]
    },
    {
      "cell_type": "markdown",
      "source": [
        "#Neural Network"
      ],
      "metadata": {
        "id": "PliVvQr3KnuT"
      }
    },
    {
      "cell_type": "code",
      "source": [
        "import numpy as np\n",
        "import pandas as pd\n",
        "from sklearn.model_selection import train_test_split\n",
        "from sklearn.metrics import accuracy_score, classification_report\n",
        "from sklearn.preprocessing import StandardScaler\n",
        "from sklearn.preprocessing import LabelEncoder"
      ],
      "metadata": {
        "id": "djOtspAQjkz0"
      },
      "execution_count": null,
      "outputs": []
    },
    {
      "cell_type": "code",
      "source": [
        "heart_data = pd.read_csv(\"/content/CVD_cleaned.csv\")\n",
        "\"\"\"heart_data = heart_data.replace({\n",
        "    '70-74': 10, '60-64': 8, '75-79': 11, '80+': 12, '65-69': 9,\n",
        "    '50-54': 6, '45-49': 5, '18-24': 0, '30-34': 2, '55-59': 7,\n",
        "    '35-39': 3, '40-44': 4, '25-29': 1, 'Yes': 1, 'No': 0, 'Female': 0,\n",
        "    'Excellent': 4, 'Male': 1, 'Poor': 0, 'Fair': 1, 'Good': 2,\n",
        "    'Very Good': 3, 'Within the past 2 years': 1, 'Within the past year': 0,\n",
        "    'Within the past 5 years': 2, '5 or more years ago': 3, 'Never': 4\n",
        "})\"\"\""
      ],
      "metadata": {
        "id": "XXBV2DHXXdWk",
        "colab": {
          "base_uri": "https://localhost:8080/",
          "height": 104
        },
        "outputId": "8f3c9438-8513-4765-d651-f22cb0d86cb4"
      },
      "execution_count": null,
      "outputs": [
        {
          "output_type": "execute_result",
          "data": {
            "text/plain": [
              "\"heart_data = heart_data.replace({\\n    '70-74': 10, '60-64': 8, '75-79': 11, '80+': 12, '65-69': 9,\\n    '50-54': 6, '45-49': 5, '18-24': 0, '30-34': 2, '55-59': 7,\\n    '35-39': 3, '40-44': 4, '25-29': 1, 'Yes': 1, 'No': 0, 'Female': 0,\\n    'Excellent': 4, 'Male': 1, 'Poor': 0, 'Fair': 1, 'Good': 2,\\n    'Very Good': 3, 'Within the past 2 years': 1, 'Within the past year': 0,\\n    'Within the past 5 years': 2, '5 or more years ago': 3, 'Never': 4\\n})\""
            ],
            "application/vnd.google.colaboratory.intrinsic+json": {
              "type": "string"
            }
          },
          "metadata": {},
          "execution_count": 24
        }
      ]
    },
    {
      "cell_type": "code",
      "source": [
        "label_encoders = {}\n",
        "\n",
        "for col in heart_data.select_dtypes(include=['object']).columns:\n",
        "    le = LabelEncoder()\n",
        "    heart_data[col] = le.fit_transform(heart_data[col])\n",
        "    label_encoders[col] = le"
      ],
      "metadata": {
        "id": "Go_IbP7aDB_T"
      },
      "execution_count": null,
      "outputs": []
    },
    {
      "cell_type": "code",
      "source": [
        "feats = ['Exercise', 'Alcohol_Consumption', 'Age_Category']\n",
        "target = 'Heart_Disease'\n",
        "X = heart_data[feats].values\n",
        "y = heart_data[target].values"
      ],
      "metadata": {
        "id": "F2ui91a9XdY6"
      },
      "execution_count": null,
      "outputs": []
    },
    {
      "cell_type": "code",
      "execution_count": null,
      "metadata": {
        "id": "sQXdds3hFhlU"
      },
      "outputs": [],
      "source": [
        "X_train, X_test, y_train, y_test = train_test_split(X, y, test_size=0.2, random_state=42)"
      ]
    },
    {
      "cell_type": "code",
      "source": [
        "scaler = StandardScaler()\n",
        "X_train = scaler.fit_transform(X_train)\n",
        "X_test = scaler.transform(X_test)"
      ],
      "metadata": {
        "id": "N96LqAcwhzeH"
      },
      "execution_count": null,
      "outputs": []
    },
    {
      "cell_type": "code",
      "source": [
        "  class NeuralNetwork:\n",
        "    def __init__(self):\n",
        "        np.random.seed(1)\n",
        "        self.synaptic_weights = 2 * np.random.random((3, 1)) - 1\n",
        "\n",
        "    def sigmoid(self, x):\n",
        "        return 1 / (1 + np.exp(-x))\n",
        "\n",
        "    def sigmoid_derivative(self, x):\n",
        "        return x * (1 - x)\n",
        "\n",
        "    def train(self, training_inputs, training_outputs, training_iterations):\n",
        "        for iteration in range(training_iterations):\n",
        "            output = self.think(training_inputs)\n",
        "            error = training_outputs - output\n",
        "            adjustments = np.dot(training_inputs.T, error * self.sigmoid_derivative(output))\n",
        "            self.synaptic_weights += adjustments\n",
        "\n",
        "    def think(self, inputs):\n",
        "        inputs = inputs.astype(float)\n",
        "        output = self.sigmoid(np.dot(inputs, self.synaptic_weights))\n",
        "        return output"
      ],
      "metadata": {
        "id": "u4tcQm9yv1kX"
      },
      "execution_count": null,
      "outputs": []
    },
    {
      "cell_type": "code",
      "source": [
        "neural_network = NeuralNetwork()\n",
        "\n",
        "print(f\"Random starting synaptic weights: \\n{neural_network.synaptic_weights}\")\n",
        "\n",
        "training_inputs = X_train\n",
        "training_outputs = y_train.reshape(-1, 1)\n",
        "\n",
        "neural_network.train(training_inputs, training_outputs, 1000)\n",
        "\n",
        "print(\"Synaptic weights after training: \")\n",
        "print(neural_network.synaptic_weights)"
      ],
      "metadata": {
        "colab": {
          "base_uri": "https://localhost:8080/"
        },
        "id": "DuevIXSiGYgs",
        "outputId": "dc9e2d81-2f71-4f23-b5eb-6d8643d8ea8b"
      },
      "execution_count": null,
      "outputs": [
        {
          "output_type": "stream",
          "name": "stdout",
          "text": [
            "Random starting synaptic weights: \n",
            "[[-0.16595599]\n",
            " [ 0.44064899]\n",
            " [-0.99977125]]\n"
          ]
        },
        {
          "output_type": "stream",
          "name": "stderr",
          "text": [
            "<ipython-input-29-25cf5af0c664>:7: RuntimeWarning: overflow encountered in exp\n",
            "  return 1 / (1 + np.exp(-x))\n"
          ]
        },
        {
          "output_type": "stream",
          "name": "stdout",
          "text": [
            "Synaptic weights after training: \n",
            "[[-1515.12031763]\n",
            " [-2915.45860693]\n",
            " [ 9976.91259727]]\n"
          ]
        }
      ]
    },
    {
      "cell_type": "code",
      "source": [
        "test_inputs = X_test\n",
        "test_outputs = y_test.reshape(-1, 1)\n",
        "\n",
        "test_pred = (neural_network.think(test_inputs) > 0.5).astype(int)\n",
        "\n",
        "print(classification_report(test_outputs, test_pred))"
      ],
      "metadata": {
        "colab": {
          "base_uri": "https://localhost:8080/"
        },
        "id": "696D3Z-cGZLd",
        "outputId": "a79fb64d-4e61-42d9-9f48-c883e8f103a7"
      },
      "execution_count": null,
      "outputs": [
        {
          "output_type": "stream",
          "name": "stdout",
          "text": [
            "              precision    recall  f1-score   support\n",
            "\n",
            "           0       0.98      0.51      0.67     56774\n",
            "           1       0.13      0.87      0.23      4997\n",
            "\n",
            "    accuracy                           0.54     61771\n",
            "   macro avg       0.56      0.69      0.45     61771\n",
            "weighted avg       0.91      0.54      0.63     61771\n",
            "\n"
          ]
        },
        {
          "output_type": "stream",
          "name": "stderr",
          "text": [
            "<ipython-input-29-25cf5af0c664>:7: RuntimeWarning: overflow encountered in exp\n",
            "  return 1 / (1 + np.exp(-x))\n"
          ]
        }
      ]
    },
    {
      "cell_type": "code",
      "source": [
        "A, B, C = (0, 4.0, 12)\n",
        "print(f\"(Test Pred)\\n{feats[0]}: {A}\\n{feats[1]}: {B}\\n{feats[2]}: {C}\")\n",
        "prediction = (neural_network.think(np.array([[A, B, C]])) > 0.5).astype(int)\n",
        "print(f\"\\nPredicted {target}: {prediction[0][0]}\\n--------------------------------\")"
      ],
      "metadata": {
        "id": "E-vJpE7ciXPp",
        "colab": {
          "base_uri": "https://localhost:8080/"
        },
        "outputId": "4054ca02-ced4-478e-abd4-45f9164d2b0d"
      },
      "execution_count": null,
      "outputs": [
        {
          "output_type": "stream",
          "name": "stdout",
          "text": [
            "(Test Pred)\n",
            "Exercise: 0\n",
            "Alcohol_Consumption: 4.0\n",
            "Age_Category: 12\n",
            "\n",
            "Predicted Heart_Disease: 1\n",
            "--------------------------------\n"
          ]
        }
      ]
    },
    {
      "cell_type": "markdown",
      "source": [
        "#Other Models"
      ],
      "metadata": {
        "id": "dxt8gQX2p5Hs"
      }
    },
    {
      "cell_type": "code",
      "source": [
        "import pandas as pd\n",
        "import numpy as np\n",
        "import seaborn as sns\n",
        "import matplotlib.pyplot as plt\n",
        "from sklearn.model_selection import train_test_split\n",
        "from sklearn.metrics import classification_report, f1_score, accuracy_score, mean_squared_error, r2_score, recall_score, precision_score\n",
        "from sklearn.linear_model import LogisticRegression\n",
        "from sklearn.ensemble import RandomForestClassifier\n",
        "from sklearn.ensemble import ExtraTreesClassifier\n",
        "from sklearn.tree import DecisionTreeClassifier\n",
        "from sklearn.neighbors import KNeighborsClassifier\n",
        "from sklearn.svm import SVC\n",
        "from sklearn.ensemble import GradientBoostingClassifier\n",
        "from sklearn.model_selection import GridSearchCV\n",
        "from sklearn.preprocessing import LabelEncoder"
      ],
      "metadata": {
        "id": "sOOOFkVlqNB5"
      },
      "execution_count": null,
      "outputs": []
    },
    {
      "cell_type": "code",
      "source": [
        "heart_data = pd.read_csv(\"/content/CVD_cleaned.csv\")\n",
        "#heart_data = heart_data.replace({'No, pre-diabetes or borderline diabetes': 2, 'Yes, but female told only during pregnancy': 3, '70-74': 10, '60-64': 8, '75-79': 11, '80+': 12, '65-69': 9, '50-54': 6, '45-49': 5, '18-24': 0, '30-34': 2, '55-59': 7, '35-39': 3, '40-44': 4, '25-29': 1, \"Yes\": 1, \"No\": 0, \"Female\": 0, \"Excellent\": 4, \"Male\": 1, \"Poor\": 0, \"Fair\": 1, \"Good\": 2, \"Very Good\": 3, \"Within the past 2 years\": 1, \"Within the past year\": 0, \"Within the past 5 years\": 2, \"5 or more years ago\": 3, \"Never\": 4})"
      ],
      "metadata": {
        "id": "3vzhEvazt_vi"
      },
      "execution_count": null,
      "outputs": []
    },
    {
      "cell_type": "code",
      "source": [
        "label_encoders = {}\n",
        "\n",
        "for col in heart_data.select_dtypes(include=['object']).columns:\n",
        "    le = LabelEncoder()\n",
        "    heart_data[col] = le.fit_transform(heart_data[col])\n",
        "    label_encoders[col] = le"
      ],
      "metadata": {
        "id": "mch_Ch2aCTzQ"
      },
      "execution_count": null,
      "outputs": []
    },
    {
      "cell_type": "code",
      "source": [
        "all_columns = heart_data.columns.drop('Heart_Disease')\n",
        "\n",
        "#X = heart_data[['Exercise', 'General_Health', 'Age_Category']] #can try all_columns\n",
        "X = heart_data[all_columns]\n",
        "y = heart_data['Heart_Disease']"
      ],
      "metadata": {
        "id": "ql088IqqqdIe"
      },
      "execution_count": null,
      "outputs": []
    },
    {
      "cell_type": "code",
      "source": [
        "#initializing 5 models\n",
        "rf = RandomForestClassifier(max_depth=4,random_state=42, class_weight='balanced')\n",
        "et = ExtraTreesClassifier(n_estimators=100, random_state=42, class_weight='balanced')\n",
        "dt = DecisionTreeClassifier(max_depth=5, random_state=42, class_weight='balanced')\n",
        "knn = KNeighborsClassifier(n_neighbors=5)\n",
        "svm = SVC(kernel='linear', C=1, random_state=42)\n",
        "gbm = GradientBoostingClassifier(n_estimators=100, learning_rate=0.1, random_state=42)"
      ],
      "metadata": {
        "id": "FvZac-ZBp6--"
      },
      "execution_count": null,
      "outputs": []
    },
    {
      "cell_type": "code",
      "source": [
        "#training and testing results lists to store in\n",
        "accuracy = []\n",
        "f1 = []\n",
        "precision = []\n",
        "recall = []\n",
        "#splitting data\n",
        "aX_train, aX_test, ay_train, ay_test = train_test_split(X, y, test_size=0.2, random_state=42)"
      ],
      "metadata": {
        "id": "xQRMQJlvqGEJ"
      },
      "execution_count": null,
      "outputs": []
    },
    {
      "cell_type": "code",
      "source": [
        "#function for training and testing\n",
        "def training(model, aX_train, aX_test, ay_train, ay_test):\n",
        "    model.fit(aX_train, ay_train)\n",
        "    ay_train_pred = model.predict(aX_train)\n",
        "    ay_test_pred = model.predict(aX_test)\n",
        "    accuracy.append(accuracy_score(ay_test, ay_test_pred))\n",
        "    f1.append(f1_score(ay_test, ay_test_pred))\n",
        "    precision.append(precision_score(ay_test, ay_test_pred))\n",
        "    recall.append(recall_score(ay_test, ay_test_pred))"
      ],
      "metadata": {
        "id": "s5sOs27fqHUX"
      },
      "execution_count": null,
      "outputs": []
    },
    {
      "cell_type": "code",
      "source": [
        "#calling training function for each model\n",
        "training(rf, aX_train, aX_test, ay_train, ay_test)"
      ],
      "metadata": {
        "id": "25S2RLnxqIjo"
      },
      "execution_count": null,
      "outputs": []
    },
    {
      "cell_type": "code",
      "source": [
        "training(dt, aX_train, aX_test, ay_train, ay_test)"
      ],
      "metadata": {
        "id": "vg51r2D7rig-"
      },
      "execution_count": null,
      "outputs": []
    },
    {
      "cell_type": "code",
      "source": [
        "training(knn, aX_train, aX_test, ay_train, ay_test)"
      ],
      "metadata": {
        "id": "AvP79T69rfFi"
      },
      "execution_count": null,
      "outputs": []
    },
    {
      "cell_type": "code",
      "source": [
        "training(gbm, aX_train, aX_test, ay_train, ay_test)"
      ],
      "metadata": {
        "id": "gWckWFdECl9E"
      },
      "execution_count": null,
      "outputs": []
    },
    {
      "cell_type": "code",
      "source": [
        "training(et, aX_train, aX_test, ay_train, ay_test)"
      ],
      "metadata": {
        "id": "8c-Bo0DTrkEj"
      },
      "execution_count": null,
      "outputs": []
    },
    {
      "cell_type": "code",
      "source": [
        "  #results\n",
        "  models = [\"Random Forest\", \"Decision Tree\", \"k-Nearest Neighbors\", \"Gradient Boosting Machine\", \"Extra Trees\"]\n",
        "  results = pd.DataFrame({\n",
        "      \"Model\": models[-1],\n",
        "      \"Accuracy\": accuracy,\n",
        "      \"Precision\": precision,\n",
        "      \"Recall\": recall,\n",
        "      \"F1\": f1\n",
        "  })\n",
        "  print(results)"
      ],
      "metadata": {
        "colab": {
          "base_uri": "https://localhost:8080/"
        },
        "id": "HPkFQdiAqJlW",
        "outputId": "16d79ed0-23f7-4b3e-b5ec-61a37891a4b7"
      },
      "execution_count": null,
      "outputs": [
        {
          "output_type": "stream",
          "name": "stdout",
          "text": [
            "         Model  Accuracy  Precision    Recall        F1\n",
            "0  Extra Trees  0.916822    0.38191  0.045627  0.081516\n"
          ]
        }
      ]
    },
    {
      "cell_type": "markdown",
      "source": [
        "##Single feature analysis of the best performing model across all features"
      ],
      "metadata": {
        "id": "kQ9fWzXRO3AJ"
      }
    },
    {
      "cell_type": "code",
      "source": [
        "#switch to heart disase 2, bad dataset"
      ],
      "metadata": {
        "id": "cniohKehO04m"
      },
      "execution_count": null,
      "outputs": []
    }
  ]
}