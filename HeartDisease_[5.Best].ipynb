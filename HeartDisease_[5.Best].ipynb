{
  "nbformat": 4,
  "nbformat_minor": 0,
  "metadata": {
    "colab": {
      "provenance": [],
      "authorship_tag": "ABX9TyOY/XH0CSGOTYWldLPpDYcK",
      "include_colab_link": true
    },
    "kernelspec": {
      "name": "python3",
      "display_name": "Python 3"
    },
    "language_info": {
      "name": "python"
    }
  },
  "cells": [
    {
      "cell_type": "markdown",
      "metadata": {
        "id": "view-in-github",
        "colab_type": "text"
      },
      "source": [
        "<a href=\"https://colab.research.google.com/github/HamburgermanA3445/heartdiseaseprediction/blob/main/HeartDisease_%5B5.Best%5D.ipynb\" target=\"_parent\"><img src=\"https://colab.research.google.com/assets/colab-badge.svg\" alt=\"Open In Colab\"/></a>"
      ]
    },
    {
      "cell_type": "markdown",
      "source": [
        "Unsuccessful, obtained from Kaggle:\n",
        "\n",
        "https://www.kaggle.com/datasets/alexteboul/heart-disease-health-indicators-dataset\n",
        "\n",
        "*some of the cells at the end were not run"
      ],
      "metadata": {
        "id": "p3VpHPnZC2hV"
      }
    },
    {
      "cell_type": "code",
      "source": [
        "!unzip \"/content/alex_teboul (5).zip\""
      ],
      "metadata": {
        "colab": {
          "base_uri": "https://localhost:8080/"
        },
        "id": "S6V-lZy9Xaqt",
        "outputId": "34e64b4b-36aa-468e-d012-9b2702fa2e63"
      },
      "execution_count": null,
      "outputs": [
        {
          "output_type": "stream",
          "name": "stdout",
          "text": [
            "Archive:  /content/alex_teboul (5).zip\n",
            "  inflating: 2020/heart_2020_cleaned.csv  \n",
            "  inflating: 2022/heart_2022_no_nans.csv  \n",
            "  inflating: 2022/heart_2022_with_nans.csv  \n"
          ]
        }
      ]
    },
    {
      "cell_type": "code",
      "source": [
        "import pandas as pd\n",
        "from sklearn.preprocessing import LabelEncoder"
      ],
      "metadata": {
        "id": "kOo-yJDnFrvo"
      },
      "execution_count": null,
      "outputs": []
    },
    {
      "cell_type": "code",
      "source": [
        "heart_data = pd.read_csv(\"/content/2022/heart_2022_no_nans.csv\")"
      ],
      "metadata": {
        "id": "HBfI_JItXdEM"
      },
      "execution_count": null,
      "outputs": []
    },
    {
      "cell_type": "code",
      "source": [
        "label_encoders = {}\n",
        "\n",
        "for col in heart_data.select_dtypes(include=['object']).columns:\n",
        "    le = LabelEncoder()\n",
        "    heart_data[col] = le.fit_transform(heart_data[col])\n",
        "    label_encoders[col] = le"
      ],
      "metadata": {
        "id": "FhB_TNorcdaE"
      },
      "execution_count": null,
      "outputs": []
    },
    {
      "cell_type": "code",
      "source": [
        "heart_data.columns"
      ],
      "metadata": {
        "colab": {
          "base_uri": "https://localhost:8080/"
        },
        "id": "-1mUGmY4XdIx",
        "outputId": "d20cce56-79f8-400e-8de5-9adf84545198"
      },
      "execution_count": null,
      "outputs": [
        {
          "output_type": "execute_result",
          "data": {
            "text/plain": [
              "Index(['State', 'Sex', 'GeneralHealth', 'PhysicalHealthDays',\n",
              "       'MentalHealthDays', 'LastCheckupTime', 'PhysicalActivities',\n",
              "       'SleepHours', 'RemovedTeeth', 'HadHeartAttack', 'HadAngina',\n",
              "       'HadStroke', 'HadAsthma', 'HadSkinCancer', 'HadCOPD',\n",
              "       'HadDepressiveDisorder', 'HadKidneyDisease', 'HadArthritis',\n",
              "       'HadDiabetes', 'DeafOrHardOfHearing', 'BlindOrVisionDifficulty',\n",
              "       'DifficultyConcentrating', 'DifficultyWalking',\n",
              "       'DifficultyDressingBathing', 'DifficultyErrands', 'SmokerStatus',\n",
              "       'ECigaretteUsage', 'ChestScan', 'RaceEthnicityCategory', 'AgeCategory',\n",
              "       'HeightInMeters', 'WeightInKilograms', 'BMI', 'AlcoholDrinkers',\n",
              "       'HIVTesting', 'FluVaxLast12', 'PneumoVaxEver', 'TetanusLast10Tdap',\n",
              "       'HighRiskLastYear', 'CovidPos'],\n",
              "      dtype='object')"
            ]
          },
          "metadata": {},
          "execution_count": 13
        }
      ]
    },
    {
      "cell_type": "code",
      "source": [
        "target = 'HadHeartAttack'\n",
        "all_columns = heart_data.columns.drop(target)"
      ],
      "metadata": {
        "id": "WR5drfXaLgrI"
      },
      "execution_count": null,
      "outputs": []
    },
    {
      "cell_type": "code",
      "source": [
        "heart_data.head()"
      ],
      "metadata": {
        "id": "cnbXNe-AaUlU",
        "colab": {
          "base_uri": "https://localhost:8080/",
          "height": 255
        },
        "outputId": "864b76a2-9aac-4800-99a3-6ec26f7bec04"
      },
      "execution_count": null,
      "outputs": [
        {
          "output_type": "execute_result",
          "data": {
            "text/plain": [
              "   State  Sex  GeneralHealth  PhysicalHealthDays  MentalHealthDays  \\\n",
              "0      0    0              4                 4.0               0.0   \n",
              "1      0    1              4                 0.0               0.0   \n",
              "2      0    1              4                 0.0               0.0   \n",
              "3      0    0              1                 5.0               0.0   \n",
              "4      0    0              2                 3.0              15.0   \n",
              "\n",
              "   LastCheckupTime  PhysicalActivities  SleepHours  RemovedTeeth  \\\n",
              "0                3                   1         9.0             3   \n",
              "1                3                   1         6.0             3   \n",
              "2                3                   0         8.0             1   \n",
              "3                3                   1         9.0             3   \n",
              "4                3                   1         5.0             0   \n",
              "\n",
              "   HadHeartAttack  ...  HeightInMeters  WeightInKilograms    BMI  \\\n",
              "0               0  ...            1.60              71.67  27.99   \n",
              "1               0  ...            1.78              95.25  30.13   \n",
              "2               0  ...            1.85             108.86  31.66   \n",
              "3               0  ...            1.70              90.72  31.32   \n",
              "4               0  ...            1.55              79.38  33.07   \n",
              "\n",
              "   AlcoholDrinkers  HIVTesting  FluVaxLast12  PneumoVaxEver  \\\n",
              "0                0           0             1              1   \n",
              "1                0           0             1              1   \n",
              "2                1           0             0              1   \n",
              "3                0           0             1              1   \n",
              "4                0           0             1              1   \n",
              "\n",
              "   TetanusLast10Tdap  HighRiskLastYear  CovidPos  \n",
              "0                  1                 0         0  \n",
              "1                  2                 0         0  \n",
              "2                  0                 0         2  \n",
              "3                  0                 0         2  \n",
              "4                  0                 0         0  \n",
              "\n",
              "[5 rows x 40 columns]"
            ],
            "text/html": [
              "\n",
              "  <div id=\"df-7e555255-d986-48ae-81bc-14c4e80d242e\" class=\"colab-df-container\">\n",
              "    <div>\n",
              "<style scoped>\n",
              "    .dataframe tbody tr th:only-of-type {\n",
              "        vertical-align: middle;\n",
              "    }\n",
              "\n",
              "    .dataframe tbody tr th {\n",
              "        vertical-align: top;\n",
              "    }\n",
              "\n",
              "    .dataframe thead th {\n",
              "        text-align: right;\n",
              "    }\n",
              "</style>\n",
              "<table border=\"1\" class=\"dataframe\">\n",
              "  <thead>\n",
              "    <tr style=\"text-align: right;\">\n",
              "      <th></th>\n",
              "      <th>State</th>\n",
              "      <th>Sex</th>\n",
              "      <th>GeneralHealth</th>\n",
              "      <th>PhysicalHealthDays</th>\n",
              "      <th>MentalHealthDays</th>\n",
              "      <th>LastCheckupTime</th>\n",
              "      <th>PhysicalActivities</th>\n",
              "      <th>SleepHours</th>\n",
              "      <th>RemovedTeeth</th>\n",
              "      <th>HadHeartAttack</th>\n",
              "      <th>...</th>\n",
              "      <th>HeightInMeters</th>\n",
              "      <th>WeightInKilograms</th>\n",
              "      <th>BMI</th>\n",
              "      <th>AlcoholDrinkers</th>\n",
              "      <th>HIVTesting</th>\n",
              "      <th>FluVaxLast12</th>\n",
              "      <th>PneumoVaxEver</th>\n",
              "      <th>TetanusLast10Tdap</th>\n",
              "      <th>HighRiskLastYear</th>\n",
              "      <th>CovidPos</th>\n",
              "    </tr>\n",
              "  </thead>\n",
              "  <tbody>\n",
              "    <tr>\n",
              "      <th>0</th>\n",
              "      <td>0</td>\n",
              "      <td>0</td>\n",
              "      <td>4</td>\n",
              "      <td>4.0</td>\n",
              "      <td>0.0</td>\n",
              "      <td>3</td>\n",
              "      <td>1</td>\n",
              "      <td>9.0</td>\n",
              "      <td>3</td>\n",
              "      <td>0</td>\n",
              "      <td>...</td>\n",
              "      <td>1.60</td>\n",
              "      <td>71.67</td>\n",
              "      <td>27.99</td>\n",
              "      <td>0</td>\n",
              "      <td>0</td>\n",
              "      <td>1</td>\n",
              "      <td>1</td>\n",
              "      <td>1</td>\n",
              "      <td>0</td>\n",
              "      <td>0</td>\n",
              "    </tr>\n",
              "    <tr>\n",
              "      <th>1</th>\n",
              "      <td>0</td>\n",
              "      <td>1</td>\n",
              "      <td>4</td>\n",
              "      <td>0.0</td>\n",
              "      <td>0.0</td>\n",
              "      <td>3</td>\n",
              "      <td>1</td>\n",
              "      <td>6.0</td>\n",
              "      <td>3</td>\n",
              "      <td>0</td>\n",
              "      <td>...</td>\n",
              "      <td>1.78</td>\n",
              "      <td>95.25</td>\n",
              "      <td>30.13</td>\n",
              "      <td>0</td>\n",
              "      <td>0</td>\n",
              "      <td>1</td>\n",
              "      <td>1</td>\n",
              "      <td>2</td>\n",
              "      <td>0</td>\n",
              "      <td>0</td>\n",
              "    </tr>\n",
              "    <tr>\n",
              "      <th>2</th>\n",
              "      <td>0</td>\n",
              "      <td>1</td>\n",
              "      <td>4</td>\n",
              "      <td>0.0</td>\n",
              "      <td>0.0</td>\n",
              "      <td>3</td>\n",
              "      <td>0</td>\n",
              "      <td>8.0</td>\n",
              "      <td>1</td>\n",
              "      <td>0</td>\n",
              "      <td>...</td>\n",
              "      <td>1.85</td>\n",
              "      <td>108.86</td>\n",
              "      <td>31.66</td>\n",
              "      <td>1</td>\n",
              "      <td>0</td>\n",
              "      <td>0</td>\n",
              "      <td>1</td>\n",
              "      <td>0</td>\n",
              "      <td>0</td>\n",
              "      <td>2</td>\n",
              "    </tr>\n",
              "    <tr>\n",
              "      <th>3</th>\n",
              "      <td>0</td>\n",
              "      <td>0</td>\n",
              "      <td>1</td>\n",
              "      <td>5.0</td>\n",
              "      <td>0.0</td>\n",
              "      <td>3</td>\n",
              "      <td>1</td>\n",
              "      <td>9.0</td>\n",
              "      <td>3</td>\n",
              "      <td>0</td>\n",
              "      <td>...</td>\n",
              "      <td>1.70</td>\n",
              "      <td>90.72</td>\n",
              "      <td>31.32</td>\n",
              "      <td>0</td>\n",
              "      <td>0</td>\n",
              "      <td>1</td>\n",
              "      <td>1</td>\n",
              "      <td>0</td>\n",
              "      <td>0</td>\n",
              "      <td>2</td>\n",
              "    </tr>\n",
              "    <tr>\n",
              "      <th>4</th>\n",
              "      <td>0</td>\n",
              "      <td>0</td>\n",
              "      <td>2</td>\n",
              "      <td>3.0</td>\n",
              "      <td>15.0</td>\n",
              "      <td>3</td>\n",
              "      <td>1</td>\n",
              "      <td>5.0</td>\n",
              "      <td>0</td>\n",
              "      <td>0</td>\n",
              "      <td>...</td>\n",
              "      <td>1.55</td>\n",
              "      <td>79.38</td>\n",
              "      <td>33.07</td>\n",
              "      <td>0</td>\n",
              "      <td>0</td>\n",
              "      <td>1</td>\n",
              "      <td>1</td>\n",
              "      <td>0</td>\n",
              "      <td>0</td>\n",
              "      <td>0</td>\n",
              "    </tr>\n",
              "  </tbody>\n",
              "</table>\n",
              "<p>5 rows × 40 columns</p>\n",
              "</div>\n",
              "    <div class=\"colab-df-buttons\">\n",
              "\n",
              "  <div class=\"colab-df-container\">\n",
              "    <button class=\"colab-df-convert\" onclick=\"convertToInteractive('df-7e555255-d986-48ae-81bc-14c4e80d242e')\"\n",
              "            title=\"Convert this dataframe to an interactive table.\"\n",
              "            style=\"display:none;\">\n",
              "\n",
              "  <svg xmlns=\"http://www.w3.org/2000/svg\" height=\"24px\" viewBox=\"0 -960 960 960\">\n",
              "    <path d=\"M120-120v-720h720v720H120Zm60-500h600v-160H180v160Zm220 220h160v-160H400v160Zm0 220h160v-160H400v160ZM180-400h160v-160H180v160Zm440 0h160v-160H620v160ZM180-180h160v-160H180v160Zm440 0h160v-160H620v160Z\"/>\n",
              "  </svg>\n",
              "    </button>\n",
              "\n",
              "  <style>\n",
              "    .colab-df-container {\n",
              "      display:flex;\n",
              "      gap: 12px;\n",
              "    }\n",
              "\n",
              "    .colab-df-convert {\n",
              "      background-color: #E8F0FE;\n",
              "      border: none;\n",
              "      border-radius: 50%;\n",
              "      cursor: pointer;\n",
              "      display: none;\n",
              "      fill: #1967D2;\n",
              "      height: 32px;\n",
              "      padding: 0 0 0 0;\n",
              "      width: 32px;\n",
              "    }\n",
              "\n",
              "    .colab-df-convert:hover {\n",
              "      background-color: #E2EBFA;\n",
              "      box-shadow: 0px 1px 2px rgba(60, 64, 67, 0.3), 0px 1px 3px 1px rgba(60, 64, 67, 0.15);\n",
              "      fill: #174EA6;\n",
              "    }\n",
              "\n",
              "    .colab-df-buttons div {\n",
              "      margin-bottom: 4px;\n",
              "    }\n",
              "\n",
              "    [theme=dark] .colab-df-convert {\n",
              "      background-color: #3B4455;\n",
              "      fill: #D2E3FC;\n",
              "    }\n",
              "\n",
              "    [theme=dark] .colab-df-convert:hover {\n",
              "      background-color: #434B5C;\n",
              "      box-shadow: 0px 1px 3px 1px rgba(0, 0, 0, 0.15);\n",
              "      filter: drop-shadow(0px 1px 2px rgba(0, 0, 0, 0.3));\n",
              "      fill: #FFFFFF;\n",
              "    }\n",
              "  </style>\n",
              "\n",
              "    <script>\n",
              "      const buttonEl =\n",
              "        document.querySelector('#df-7e555255-d986-48ae-81bc-14c4e80d242e button.colab-df-convert');\n",
              "      buttonEl.style.display =\n",
              "        google.colab.kernel.accessAllowed ? 'block' : 'none';\n",
              "\n",
              "      async function convertToInteractive(key) {\n",
              "        const element = document.querySelector('#df-7e555255-d986-48ae-81bc-14c4e80d242e');\n",
              "        const dataTable =\n",
              "          await google.colab.kernel.invokeFunction('convertToInteractive',\n",
              "                                                    [key], {});\n",
              "        if (!dataTable) return;\n",
              "\n",
              "        const docLinkHtml = 'Like what you see? Visit the ' +\n",
              "          '<a target=\"_blank\" href=https://colab.research.google.com/notebooks/data_table.ipynb>data table notebook</a>'\n",
              "          + ' to learn more about interactive tables.';\n",
              "        element.innerHTML = '';\n",
              "        dataTable['output_type'] = 'display_data';\n",
              "        await google.colab.output.renderOutput(dataTable, element);\n",
              "        const docLink = document.createElement('div');\n",
              "        docLink.innerHTML = docLinkHtml;\n",
              "        element.appendChild(docLink);\n",
              "      }\n",
              "    </script>\n",
              "  </div>\n",
              "\n",
              "\n",
              "<div id=\"df-cfd3bda7-e3b8-4bdf-897c-3bc1d2bf20ef\">\n",
              "  <button class=\"colab-df-quickchart\" onclick=\"quickchart('df-cfd3bda7-e3b8-4bdf-897c-3bc1d2bf20ef')\"\n",
              "            title=\"Suggest charts\"\n",
              "            style=\"display:none;\">\n",
              "\n",
              "<svg xmlns=\"http://www.w3.org/2000/svg\" height=\"24px\"viewBox=\"0 0 24 24\"\n",
              "     width=\"24px\">\n",
              "    <g>\n",
              "        <path d=\"M19 3H5c-1.1 0-2 .9-2 2v14c0 1.1.9 2 2 2h14c1.1 0 2-.9 2-2V5c0-1.1-.9-2-2-2zM9 17H7v-7h2v7zm4 0h-2V7h2v10zm4 0h-2v-4h2v4z\"/>\n",
              "    </g>\n",
              "</svg>\n",
              "  </button>\n",
              "\n",
              "<style>\n",
              "  .colab-df-quickchart {\n",
              "      --bg-color: #E8F0FE;\n",
              "      --fill-color: #1967D2;\n",
              "      --hover-bg-color: #E2EBFA;\n",
              "      --hover-fill-color: #174EA6;\n",
              "      --disabled-fill-color: #AAA;\n",
              "      --disabled-bg-color: #DDD;\n",
              "  }\n",
              "\n",
              "  [theme=dark] .colab-df-quickchart {\n",
              "      --bg-color: #3B4455;\n",
              "      --fill-color: #D2E3FC;\n",
              "      --hover-bg-color: #434B5C;\n",
              "      --hover-fill-color: #FFFFFF;\n",
              "      --disabled-bg-color: #3B4455;\n",
              "      --disabled-fill-color: #666;\n",
              "  }\n",
              "\n",
              "  .colab-df-quickchart {\n",
              "    background-color: var(--bg-color);\n",
              "    border: none;\n",
              "    border-radius: 50%;\n",
              "    cursor: pointer;\n",
              "    display: none;\n",
              "    fill: var(--fill-color);\n",
              "    height: 32px;\n",
              "    padding: 0;\n",
              "    width: 32px;\n",
              "  }\n",
              "\n",
              "  .colab-df-quickchart:hover {\n",
              "    background-color: var(--hover-bg-color);\n",
              "    box-shadow: 0 1px 2px rgba(60, 64, 67, 0.3), 0 1px 3px 1px rgba(60, 64, 67, 0.15);\n",
              "    fill: var(--button-hover-fill-color);\n",
              "  }\n",
              "\n",
              "  .colab-df-quickchart-complete:disabled,\n",
              "  .colab-df-quickchart-complete:disabled:hover {\n",
              "    background-color: var(--disabled-bg-color);\n",
              "    fill: var(--disabled-fill-color);\n",
              "    box-shadow: none;\n",
              "  }\n",
              "\n",
              "  .colab-df-spinner {\n",
              "    border: 2px solid var(--fill-color);\n",
              "    border-color: transparent;\n",
              "    border-bottom-color: var(--fill-color);\n",
              "    animation:\n",
              "      spin 1s steps(1) infinite;\n",
              "  }\n",
              "\n",
              "  @keyframes spin {\n",
              "    0% {\n",
              "      border-color: transparent;\n",
              "      border-bottom-color: var(--fill-color);\n",
              "      border-left-color: var(--fill-color);\n",
              "    }\n",
              "    20% {\n",
              "      border-color: transparent;\n",
              "      border-left-color: var(--fill-color);\n",
              "      border-top-color: var(--fill-color);\n",
              "    }\n",
              "    30% {\n",
              "      border-color: transparent;\n",
              "      border-left-color: var(--fill-color);\n",
              "      border-top-color: var(--fill-color);\n",
              "      border-right-color: var(--fill-color);\n",
              "    }\n",
              "    40% {\n",
              "      border-color: transparent;\n",
              "      border-right-color: var(--fill-color);\n",
              "      border-top-color: var(--fill-color);\n",
              "    }\n",
              "    60% {\n",
              "      border-color: transparent;\n",
              "      border-right-color: var(--fill-color);\n",
              "    }\n",
              "    80% {\n",
              "      border-color: transparent;\n",
              "      border-right-color: var(--fill-color);\n",
              "      border-bottom-color: var(--fill-color);\n",
              "    }\n",
              "    90% {\n",
              "      border-color: transparent;\n",
              "      border-bottom-color: var(--fill-color);\n",
              "    }\n",
              "  }\n",
              "</style>\n",
              "\n",
              "  <script>\n",
              "    async function quickchart(key) {\n",
              "      const quickchartButtonEl =\n",
              "        document.querySelector('#' + key + ' button');\n",
              "      quickchartButtonEl.disabled = true;  // To prevent multiple clicks.\n",
              "      quickchartButtonEl.classList.add('colab-df-spinner');\n",
              "      try {\n",
              "        const charts = await google.colab.kernel.invokeFunction(\n",
              "            'suggestCharts', [key], {});\n",
              "      } catch (error) {\n",
              "        console.error('Error during call to suggestCharts:', error);\n",
              "      }\n",
              "      quickchartButtonEl.classList.remove('colab-df-spinner');\n",
              "      quickchartButtonEl.classList.add('colab-df-quickchart-complete');\n",
              "    }\n",
              "    (() => {\n",
              "      let quickchartButtonEl =\n",
              "        document.querySelector('#df-cfd3bda7-e3b8-4bdf-897c-3bc1d2bf20ef button');\n",
              "      quickchartButtonEl.style.display =\n",
              "        google.colab.kernel.accessAllowed ? 'block' : 'none';\n",
              "    })();\n",
              "  </script>\n",
              "</div>\n",
              "\n",
              "    </div>\n",
              "  </div>\n"
            ],
            "application/vnd.google.colaboratory.intrinsic+json": {
              "type": "dataframe",
              "variable_name": "heart_data"
            }
          },
          "metadata": {},
          "execution_count": 15
        }
      ]
    },
    {
      "cell_type": "markdown",
      "source": [
        "#Logistic Model"
      ],
      "metadata": {
        "id": "zJaxqrv-Ksue"
      }
    },
    {
      "cell_type": "code",
      "source": [
        "from sklearn.model_selection import train_test_split\n",
        "from sklearn.linear_model import LogisticRegression"
      ],
      "metadata": {
        "id": "oB2YmYuqXdB1"
      },
      "execution_count": null,
      "outputs": []
    },
    {
      "cell_type": "code",
      "source": [
        "#Use for filtering categorical data into numerical\n",
        "for l in all_columns:\n",
        "  all_x = []\n",
        "  for x in heart_data[l]:\n",
        "    if x not in all_x:\n",
        "      all_x.append(x)\n",
        "  print(f'{l}: {all_x}')"
      ],
      "metadata": {
        "colab": {
          "base_uri": "https://localhost:8080/"
        },
        "id": "vx0LU2paXdGa",
        "outputId": "358bc316-1b22-48f2-f150-1dc828049b6a"
      },
      "execution_count": null,
      "outputs": [
        {
          "output_type": "stream",
          "name": "stdout",
          "text": [
            "State: [0, 1, 2, 3, 4, 5, 6, 7, 8, 9, 10, 12, 13, 14, 15, 16, 17, 18, 19, 20, 21, 22, 23, 24, 25, 26, 27, 28, 29, 30, 31, 32, 33, 34, 35, 36, 37, 38, 39, 41, 42, 43, 44, 45, 46, 47, 49, 50, 51, 52, 53, 11, 40, 48]\n",
            "Sex: [0, 1]\n",
            "GeneralHealth: [4, 1, 2, 0, 3]\n",
            "PhysicalHealthDays: [4.0, 0.0, 5.0, 3.0, 2.0, 25.0, 30.0, 15.0, 29.0, 8.0, 16.0, 20.0, 10.0, 9.0, 7.0, 1.0, 21.0, 6.0, 27.0, 14.0, 12.0, 11.0, 13.0, 28.0, 17.0, 23.0, 24.0, 26.0, 18.0, 22.0, 19.0]\n",
            "MentalHealthDays: [0.0, 15.0, 4.0, 25.0, 5.0, 30.0, 27.0, 3.0, 2.0, 1.0, 10.0, 20.0, 21.0, 6.0, 7.0, 8.0, 14.0, 9.0, 12.0, 18.0, 29.0, 28.0, 17.0, 11.0, 16.0, 13.0, 26.0, 22.0, 24.0, 19.0, 23.0]\n",
            "LastCheckupTime: [3, 0, 1, 2]\n",
            "PhysicalActivities: [1, 0]\n",
            "SleepHours: [9.0, 6.0, 8.0, 5.0, 7.0, 10.0, 4.0, 12.0, 3.0, 18.0, 11.0, 2.0, 1.0, 16.0, 14.0, 15.0, 13.0, 20.0, 24.0, 23.0, 19.0, 17.0, 22.0]\n",
            "RemovedTeeth: [3, 1, 0, 2]\n",
            "HadAngina: [0, 1]\n",
            "HadStroke: [0, 1]\n",
            "HadAsthma: [0, 1]\n",
            "HadSkinCancer: [0, 1]\n",
            "HadCOPD: [0, 1]\n",
            "HadDepressiveDisorder: [0, 1]\n",
            "HadKidneyDisease: [0, 1]\n",
            "HadArthritis: [1, 0]\n",
            "HadDiabetes: [0, 2, 3, 1]\n",
            "DeafOrHardOfHearing: [0, 1]\n",
            "BlindOrVisionDifficulty: [0, 1]\n",
            "DifficultyConcentrating: [0, 1]\n",
            "DifficultyWalking: [0, 1]\n",
            "DifficultyDressingBathing: [0, 1]\n",
            "DifficultyErrands: [0, 1]\n",
            "SmokerStatus: [2, 3, 0, 1]\n",
            "ECigaretteUsage: [0, 3, 1, 2]\n",
            "ChestScan: [0, 1]\n",
            "RaceEthnicityCategory: [4, 0, 3, 2, 1]\n",
            "AgeCategory: [9, 10, 11, 12, 6, 4, 8, 7, 5, 3, 1, 2, 0]\n",
            "HeightInMeters: [1.6, 1.78, 1.85, 1.7, 1.55, 1.63, 1.75, 1.68, 1.83, 1.52, 1.88, 1.5, 1.73, 1.65, 1.8, 1.57, 1.91, 1.47, 1.42, 1.22, 1.93, 2.01, 1.96, 1.98, 1.45, 1.35, 1.76, 2.03, 2.16, 1.51, 1.53, 1.69, 1.56, 1.84, 1.9, 1.54, 1.72, 1.87, 1.74, 1.4, 1.64, 1.58, 1.62, 1.79, 1.67, 1.46, 1.89, 1.61, 1.3, 1.37, 2.13, 2.06, 2.11, 0.91, 2.26, 2.18, 1.77, 2.36, 1.59, 1.86, 1.82, 1.66, 1.71, 1.95, 1.05, 2.08, 1.49, 1.38, 1.81, 1.44, 1.48, 1.19, 1.32, 1.24, 1.07, 1.04, 1.27, 1.1, 1.92, 1.2, 2.24, 1.12, 1.03, 0.97, 1.25, 2.29, 1.16, 1.18, 1.09, 2.41, 1.0, 1.17, 1.08, 1.43, 1.14, 1.02, 2.0, 2.02, 0.95, 2.34, 2.21]\n",
            "WeightInKilograms: [71.67, 95.25, 108.86, 90.72, 79.38, 120.2, 88.0, 74.84, 78.02, 63.5, 122.47, 115.67, 81.65, 86.18, 76.2, 54.88, 72.57, 88.45, 104.33, 52.16, 68.04, 65.77, 56.7, 94.8, 123.83, 50.8, 68.95, 113.4, 83.91, 77.56, 68.49, 82.1, 80.74, 106.14, 58.06, 61.69, 57.61, 84.82, 70.76, 70.31, 91.63, 102.06, 48.08, 61.23, 109.77, 99.79, 58.97, 110.68, 64.86, 111.13, 45.36, 79.83, 98.88, 55.34, 101.6, 77.11, 93.89, 71.21, 49.9, 96.16, 163.29, 120.66, 97.52, 88.9, 44.91, 85.73, 83.46, 92.99, 132.0, 67.59, 92.08, 73.48, 107.5, 107.95, 91.17, 74.39, 64.41, 62.6, 46.72, 103.42, 87.09, 89.81, 83.01, 100.7, 56.25, 96.62, 66.68, 67.13, 69.4, 58.51, 78.93, 95.71, 63.05, 49.44, 127.01, 145.15, 122.02, 107.05, 126.55, 117.03, 47.17, 181.44, 65.32, 117.93, 136.08, 78.47, 52.62, 121.56, 73.94, 82.55, 106.59, 59.87, 110.22, 62.14, 51.71, 93.44, 54.43, 85.28, 59.42, 66.22, 76.66, 55.79, 75.3, 97.07, 87.54, 69.85, 124.74, 63.96, 47.63, 94.35, 97.98, 89.36, 92.53, 101.15, 149.69, 129.27, 84.37, 195.04, 99.34, 114.31, 53.07, 81.19, 75.75, 124.28, 112.94, 80.29, 114.76, 45.81, 53.52, 133.81, 51.26, 158.76, 60.78, 46.27, 72.12, 131.54, 127.91, 53.98, 98.43, 130.63, 143.34, 102.51, 115.21, 90.26, 166.92, 109.32, 40.37, 135.62, 204.12, 129.73, 127.46, 138.35, 105.69, 119.75, 48.53, 140.61, 105.23, 139.25, 126.1, 135.17, 102.97, 122.92, 57.15, 38.56, 60.33, 131.09, 148.78, 116.57, 112.49, 86.64, 112.04, 172.37, 133.36, 118.84, 50.35, 103.87, 111.58, 121.11, 113.85, 73.03, 142.88, 134.26, 123.38, 37.19, 119.29, 36.29, 48.99, 43.09, 41.73, 35.38, 104.78, 144.24, 167.83, 149.23, 37.65, 86.0, 147.42, 165.56, 154.22, 136.98, 108.41, 155.58, 206.38, 148.32, 42.18, 44.45, 90.0, 191.87, 249.48, 67.0, 44.0, 40.82, 156.49, 53.0, 139.71, 130.18, 118.39, 100.0, 151.95, 165.11, 43.54, 134.72, 141.52, 125.19, 75.0, 250.0, 116.12, 73.0, 100.24, 74.0, 200.0, 80.0, 82.0, 54.0, 66.0, 152.41, 39.46, 41.28, 190.51, 188.24, 59.0, 70.0, 170.1, 46.0, 265.0, 168.74, 190.0, 55.0, 93.0, 159.66, 78.0, 38.1, 185.07, 104.0, 183.7, 125.65, 68.0, 134.0, 130.0, 32.21, 143.79, 137.89, 179.17, 105.0, 65.0, 32.0, 292.57, 85.0, 72.0, 174.63, 50.0, 128.37, 62.0, 87.0, 176.9, 39.92, 76.0, 128.82, 58.0, 156.04, 121.0, 42.64, 89.0, 146.96, 146.06, 171.46, 227.25, 29.48, 190.06, 161.03, 226.8, 132.45, 137.44, 64.0, 56.0, 141.07, 52.0, 63.0, 120.0, 83.0, 57.0, 31.75, 77.0, 96.0, 60.0, 115.0, 41.0, 150.59, 272.16, 48.0, 39.01, 95.0, 197.31, 158.3, 45.0, 94.0, 240.4, 49.0, 157.85, 108.0, 185.0, 61.0, 34.02, 132.9, 84.0, 229.97, 138.8, 81.0, 79.0, 92.0, 107.0, 155.13, 208.65, 69.0, 111.0, 110.0, 151.05, 210.0, 140.16, 35.83, 146.51, 117.48, 102.0, 125.0, 151.5, 36.74, 38.0, 135.0, 71.0, 147.87, 153.77, 170.0, 91.0, 98.0, 192.32, 186.88, 118.0, 160.12, 160.0, 170.55, 201.85, 184.16, 175.09, 142.43, 169.0, 166.01, 180.53, 196.41, 162.39, 40.0, 171.91, 195.95, 136.53, 153.31, 159.21, 164.2, 219.99, 141.97, 173.27, 34.47, 213.19, 276.24, 199.58, 215.46, 217.72, 175.99, 200.03, 230.88, 33.57, 185.52, 103.0, 152.86, 101.0, 160.57, 150.14, 157.4, 145.0, 150.0, 163.75, 191.42, 174.18, 164.65, 256.28, 205.48, 192.78, 161.48, 178.26, 179.62, 144.7, 205.02, 178.72, 154.68, 166.47, 177.81, 200.49, 231.79, 238.14, 227.7, 273.52, 211.83, 223.62, 197.77, 189.15, 185.97, 250.38, 183.25, 181.89, 222.26, 231.33, 180.08, 202.76, 180.0, 164.0, 156.94, 114.0, 122.0, 161.93, 137.0, 162.84, 188.69, 234.51, 199.13, 203.21, 145.6, 173.73, 263.08, 154.0, 239.04, 177.35, 224.98, 117.0, 37.0, 97.0, 210.92, 273.06, 203.66, 238.59, 113.0, 224.53, 169.64, 146.0, 201.4, 220.0, 34.93, 254.01, 212.73, 176.45, 184.61, 124.0, 152.0, 233.6, 193.23, 205.0, 244.94, 229.06, 47.0, 167.38, 99.0, 28.12, 235.87, 171.0, 212.28, 180.98, 169.19, 175.54, 30.84, 116.0, 168.28, 123.0, 186.43, 172.82, 182.8, 217.27, 182.34, 246.3, 30.39]\n",
            "BMI: [27.99, 30.13, 31.66, 31.32, 33.07, 34.96, 33.3, 24.37, 26.94, 22.6, 36.62, 46.87, 32.74, 35.15, 27.26, 28.28, 25.54, 20.14, 25.06, 27.2, 27.34, 33.89, 27.12, 31.89, 32.08, 21.03, 28.34, 33.96, 26.52, 38.74, 26.61, 29.95, 21.93, 21.46, 22.67, 25.68, 28.35, 36.02, 21.87, 26.09, 36.92, 28.97, 34.33, 27.46, 27.98, 27.6, 21.29, 25.92, 27.52, 28.73, 31.74, 21.81, 21.97, 26.56, 24.0, 31.12, 35.43, 29.48, 25.02, 24.96, 28.98, 43.9, 25.61, 28.12, 21.41, 19.79, 17.81, 27.89, 37.9, 29.84, 20.36, 34.54, 34.03, 44.29, 27.02, 26.63, 30.62, 32.32, 34.95, 19.53, 28.41, 21.13, 34.14, 30.18, 24.68, 41.01, 33.0, 21.61, 36.15, 23.71, 32.28, 40.29, 34.45, 26.95, 21.77, 20.78, 27.5, 29.26, 25.09, 32.23, 58.1, 36.08, 38.41, 34.87, 29.99, 26.58, 26.45, 29.12, 16.47, 24.94, 30.41, 27.41, 24.95, 27.91, 28.13, 27.8, 30.9, 31.01, 32.42, 29.18, 24.21, 49.95, 24.79, 35.96, 27.81, 33.47, 38.25, 24.69, 43.53, 28.84, 24.22, 25.97, 29.23, 30.47, 23.69, 20.8, 22.46, 36.39, 22.24, 29.29, 36.8, 18.99, 27.55, 27.71, 26.85, 29.54, 18.88, 24.8, 38.11, 28.19, 31.58, 34.11, 37.73, 25.23, 34.44, 33.91, 32.61, 23.73, 28.82, 30.67, 31.75, 25.79, 26.22, 29.76, 23.26, 15.66, 23.89, 29.15, 20.34, 27.07, 37.79, 45.73, 24.41, 23.06, 25.29, 17.99, 31.47, 22.86, 31.17, 24.97, 36.22, 27.44, 36.49, 20.6, 25.0, 36.94, 48.66, 42.13, 34.85, 45.03, 34.04, 19.02, 34.18, 25.66, 57.39, 25.51, 28.7, 38.27, 41.96, 32.69, 32.77, 91.55, 46.59, 30.28, 24.75, 35.85, 31.64, 22.87, 22.65, 35.24, 47.47, 37.42, 20.93, 30.29, 29.53, 31.0, 30.21, 42.51, 29.05, 21.31, 21.3, 47.46, 23.8, 31.87, 26.76, 35.88, 38.08, 19.22, 22.27, 25.42, 25.37, 25.84, 30.55, 19.94, 23.52, 31.31, 20.85, 19.46, 30.42, 22.45, 21.63, 27.37, 22.96, 33.28, 30.45, 23.83, 30.04, 35.51, 35.58, 28.29, 39.06, 23.4, 27.76, 35.87, 20.52, 30.27, 32.12, 30.54, 30.11, 32.1, 30.56, 30.68, 20.98, 19.49, 29.88, 35.78, 26.7, 32.92, 31.93, 33.44, 19.97, 24.02, 34.46, 31.25, 28.49, 18.3, 26.54, 37.5, 22.71, 31.65, 32.49, 29.37, 28.8, 27.59, 21.95, 18.79, 21.26, 25.83, 28.06, 29.1, 39.48, 25.07, 39.46, 39.05, 24.98, 19.84, 28.21, 36.72, 30.52, 39.14, 30.99, 22.31, 18.14, 29.94, 36.52, 40.77, 26.31, 36.05, 21.11, 35.07, 26.57, 21.86, 19.2, 23.49, 22.49, 36.28, 38.28, 32.5, 32.55, 20.67, 32.89, 43.54, 22.53, 31.38, 26.43, 30.34, 27.39, 52.13, 36.73, 25.15, 44.92, 20.92, 21.06, 41.16, 24.33, 31.62, 32.84, 21.79, 20.97, 35.33, 35.94, 38.23, 17.5, 23.3, 24.39, 22.14, 18.13, 33.58, 24.14, 40.39, 29.01, 25.82, 20.2, 25.75, 26.69, 38.39, 24.28, 61.7, 35.09, 28.89, 23.21, 22.15, 33.38, 32.98, 23.41, 38.77, 25.77, 29.44, 24.34, 42.77, 42.29, 26.15, 47.65, 17.79, 29.79, 34.34, 48.82, 26.34, 39.65, 23.29, 26.47, 23.78, 40.46, 30.23, 22.99, 24.03, 29.03, 24.11, 26.78, 24.63, 29.86, 28.45, 25.85, 31.57, 33.99, 25.11, 39.51, 21.4, 26.91, 28.08, 22.47, 34.3, 23.96, 29.41, 28.48, 33.63, 44.82, 24.2, 24.01, 27.92, 33.13, 23.17, 30.8, 23.75, 41.2, 30.82, 29.56, 24.89, 24.13, 36.61, 22.3, 25.5, 18.47, 20.25, 29.65, 39.11, 37.59, 23.23, 43.58, 38.92, 49.13, 40.35, 19.4, 37.11, 26.25, 41.6, 36.59, 38.02, 33.36, 25.24, 22.81, 35.02, 46.18, 18.01, 22.08, 60.08, 40.72, 23.62, 26.4, 20.55, 21.47, 38.67, 35.57, 37.66, 28.46, 39.86, 37.31, 33.66, 28.23, 19.37, 22.38, 34.15, 23.63, 17.14, 21.21, 25.39, 24.56, 46.2, 42.57, 31.19, 22.35, 23.91, 43.05, 31.09, 24.24, 17.72, 20.08, 23.67, 18.29, 28.59, 33.09, 18.07, 26.46, 21.7, 33.23, 26.29, 23.34, 34.7, 49.78, 42.88, 32.45, 26.04, 40.34, 35.95, 43.27, 26.88, 35.62, 37.02, 19.8, 30.85, 32.64, 44.63, 27.67, 27.32, 36.96, 27.4, 28.53, 20.22, 27.15, 33.45, 21.43, 38.44, 32.11, 38.37, 29.57, 36.81, 22.43, 26.19, 21.74, 23.03, 25.18, 34.39, 33.05, 24.82, 56.49, 30.0, 33.41, 22.8, 22.63, 53.14, 31.1, 36.65, 28.68, 26.89, 36.0, 41.79, 25.69, 50.78, 18.97, 37.23, 31.46, 20.09, 20.12, 34.75, 43.46, 33.95, 51.0, 25.55, 29.6, 32.43, 39.78, 42.91, 33.29, 24.5, 34.16, 22.22, 28.67, 29.21, 41.61, 29.16, 25.8, 28.25, 47.25, 25.1, 35.19, 23.09, 31.18, 27.94, 40.69, 29.63, 31.85, 22.32, 43.4, 50.3, 28.32, 27.96, 22.89, 33.61, 31.28, 16.82, 19.0, 32.93, 49.76, 16.84, 41.66, 26.5, 44.11, 23.02, 34.77, 61.03, 20.81, 51.4, 30.79, 41.37, 32.01, 17.71, 33.43, 36.58, 21.54, 41.35, 18.66, 36.9, 19.77, 22.26, 37.2, 33.75, 37.38, 31.63, 30.86, 29.68, 42.61, 32.03, 21.18, 20.37, 53.22, 43.36, 35.44, 27.22, 26.17, 26.36, 20.18, 28.37, 39.44, 32.95, 23.39, 40.01, 21.14, 26.37, 41.81, 36.34, 24.09, 38.61, 26.08, 41.05, 43.33, 54.87, 36.32, 31.29, 21.44, 26.16, 25.73, 30.51, 21.91, 28.72, 43.82, 34.01, 44.05, 37.6, 47.72, 39.32, 20.51, 38.97, 38.52, 32.57, 22.11, 34.26, 54.82, 42.44, 31.55, 26.39, 26.96, 30.38, 39.16, 24.55, 17.76, 41.57, 23.56, 37.62, 36.12, 39.69, 26.32, 19.26, 32.44, 40.03, 26.68, 61.97, 18.83, 35.71, 40.24, 19.14, 17.47, 27.29, 35.08, 33.84, 21.52, 22.59, 31.78, 27.82, 23.01, 18.25, 42.4, 28.15, 48.79, 26.99, 28.6, 44.09, 39.68, 27.88, 29.66, 27.72, 21.12, 33.33, 17.94, 40.74, 30.7, 29.7, 23.57, 32.78, 22.05, 35.53, 21.73, 35.73, 37.21, 27.28, 20.54, 28.1, 22.62, 24.53, 28.31, 22.55, 25.65, 27.57, 35.0, 35.79, 26.26, 29.49, 37.16, 26.07, 36.77, 28.66, 33.72, 23.81, 22.5, 28.76, 28.74, 36.54, 46.41, 49.23, 24.45, 27.87, 32.22, 53.0, 26.0, 19.74, 38.01, 38.96, 24.67, 24.54, 26.13, 20.3, 31.82, 37.25, 41.88, 32.58, 18.56, 45.61, 48.42, 32.0, 39.45, 30.07, 23.86, 28.43, 50.12, 34.67, 20.83, 19.67, 41.63, 29.38, 40.19, 29.42, 56.68, 37.88, 45.83, 28.9, 44.3, 24.27, 19.51, 33.67, 26.66, 22.85, 40.51, 28.79, 25.22, 34.83, 38.62, 21.2, 42.07, 40.89, 42.72, 37.76, 21.62, 20.95, 18.55, 34.2, 40.14, 20.53, 38.09, 36.11, 39.58, 36.84, 25.58, 30.72, 30.17, 37.0, 24.16, 25.19, 18.17, 41.5, 36.89, 15.0, 27.79, 34.97, 37.97, 31.95, 35.31, 26.12, 23.05, 33.65, 23.33, 42.54, 12.94, 25.04, 24.43, 21.22, 34.48, 18.02, 23.0, 20.43, 25.36, 37.12, 25.38, 29.91, 31.83, 20.7, 39.71, 26.97, 27.1, 23.99, 37.74, 34.28, 25.63, 30.81, 34.58, 40.45, 42.6, 32.24, 17.85, 29.52, 19.69, 36.26, 19.64, 40.18, 15.97, 24.51, 14.63, 19.31, 25.4, 35.7, 20.03, 46.99, 32.19, 31.24, 27.06, 18.54, 31.05, 25.62, 25.33, 20.94, 22.52, 19.19, 30.87, 22.83, 23.5, 19.01, 23.44, 17.97, 20.07, 18.44, 16.25, 19.85, 28.87, 13.39, 39.8, 27.27, 35.55, 23.72, 26.87, 31.96, 22.04, 19.08, 35.35, 43.77, 31.91, 27.64, 25.52, 37.41, 42.25, 25.53, 39.38, 41.84, 24.87, 42.22, 29.62, 34.21, 40.61, 26.83, 33.12, 26.05, 28.17, 48.73, 18.65, 27.05, 28.07, 45.19, 17.75, 45.63, 45.04, 43.41, 53.25, 22.57, 16.21, 21.48, 32.87, 51.49, 20.05, 29.04, 42.83, 36.67, 26.44, 31.8, 47.99, 17.15, 37.91, 36.57, 48.16, 38.99, 24.3, 18.59, 32.26, 25.86, 31.42, 32.82, 20.99, 42.05, 35.61, 58.24, 48.71, 48.26, 36.18, 35.28, 25.13, 45.42, 24.72, 27.25, 30.71, 18.46, 28.5, 47.35, 15.41, 39.84, 27.73, 41.56, 23.92, 20.9, 52.73, 44.86, 22.73, 35.67, 19.57, 38.1, 21.84, 25.91, 43.56, 27.78, 30.92, 18.89, 27.47, 34.19, 29.87, 37.68, 65.64, 24.18, 24.59, 26.11, 25.7, 38.95, 33.2, 35.54, 25.25, 21.16, 32.04, 21.92, 38.32, 23.24, 26.3, 38.35, 27.86, 49.21, 21.64, 48.81, 21.59, 16.04, 51.69, 24.9, 23.11, 30.43, 21.08, 21.83, 58.36, 42.27, 33.19, 37.3, 21.28, 40.1, 48.06, 22.4, 25.08, 23.87, 47.83, 37.93, 59.07, 22.0, 63.46, 23.13, 43.14, 18.16, 43.28, 29.85, 23.53, 44.6, 32.91, 23.12, 33.83, 31.44, 18.52, 34.72, 33.51, 34.27, 31.02, 19.9, 20.19, 32.76, 26.18, 42.43, 47.43, 19.33, 38.45, 21.02, 23.82, 16.23, 29.09, 62.47, 19.05, 78.92, 28.65, 22.66, 45.31, 28.0, 18.32, 22.13, 46.37, 33.54, 25.96, 50.07, 31.41, 19.58, 27.31, 44.76, 45.91, 33.25, 19.21, 35.26, 43.85, 49.6, 25.56, 16.92, 24.52, 17.18, 41.04, 24.83, 23.08, 27.17, 23.46, 29.24, 34.17, 22.92, 20.5, 40.41, 30.66, 21.25, 30.83, 35.56, 61.79, 26.92, 39.33, 21.58, 48.83, 28.63, 17.33, 23.15, 23.6, 36.13, 18.6, 24.19, 24.65, 14.1, 44.43, 25.34, 23.48, 39.54, 27.62, 29.45, 22.78, 37.08, 22.69, 19.89, 20.39, 38.26, 30.36, 39.94, 16.45, 20.06, 47.13, 31.07, 30.96, 48.24, 37.56, 23.38, 31.35, 15.34, 21.67, 56.64, 22.88, 45.2, 18.98, 21.56, 33.77, 23.74, 46.81, 27.69, 20.69, 20.48, 22.82, 21.35, 15.82, 43.64, 30.61, 19.11, 43.13, 16.83, 18.95, 34.57, 30.19, 21.9, 18.08, 31.54, 56.12, 39.53, 33.5, 26.14, 19.66, 28.75, 36.87, 21.32, 26.79, 21.24, 34.02, 21.34, 31.14, 34.59, 17.03, 37.22, 27.38, 36.4, 42.97, 18.37, 15.49, 33.52, 18.81, 25.89, 33.18, 32.88, 30.65, 24.66, 53.09, 50.94, 32.62, 22.68, 43.26, 26.06, 16.95, 30.3, 20.02, 18.11, 32.96, 38.0, 17.34, 24.46, 28.94, 26.72, 45.5, 25.99, 36.31, 25.81, 18.33, 22.76, 41.19, 16.31, 38.6, 36.85, 16.46, 25.78, 32.34, 39.79, 17.63, 30.1, 24.78, 16.99, 44.01, 31.39, 41.25, 40.28, 24.12, 37.98, 13.95, 25.41, 23.65, 48.89, 49.88, 34.06, 47.2, 31.45, 18.31, 34.22, 27.33, 28.91, 24.44, 28.62, 18.64, 20.23, 29.13, 39.87, 35.9, 15.78, 35.12, 21.09, 30.69, 18.48, 91.72, 19.39, 22.51, 33.73, 38.79, 19.47, 36.66, 27.63, 24.81, 19.65, 26.93, 18.71, 23.18, 38.04, 22.07, 49.42, 36.78, 20.01, 33.59, 32.51, 22.1, 29.35, 18.72, 26.33, 26.64, 17.22, 35.91, 15.62, 23.59, 41.12, 18.75, 37.95, 37.61, 14.25, 36.03, 52.46, 63.27, 33.64, 27.04, 31.51, 51.75, 21.75, 24.62, 35.36, 48.21, 30.73, 31.79, 15.91, 36.21, 17.7, 20.73, 34.86, 32.86, 20.47, 24.91, 44.35, 33.8, 16.64, 35.49, 20.41, 31.71, 55.41, 33.6, 37.8, 16.73, 45.59, 23.94, 33.11, 25.2, 44.1, 35.99, 45.65, 16.88, 59.91, 17.38, 35.83, 29.14, 51.21, 75.01, 47.94, 19.73, 34.36, 33.98, 17.43, 21.71, 21.8, 45.49, 49.08, 32.72, 42.37, 18.39, 54.33, 46.48, 44.39, 37.55, 56.38, 31.6, 22.18, 40.17, 32.71, 24.61, 25.35, 34.37, 48.23, 55.75, 17.64, 34.84, 49.09, 28.78, 50.16, 17.36, 23.25, 32.31, 31.04, 25.76, 15.87, 34.53, 43.09, 18.85, 39.13, 32.37, 18.26, 52.38, 39.34, 36.29, 43.75, 38.2, 40.44, 41.27, 53.43, 28.95, 21.89, 68.35, 26.75, 39.31, 36.44, 54.93, 53.26, 42.38, 32.59, 39.75, 47.85, 16.27, 20.0, 49.38, 19.13, 24.86, 31.53, 46.21, 27.48, 26.71, 19.75, 49.16, 55.97, 40.6, 23.43, 19.27, 36.19, 14.08, 15.36, 27.97, 23.88, 41.02, 18.8, 16.69, 20.82, 35.3, 25.46, 44.21, 26.03, 28.57, 37.89, 45.7, 14.53, 47.61, 58.33, 29.08, 38.53, 38.94, 36.68, 27.53, 33.82, 29.71, 50.18, 44.59, 40.57, 20.38, 31.4, 42.98, 30.49, 42.82, 38.3, 23.42, 17.28, 29.69, 28.04, 24.77, 30.08, 12.5, 48.87, 41.93, 15.94, 14.88, 31.16, 85.1, 29.82, 37.78, 24.07, 20.62, 31.11, 26.84, 27.18, 46.03, 44.81, 28.51, 20.89, 29.5, 20.87, 27.0, 30.12, 40.85, 34.69, 46.34, 41.85, 49.43, 41.42, 43.03, 34.31, 35.01, 20.16, 14.77, 29.47, 40.9, 25.32, 58.58, 29.02, 27.75, 51.65, 33.26, 32.14, 22.77, 41.09, 52.89, 15.11, 23.1, 49.8, 20.66, 40.04, 43.01, 45.84, 29.83, 18.78, 50.0, 47.26, 22.2, 16.5, 32.81, 23.35, 29.0, 54.91, 37.4, 26.65, 34.08, 20.75, 28.55, 30.02, 30.4, 24.99, 44.85, 30.95, 19.15, 36.48, 36.76, 55.52, 16.18, 38.73, 28.22, 37.1, 29.98, 33.34, 15.17, 43.18, 14.5, 41.95, 34.38, 27.93, 45.48, 52.29, 19.68, 44.48, 20.45, 19.99, 32.46, 47.9, 27.16, 35.74, 41.15, 46.44, 17.17, 50.43, 57.57, 21.94, 18.84, 25.94, 21.96, 48.47, 48.37, 36.36, 28.52, 44.79, 43.84, 29.8, 17.49, 16.0, 19.91, 21.68, 67.58, 17.92, 20.31, 56.7, 34.51, 19.92, 16.14, 35.14, 29.92, 27.51, 30.25, 33.48, 34.07, 57.06, 24.48, 32.38, 49.87, 40.21, 18.42, 44.64, 29.39, 38.12, 46.06, 40.06, 19.25, 18.62, 53.21, 40.62, 46.69, 38.69, 94.66, 42.8, 42.31, 18.27, 48.12, 24.85, 37.44, 23.22, 45.89, 36.16, 33.1, 28.24, 12.69, 22.16, 53.8, 24.05, 47.5, 35.29, 22.48, 32.02, 17.07, 26.73, 24.64, 45.33, 66.94, 27.84, 41.14, 30.57, 29.19, 63.23, 17.19, 39.42, 61.33, 48.15, 33.4, 36.14, 71.74, 28.27, 33.57, 59.37, 32.39, 29.58, 26.62, 42.33, 40.25, 22.23, 34.61, 53.81, 47.55, 18.4, 19.3, 44.93, 16.74, 23.04, 44.4, 15.33, 30.24, 32.48, 36.17, 41.03, 31.2, 41.39, 34.99, 21.37, 41.76, 47.77, 39.56, 35.25, 45.76, 18.87, 37.28, 28.71, 46.09, 65.19, 43.24, 35.93, 16.65, 17.56, 31.9, 17.59, 74.59, 35.8, 50.22, 16.97, 17.68, 26.86, 36.47, 32.99, 22.02, 37.49, 37.37, 34.29, 57.59, 36.35, 43.07, 67.81, 30.91, 17.58, 35.69, 38.13, 21.38, 25.59, 41.7, 34.41, 16.6, 53.38, 16.56, 35.4, 20.63, 28.02, 18.19, 15.51, 31.94, 76.02, 65.23, 44.71, 41.48, 39.47, 39.27, 15.5, 39.22, 25.31, 17.11, 26.82, 28.4, 43.94, 30.05, 18.58, 23.37, 46.11, 49.34, 24.17, 51.37, 13.82, 24.42, 27.61, 40.09, 16.01, 22.19, 39.89, 40.79, 32.83, 43.6, 44.99, 18.49, 30.89, 29.34, 64.93, 50.03, 34.13, 27.58, 33.81, 22.01, 32.53, 15.76, 28.03, 15.69, 24.36, 16.07, 28.01, 15.45, 16.29, 22.21, 41.28, 39.17, 17.37, 34.55, 15.95, 50.59, 37.77, 25.71, 26.21, 20.74, 24.71, 33.87, 47.42, 47.92, 36.3, 46.0, 46.94, 17.16, 23.27, 23.14, 31.97, 15.6, 42.04, 21.88, 14.64, 20.04, 32.56, 13.29, 18.34, 20.76, 33.14, 16.76, 33.76, 35.11, 16.48, 12.48, 21.85, 35.97, 27.49, 41.94, 17.91, 35.13, 47.87, 50.64, 22.39, 15.04, 35.82, 49.92, 39.3, 32.54, 32.06, 34.92, 31.15, 52.9, 40.81, 17.77, 51.96, 41.77, 20.49, 42.63, 88.6, 42.93, 23.98, 48.55, 26.67, 24.49, 14.16, 44.94, 52.92, 38.22, 37.35, 50.51, 29.43, 34.93, 19.98, 13.53, 30.94, 30.39, 21.49, 36.25, 70.21, 43.16, 41.99, 42.48, 27.68, 34.9, 18.03, 20.11, 46.64, 28.3, 34.71, 22.54, 25.87, 41.21, 21.72, 42.32, 33.97, 50.62, 68.05, 33.55, 20.61, 34.56, 42.1, 41.54, 43.42, 46.32, 48.75, 43.76, 19.95, 40.67, 57.95, 19.52, 23.85, 52.14, 26.02, 48.92, 35.75, 38.17, 41.45, 25.95, 25.16, 30.88, 24.58, 58.52, 46.45, 35.48, 65.97, 16.06, 31.52, 25.45, 45.17, 27.35, 43.43, 19.29, 56.78, 18.9, 19.48, 17.27, 42.5, 14.65, 27.24, 45.0, 38.59, 18.41, 39.6, 41.38, 22.75, 32.41, 18.7, 22.74, 38.65, 43.65, 38.75, 37.75, 17.51, 19.42, 29.3, 92.73, 34.62, 36.43, 23.31, 39.37, 46.72, 18.61, 22.03, 24.25, 33.93, 46.53, 36.79, 34.73, 37.71, 53.04, 17.29, 29.73, 47.59, 33.15, 27.65, 47.12, 47.24, 31.48, 46.86, 20.24, 36.56, 19.1, 20.58, 21.6, 13.25, 39.18, 23.66, 29.55, 30.48, 21.01, 44.08, 41.51, 35.34, 26.98, 16.54, 25.72, 58.59, 17.23, 31.06, 29.81, 29.27, 22.95, 45.26, 46.29, 23.77, 22.79, 30.98, 38.98, 17.54, 16.98, 24.31, 17.83, 64.62, 29.89, 52.77, 55.68, 22.33, 16.62, 19.61, 33.9, 37.65, 34.81, 29.36, 74.25, 33.79, 24.74, 23.84, 22.34, 40.42, 36.33, 58.42, 40.11, 26.6, 20.64, 28.88, 45.75, 18.24, 40.43, 97.65, 44.16, 37.51, 15.98, 51.02, 44.06, 27.09, 80.23, 69.4, 57.92, 18.38, 23.32, 29.07, 23.7, 45.16, 43.7, 21.42, 36.91, 21.53, 41.55, 27.21, 16.13, 17.87, 18.94, 45.58, 23.55, 32.36, 40.64, 46.22, 37.24, 41.0, 43.08, 34.98, 41.1, 47.44, 54.25, 72.66, 20.59, 67.93, 50.21, 60.46, 44.2, 37.86, 28.93, 23.19, 25.21, 47.3, 22.44, 38.21, 31.37, 16.49, 48.69, 26.41, 39.23, 18.21, 44.34, 13.99, 39.03, 40.05, 35.18, 29.4, 29.28, 55.38, 41.98, 30.74, 43.45, 45.18, 53.92, 43.49, 14.14, 51.45, 25.93, 45.35, 39.49, 34.94, 40.75, 51.42, 33.78, 45.55, 40.27, 38.55, 42.9, 53.16, 51.33, 54.23, 15.55, 43.22, 52.26, 33.35, 56.96, 50.75, 18.53, 33.08, 48.78, 48.2, 20.77, 19.63, 41.47, 41.97, 41.44, 16.93, 38.86, 31.36, 28.85, 37.94, 39.9, 16.24, 49.32, 16.42, 42.69, 14.7, 43.93, 47.19, 57.33, 17.9, 17.26, 32.73, 17.57, 15.81, 46.77, 15.67, 15.77, 51.54, 41.73, 33.01, 44.32, 39.15, 38.54, 25.9, 26.55, 46.23, 39.82, 42.18, 41.9, 40.68, 37.03, 58.57, 19.88, 48.04, 35.5, 35.98, 50.11, 39.29, 60.36, 45.78, 41.23, 31.84, 39.62, 46.58, 34.5, 29.17, 32.6, 40.78, 24.4, 32.27, 36.95, 25.01, 30.03, 22.64, 38.58, 35.52, 31.77, 49.47, 59.63, 32.18, 51.15, 44.37, 30.09, 15.21, 44.73, 34.0, 21.76, 42.68, 31.59, 43.92, 18.36, 18.18, 49.81, 22.42, 18.69, 64.33, 51.56, 25.48, 36.88, 52.43, 42.74, 20.28, 40.88, 41.64, 30.5, 19.71, 22.25, 26.49, 32.85, 46.52, 24.7, 62.0, 54.79, 17.89, 39.67, 50.2, 49.72, 35.32, 59.66, 51.68, 19.06, 52.31, 45.57, 34.76, 15.96, 15.35, 44.77, 24.1, 17.13, 50.86, 48.54, 42.87, 14.98, 66.24, 46.16, 44.36, 34.78, 52.42, 40.55, 14.92, 40.0, 41.58, 42.62, 17.98, 40.91, 17.01, 41.69, 15.59, 36.41, 36.75, 45.6, 39.0, 25.26, 22.56, 39.99, 95.66, 60.84, 55.88, 38.42, 58.55, 24.04, 39.93, 56.58, 30.59, 37.13, 15.06, 45.32, 43.12, 37.7, 58.74, 13.0, 14.85, 27.85, 33.7, 39.77, 45.3, 79.71, 52.24, 49.02, 49.41, 62.76, 15.8, 55.96, 42.41, 64.54, 38.84, 57.13, 17.95, 65.1, 61.73, 54.42, 34.09, 19.23, 36.82, 49.62, 46.17, 42.23, 54.03, 19.12, 26.01, 47.29, 37.45, 83.2, 49.91, 37.47, 15.28, 45.05, 39.08, 43.11, 51.7, 50.34, 19.59, 27.08, 45.11, 43.38, 57.32, 48.45, 22.41, 30.44, 41.8, 53.98, 52.71, 65.54, 54.74, 58.64, 52.0, 32.79, 55.95, 26.51, 50.48, 27.11, 60.06, 65.0, 25.17, 24.47, 45.98, 60.67, 49.93, 21.57, 48.35, 22.06, 46.68, 42.09, 45.68, 63.79, 19.07, 40.13, 24.06, 29.9, 15.79, 39.19, 56.87, 18.09, 38.71, 37.87, 49.18, 61.64, 33.37, 53.9, 14.35, 54.55, 28.56, 44.25, 12.75, 40.32, 37.69, 39.2, 46.31, 55.8, 20.68, 44.97, 45.53, 32.75, 29.11, 32.13, 50.5, 33.86, 58.32, 41.78, 38.36, 39.74, 30.75, 20.91, 43.81, 24.84, 37.43, 49.1, 22.37, 50.69, 37.54, 32.35, 53.72, 37.52, 45.23, 41.34, 30.31, 80.71, 51.6, 54.68, 16.43, 21.23, 47.14, 19.03, 17.25, 47.05, 58.54, 50.13, 30.76, 39.5, 39.28, 38.34, 49.5, 44.91, 20.57, 55.79, 96.2, 53.85, 37.57, 52.91, 61.57, 64.57, 33.68, 24.23, 34.79, 53.32, 31.67, 51.81, 24.6, 25.57, 46.98, 46.4, 49.26, 42.2, 15.2, 20.4, 16.12, 22.72, 20.27, 15.88, 42.99, 45.43, 22.36, 27.54, 51.77, 33.32, 30.26, 47.06, 23.2, 47.74, 57.78, 42.96, 14.23, 52.34, 14.81, 22.98, 32.67, 15.01, 28.42, 26.9, 15.75, 49.07, 55.99, 13.56, 67.79, 58.19, 13.1, 62.01, 14.61, 12.78, 33.02, 28.16, 35.06, 19.16, 74.13, 18.73, 16.28, 12.87, 16.3, 36.09, 13.31, 46.67, 34.74, 40.76, 73.22, 16.4, 57.5, 54.78, 38.38, 45.44, 44.53, 46.78, 64.2, 53.58, 41.71, 47.78, 64.42, 58.73, 50.84, 60.42, 48.07, 46.36, 54.64, 44.78, 45.47, 51.36, 39.61, 42.89, 29.97, 60.77, 18.1, 61.51, 64.02, 75.17, 42.14, 16.55, 44.26, 20.29, 14.95, 53.96, 55.09, 45.1, 50.49, 35.04, 45.34, 25.12, 18.93, 52.12, 20.32, 38.06, 64.37, 57.04, 44.95, 31.86, 45.54, 52.37, 40.96, 43.35, 37.36, 38.88, 32.9, 24.73, 29.77, 41.68, 46.26, 43.25, 38.16, 50.98, 29.75, 50.85, 25.27, 29.25, 46.79, 37.72, 39.88, 35.76, 61.66, 17.04, 13.81, 26.35, 36.69, 21.19, 20.56, 16.86, 23.68, 42.76, 25.44, 39.55, 40.23, 51.58, 54.39, 38.47, 46.05, 45.66, 59.52, 14.17, 41.52, 13.72, 12.91, 13.73, 55.55, 51.84, 31.33, 52.49, 27.3, 21.5, 45.62, 32.65, 41.36, 54.08, 53.82, 39.25, 51.09, 44.72, 38.48, 22.94, 43.1, 40.97, 59.56, 45.52, 46.96, 47.21, 41.4, 62.19, 68.66, 48.76, 52.75, 56.54, 51.59, 68.87, 27.14, 41.92, 43.62, 65.78, 58.88, 29.59, 64.16, 14.24, 28.58, 40.92, 49.3, 40.83, 41.32, 50.9, 51.03, 53.61, 31.43, 52.18, 29.06, 60.59, 68.77, 29.46, 45.24, 56.85, 47.37, 45.37, 20.33, 56.15, 62.57, 63.65, 26.81, 53.56, 42.45, 48.1, 55.66, 32.52, 27.13, 51.93, 62.65, 58.41, 15.38, 47.08, 26.53, 17.86, 75.38, 67.31, 46.46, 40.16, 39.72, 57.64, 51.08, 22.12, 52.52, 46.25, 44.49, 42.21, 74.93, 46.93, 42.55, 40.31, 56.25, 47.93, 54.07, 20.71, 45.25, 46.65, 57.11, 43.78, 19.6, 50.46, 29.32, 19.93, 25.49, 28.83, 46.84, 48.01, 23.54, 57.17, 42.34, 32.66, 42.75, 36.5, 81.37, 64.56, 16.44, 42.12, 19.38, 30.97, 59.24, 52.66, 54.76, 27.45, 61.3, 55.23, 48.9, 17.96, 72.06, 51.39, 17.74, 32.8, 48.59, 62.14, 42.26, 45.14, 15.48, 21.51, 63.77, 45.93, 16.79, 46.66, 36.64, 45.06, 59.34, 53.55, 85.8, 58.53, 59.73, 17.65, 68.32, 44.46, 58.02, 19.72, 43.74, 54.97, 28.36, 43.88, 45.87, 54.53, 17.31, 52.3, 59.57, 65.56, 41.87, 44.45, 38.49, 37.07, 60.58, 23.76, 40.94, 41.75, 72.93, 53.71, 32.25, 40.73, 38.91, 69.94, 52.5, 63.51, 51.19, 49.57, 79.41, 43.55, 45.46, 41.82, 51.72, 69.23, 51.2, 54.05, 71.27, 67.41, 51.25, 14.59, 16.87, 76.33, 13.85, 75.37, 63.86, 31.5, 43.48, 58.76, 40.02, 52.95, 50.95, 50.36, 19.35, 46.07, 53.59, 14.69, 15.02, 40.56, 47.76, 62.37, 34.82, 48.88, 17.42, 53.67, 43.87, 47.67, 50.39, 18.82, 47.01, 47.45, 50.29, 13.75, 31.27, 53.88, 39.43, 58.46, 66.56, 55.27, 53.7, 40.82, 59.97, 42.86, 55.25, 18.12, 44.55, 57.02, 14.45, 35.37, 60.62, 33.56, 38.63, 61.11, 63.85, 38.66, 50.68, 48.68, 56.31, 15.22, 14.2, 53.52, 35.1, 68.96, 15.31, 62.5, 74.96, 47.23, 43.86, 18.22, 53.75, 82.77, 62.48, 17.45, 59.72, 60.15, 44.62, 15.19, 39.01, 43.51, 16.16, 43.23, 59.13, 44.84, 38.9, 40.7, 16.32, 54.57, 20.17, 48.43, 40.8, 14.0, 59.83, 49.03, 37.34, 28.14, 42.59, 18.2, 21.36, 61.71, 40.99, 30.78, 49.75, 26.23, 56.33, 14.44, 52.35, 38.78, 55.29, 66.18, 46.63, 28.47, 44.66, 24.38, 70.86, 40.07, 32.29, 42.53, 44.47, 40.22, 36.98, 31.76, 38.31, 31.08, 36.01, 42.16, 20.21, 22.58, 61.09, 52.44, 52.21, 78.83, 32.21, 47.49, 66.7, 34.6, 49.2, 46.35, 72.83, 60.25, 49.37, 73.89, 39.92, 42.84, 16.94, 33.74, 54.29, 20.84, 54.38, 31.98, 44.02, 51.85, 78.88, 41.62, 36.46, 19.43, 66.46, 15.43, 48.29, 64.58, 56.26, 73.18, 15.57, 48.32, 74.38, 15.73, 73.3, 53.07, 14.93, 55.35, 72.26, 12.16, 12.4, 60.98, 58.05, 12.55, 16.51, 35.59, 70.48, 46.92, 46.1, 48.34, 50.92, 39.59, 55.04, 31.34, 42.3, 14.12, 47.89, 44.22, 54.58, 14.48, 56.82, 12.77, 77.72, 44.42, 54.69, 63.83, 54.89, 44.7, 51.87, 42.73, 14.82, 43.52, 43.72, 23.95, 70.38, 59.41, 16.1, 14.84, 18.51, 50.26, 61.58, 51.94, 55.11, 61.37, 43.71, 43.79, 30.37, 28.92, 54.88, 53.01, 21.66, 13.11, 37.84, 49.51, 82.31, 54.75, 42.24, 58.77, 44.17, 41.65, 33.24, 50.81, 67.64, 52.15, 13.64, 16.15, 27.42, 29.22, 50.91, 64.9, 25.14, 47.0, 55.78, 43.19, 14.76, 18.23, 60.4, 55.17, 70.12, 75.74, 16.05, 55.61, 18.0, 54.04, 50.79, 49.71, 61.23, 47.03, 54.32, 48.5, 73.15, 59.74, 35.89, 47.96, 73.69, 72.31, 32.97, 40.12, 57.67, 46.97, 44.15, 48.62, 60.23, 18.5, 64.23, 50.63, 12.83, 64.12, 14.49, 58.63, 35.05, 45.01, 52.79, 62.34, 60.86, 59.27, 60.53, 37.19, 59.78, 50.33, 15.15, 25.05, 16.41, 23.07, 63.73, 25.03, 52.61, 13.87, 56.44, 66.95, 61.08, 59.06, 47.02, 60.74, 34.63, 21.0, 60.14, 54.41, 47.6, 67.66, 48.08, 44.44, 29.96, 17.09, 33.06, 57.87, 38.87, 14.18, 51.32, 52.87, 40.53, 69.26, 48.58, 48.86, 55.74, 20.86, 33.53, 43.8, 77.68, 41.43, 49.48, 44.87, 42.7, 33.46, 70.0, 26.24, 59.67, 73.24, 15.3, 19.09, 12.36, 26.48, 33.04, 28.99, 14.54, 62.95, 63.5, 56.55, 65.58, 13.84, 43.47, 59.3, 34.1, 75.05, 57.08, 48.36, 15.83, 46.3, 36.27, 35.66, 77.29, 78.47, 12.84, 34.43, 41.86, 14.36, 35.42, 28.38, 29.51, 18.45, 67.39, 56.2, 16.72, 62.9, 43.89, 44.19, 21.55, 56.36, 19.5, 21.78, 20.96, 87.53, 44.89, 64.3, 16.37, 12.88, 15.05, 38.46, 44.33, 45.77, 30.14, 24.32, 22.91, 17.02, 20.13, 34.88, 59.44, 52.25, 23.64, 24.92, 69.12, 19.32, 52.56, 42.42, 27.66, 44.8, 48.02, 30.32, 20.35, 61.5, 60.65, 52.57, 13.16, 29.78, 60.11, 27.7, 25.3, 55.19, 12.92, 48.56, 60.93, 58.82, 27.83, 41.59, 32.4, 15.12, 57.25, 69.5, 60.82, 56.05, 50.53, 66.51, 69.33, 51.55, 60.19, 49.39, 36.04, 65.57, 64.07, 49.89, 43.21, 12.02, 48.4, 78.31, 64.24, 52.11, 57.86, 13.76, 49.49, 57.18, 41.18, 49.24, 82.7, 52.51, 62.91, 49.61, 35.23, 78.04, 13.34, 57.94, 44.52, 48.74, 49.94, 56.13, 61.45, 52.68, 62.7, 47.64, 60.1, 55.76, 49.28, 76.05, 45.85, 18.04, 53.46, 61.12, 57.97, 61.29, 47.84, 61.82, 49.65, 52.72, 26.59, 35.27, 65.84, 69.54, 15.9, 68.23, 49.25, 54.5, 40.58, 32.3, 40.86, 54.72, 28.11, 41.46, 54.52, 71.13, 57.63, 16.8, 73.81, 46.38, 76.75, 79.74, 23.61, 13.19, 50.42, 57.61, 71.56, 53.36, 33.21, 61.6, 84.04, 42.11, 48.65, 30.93, 50.83, 56.07, 37.18, 30.84, 17.32, 16.36, 54.73, 37.04, 36.23, 63.3, 57.79, 60.48, 23.9, 32.47, 55.07, 58.89, 52.93, 12.11, 54.34, 12.98, 43.0, 45.12, 64.65, 41.3, 63.43, 55.44, 44.03, 72.63, 52.47, 76.29, 67.35, 56.86, 51.5, 15.23, 83.22, 55.36, 50.71, 16.81, 54.24, 45.36, 60.09, 15.07, 58.43, 54.14, 48.09, 40.5, 19.45, 42.35, 50.77, 45.71, 75.86, 35.65, 53.51, 13.66, 18.28, 60.61, 50.25, 52.78, 50.58, 60.3, 61.27, 97.43, 49.17, 49.59, 43.5, 45.56, 60.85, 52.07, 25.6, 53.12, 50.14, 35.16, 15.1, 74.06, 39.07, 44.0, 71.8, 57.6, 42.15, 43.37, 57.62, 54.94, 19.86, 46.49, 27.56, 52.64, 24.76, 35.84, 52.53, 31.81, 17.52, 14.62, 15.58, 64.21, 50.35, 50.19, 88.46, 73.85, 80.7, 65.38, 61.41, 25.47, 54.43, 92.01, 49.69, 40.95, 28.44, 29.74, 17.69, 67.1, 43.61, 53.57, 53.48, 19.96, 16.66, 73.19, 12.05, 64.83, 66.43, 58.4, 48.49, 13.63, 44.07, 79.36, 12.44, 43.06, 16.63, 56.17, 55.2, 51.9, 48.18, 44.5, 17.46, 13.78, 13.47, 18.68, 53.77, 73.16, 14.29, 44.74, 56.99, 59.51, 39.21, 77.94, 80.28, 83.45, 15.64, 19.04, 37.83, 43.39, 20.65, 35.2, 58.97, 51.73, 69.2, 13.24, 46.76, 55.85, 39.97, 14.8, 50.06, 47.09, 62.67, 82.28, 26.2, 58.71, 49.96, 83.1, 47.11, 38.5, 41.83, 65.48, 69.74, 88.77, 46.82, 12.34, 60.04, 42.36, 69.35, 39.91, 53.73, 61.28, 59.33, 46.5, 72.98, 51.3, 23.36, 51.17, 57.91, 15.68, 17.21, 72.05, 41.67, 63.12, 59.55, 44.68, 13.68, 57.42, 40.66, 28.33, 46.61, 72.95, 34.89, 50.93, 12.27, 58.98, 52.94, 56.73, 55.1, 48.25, 19.34, 41.29, 82.22, 15.42, 66.26, 59.2, 38.56, 48.03, 15.37, 18.35, 59.8, 69.89, 31.56, 62.28, 57.43, 85.04, 60.69, 28.96, 59.22, 34.32, 42.47, 43.68, 33.85, 62.88, 30.2, 54.2, 85.69, 32.07, 49.79, 21.07, 16.77, 66.76, 38.8, 58.95, 45.28]\n",
            "AlcoholDrinkers: [0, 1]\n",
            "HIVTesting: [0, 1]\n",
            "FluVaxLast12: [1, 0]\n",
            "PneumoVaxEver: [1, 0]\n",
            "TetanusLast10Tdap: [1, 2, 0, 3]\n",
            "HighRiskLastYear: [0, 1]\n",
            "CovidPos: [0, 2, 1]\n"
          ]
        }
      ]
    },
    {
      "cell_type": "code",
      "source": [
        "import numpy as np\n",
        "import seaborn as sns\n",
        "import matplotlib.pyplot as plt\n",
        "from sklearn.metrics import accuracy_score, f1_score"
      ],
      "metadata": {
        "id": "KWHOWu29XdK5"
      },
      "execution_count": null,
      "outputs": []
    },
    {
      "cell_type": "code",
      "source": [
        "X = heart_data[all_columns]\n",
        "y = heart_data[target]\n",
        "X_train, X_test, y_train, y_test = train_test_split(X, y, test_size=0.2, random_state=42)\n",
        "lg = LogisticRegression()\n",
        "lg.fit(X_train, y_train)\n",
        "y_pred = lg.predict(X_test)\n",
        "accuracy_score(y_test, y_pred)"
      ],
      "metadata": {
        "colab": {
          "base_uri": "https://localhost:8080/"
        },
        "id": "z_Sagf_hXdNQ",
        "outputId": "5b863238-f4df-4350-884e-9b0c028a0069"
      },
      "execution_count": null,
      "outputs": [
        {
          "output_type": "stream",
          "name": "stderr",
          "text": [
            "/usr/local/lib/python3.10/dist-packages/sklearn/linear_model/_logistic.py:458: ConvergenceWarning: lbfgs failed to converge (status=1):\n",
            "STOP: TOTAL NO. of ITERATIONS REACHED LIMIT.\n",
            "\n",
            "Increase the number of iterations (max_iter) or scale the data as shown in:\n",
            "    https://scikit-learn.org/stable/modules/preprocessing.html\n",
            "Please also refer to the documentation for alternative solver options:\n",
            "    https://scikit-learn.org/stable/modules/linear_model.html#logistic-regression\n",
            "  n_iter_i = _check_optimize_result(\n"
          ]
        },
        {
          "output_type": "execute_result",
          "data": {
            "text/plain": [
              "0.948135352098364"
            ]
          },
          "metadata": {},
          "execution_count": 19
        }
      ]
    },
    {
      "cell_type": "code",
      "source": [
        "from sklearn.metrics import classification_report\n",
        "\n",
        "print(classification_report(y_test, y_pred))"
      ],
      "metadata": {
        "colab": {
          "base_uri": "https://localhost:8080/"
        },
        "id": "3X-e3jLVbTf8",
        "outputId": "d409c2cb-240f-4b61-c807-93131f420e08"
      },
      "execution_count": null,
      "outputs": [
        {
          "output_type": "stream",
          "name": "stdout",
          "text": [
            "              precision    recall  f1-score   support\n",
            "\n",
            "           0       0.96      0.99      0.97     46573\n",
            "           1       0.53      0.24      0.33      2632\n",
            "\n",
            "    accuracy                           0.95     49205\n",
            "   macro avg       0.75      0.61      0.65     49205\n",
            "weighted avg       0.94      0.95      0.94     49205\n",
            "\n"
          ]
        }
      ]
    },
    {
      "cell_type": "code",
      "source": [
        "coefficients = lg.coef_[0]\n",
        "feature_importance = np.abs(coefficients)\n",
        "\n",
        "importance = pd.DataFrame({\n",
        "    'Feature': X.columns,\n",
        "    'Coefficient': coefficients,\n",
        "    'Importance': feature_importance\n",
        "})\n",
        "\n",
        "importance = importance.sort_values(by='Importance', ascending=False)"
      ],
      "metadata": {
        "id": "5sdpRfUGzNoK"
      },
      "execution_count": null,
      "outputs": []
    },
    {
      "cell_type": "code",
      "source": [
        "importance"
      ],
      "metadata": {
        "colab": {
          "base_uri": "https://localhost:8080/",
          "height": 1000
        },
        "id": "1ZYF2ZEHzyNQ",
        "outputId": "fdf48be4-4914-4a8b-bec3-1aba0fc07961"
      },
      "execution_count": null,
      "outputs": [
        {
          "output_type": "execute_result",
          "data": {
            "text/plain": [
              "                      Feature  Coefficient  Importance\n",
              "9                   HadAngina     2.486774    2.486774\n",
              "26                  ChestScan     0.781615    0.781615\n",
              "29             HeightInMeters    -0.780024    0.780024\n",
              "10                  HadStroke     0.675792    0.675792\n",
              "1                         Sex     0.508067    0.508067\n",
              "32            AlcoholDrinkers    -0.395502    0.395502\n",
              "6          PhysicalActivities    -0.383399    0.383399\n",
              "21          DifficultyWalking     0.273084    0.273084\n",
              "35              PneumoVaxEver     0.245766    0.245766\n",
              "15           HadKidneyDisease     0.241308    0.241308\n",
              "13                    HadCOPD     0.234399    0.234399\n",
              "17                HadDiabetes     0.223421    0.223421\n",
              "25            ECigaretteUsage    -0.219622    0.219622\n",
              "24               SmokerStatus    -0.195155    0.195155\n",
              "18        DeafOrHardOfHearing     0.194915    0.194915\n",
              "16               HadArthritis     0.174479    0.174479\n",
              "5             LastCheckupTime    -0.133747    0.133747\n",
              "19    BlindOrVisionDifficulty     0.132257    0.132257\n",
              "33                 HIVTesting    -0.127803    0.127803\n",
              "23          DifficultyErrands     0.096876    0.096876\n",
              "8                RemovedTeeth    -0.095259    0.095259\n",
              "28                AgeCategory     0.081929    0.081929\n",
              "7                  SleepHours    -0.074921    0.074921\n",
              "2               GeneralHealth    -0.074562    0.074562\n",
              "34               FluVaxLast12    -0.073783    0.073783\n",
              "27      RaceEthnicityCategory    -0.072525    0.072525\n",
              "20    DifficultyConcentrating     0.072025    0.072025\n",
              "31                        BMI    -0.063750    0.063750\n",
              "22  DifficultyDressingBathing     0.053187    0.053187\n",
              "11                  HadAsthma     0.049484    0.049484\n",
              "37           HighRiskLastYear    -0.045528    0.045528\n",
              "36          TetanusLast10Tdap    -0.035559    0.035559\n",
              "12              HadSkinCancer     0.035201    0.035201\n",
              "14      HadDepressiveDisorder     0.021109    0.021109\n",
              "38                   CovidPos    -0.013437    0.013437\n",
              "30          WeightInKilograms     0.011394    0.011394\n",
              "0                       State    -0.003121    0.003121\n",
              "3          PhysicalHealthDays    -0.002442    0.002442\n",
              "4            MentalHealthDays     0.002055    0.002055"
            ],
            "text/html": [
              "\n",
              "  <div id=\"df-fbac0e87-ad60-4ff9-8d29-a529c8e45614\" class=\"colab-df-container\">\n",
              "    <div>\n",
              "<style scoped>\n",
              "    .dataframe tbody tr th:only-of-type {\n",
              "        vertical-align: middle;\n",
              "    }\n",
              "\n",
              "    .dataframe tbody tr th {\n",
              "        vertical-align: top;\n",
              "    }\n",
              "\n",
              "    .dataframe thead th {\n",
              "        text-align: right;\n",
              "    }\n",
              "</style>\n",
              "<table border=\"1\" class=\"dataframe\">\n",
              "  <thead>\n",
              "    <tr style=\"text-align: right;\">\n",
              "      <th></th>\n",
              "      <th>Feature</th>\n",
              "      <th>Coefficient</th>\n",
              "      <th>Importance</th>\n",
              "    </tr>\n",
              "  </thead>\n",
              "  <tbody>\n",
              "    <tr>\n",
              "      <th>9</th>\n",
              "      <td>HadAngina</td>\n",
              "      <td>2.486774</td>\n",
              "      <td>2.486774</td>\n",
              "    </tr>\n",
              "    <tr>\n",
              "      <th>26</th>\n",
              "      <td>ChestScan</td>\n",
              "      <td>0.781615</td>\n",
              "      <td>0.781615</td>\n",
              "    </tr>\n",
              "    <tr>\n",
              "      <th>29</th>\n",
              "      <td>HeightInMeters</td>\n",
              "      <td>-0.780024</td>\n",
              "      <td>0.780024</td>\n",
              "    </tr>\n",
              "    <tr>\n",
              "      <th>10</th>\n",
              "      <td>HadStroke</td>\n",
              "      <td>0.675792</td>\n",
              "      <td>0.675792</td>\n",
              "    </tr>\n",
              "    <tr>\n",
              "      <th>1</th>\n",
              "      <td>Sex</td>\n",
              "      <td>0.508067</td>\n",
              "      <td>0.508067</td>\n",
              "    </tr>\n",
              "    <tr>\n",
              "      <th>32</th>\n",
              "      <td>AlcoholDrinkers</td>\n",
              "      <td>-0.395502</td>\n",
              "      <td>0.395502</td>\n",
              "    </tr>\n",
              "    <tr>\n",
              "      <th>6</th>\n",
              "      <td>PhysicalActivities</td>\n",
              "      <td>-0.383399</td>\n",
              "      <td>0.383399</td>\n",
              "    </tr>\n",
              "    <tr>\n",
              "      <th>21</th>\n",
              "      <td>DifficultyWalking</td>\n",
              "      <td>0.273084</td>\n",
              "      <td>0.273084</td>\n",
              "    </tr>\n",
              "    <tr>\n",
              "      <th>35</th>\n",
              "      <td>PneumoVaxEver</td>\n",
              "      <td>0.245766</td>\n",
              "      <td>0.245766</td>\n",
              "    </tr>\n",
              "    <tr>\n",
              "      <th>15</th>\n",
              "      <td>HadKidneyDisease</td>\n",
              "      <td>0.241308</td>\n",
              "      <td>0.241308</td>\n",
              "    </tr>\n",
              "    <tr>\n",
              "      <th>13</th>\n",
              "      <td>HadCOPD</td>\n",
              "      <td>0.234399</td>\n",
              "      <td>0.234399</td>\n",
              "    </tr>\n",
              "    <tr>\n",
              "      <th>17</th>\n",
              "      <td>HadDiabetes</td>\n",
              "      <td>0.223421</td>\n",
              "      <td>0.223421</td>\n",
              "    </tr>\n",
              "    <tr>\n",
              "      <th>25</th>\n",
              "      <td>ECigaretteUsage</td>\n",
              "      <td>-0.219622</td>\n",
              "      <td>0.219622</td>\n",
              "    </tr>\n",
              "    <tr>\n",
              "      <th>24</th>\n",
              "      <td>SmokerStatus</td>\n",
              "      <td>-0.195155</td>\n",
              "      <td>0.195155</td>\n",
              "    </tr>\n",
              "    <tr>\n",
              "      <th>18</th>\n",
              "      <td>DeafOrHardOfHearing</td>\n",
              "      <td>0.194915</td>\n",
              "      <td>0.194915</td>\n",
              "    </tr>\n",
              "    <tr>\n",
              "      <th>16</th>\n",
              "      <td>HadArthritis</td>\n",
              "      <td>0.174479</td>\n",
              "      <td>0.174479</td>\n",
              "    </tr>\n",
              "    <tr>\n",
              "      <th>5</th>\n",
              "      <td>LastCheckupTime</td>\n",
              "      <td>-0.133747</td>\n",
              "      <td>0.133747</td>\n",
              "    </tr>\n",
              "    <tr>\n",
              "      <th>19</th>\n",
              "      <td>BlindOrVisionDifficulty</td>\n",
              "      <td>0.132257</td>\n",
              "      <td>0.132257</td>\n",
              "    </tr>\n",
              "    <tr>\n",
              "      <th>33</th>\n",
              "      <td>HIVTesting</td>\n",
              "      <td>-0.127803</td>\n",
              "      <td>0.127803</td>\n",
              "    </tr>\n",
              "    <tr>\n",
              "      <th>23</th>\n",
              "      <td>DifficultyErrands</td>\n",
              "      <td>0.096876</td>\n",
              "      <td>0.096876</td>\n",
              "    </tr>\n",
              "    <tr>\n",
              "      <th>8</th>\n",
              "      <td>RemovedTeeth</td>\n",
              "      <td>-0.095259</td>\n",
              "      <td>0.095259</td>\n",
              "    </tr>\n",
              "    <tr>\n",
              "      <th>28</th>\n",
              "      <td>AgeCategory</td>\n",
              "      <td>0.081929</td>\n",
              "      <td>0.081929</td>\n",
              "    </tr>\n",
              "    <tr>\n",
              "      <th>7</th>\n",
              "      <td>SleepHours</td>\n",
              "      <td>-0.074921</td>\n",
              "      <td>0.074921</td>\n",
              "    </tr>\n",
              "    <tr>\n",
              "      <th>2</th>\n",
              "      <td>GeneralHealth</td>\n",
              "      <td>-0.074562</td>\n",
              "      <td>0.074562</td>\n",
              "    </tr>\n",
              "    <tr>\n",
              "      <th>34</th>\n",
              "      <td>FluVaxLast12</td>\n",
              "      <td>-0.073783</td>\n",
              "      <td>0.073783</td>\n",
              "    </tr>\n",
              "    <tr>\n",
              "      <th>27</th>\n",
              "      <td>RaceEthnicityCategory</td>\n",
              "      <td>-0.072525</td>\n",
              "      <td>0.072525</td>\n",
              "    </tr>\n",
              "    <tr>\n",
              "      <th>20</th>\n",
              "      <td>DifficultyConcentrating</td>\n",
              "      <td>0.072025</td>\n",
              "      <td>0.072025</td>\n",
              "    </tr>\n",
              "    <tr>\n",
              "      <th>31</th>\n",
              "      <td>BMI</td>\n",
              "      <td>-0.063750</td>\n",
              "      <td>0.063750</td>\n",
              "    </tr>\n",
              "    <tr>\n",
              "      <th>22</th>\n",
              "      <td>DifficultyDressingBathing</td>\n",
              "      <td>0.053187</td>\n",
              "      <td>0.053187</td>\n",
              "    </tr>\n",
              "    <tr>\n",
              "      <th>11</th>\n",
              "      <td>HadAsthma</td>\n",
              "      <td>0.049484</td>\n",
              "      <td>0.049484</td>\n",
              "    </tr>\n",
              "    <tr>\n",
              "      <th>37</th>\n",
              "      <td>HighRiskLastYear</td>\n",
              "      <td>-0.045528</td>\n",
              "      <td>0.045528</td>\n",
              "    </tr>\n",
              "    <tr>\n",
              "      <th>36</th>\n",
              "      <td>TetanusLast10Tdap</td>\n",
              "      <td>-0.035559</td>\n",
              "      <td>0.035559</td>\n",
              "    </tr>\n",
              "    <tr>\n",
              "      <th>12</th>\n",
              "      <td>HadSkinCancer</td>\n",
              "      <td>0.035201</td>\n",
              "      <td>0.035201</td>\n",
              "    </tr>\n",
              "    <tr>\n",
              "      <th>14</th>\n",
              "      <td>HadDepressiveDisorder</td>\n",
              "      <td>0.021109</td>\n",
              "      <td>0.021109</td>\n",
              "    </tr>\n",
              "    <tr>\n",
              "      <th>38</th>\n",
              "      <td>CovidPos</td>\n",
              "      <td>-0.013437</td>\n",
              "      <td>0.013437</td>\n",
              "    </tr>\n",
              "    <tr>\n",
              "      <th>30</th>\n",
              "      <td>WeightInKilograms</td>\n",
              "      <td>0.011394</td>\n",
              "      <td>0.011394</td>\n",
              "    </tr>\n",
              "    <tr>\n",
              "      <th>0</th>\n",
              "      <td>State</td>\n",
              "      <td>-0.003121</td>\n",
              "      <td>0.003121</td>\n",
              "    </tr>\n",
              "    <tr>\n",
              "      <th>3</th>\n",
              "      <td>PhysicalHealthDays</td>\n",
              "      <td>-0.002442</td>\n",
              "      <td>0.002442</td>\n",
              "    </tr>\n",
              "    <tr>\n",
              "      <th>4</th>\n",
              "      <td>MentalHealthDays</td>\n",
              "      <td>0.002055</td>\n",
              "      <td>0.002055</td>\n",
              "    </tr>\n",
              "  </tbody>\n",
              "</table>\n",
              "</div>\n",
              "    <div class=\"colab-df-buttons\">\n",
              "\n",
              "  <div class=\"colab-df-container\">\n",
              "    <button class=\"colab-df-convert\" onclick=\"convertToInteractive('df-fbac0e87-ad60-4ff9-8d29-a529c8e45614')\"\n",
              "            title=\"Convert this dataframe to an interactive table.\"\n",
              "            style=\"display:none;\">\n",
              "\n",
              "  <svg xmlns=\"http://www.w3.org/2000/svg\" height=\"24px\" viewBox=\"0 -960 960 960\">\n",
              "    <path d=\"M120-120v-720h720v720H120Zm60-500h600v-160H180v160Zm220 220h160v-160H400v160Zm0 220h160v-160H400v160ZM180-400h160v-160H180v160Zm440 0h160v-160H620v160ZM180-180h160v-160H180v160Zm440 0h160v-160H620v160Z\"/>\n",
              "  </svg>\n",
              "    </button>\n",
              "\n",
              "  <style>\n",
              "    .colab-df-container {\n",
              "      display:flex;\n",
              "      gap: 12px;\n",
              "    }\n",
              "\n",
              "    .colab-df-convert {\n",
              "      background-color: #E8F0FE;\n",
              "      border: none;\n",
              "      border-radius: 50%;\n",
              "      cursor: pointer;\n",
              "      display: none;\n",
              "      fill: #1967D2;\n",
              "      height: 32px;\n",
              "      padding: 0 0 0 0;\n",
              "      width: 32px;\n",
              "    }\n",
              "\n",
              "    .colab-df-convert:hover {\n",
              "      background-color: #E2EBFA;\n",
              "      box-shadow: 0px 1px 2px rgba(60, 64, 67, 0.3), 0px 1px 3px 1px rgba(60, 64, 67, 0.15);\n",
              "      fill: #174EA6;\n",
              "    }\n",
              "\n",
              "    .colab-df-buttons div {\n",
              "      margin-bottom: 4px;\n",
              "    }\n",
              "\n",
              "    [theme=dark] .colab-df-convert {\n",
              "      background-color: #3B4455;\n",
              "      fill: #D2E3FC;\n",
              "    }\n",
              "\n",
              "    [theme=dark] .colab-df-convert:hover {\n",
              "      background-color: #434B5C;\n",
              "      box-shadow: 0px 1px 3px 1px rgba(0, 0, 0, 0.15);\n",
              "      filter: drop-shadow(0px 1px 2px rgba(0, 0, 0, 0.3));\n",
              "      fill: #FFFFFF;\n",
              "    }\n",
              "  </style>\n",
              "\n",
              "    <script>\n",
              "      const buttonEl =\n",
              "        document.querySelector('#df-fbac0e87-ad60-4ff9-8d29-a529c8e45614 button.colab-df-convert');\n",
              "      buttonEl.style.display =\n",
              "        google.colab.kernel.accessAllowed ? 'block' : 'none';\n",
              "\n",
              "      async function convertToInteractive(key) {\n",
              "        const element = document.querySelector('#df-fbac0e87-ad60-4ff9-8d29-a529c8e45614');\n",
              "        const dataTable =\n",
              "          await google.colab.kernel.invokeFunction('convertToInteractive',\n",
              "                                                    [key], {});\n",
              "        if (!dataTable) return;\n",
              "\n",
              "        const docLinkHtml = 'Like what you see? Visit the ' +\n",
              "          '<a target=\"_blank\" href=https://colab.research.google.com/notebooks/data_table.ipynb>data table notebook</a>'\n",
              "          + ' to learn more about interactive tables.';\n",
              "        element.innerHTML = '';\n",
              "        dataTable['output_type'] = 'display_data';\n",
              "        await google.colab.output.renderOutput(dataTable, element);\n",
              "        const docLink = document.createElement('div');\n",
              "        docLink.innerHTML = docLinkHtml;\n",
              "        element.appendChild(docLink);\n",
              "      }\n",
              "    </script>\n",
              "  </div>\n",
              "\n",
              "\n",
              "<div id=\"df-2cee07b9-89cd-4558-a9de-ec6e0e507d91\">\n",
              "  <button class=\"colab-df-quickchart\" onclick=\"quickchart('df-2cee07b9-89cd-4558-a9de-ec6e0e507d91')\"\n",
              "            title=\"Suggest charts\"\n",
              "            style=\"display:none;\">\n",
              "\n",
              "<svg xmlns=\"http://www.w3.org/2000/svg\" height=\"24px\"viewBox=\"0 0 24 24\"\n",
              "     width=\"24px\">\n",
              "    <g>\n",
              "        <path d=\"M19 3H5c-1.1 0-2 .9-2 2v14c0 1.1.9 2 2 2h14c1.1 0 2-.9 2-2V5c0-1.1-.9-2-2-2zM9 17H7v-7h2v7zm4 0h-2V7h2v10zm4 0h-2v-4h2v4z\"/>\n",
              "    </g>\n",
              "</svg>\n",
              "  </button>\n",
              "\n",
              "<style>\n",
              "  .colab-df-quickchart {\n",
              "      --bg-color: #E8F0FE;\n",
              "      --fill-color: #1967D2;\n",
              "      --hover-bg-color: #E2EBFA;\n",
              "      --hover-fill-color: #174EA6;\n",
              "      --disabled-fill-color: #AAA;\n",
              "      --disabled-bg-color: #DDD;\n",
              "  }\n",
              "\n",
              "  [theme=dark] .colab-df-quickchart {\n",
              "      --bg-color: #3B4455;\n",
              "      --fill-color: #D2E3FC;\n",
              "      --hover-bg-color: #434B5C;\n",
              "      --hover-fill-color: #FFFFFF;\n",
              "      --disabled-bg-color: #3B4455;\n",
              "      --disabled-fill-color: #666;\n",
              "  }\n",
              "\n",
              "  .colab-df-quickchart {\n",
              "    background-color: var(--bg-color);\n",
              "    border: none;\n",
              "    border-radius: 50%;\n",
              "    cursor: pointer;\n",
              "    display: none;\n",
              "    fill: var(--fill-color);\n",
              "    height: 32px;\n",
              "    padding: 0;\n",
              "    width: 32px;\n",
              "  }\n",
              "\n",
              "  .colab-df-quickchart:hover {\n",
              "    background-color: var(--hover-bg-color);\n",
              "    box-shadow: 0 1px 2px rgba(60, 64, 67, 0.3), 0 1px 3px 1px rgba(60, 64, 67, 0.15);\n",
              "    fill: var(--button-hover-fill-color);\n",
              "  }\n",
              "\n",
              "  .colab-df-quickchart-complete:disabled,\n",
              "  .colab-df-quickchart-complete:disabled:hover {\n",
              "    background-color: var(--disabled-bg-color);\n",
              "    fill: var(--disabled-fill-color);\n",
              "    box-shadow: none;\n",
              "  }\n",
              "\n",
              "  .colab-df-spinner {\n",
              "    border: 2px solid var(--fill-color);\n",
              "    border-color: transparent;\n",
              "    border-bottom-color: var(--fill-color);\n",
              "    animation:\n",
              "      spin 1s steps(1) infinite;\n",
              "  }\n",
              "\n",
              "  @keyframes spin {\n",
              "    0% {\n",
              "      border-color: transparent;\n",
              "      border-bottom-color: var(--fill-color);\n",
              "      border-left-color: var(--fill-color);\n",
              "    }\n",
              "    20% {\n",
              "      border-color: transparent;\n",
              "      border-left-color: var(--fill-color);\n",
              "      border-top-color: var(--fill-color);\n",
              "    }\n",
              "    30% {\n",
              "      border-color: transparent;\n",
              "      border-left-color: var(--fill-color);\n",
              "      border-top-color: var(--fill-color);\n",
              "      border-right-color: var(--fill-color);\n",
              "    }\n",
              "    40% {\n",
              "      border-color: transparent;\n",
              "      border-right-color: var(--fill-color);\n",
              "      border-top-color: var(--fill-color);\n",
              "    }\n",
              "    60% {\n",
              "      border-color: transparent;\n",
              "      border-right-color: var(--fill-color);\n",
              "    }\n",
              "    80% {\n",
              "      border-color: transparent;\n",
              "      border-right-color: var(--fill-color);\n",
              "      border-bottom-color: var(--fill-color);\n",
              "    }\n",
              "    90% {\n",
              "      border-color: transparent;\n",
              "      border-bottom-color: var(--fill-color);\n",
              "    }\n",
              "  }\n",
              "</style>\n",
              "\n",
              "  <script>\n",
              "    async function quickchart(key) {\n",
              "      const quickchartButtonEl =\n",
              "        document.querySelector('#' + key + ' button');\n",
              "      quickchartButtonEl.disabled = true;  // To prevent multiple clicks.\n",
              "      quickchartButtonEl.classList.add('colab-df-spinner');\n",
              "      try {\n",
              "        const charts = await google.colab.kernel.invokeFunction(\n",
              "            'suggestCharts', [key], {});\n",
              "      } catch (error) {\n",
              "        console.error('Error during call to suggestCharts:', error);\n",
              "      }\n",
              "      quickchartButtonEl.classList.remove('colab-df-spinner');\n",
              "      quickchartButtonEl.classList.add('colab-df-quickchart-complete');\n",
              "    }\n",
              "    (() => {\n",
              "      let quickchartButtonEl =\n",
              "        document.querySelector('#df-2cee07b9-89cd-4558-a9de-ec6e0e507d91 button');\n",
              "      quickchartButtonEl.style.display =\n",
              "        google.colab.kernel.accessAllowed ? 'block' : 'none';\n",
              "    })();\n",
              "  </script>\n",
              "</div>\n",
              "\n",
              "  <div id=\"id_4fc70233-1572-4ae3-bb4a-0f7c5f82bebb\">\n",
              "    <style>\n",
              "      .colab-df-generate {\n",
              "        background-color: #E8F0FE;\n",
              "        border: none;\n",
              "        border-radius: 50%;\n",
              "        cursor: pointer;\n",
              "        display: none;\n",
              "        fill: #1967D2;\n",
              "        height: 32px;\n",
              "        padding: 0 0 0 0;\n",
              "        width: 32px;\n",
              "      }\n",
              "\n",
              "      .colab-df-generate:hover {\n",
              "        background-color: #E2EBFA;\n",
              "        box-shadow: 0px 1px 2px rgba(60, 64, 67, 0.3), 0px 1px 3px 1px rgba(60, 64, 67, 0.15);\n",
              "        fill: #174EA6;\n",
              "      }\n",
              "\n",
              "      [theme=dark] .colab-df-generate {\n",
              "        background-color: #3B4455;\n",
              "        fill: #D2E3FC;\n",
              "      }\n",
              "\n",
              "      [theme=dark] .colab-df-generate:hover {\n",
              "        background-color: #434B5C;\n",
              "        box-shadow: 0px 1px 3px 1px rgba(0, 0, 0, 0.15);\n",
              "        filter: drop-shadow(0px 1px 2px rgba(0, 0, 0, 0.3));\n",
              "        fill: #FFFFFF;\n",
              "      }\n",
              "    </style>\n",
              "    <button class=\"colab-df-generate\" onclick=\"generateWithVariable('importance')\"\n",
              "            title=\"Generate code using this dataframe.\"\n",
              "            style=\"display:none;\">\n",
              "\n",
              "  <svg xmlns=\"http://www.w3.org/2000/svg\" height=\"24px\"viewBox=\"0 0 24 24\"\n",
              "       width=\"24px\">\n",
              "    <path d=\"M7,19H8.4L18.45,9,17,7.55,7,17.6ZM5,21V16.75L18.45,3.32a2,2,0,0,1,2.83,0l1.4,1.43a1.91,1.91,0,0,1,.58,1.4,1.91,1.91,0,0,1-.58,1.4L9.25,21ZM18.45,9,17,7.55Zm-12,3A5.31,5.31,0,0,0,4.9,8.1,5.31,5.31,0,0,0,1,6.5,5.31,5.31,0,0,0,4.9,4.9,5.31,5.31,0,0,0,6.5,1,5.31,5.31,0,0,0,8.1,4.9,5.31,5.31,0,0,0,12,6.5,5.46,5.46,0,0,0,6.5,12Z\"/>\n",
              "  </svg>\n",
              "    </button>\n",
              "    <script>\n",
              "      (() => {\n",
              "      const buttonEl =\n",
              "        document.querySelector('#id_4fc70233-1572-4ae3-bb4a-0f7c5f82bebb button.colab-df-generate');\n",
              "      buttonEl.style.display =\n",
              "        google.colab.kernel.accessAllowed ? 'block' : 'none';\n",
              "\n",
              "      buttonEl.onclick = () => {\n",
              "        google.colab.notebook.generateWithVariable('importance');\n",
              "      }\n",
              "      })();\n",
              "    </script>\n",
              "  </div>\n",
              "\n",
              "    </div>\n",
              "  </div>\n"
            ],
            "application/vnd.google.colaboratory.intrinsic+json": {
              "type": "dataframe",
              "variable_name": "importance",
              "summary": "{\n  \"name\": \"importance\",\n  \"rows\": 39,\n  \"fields\": [\n    {\n      \"column\": \"Feature\",\n      \"properties\": {\n        \"dtype\": \"string\",\n        \"num_unique_values\": 39,\n        \"samples\": [\n          \"HadDepressiveDisorder\",\n          \"State\",\n          \"Sex\"\n        ],\n        \"semantic_type\": \"\",\n        \"description\": \"\"\n      }\n    },\n    {\n      \"column\": \"Coefficient\",\n      \"properties\": {\n        \"dtype\": \"number\",\n        \"std\": 0.4763313310375866,\n        \"min\": -0.7800241990885404,\n        \"max\": 2.4867741280317883,\n        \"num_unique_values\": 39,\n        \"samples\": [\n          0.02110934970008431,\n          -0.003120637980030711,\n          0.5080665392432939\n        ],\n        \"semantic_type\": \"\",\n        \"description\": \"\"\n      }\n    },\n    {\n      \"column\": \"Importance\",\n      \"properties\": {\n        \"dtype\": \"number\",\n        \"std\": 0.4209813469952902,\n        \"min\": 0.002055286791690921,\n        \"max\": 2.4867741280317883,\n        \"num_unique_values\": 39,\n        \"samples\": [\n          0.02110934970008431,\n          0.003120637980030711,\n          0.5080665392432939\n        ],\n        \"semantic_type\": \"\",\n        \"description\": \"\"\n      }\n    }\n  ]\n}"
            }
          },
          "metadata": {},
          "execution_count": 22
        }
      ]
    },
    {
      "cell_type": "code",
      "source": [
        "a_dict = {}\n",
        "for p in all_columns:\n",
        "  X = heart_data[[p]]\n",
        "  y = heart_data[target]\n",
        "  X_train, X_test, y_train, y_test = train_test_split(X, y, test_size=0.2, random_state=42)\n",
        "  lg = LogisticRegression()\n",
        "  lg.fit(X_train, y_train)\n",
        "  y_pred = lg.predict(X_test)\n",
        "  accuracy = accuracy_score(y_test, y_pred)\n",
        "  f1 = f1_score(y_test, y_pred)\n",
        "  a_dict[p] = accuracy\n",
        "\n",
        "a_dict = sorted(a_dict.items(), key= lambda x: x[1])\n",
        "print(f'{a_dict[-1][0]} had the highest score of {a_dict[-1][1]}')"
      ],
      "metadata": {
        "id": "reLHRBG7jkpy",
        "colab": {
          "base_uri": "https://localhost:8080/"
        },
        "outputId": "83f28ea8-0c20-4719-8c70-4f5d8ba1a43c"
      },
      "execution_count": null,
      "outputs": [
        {
          "output_type": "stream",
          "name": "stdout",
          "text": [
            "CovidPos had the highest score of 0.9465095010669647\n"
          ]
        }
      ]
    },
    {
      "cell_type": "code",
      "source": [
        "sorted(a_dict, key=lambda x: x[1], reverse=True)"
      ],
      "metadata": {
        "colab": {
          "base_uri": "https://localhost:8080/"
        },
        "id": "q6LQMleHamx9",
        "outputId": "07497cb4-3d0f-4366-9271-86224e8aeca0"
      },
      "execution_count": null,
      "outputs": [
        {
          "output_type": "execute_result",
          "data": {
            "text/plain": [
              "[('State', 0.9465095010669647),\n",
              " ('Sex', 0.9465095010669647),\n",
              " ('GeneralHealth', 0.9465095010669647),\n",
              " ('PhysicalHealthDays', 0.9465095010669647),\n",
              " ('MentalHealthDays', 0.9465095010669647),\n",
              " ('LastCheckupTime', 0.9465095010669647),\n",
              " ('PhysicalActivities', 0.9465095010669647),\n",
              " ('SleepHours', 0.9465095010669647),\n",
              " ('RemovedTeeth', 0.9465095010669647),\n",
              " ('HadAngina', 0.9465095010669647),\n",
              " ('HadStroke', 0.9465095010669647),\n",
              " ('HadAsthma', 0.9465095010669647),\n",
              " ('HadSkinCancer', 0.9465095010669647),\n",
              " ('HadCOPD', 0.9465095010669647),\n",
              " ('HadDepressiveDisorder', 0.9465095010669647),\n",
              " ('HadKidneyDisease', 0.9465095010669647),\n",
              " ('HadArthritis', 0.9465095010669647),\n",
              " ('HadDiabetes', 0.9465095010669647),\n",
              " ('DeafOrHardOfHearing', 0.9465095010669647),\n",
              " ('BlindOrVisionDifficulty', 0.9465095010669647),\n",
              " ('DifficultyConcentrating', 0.9465095010669647),\n",
              " ('DifficultyWalking', 0.9465095010669647),\n",
              " ('DifficultyDressingBathing', 0.9465095010669647),\n",
              " ('DifficultyErrands', 0.9465095010669647),\n",
              " ('SmokerStatus', 0.9465095010669647),\n",
              " ('ECigaretteUsage', 0.9465095010669647),\n",
              " ('ChestScan', 0.9465095010669647),\n",
              " ('RaceEthnicityCategory', 0.9465095010669647),\n",
              " ('AgeCategory', 0.9465095010669647),\n",
              " ('HeightInMeters', 0.9465095010669647),\n",
              " ('WeightInKilograms', 0.9465095010669647),\n",
              " ('BMI', 0.9465095010669647),\n",
              " ('AlcoholDrinkers', 0.9465095010669647),\n",
              " ('HIVTesting', 0.9465095010669647),\n",
              " ('FluVaxLast12', 0.9465095010669647),\n",
              " ('PneumoVaxEver', 0.9465095010669647),\n",
              " ('TetanusLast10Tdap', 0.9465095010669647),\n",
              " ('HighRiskLastYear', 0.9465095010669647),\n",
              " ('CovidPos', 0.9465095010669647)]"
            ]
          },
          "metadata": {},
          "execution_count": 24
        }
      ]
    },
    {
      "cell_type": "code",
      "source": [
        "#Testing a combination of the most important features ranked by the coefficients\n",
        "X = heart_data[['exercise angina', 'sex', 'ST slope', 'fasting blood sugar', 'chest pain type', 'oldpeak']]\n",
        "y = heart_data[target]\n",
        "\n",
        "X_train, X_test, y_train, y_test = train_test_split(X, y, test_size=0.2, random_state=42)\n",
        "\n",
        "lg = LogisticRegression()\n",
        "lg.fit(X_train, y_train)\n",
        "y_pred = lg.predict(X_test)"
      ],
      "metadata": {
        "id": "Cxf0sTqvye_c",
        "colab": {
          "base_uri": "https://localhost:8080/",
          "height": 408
        },
        "outputId": "6bf47e2d-e862-4281-f276-4e4247cbb8db"
      },
      "execution_count": null,
      "outputs": [
        {
          "output_type": "error",
          "ename": "KeyError",
          "evalue": "\"None of [Index(['exercise angina', 'sex', 'ST slope', 'fasting blood sugar',\\n       'chest pain type', 'oldpeak'],\\n      dtype='object')] are in the [columns]\"",
          "traceback": [
            "\u001b[0;31m---------------------------------------------------------------------------\u001b[0m",
            "\u001b[0;31mKeyError\u001b[0m                                  Traceback (most recent call last)",
            "\u001b[0;32m<ipython-input-25-4550e14736a3>\u001b[0m in \u001b[0;36m<cell line: 2>\u001b[0;34m()\u001b[0m\n\u001b[1;32m      1\u001b[0m \u001b[0;31m#Testing a combination of the most important features ranked by the coefficients\u001b[0m\u001b[0;34m\u001b[0m\u001b[0;34m\u001b[0m\u001b[0m\n\u001b[0;32m----> 2\u001b[0;31m \u001b[0mX\u001b[0m \u001b[0;34m=\u001b[0m \u001b[0mheart_data\u001b[0m\u001b[0;34m[\u001b[0m\u001b[0;34m[\u001b[0m\u001b[0;34m'exercise angina'\u001b[0m\u001b[0;34m,\u001b[0m \u001b[0;34m'sex'\u001b[0m\u001b[0;34m,\u001b[0m \u001b[0;34m'ST slope'\u001b[0m\u001b[0;34m,\u001b[0m \u001b[0;34m'fasting blood sugar'\u001b[0m\u001b[0;34m,\u001b[0m \u001b[0;34m'chest pain type'\u001b[0m\u001b[0;34m,\u001b[0m \u001b[0;34m'oldpeak'\u001b[0m\u001b[0;34m]\u001b[0m\u001b[0;34m]\u001b[0m\u001b[0;34m\u001b[0m\u001b[0;34m\u001b[0m\u001b[0m\n\u001b[0m\u001b[1;32m      3\u001b[0m \u001b[0my\u001b[0m \u001b[0;34m=\u001b[0m \u001b[0mheart_data\u001b[0m\u001b[0;34m[\u001b[0m\u001b[0mtarget\u001b[0m\u001b[0;34m]\u001b[0m\u001b[0;34m\u001b[0m\u001b[0;34m\u001b[0m\u001b[0m\n\u001b[1;32m      4\u001b[0m \u001b[0;34m\u001b[0m\u001b[0m\n\u001b[1;32m      5\u001b[0m \u001b[0mX_train\u001b[0m\u001b[0;34m,\u001b[0m \u001b[0mX_test\u001b[0m\u001b[0;34m,\u001b[0m \u001b[0my_train\u001b[0m\u001b[0;34m,\u001b[0m \u001b[0my_test\u001b[0m \u001b[0;34m=\u001b[0m \u001b[0mtrain_test_split\u001b[0m\u001b[0;34m(\u001b[0m\u001b[0mX\u001b[0m\u001b[0;34m,\u001b[0m \u001b[0my\u001b[0m\u001b[0;34m,\u001b[0m \u001b[0mtest_size\u001b[0m\u001b[0;34m=\u001b[0m\u001b[0;36m0.2\u001b[0m\u001b[0;34m,\u001b[0m \u001b[0mrandom_state\u001b[0m\u001b[0;34m=\u001b[0m\u001b[0;36m42\u001b[0m\u001b[0;34m)\u001b[0m\u001b[0;34m\u001b[0m\u001b[0;34m\u001b[0m\u001b[0m\n",
            "\u001b[0;32m/usr/local/lib/python3.10/dist-packages/pandas/core/frame.py\u001b[0m in \u001b[0;36m__getitem__\u001b[0;34m(self, key)\u001b[0m\n\u001b[1;32m   3765\u001b[0m             \u001b[0;32mif\u001b[0m \u001b[0mis_iterator\u001b[0m\u001b[0;34m(\u001b[0m\u001b[0mkey\u001b[0m\u001b[0;34m)\u001b[0m\u001b[0;34m:\u001b[0m\u001b[0;34m\u001b[0m\u001b[0;34m\u001b[0m\u001b[0m\n\u001b[1;32m   3766\u001b[0m                 \u001b[0mkey\u001b[0m \u001b[0;34m=\u001b[0m \u001b[0mlist\u001b[0m\u001b[0;34m(\u001b[0m\u001b[0mkey\u001b[0m\u001b[0;34m)\u001b[0m\u001b[0;34m\u001b[0m\u001b[0;34m\u001b[0m\u001b[0m\n\u001b[0;32m-> 3767\u001b[0;31m             \u001b[0mindexer\u001b[0m \u001b[0;34m=\u001b[0m \u001b[0mself\u001b[0m\u001b[0;34m.\u001b[0m\u001b[0mcolumns\u001b[0m\u001b[0;34m.\u001b[0m\u001b[0m_get_indexer_strict\u001b[0m\u001b[0;34m(\u001b[0m\u001b[0mkey\u001b[0m\u001b[0;34m,\u001b[0m \u001b[0;34m\"columns\"\u001b[0m\u001b[0;34m)\u001b[0m\u001b[0;34m[\u001b[0m\u001b[0;36m1\u001b[0m\u001b[0;34m]\u001b[0m\u001b[0;34m\u001b[0m\u001b[0;34m\u001b[0m\u001b[0m\n\u001b[0m\u001b[1;32m   3768\u001b[0m \u001b[0;34m\u001b[0m\u001b[0m\n\u001b[1;32m   3769\u001b[0m         \u001b[0;31m# take() does not accept boolean indexers\u001b[0m\u001b[0;34m\u001b[0m\u001b[0;34m\u001b[0m\u001b[0m\n",
            "\u001b[0;32m/usr/local/lib/python3.10/dist-packages/pandas/core/indexes/base.py\u001b[0m in \u001b[0;36m_get_indexer_strict\u001b[0;34m(self, key, axis_name)\u001b[0m\n\u001b[1;32m   5875\u001b[0m             \u001b[0mkeyarr\u001b[0m\u001b[0;34m,\u001b[0m \u001b[0mindexer\u001b[0m\u001b[0;34m,\u001b[0m \u001b[0mnew_indexer\u001b[0m \u001b[0;34m=\u001b[0m \u001b[0mself\u001b[0m\u001b[0;34m.\u001b[0m\u001b[0m_reindex_non_unique\u001b[0m\u001b[0;34m(\u001b[0m\u001b[0mkeyarr\u001b[0m\u001b[0;34m)\u001b[0m\u001b[0;34m\u001b[0m\u001b[0;34m\u001b[0m\u001b[0m\n\u001b[1;32m   5876\u001b[0m \u001b[0;34m\u001b[0m\u001b[0m\n\u001b[0;32m-> 5877\u001b[0;31m         \u001b[0mself\u001b[0m\u001b[0;34m.\u001b[0m\u001b[0m_raise_if_missing\u001b[0m\u001b[0;34m(\u001b[0m\u001b[0mkeyarr\u001b[0m\u001b[0;34m,\u001b[0m \u001b[0mindexer\u001b[0m\u001b[0;34m,\u001b[0m \u001b[0maxis_name\u001b[0m\u001b[0;34m)\u001b[0m\u001b[0;34m\u001b[0m\u001b[0;34m\u001b[0m\u001b[0m\n\u001b[0m\u001b[1;32m   5878\u001b[0m \u001b[0;34m\u001b[0m\u001b[0m\n\u001b[1;32m   5879\u001b[0m         \u001b[0mkeyarr\u001b[0m \u001b[0;34m=\u001b[0m \u001b[0mself\u001b[0m\u001b[0;34m.\u001b[0m\u001b[0mtake\u001b[0m\u001b[0;34m(\u001b[0m\u001b[0mindexer\u001b[0m\u001b[0;34m)\u001b[0m\u001b[0;34m\u001b[0m\u001b[0;34m\u001b[0m\u001b[0m\n",
            "\u001b[0;32m/usr/local/lib/python3.10/dist-packages/pandas/core/indexes/base.py\u001b[0m in \u001b[0;36m_raise_if_missing\u001b[0;34m(self, key, indexer, axis_name)\u001b[0m\n\u001b[1;32m   5936\u001b[0m                 \u001b[0;32mif\u001b[0m \u001b[0muse_interval_msg\u001b[0m\u001b[0;34m:\u001b[0m\u001b[0;34m\u001b[0m\u001b[0;34m\u001b[0m\u001b[0m\n\u001b[1;32m   5937\u001b[0m                     \u001b[0mkey\u001b[0m \u001b[0;34m=\u001b[0m \u001b[0mlist\u001b[0m\u001b[0;34m(\u001b[0m\u001b[0mkey\u001b[0m\u001b[0;34m)\u001b[0m\u001b[0;34m\u001b[0m\u001b[0;34m\u001b[0m\u001b[0m\n\u001b[0;32m-> 5938\u001b[0;31m                 \u001b[0;32mraise\u001b[0m \u001b[0mKeyError\u001b[0m\u001b[0;34m(\u001b[0m\u001b[0;34mf\"None of [{key}] are in the [{axis_name}]\"\u001b[0m\u001b[0;34m)\u001b[0m\u001b[0;34m\u001b[0m\u001b[0;34m\u001b[0m\u001b[0m\n\u001b[0m\u001b[1;32m   5939\u001b[0m \u001b[0;34m\u001b[0m\u001b[0m\n\u001b[1;32m   5940\u001b[0m             \u001b[0mnot_found\u001b[0m \u001b[0;34m=\u001b[0m \u001b[0mlist\u001b[0m\u001b[0;34m(\u001b[0m\u001b[0mensure_index\u001b[0m\u001b[0;34m(\u001b[0m\u001b[0mkey\u001b[0m\u001b[0;34m)\u001b[0m\u001b[0;34m[\u001b[0m\u001b[0mmissing_mask\u001b[0m\u001b[0;34m.\u001b[0m\u001b[0mnonzero\u001b[0m\u001b[0;34m(\u001b[0m\u001b[0;34m)\u001b[0m\u001b[0;34m[\u001b[0m\u001b[0;36m0\u001b[0m\u001b[0;34m]\u001b[0m\u001b[0;34m]\u001b[0m\u001b[0;34m.\u001b[0m\u001b[0munique\u001b[0m\u001b[0;34m(\u001b[0m\u001b[0;34m)\u001b[0m\u001b[0;34m)\u001b[0m\u001b[0;34m\u001b[0m\u001b[0;34m\u001b[0m\u001b[0m\n",
            "\u001b[0;31mKeyError\u001b[0m: \"None of [Index(['exercise angina', 'sex', 'ST slope', 'fasting blood sugar',\\n       'chest pain type', 'oldpeak'],\\n      dtype='object')] are in the [columns]\""
          ]
        }
      ]
    },
    {
      "cell_type": "code",
      "source": [
        "print(classification_report(y_test, y_pred))"
      ],
      "metadata": {
        "id": "xyKFoV1oy5W8"
      },
      "execution_count": null,
      "outputs": []
    },
    {
      "cell_type": "code",
      "source": [
        "print(heart_data[target].value_counts())"
      ],
      "metadata": {
        "colab": {
          "base_uri": "https://localhost:8080/"
        },
        "id": "dALo8VjzbOPA",
        "outputId": "dd8b2332-7613-4801-c9d2-d3bd9a4daff7"
      },
      "execution_count": null,
      "outputs": [
        {
          "output_type": "stream",
          "name": "stdout",
          "text": [
            "target\n",
            "1    629\n",
            "0    561\n",
            "Name: count, dtype: int64\n"
          ]
        }
      ]
    },
    {
      "cell_type": "markdown",
      "source": [
        "#Neural Network"
      ],
      "metadata": {
        "id": "PliVvQr3KnuT"
      }
    },
    {
      "cell_type": "code",
      "source": [
        "import numpy as np\n",
        "import pandas as pd\n",
        "from sklearn.model_selection import train_test_split\n",
        "from sklearn.metrics import accuracy_score, confusion_matrix, f1_score\n",
        "from sklearn.preprocessing import StandardScaler"
      ],
      "metadata": {
        "id": "djOtspAQjkz0"
      },
      "execution_count": null,
      "outputs": []
    },
    {
      "cell_type": "code",
      "source": [
        "all_columns = heart_data.columns.drop(target)"
      ],
      "metadata": {
        "id": "ML68ZM_E2FSe"
      },
      "execution_count": null,
      "outputs": []
    },
    {
      "cell_type": "code",
      "source": [
        "X = heart_data[all_columns].values\n",
        "y = heart_data[target].values"
      ],
      "metadata": {
        "id": "F2ui91a9XdY6"
      },
      "execution_count": null,
      "outputs": []
    },
    {
      "cell_type": "code",
      "execution_count": null,
      "metadata": {
        "id": "sQXdds3hFhlU"
      },
      "outputs": [],
      "source": [
        "X_train, X_test, y_train, y_test = train_test_split(X, y, test_size=0.2, random_state=42)"
      ]
    },
    {
      "cell_type": "code",
      "source": [
        "scaler = StandardScaler()\n",
        "X_train = scaler.fit_transform(X_train)\n",
        "X_test = scaler.transform(X_test)"
      ],
      "metadata": {
        "id": "ImOPk_IVh4ly"
      },
      "execution_count": null,
      "outputs": []
    },
    {
      "cell_type": "code",
      "source": [
        "class NeuralNetwork:\n",
        "    def __init__(self, num_feats):\n",
        "        np.random.seed(1)\n",
        "        self.synaptic_weights = 2 * np.random.random((num_feats, 1)) - 1\n",
        "\n",
        "    def sigmoid(self, x):\n",
        "        return 1 / (1 + np.exp(-x))\n",
        "\n",
        "    def sigmoid_derivative(self, x):\n",
        "        return x * (1 - x)\n",
        "\n",
        "    def train(self, training_inputs, training_outputs, training_iterations):\n",
        "        for iteration in range(training_iterations):\n",
        "            output = self.think(training_inputs)\n",
        "            error = training_outputs - output\n",
        "            adjustments = np.dot(training_inputs.T, error * self.sigmoid_derivative(output))\n",
        "            self.synaptic_weights += adjustments\n",
        "\n",
        "    def think(self, inputs):\n",
        "        inputs = inputs.astype(float)\n",
        "        output = self.sigmoid(np.dot(inputs, self.synaptic_weights))\n",
        "        return output"
      ],
      "metadata": {
        "id": "u4tcQm9yv1kX"
      },
      "execution_count": null,
      "outputs": []
    },
    {
      "cell_type": "code",
      "source": [
        "neural_network = NeuralNetwork(num_feats=len(all_columns))\n",
        "\n",
        "print(f\"Random starting synaptic weights: \\n{neural_network.synaptic_weights}\")\n",
        "\n",
        "training_inputs = X_train\n",
        "training_outputs = y_train.reshape(-1, 1)\n",
        "\n",
        "neural_network.train(training_inputs, training_outputs, 1000)\n",
        "\n",
        "print(\"Synaptic weights after training: \")\n",
        "print(neural_network.synaptic_weights)"
      ],
      "metadata": {
        "colab": {
          "base_uri": "https://localhost:8080/"
        },
        "id": "DuevIXSiGYgs",
        "outputId": "12845610-1059-41b8-936b-ea293e0fb8d4"
      },
      "execution_count": null,
      "outputs": [
        {
          "output_type": "stream",
          "name": "stdout",
          "text": [
            "Random starting synaptic weights: \n",
            "[[-0.16595599]\n",
            " [ 0.44064899]\n",
            " [-0.99977125]\n",
            " [-0.39533485]\n",
            " [-0.70648822]\n",
            " [-0.81532281]\n",
            " [-0.62747958]\n",
            " [-0.30887855]\n",
            " [-0.20646505]\n",
            " [ 0.07763347]\n",
            " [-0.16161097]]\n",
            "Synaptic weights after training: \n",
            "[[ 24.846768  ]\n",
            " [ 31.74681265]\n",
            " [ 42.58894145]\n",
            " [  7.06035297]\n",
            " [-17.84505095]\n",
            " [ 15.92746448]\n",
            " [  6.41169229]\n",
            " [-36.45599246]\n",
            " [ 42.53868126]\n",
            " [ 43.75605679]\n",
            " [ 47.40503255]]\n"
          ]
        }
      ]
    },
    {
      "cell_type": "code",
      "source": [
        "test_inputs = X_test\n",
        "test_outputs = y_test.reshape(-1, 1)\n",
        "\n",
        "raw_test_pred = neural_network.think(test_inputs)\n",
        "test_pred = np.round(raw_test_pred).astype(int)\n",
        "accuracy = accuracy_score(test_outputs, test_pred)\n",
        "\n",
        "print(f'Accuracy: {accuracy_score(test_outputs, test_pred)}')\n",
        "print(classification_report(y_test, test_pred))"
      ],
      "metadata": {
        "colab": {
          "base_uri": "https://localhost:8080/"
        },
        "id": "696D3Z-cGZLd",
        "outputId": "717e8a1c-0b46-43da-c4fa-2c25e2c6f4a6"
      },
      "execution_count": null,
      "outputs": [
        {
          "output_type": "stream",
          "name": "stdout",
          "text": [
            "Accuracy: 0.8445378151260504\n",
            "              precision    recall  f1-score   support\n",
            "\n",
            "           0       0.83      0.82      0.83       107\n",
            "           1       0.86      0.86      0.86       131\n",
            "\n",
            "    accuracy                           0.84       238\n",
            "   macro avg       0.84      0.84      0.84       238\n",
            "weighted avg       0.84      0.84      0.84       238\n",
            "\n"
          ]
        }
      ]
    },
    {
      "cell_type": "markdown",
      "source": [
        "#Tensorflow"
      ],
      "metadata": {
        "id": "feZUpwdPKBf-"
      }
    },
    {
      "cell_type": "code",
      "source": [
        "import tensorflow as tf\n",
        "from tensorflow.keras.models import Sequential\n",
        "from tensorflow.keras.layers import Dense"
      ],
      "metadata": {
        "id": "wGf8I9-VKD8t"
      },
      "execution_count": null,
      "outputs": []
    },
    {
      "cell_type": "code",
      "source": [
        "heart_data.columns"
      ],
      "metadata": {
        "colab": {
          "base_uri": "https://localhost:8080/"
        },
        "id": "QH-RJdLTDQrM",
        "outputId": "2ebd5545-031e-4730-f316-6e869d8b6dd3"
      },
      "execution_count": null,
      "outputs": [
        {
          "output_type": "execute_result",
          "data": {
            "text/plain": [
              "Index(['age', 'sex', 'chest pain type', 'resting bp s', 'cholesterol',\n",
              "       'fasting blood sugar', 'resting ecg', 'max heart rate',\n",
              "       'exercise angina', 'oldpeak', 'ST slope', 'target'],\n",
              "      dtype='object')"
            ]
          },
          "metadata": {},
          "execution_count": 184
        }
      ]
    },
    {
      "cell_type": "code",
      "source": [
        "tf.random.set_seed(42)"
      ],
      "metadata": {
        "id": "xOQlna4BF7th"
      },
      "execution_count": null,
      "outputs": []
    },
    {
      "cell_type": "code",
      "source": [
        "def remov(*items):\n",
        "    return [item for item in list(heart_data.columns.drop(target)) if item not in items]"
      ],
      "metadata": {
        "id": "z_5S1_Y_4fp6"
      },
      "execution_count": null,
      "outputs": []
    },
    {
      "cell_type": "code",
      "source": [
        "all_columns = remov()"
      ],
      "metadata": {
        "id": "m1mNgb8P2TBX"
      },
      "execution_count": null,
      "outputs": []
    },
    {
      "cell_type": "code",
      "source": [
        "X = heart_data[all_columns]\n",
        "y = heart_data[target]"
      ],
      "metadata": {
        "id": "Su1RK8F3KHcV"
      },
      "execution_count": null,
      "outputs": []
    },
    {
      "cell_type": "code",
      "source": [
        "X_train, X_test, y_train, y_test = train_test_split(X, y, test_size=0.2, random_state=42)"
      ],
      "metadata": {
        "id": "GvCNlF3IJXRJ"
      },
      "execution_count": null,
      "outputs": []
    },
    {
      "cell_type": "code",
      "source": [
        "ts = tf.keras.Sequential([\n",
        "    tf.keras.layers.Dense(64, activation='relu', input_shape=(len(all_columns),)),\n",
        "    tf.keras.layers.Dense(32, activation='relu'),\n",
        "    tf.keras.layers.Dense(1, activation='sigmoid')\n",
        "])\n",
        "\n",
        "ts.compile(optimizer=tf.keras.optimizers.Adam(learning_rate=0.001), loss='binary_crossentropy', metrics=['accuracy'])\n",
        "ts.fit(X_train, y_train, epochs=100, batch_size=10)"
      ],
      "metadata": {
        "colab": {
          "base_uri": "https://localhost:8080/"
        },
        "id": "tg58EGe7KMug",
        "outputId": "38c7173e-e0fc-47e7-ac5f-59148a966a97"
      },
      "execution_count": null,
      "outputs": [
        {
          "output_type": "stream",
          "name": "stdout",
          "text": [
            "Epoch 1/100\n",
            "96/96 [==============================] - 1s 2ms/step - loss: 0.9693 - accuracy: 0.6439\n",
            "Epoch 2/100\n",
            "96/96 [==============================] - 0s 2ms/step - loss: 0.6179 - accuracy: 0.7048\n",
            "Epoch 3/100\n",
            "96/96 [==============================] - 0s 2ms/step - loss: 0.5691 - accuracy: 0.7080\n",
            "Epoch 4/100\n",
            "96/96 [==============================] - 0s 2ms/step - loss: 0.6885 - accuracy: 0.6828\n",
            "Epoch 5/100\n",
            "96/96 [==============================] - 0s 2ms/step - loss: 0.5501 - accuracy: 0.7500\n",
            "Epoch 6/100\n",
            "96/96 [==============================] - 0s 2ms/step - loss: 0.5391 - accuracy: 0.7626\n",
            "Epoch 7/100\n",
            "96/96 [==============================] - 0s 3ms/step - loss: 0.5831 - accuracy: 0.7416\n",
            "Epoch 8/100\n",
            "96/96 [==============================] - 0s 4ms/step - loss: 0.5447 - accuracy: 0.7721\n",
            "Epoch 9/100\n",
            "96/96 [==============================] - 0s 4ms/step - loss: 0.6686 - accuracy: 0.7416\n",
            "Epoch 10/100\n",
            "96/96 [==============================] - 0s 4ms/step - loss: 0.5336 - accuracy: 0.7689\n",
            "Epoch 11/100\n",
            "96/96 [==============================] - 0s 3ms/step - loss: 0.7102 - accuracy: 0.7363\n",
            "Epoch 12/100\n",
            "96/96 [==============================] - 0s 4ms/step - loss: 0.5554 - accuracy: 0.7637\n",
            "Epoch 13/100\n",
            "96/96 [==============================] - 0s 4ms/step - loss: 0.5210 - accuracy: 0.7679\n",
            "Epoch 14/100\n",
            "96/96 [==============================] - 0s 3ms/step - loss: 0.4525 - accuracy: 0.8004\n",
            "Epoch 15/100\n",
            "96/96 [==============================] - 0s 3ms/step - loss: 0.4975 - accuracy: 0.7763\n",
            "Epoch 16/100\n",
            "96/96 [==============================] - 0s 3ms/step - loss: 0.4646 - accuracy: 0.7773\n",
            "Epoch 17/100\n",
            "96/96 [==============================] - 0s 4ms/step - loss: 0.5073 - accuracy: 0.7847\n",
            "Epoch 18/100\n",
            "96/96 [==============================] - 0s 3ms/step - loss: 0.4966 - accuracy: 0.7920\n",
            "Epoch 19/100\n",
            "96/96 [==============================] - 0s 2ms/step - loss: 0.4741 - accuracy: 0.7899\n",
            "Epoch 20/100\n",
            "96/96 [==============================] - 0s 2ms/step - loss: 0.4923 - accuracy: 0.7910\n",
            "Epoch 21/100\n",
            "96/96 [==============================] - 0s 2ms/step - loss: 0.5442 - accuracy: 0.7584\n",
            "Epoch 22/100\n",
            "96/96 [==============================] - 0s 2ms/step - loss: 0.5509 - accuracy: 0.7553\n",
            "Epoch 23/100\n",
            "96/96 [==============================] - 0s 2ms/step - loss: 0.4775 - accuracy: 0.7878\n",
            "Epoch 24/100\n",
            "96/96 [==============================] - 0s 2ms/step - loss: 0.4533 - accuracy: 0.7962\n",
            "Epoch 25/100\n",
            "96/96 [==============================] - 0s 3ms/step - loss: 0.5119 - accuracy: 0.7889\n",
            "Epoch 26/100\n",
            "96/96 [==============================] - 0s 2ms/step - loss: 0.4389 - accuracy: 0.8057\n",
            "Epoch 27/100\n",
            "96/96 [==============================] - 0s 2ms/step - loss: 0.4320 - accuracy: 0.8277\n",
            "Epoch 28/100\n",
            "96/96 [==============================] - 0s 2ms/step - loss: 0.4596 - accuracy: 0.7973\n",
            "Epoch 29/100\n",
            "96/96 [==============================] - 0s 2ms/step - loss: 0.4217 - accuracy: 0.8277\n",
            "Epoch 30/100\n",
            "96/96 [==============================] - 0s 2ms/step - loss: 0.4417 - accuracy: 0.8088\n",
            "Epoch 31/100\n",
            "96/96 [==============================] - 0s 2ms/step - loss: 0.3944 - accuracy: 0.8319\n",
            "Epoch 32/100\n",
            "96/96 [==============================] - 0s 2ms/step - loss: 0.4490 - accuracy: 0.8046\n",
            "Epoch 33/100\n",
            "96/96 [==============================] - 0s 2ms/step - loss: 0.4559 - accuracy: 0.8057\n",
            "Epoch 34/100\n",
            "96/96 [==============================] - 0s 2ms/step - loss: 0.4849 - accuracy: 0.7878\n",
            "Epoch 35/100\n",
            "96/96 [==============================] - 0s 2ms/step - loss: 0.4320 - accuracy: 0.8109\n",
            "Epoch 36/100\n",
            "96/96 [==============================] - 0s 2ms/step - loss: 0.4246 - accuracy: 0.8130\n",
            "Epoch 37/100\n",
            "96/96 [==============================] - 0s 2ms/step - loss: 0.4540 - accuracy: 0.8036\n",
            "Epoch 38/100\n",
            "96/96 [==============================] - 0s 2ms/step - loss: 0.5298 - accuracy: 0.7878\n",
            "Epoch 39/100\n",
            "96/96 [==============================] - 0s 3ms/step - loss: 0.4269 - accuracy: 0.8214\n",
            "Epoch 40/100\n",
            "96/96 [==============================] - 0s 2ms/step - loss: 0.4446 - accuracy: 0.7983\n",
            "Epoch 41/100\n",
            "96/96 [==============================] - 0s 2ms/step - loss: 0.4206 - accuracy: 0.8288\n",
            "Epoch 42/100\n",
            "96/96 [==============================] - 0s 2ms/step - loss: 0.4415 - accuracy: 0.8151\n",
            "Epoch 43/100\n",
            "96/96 [==============================] - 0s 2ms/step - loss: 0.4392 - accuracy: 0.8078\n",
            "Epoch 44/100\n",
            "96/96 [==============================] - 0s 2ms/step - loss: 0.4433 - accuracy: 0.8025\n",
            "Epoch 45/100\n",
            "96/96 [==============================] - 0s 2ms/step - loss: 0.4414 - accuracy: 0.8109\n",
            "Epoch 46/100\n",
            "96/96 [==============================] - 0s 2ms/step - loss: 0.4002 - accuracy: 0.8309\n",
            "Epoch 47/100\n",
            "96/96 [==============================] - 0s 2ms/step - loss: 0.4138 - accuracy: 0.8288\n",
            "Epoch 48/100\n",
            "96/96 [==============================] - 0s 2ms/step - loss: 0.4222 - accuracy: 0.8109\n",
            "Epoch 49/100\n",
            "96/96 [==============================] - 0s 2ms/step - loss: 0.4591 - accuracy: 0.8036\n",
            "Epoch 50/100\n",
            "96/96 [==============================] - 0s 2ms/step - loss: 0.4151 - accuracy: 0.8183\n",
            "Epoch 51/100\n",
            "96/96 [==============================] - 0s 2ms/step - loss: 0.4243 - accuracy: 0.8225\n",
            "Epoch 52/100\n",
            "96/96 [==============================] - 0s 2ms/step - loss: 0.4443 - accuracy: 0.8109\n",
            "Epoch 53/100\n",
            "96/96 [==============================] - 0s 2ms/step - loss: 0.4451 - accuracy: 0.8067\n",
            "Epoch 54/100\n",
            "96/96 [==============================] - 0s 2ms/step - loss: 0.4094 - accuracy: 0.8225\n",
            "Epoch 55/100\n",
            "96/96 [==============================] - 0s 2ms/step - loss: 0.4533 - accuracy: 0.8015\n",
            "Epoch 56/100\n",
            "96/96 [==============================] - 0s 2ms/step - loss: 0.4937 - accuracy: 0.7889\n",
            "Epoch 57/100\n",
            "96/96 [==============================] - 0s 2ms/step - loss: 0.4240 - accuracy: 0.8214\n",
            "Epoch 58/100\n",
            "96/96 [==============================] - 0s 2ms/step - loss: 0.4292 - accuracy: 0.8382\n",
            "Epoch 59/100\n",
            "96/96 [==============================] - 0s 2ms/step - loss: 0.4342 - accuracy: 0.8151\n",
            "Epoch 60/100\n",
            "96/96 [==============================] - 0s 2ms/step - loss: 0.4122 - accuracy: 0.8141\n",
            "Epoch 61/100\n",
            "96/96 [==============================] - 0s 2ms/step - loss: 0.4053 - accuracy: 0.8141\n",
            "Epoch 62/100\n",
            "96/96 [==============================] - 0s 2ms/step - loss: 0.4283 - accuracy: 0.8099\n",
            "Epoch 63/100\n",
            "96/96 [==============================] - 0s 2ms/step - loss: 0.4148 - accuracy: 0.8120\n",
            "Epoch 64/100\n",
            "96/96 [==============================] - 0s 2ms/step - loss: 0.4234 - accuracy: 0.8067\n",
            "Epoch 65/100\n",
            "96/96 [==============================] - 0s 2ms/step - loss: 0.4575 - accuracy: 0.8109\n",
            "Epoch 66/100\n",
            "96/96 [==============================] - 0s 2ms/step - loss: 0.4196 - accuracy: 0.8172\n",
            "Epoch 67/100\n",
            "96/96 [==============================] - 0s 4ms/step - loss: 0.4069 - accuracy: 0.8225\n",
            "Epoch 68/100\n",
            "96/96 [==============================] - 0s 3ms/step - loss: 0.3959 - accuracy: 0.8130\n",
            "Epoch 69/100\n",
            "96/96 [==============================] - 0s 3ms/step - loss: 0.3974 - accuracy: 0.8172\n",
            "Epoch 70/100\n",
            "96/96 [==============================] - 0s 3ms/step - loss: 0.4111 - accuracy: 0.8214\n",
            "Epoch 71/100\n",
            "96/96 [==============================] - 0s 3ms/step - loss: 0.4142 - accuracy: 0.8225\n",
            "Epoch 72/100\n",
            "96/96 [==============================] - 0s 3ms/step - loss: 0.4085 - accuracy: 0.8214\n",
            "Epoch 73/100\n",
            "96/96 [==============================] - 0s 4ms/step - loss: 0.4302 - accuracy: 0.8151\n",
            "Epoch 74/100\n",
            "96/96 [==============================] - 0s 3ms/step - loss: 0.4442 - accuracy: 0.8015\n",
            "Epoch 75/100\n",
            "96/96 [==============================] - 0s 3ms/step - loss: 0.4135 - accuracy: 0.8193\n",
            "Epoch 76/100\n",
            "96/96 [==============================] - 0s 4ms/step - loss: 0.4155 - accuracy: 0.8151\n",
            "Epoch 77/100\n",
            "96/96 [==============================] - 0s 3ms/step - loss: 0.4099 - accuracy: 0.8099\n",
            "Epoch 78/100\n",
            "96/96 [==============================] - 0s 3ms/step - loss: 0.4026 - accuracy: 0.8204\n",
            "Epoch 79/100\n",
            "96/96 [==============================] - 0s 2ms/step - loss: 0.3921 - accuracy: 0.8256\n",
            "Epoch 80/100\n",
            "96/96 [==============================] - 0s 2ms/step - loss: 0.4087 - accuracy: 0.8235\n",
            "Epoch 81/100\n",
            "96/96 [==============================] - 0s 2ms/step - loss: 0.3785 - accuracy: 0.8351\n",
            "Epoch 82/100\n",
            "96/96 [==============================] - 0s 2ms/step - loss: 0.4004 - accuracy: 0.8277\n",
            "Epoch 83/100\n",
            "96/96 [==============================] - 0s 2ms/step - loss: 0.3824 - accuracy: 0.8309\n",
            "Epoch 84/100\n",
            "96/96 [==============================] - 0s 2ms/step - loss: 0.3946 - accuracy: 0.8340\n",
            "Epoch 85/100\n",
            "96/96 [==============================] - 0s 2ms/step - loss: 0.4385 - accuracy: 0.8078\n",
            "Epoch 86/100\n",
            "96/96 [==============================] - 0s 2ms/step - loss: 0.4273 - accuracy: 0.8193\n",
            "Epoch 87/100\n",
            "96/96 [==============================] - 0s 2ms/step - loss: 0.3909 - accuracy: 0.8288\n",
            "Epoch 88/100\n",
            "96/96 [==============================] - 0s 2ms/step - loss: 0.4178 - accuracy: 0.8099\n",
            "Epoch 89/100\n",
            "96/96 [==============================] - 0s 2ms/step - loss: 0.3946 - accuracy: 0.8298\n",
            "Epoch 90/100\n",
            "96/96 [==============================] - 0s 2ms/step - loss: 0.4056 - accuracy: 0.8288\n",
            "Epoch 91/100\n",
            "96/96 [==============================] - 0s 2ms/step - loss: 0.4240 - accuracy: 0.8151\n",
            "Epoch 92/100\n",
            "96/96 [==============================] - 0s 2ms/step - loss: 0.3871 - accuracy: 0.8330\n",
            "Epoch 93/100\n",
            "96/96 [==============================] - 0s 2ms/step - loss: 0.4073 - accuracy: 0.8267\n",
            "Epoch 94/100\n",
            "96/96 [==============================] - 0s 2ms/step - loss: 0.3769 - accuracy: 0.8424\n",
            "Epoch 95/100\n",
            "96/96 [==============================] - 0s 2ms/step - loss: 0.4073 - accuracy: 0.8141\n",
            "Epoch 96/100\n",
            "96/96 [==============================] - 0s 2ms/step - loss: 0.3797 - accuracy: 0.8393\n",
            "Epoch 97/100\n",
            "96/96 [==============================] - 0s 2ms/step - loss: 0.3859 - accuracy: 0.8340\n",
            "Epoch 98/100\n",
            "96/96 [==============================] - 0s 2ms/step - loss: 0.3885 - accuracy: 0.8309\n",
            "Epoch 99/100\n",
            "96/96 [==============================] - 0s 2ms/step - loss: 0.3883 - accuracy: 0.8298\n",
            "Epoch 100/100\n",
            "96/96 [==============================] - 0s 2ms/step - loss: 0.4088 - accuracy: 0.8340\n"
          ]
        },
        {
          "output_type": "execute_result",
          "data": {
            "text/plain": [
              "<keras.src.callbacks.History at 0x7fcc62b46e00>"
            ]
          },
          "metadata": {},
          "execution_count": 190
        }
      ]
    },
    {
      "cell_type": "code",
      "source": [
        "loss, accuracy = ts.evaluate(X_test, y_test)\n",
        "print(f\"Accuracy: {accuracy*100:.2f}%\")"
      ],
      "metadata": {
        "colab": {
          "base_uri": "https://localhost:8080/"
        },
        "id": "w_gOAhC9J1vj",
        "outputId": "3dc247d8-35f7-499b-98f7-fc7b8ffb06d7"
      },
      "execution_count": null,
      "outputs": [
        {
          "output_type": "stream",
          "name": "stdout",
          "text": [
            "8/8 [==============================] - 0s 4ms/step - loss: 0.4375 - accuracy: 0.8151\n",
            "Accuracy: 81.51%\n"
          ]
        }
      ]
    },
    {
      "cell_type": "code",
      "source": [
        "from sklearn.metrics import classification_report\n",
        "\n",
        "y_pred = (ts.predict(X_test) > 0.5).astype(int)\n",
        "print(classification_report(y_test, y_pred))"
      ],
      "metadata": {
        "colab": {
          "base_uri": "https://localhost:8080/"
        },
        "id": "riciH3AXOurp",
        "outputId": "61dd9c70-adee-4528-e57d-30f5962908a8"
      },
      "execution_count": null,
      "outputs": [
        {
          "output_type": "stream",
          "name": "stderr",
          "text": [
            "Exception ignored in: <function _xla_gc_callback at 0x7fcc89f28790>\n",
            "Traceback (most recent call last):\n",
            "  File \"/usr/local/lib/python3.10/dist-packages/jax/_src/lib/__init__.py\", line 98, in _xla_gc_callback\n",
            "    def _xla_gc_callback(*args):\n",
            "KeyboardInterrupt: \n"
          ]
        },
        {
          "output_type": "stream",
          "name": "stdout",
          "text": [
            "8/8 [==============================] - 0s 2ms/step\n",
            "              precision    recall  f1-score   support\n",
            "\n",
            "           0       0.81      0.78      0.79       107\n",
            "           1       0.82      0.85      0.83       131\n",
            "\n",
            "    accuracy                           0.82       238\n",
            "   macro avg       0.81      0.81      0.81       238\n",
            "weighted avg       0.81      0.82      0.81       238\n",
            "\n"
          ]
        }
      ]
    },
    {
      "cell_type": "markdown",
      "source": [
        "With all features: 82%\n",
        "\n",
        "Without the few least important features evaluated from logistic model: 83%"
      ],
      "metadata": {
        "id": "X-S_qzR55QVP"
      }
    },
    {
      "cell_type": "markdown",
      "source": [
        "#Other Models"
      ],
      "metadata": {
        "id": "dxt8gQX2p5Hs"
      }
    },
    {
      "cell_type": "code",
      "source": [
        "import pandas as pd\n",
        "import numpy as np\n",
        "import seaborn as sns\n",
        "import matplotlib.pyplot as plt\n",
        "from sklearn.model_selection import train_test_split\n",
        "from sklearn.metrics import classification_report, confusion_matrix, f1_score, accuracy_score, mean_squared_error, r2_score, recall_score, precision_score\n",
        "from sklearn.linear_model import LogisticRegression\n",
        "from sklearn.ensemble import RandomForestClassifier\n",
        "from sklearn.ensemble import ExtraTreesClassifier\n",
        "from sklearn.tree import DecisionTreeClassifier\n",
        "from sklearn.neighbors import KNeighborsClassifier\n",
        "from sklearn.svm import SVC\n",
        "from sklearn.ensemble import GradientBoostingClassifier\n",
        "from sklearn.model_selection import GridSearchCV"
      ],
      "metadata": {
        "id": "sOOOFkVlqNB5"
      },
      "execution_count": null,
      "outputs": []
    },
    {
      "cell_type": "code",
      "source": [
        "heart_data.columns.drop(target)"
      ],
      "metadata": {
        "colab": {
          "base_uri": "https://localhost:8080/"
        },
        "id": "k0V4dTPK9NsE",
        "outputId": "8dac01b3-9c92-4931-877a-5a6cb98f8a46"
      },
      "execution_count": null,
      "outputs": [
        {
          "output_type": "execute_result",
          "data": {
            "text/plain": [
              "Index(['age', 'sex', 'chest pain type', 'resting bp s', 'cholesterol',\n",
              "       'fasting blood sugar', 'resting ecg', 'max heart rate',\n",
              "       'exercise angina', 'oldpeak', 'ST slope'],\n",
              "      dtype='object')"
            ]
          },
          "metadata": {},
          "execution_count": 194
        }
      ]
    },
    {
      "cell_type": "code",
      "source": [
        "all_columns = list(heart_data.columns.drop(target))\n",
        "X = heart_data[all_columns]\n",
        "y = heart_data[target]"
      ],
      "metadata": {
        "id": "ql088IqqqdIe"
      },
      "execution_count": null,
      "outputs": []
    },
    {
      "cell_type": "code",
      "source": [
        "#initializing 5 models\n",
        "rf = RandomForestClassifier(max_depth=4,random_state=42, class_weight='balanced')\n",
        "et = ExtraTreesClassifier(n_estimators=100, random_state=42, class_weight='balanced')\n",
        "dt = DecisionTreeClassifier(max_depth=5, random_state=42, class_weight='balanced')\n",
        "knn = KNeighborsClassifier(n_neighbors=5)\n",
        "svm = SVC(kernel='linear', C=1, random_state=42)\n",
        "gbm = GradientBoostingClassifier(n_estimators=100, learning_rate=0.1, random_state=42)"
      ],
      "metadata": {
        "id": "FvZac-ZBp6--"
      },
      "execution_count": null,
      "outputs": []
    },
    {
      "cell_type": "code",
      "source": [
        "#training and testing results lists to store in\n",
        "accuracy = []\n",
        "f1 = []\n",
        "precision = []\n",
        "recall = []\n",
        "#splitting data\n",
        "aX_train, aX_test, ay_train, ay_test = train_test_split(X, y, test_size=0.2, random_state=42)"
      ],
      "metadata": {
        "id": "xQRMQJlvqGEJ"
      },
      "execution_count": null,
      "outputs": []
    },
    {
      "cell_type": "code",
      "source": [
        "#function for training and testing\n",
        "def training(model, aX_train, aX_test, ay_train, ay_test):\n",
        "    model.fit(aX_train, ay_train)\n",
        "    ay_train_pred = model.predict(aX_train)\n",
        "    ay_test_pred = model.predict(aX_test)\n",
        "    accuracy.append(accuracy_score(ay_test, ay_test_pred))\n",
        "    f1.append(f1_score(ay_test, ay_test_pred))\n",
        "    precision.append(precision_score(ay_test, ay_test_pred))\n",
        "    recall.append(recall_score(ay_test, ay_test_pred))\n",
        "    print(classification_report(ay_test, ay_test_pred))"
      ],
      "metadata": {
        "id": "s5sOs27fqHUX"
      },
      "execution_count": null,
      "outputs": []
    },
    {
      "cell_type": "code",
      "source": [
        "#calling training function for each model\n",
        "training(rf, aX_train, aX_test, ay_train, ay_test)"
      ],
      "metadata": {
        "id": "25S2RLnxqIjo",
        "colab": {
          "base_uri": "https://localhost:8080/"
        },
        "outputId": "3ebcccf1-7b7a-4ad4-ed77-b76cc34a507e"
      },
      "execution_count": null,
      "outputs": [
        {
          "output_type": "stream",
          "name": "stdout",
          "text": [
            "              precision    recall  f1-score   support\n",
            "\n",
            "           0       0.87      0.87      0.87       107\n",
            "           1       0.89      0.89      0.89       131\n",
            "\n",
            "    accuracy                           0.88       238\n",
            "   macro avg       0.88      0.88      0.88       238\n",
            "weighted avg       0.88      0.88      0.88       238\n",
            "\n"
          ]
        }
      ]
    },
    {
      "cell_type": "code",
      "source": [
        "training(dt, aX_train, aX_test, ay_train, ay_test)"
      ],
      "metadata": {
        "id": "vg51r2D7rig-",
        "colab": {
          "base_uri": "https://localhost:8080/"
        },
        "outputId": "7c7ba918-52ce-4128-c033-28cf932f36e4"
      },
      "execution_count": null,
      "outputs": [
        {
          "output_type": "stream",
          "name": "stdout",
          "text": [
            "              precision    recall  f1-score   support\n",
            "\n",
            "           0       0.90      0.75      0.82       107\n",
            "           1       0.82      0.93      0.87       131\n",
            "\n",
            "    accuracy                           0.85       238\n",
            "   macro avg       0.86      0.84      0.84       238\n",
            "weighted avg       0.85      0.85      0.85       238\n",
            "\n"
          ]
        }
      ]
    },
    {
      "cell_type": "code",
      "source": [
        "training(knn, aX_train, aX_test, ay_train, ay_test)"
      ],
      "metadata": {
        "id": "AvP79T69rfFi",
        "colab": {
          "base_uri": "https://localhost:8080/"
        },
        "outputId": "bf52abf9-9cf1-4fea-e1d9-a943c1cd1c40"
      },
      "execution_count": null,
      "outputs": [
        {
          "output_type": "stream",
          "name": "stdout",
          "text": [
            "              precision    recall  f1-score   support\n",
            "\n",
            "           0       0.68      0.71      0.69       107\n",
            "           1       0.75      0.73      0.74       131\n",
            "\n",
            "    accuracy                           0.72       238\n",
            "   macro avg       0.72      0.72      0.72       238\n",
            "weighted avg       0.72      0.72      0.72       238\n",
            "\n"
          ]
        }
      ]
    },
    {
      "cell_type": "code",
      "source": [
        "training(gbm, aX_train, aX_test, ay_train, ay_test)"
      ],
      "metadata": {
        "id": "gWckWFdECl9E",
        "colab": {
          "base_uri": "https://localhost:8080/"
        },
        "outputId": "94850e79-d65e-49da-b3cb-097aa7ce6762"
      },
      "execution_count": null,
      "outputs": [
        {
          "output_type": "stream",
          "name": "stdout",
          "text": [
            "              precision    recall  f1-score   support\n",
            "\n",
            "           0       0.91      0.90      0.91       107\n",
            "           1       0.92      0.93      0.92       131\n",
            "\n",
            "    accuracy                           0.92       238\n",
            "   macro avg       0.92      0.91      0.91       238\n",
            "weighted avg       0.92      0.92      0.92       238\n",
            "\n"
          ]
        }
      ]
    },
    {
      "cell_type": "code",
      "source": [
        "training(svm, aX_train, aX_test, ay_train, ay_test)"
      ],
      "metadata": {
        "colab": {
          "base_uri": "https://localhost:8080/"
        },
        "id": "3tEIrToG9Z6o",
        "outputId": "6adb3cfc-3e22-4806-d914-1bfa96de4f78"
      },
      "execution_count": null,
      "outputs": [
        {
          "output_type": "stream",
          "name": "stdout",
          "text": [
            "              precision    recall  f1-score   support\n",
            "\n",
            "           0       0.84      0.82      0.83       107\n",
            "           1       0.86      0.87      0.86       131\n",
            "\n",
            "    accuracy                           0.85       238\n",
            "   macro avg       0.85      0.85      0.85       238\n",
            "weighted avg       0.85      0.85      0.85       238\n",
            "\n"
          ]
        }
      ]
    },
    {
      "cell_type": "code",
      "source": [
        "training(et, aX_train, aX_test, ay_train, ay_test)"
      ],
      "metadata": {
        "id": "8c-Bo0DTrkEj",
        "colab": {
          "base_uri": "https://localhost:8080/"
        },
        "outputId": "9befcfe2-8cad-46b2-dfd7-29a3d32cce67"
      },
      "execution_count": null,
      "outputs": [
        {
          "output_type": "stream",
          "name": "stdout",
          "text": [
            "              precision    recall  f1-score   support\n",
            "\n",
            "           0       0.92      0.94      0.93       107\n",
            "           1       0.95      0.93      0.94       131\n",
            "\n",
            "    accuracy                           0.94       238\n",
            "   macro avg       0.94      0.94      0.94       238\n",
            "weighted avg       0.94      0.94      0.94       238\n",
            "\n"
          ]
        }
      ]
    },
    {
      "cell_type": "code",
      "source": [
        "#all results\n",
        "models = [\"Random Forest\", \"Decision Tree\", \"k-Nearest Neighbors\", \"Gradient Boosting Machine\", \"Support Vector Machine\", \"Extra Trees\"]\n",
        "results = pd.DataFrame({\n",
        "    \"Model\": models,\n",
        "    \"Accuracy\": accuracy,\n",
        "    \"Precision\": precision,\n",
        "    \"Recall\": recall,\n",
        "    \"F1\": f1\n",
        "})\n",
        "print(results)"
      ],
      "metadata": {
        "colab": {
          "base_uri": "https://localhost:8080/"
        },
        "id": "HPkFQdiAqJlW",
        "outputId": "4e6b85f0-a9c8-491d-8519-ae405f843a02"
      },
      "execution_count": null,
      "outputs": [
        {
          "output_type": "stream",
          "name": "stdout",
          "text": [
            "                       Model  Accuracy  Precision    Recall        F1\n",
            "0              Random Forest  0.882353   0.893130  0.893130  0.893130\n",
            "1              Decision Tree  0.848739   0.818792  0.931298  0.871429\n",
            "2        k-Nearest Neighbors  0.718487   0.753968  0.725191  0.739300\n",
            "3  Gradient Boosting Machine  0.915966   0.917293  0.931298  0.924242\n",
            "4     Support Vector Machine  0.848739   0.857143  0.870229  0.863636\n",
            "5                Extra Trees  0.936975   0.953125  0.931298  0.942085\n"
          ]
        }
      ]
    },
    {
      "cell_type": "code",
      "source": [
        "heart_data.columns"
      ],
      "metadata": {
        "colab": {
          "base_uri": "https://localhost:8080/"
        },
        "id": "UrvUBeqKJbPG",
        "outputId": "9600d50e-6358-4913-901d-ef5a06bf4cad"
      },
      "execution_count": null,
      "outputs": [
        {
          "output_type": "execute_result",
          "data": {
            "text/plain": [
              "Index(['age', 'sex', 'chest pain type', 'resting bp s', 'cholesterol',\n",
              "       'fasting blood sugar', 'resting ecg', 'max heart rate',\n",
              "       'exercise angina', 'oldpeak', 'ST slope', 'target'],\n",
              "      dtype='object')"
            ]
          },
          "metadata": {},
          "execution_count": 206
        }
      ]
    },
    {
      "cell_type": "markdown",
      "source": [
        "##Feature Importance Ranking"
      ],
      "metadata": {
        "id": "gEdpgWNOcv-N"
      }
    },
    {
      "cell_type": "code",
      "source": [
        "def rank(the_model):\n",
        "  feature_importances = the_model.feature_importances_\n",
        "  ranking = pd.DataFrame({\n",
        "      'Feature': X.columns,\n",
        "      'Importance': feature_importances\n",
        "  }).sort_values(by='Importance', ascending=False)\n",
        "\n",
        "  print(ranking)"
      ],
      "metadata": {
        "id": "dRd9xWXdbtwU"
      },
      "execution_count": null,
      "outputs": []
    },
    {
      "cell_type": "code",
      "source": [
        "rank(rf)"
      ],
      "metadata": {
        "colab": {
          "base_uri": "https://localhost:8080/"
        },
        "id": "EbZyhyfNdT-Y",
        "outputId": "f2c82893-eec0-4f0a-d758-07b283d3dd24"
      },
      "execution_count": null,
      "outputs": [
        {
          "output_type": "stream",
          "name": "stdout",
          "text": [
            "                Feature  Importance\n",
            "10             ST slope    0.307498\n",
            "2       chest pain type    0.192244\n",
            "9               oldpeak    0.122014\n",
            "8       exercise angina    0.117147\n",
            "7        max heart rate    0.067680\n",
            "4           cholesterol    0.064525\n",
            "1                   sex    0.042679\n",
            "0                   age    0.042556\n",
            "3          resting bp s    0.023041\n",
            "5   fasting blood sugar    0.013083\n",
            "6           resting ecg    0.007532\n"
          ]
        }
      ]
    },
    {
      "cell_type": "code",
      "source": [
        "rank(dt)"
      ],
      "metadata": {
        "colab": {
          "base_uri": "https://localhost:8080/"
        },
        "id": "YfjDKyWFdfWd",
        "outputId": "8bb23df8-c0e4-4f3d-e7b7-59adfb6c3e33"
      },
      "execution_count": null,
      "outputs": [
        {
          "output_type": "stream",
          "name": "stdout",
          "text": [
            "                Feature  Importance\n",
            "10             ST slope    0.513429\n",
            "2       chest pain type    0.172394\n",
            "9               oldpeak    0.084700\n",
            "7        max heart rate    0.083859\n",
            "1                   sex    0.057109\n",
            "3          resting bp s    0.029284\n",
            "5   fasting blood sugar    0.020572\n",
            "0                   age    0.020384\n",
            "8       exercise angina    0.009420\n",
            "4           cholesterol    0.008849\n",
            "6           resting ecg    0.000000\n"
          ]
        }
      ]
    },
    {
      "cell_type": "code",
      "source": [
        "rank(gbm)"
      ],
      "metadata": {
        "colab": {
          "base_uri": "https://localhost:8080/"
        },
        "id": "roNA2Cmpdfjq",
        "outputId": "d07e2ac0-5f54-4c3f-e002-cc9ad40d6400"
      },
      "execution_count": null,
      "outputs": [
        {
          "output_type": "stream",
          "name": "stdout",
          "text": [
            "                Feature  Importance\n",
            "10             ST slope    0.399717\n",
            "2       chest pain type    0.141090\n",
            "9               oldpeak    0.084093\n",
            "7        max heart rate    0.083209\n",
            "4           cholesterol    0.077786\n",
            "8       exercise angina    0.047677\n",
            "0                   age    0.046599\n",
            "1                   sex    0.046086\n",
            "3          resting bp s    0.038352\n",
            "5   fasting blood sugar    0.023777\n",
            "6           resting ecg    0.011616\n"
          ]
        }
      ]
    },
    {
      "cell_type": "code",
      "source": [
        "rank(et)"
      ],
      "metadata": {
        "colab": {
          "base_uri": "https://localhost:8080/"
        },
        "id": "ngSO-wxEdftC",
        "outputId": "9e3f20f9-1859-4ddc-b377-c26dddbbab15"
      },
      "execution_count": null,
      "outputs": [
        {
          "output_type": "stream",
          "name": "stdout",
          "text": [
            "                Feature  Importance\n",
            "10             ST slope    0.161499\n",
            "8       exercise angina    0.140620\n",
            "2       chest pain type    0.129899\n",
            "9               oldpeak    0.095566\n",
            "7        max heart rate    0.093239\n",
            "4           cholesterol    0.089776\n",
            "0                   age    0.080637\n",
            "3          resting bp s    0.075222\n",
            "1                   sex    0.055412\n",
            "6           resting ecg    0.041936\n",
            "5   fasting blood sugar    0.036194\n"
          ]
        }
      ]
    },
    {
      "cell_type": "code",
      "source": [
        "from sklearn.inspection import permutation_importance"
      ],
      "metadata": {
        "id": "cSndLbb-d05J"
      },
      "execution_count": null,
      "outputs": []
    },
    {
      "cell_type": "code",
      "source": [
        "knn_result = permutation_importance(knn, X_test, y_test, n_repeats=10, random_state=42)"
      ],
      "metadata": {
        "id": "QnQs0SDYd6FT"
      },
      "execution_count": null,
      "outputs": []
    },
    {
      "cell_type": "code",
      "source": [
        "svm_result = permutation_importance(svm, X_test, y_test, n_repeats=10, random_state=42)"
      ],
      "metadata": {
        "id": "1C5ceKIGd6MR"
      },
      "execution_count": null,
      "outputs": []
    },
    {
      "cell_type": "code",
      "source": [
        "def rank_2(result):\n",
        "  perms = pd.DataFrame({\n",
        "      'Feature': X.columns,\n",
        "      '(Mean) Importance': result.importances_mean,\n",
        "  })\n",
        "  sorted_importances = perms.sort_values(by='(Mean) Importance', ascending=False)\n",
        "\n",
        "  print(sorted_importances)"
      ],
      "metadata": {
        "id": "_kihSJlLd9SM"
      },
      "execution_count": null,
      "outputs": []
    },
    {
      "cell_type": "code",
      "source": [
        "rank_2(knn_result)"
      ],
      "metadata": {
        "colab": {
          "base_uri": "https://localhost:8080/"
        },
        "id": "ccpN5LE7eff3",
        "outputId": "2e82c6f6-7fc4-4a02-f3c9-5a5592389391"
      },
      "execution_count": null,
      "outputs": [
        {
          "output_type": "stream",
          "name": "stdout",
          "text": [
            "                Feature  (Mean) Importance\n",
            "7        max heart rate           0.137815\n",
            "4           cholesterol           0.101261\n",
            "3          resting bp s           0.042437\n",
            "0                   age           0.020588\n",
            "8       exercise angina           0.003361\n",
            "6           resting ecg           0.002941\n",
            "9               oldpeak           0.002941\n",
            "1                   sex           0.001681\n",
            "10             ST slope           0.000000\n",
            "5   fasting blood sugar          -0.000840\n",
            "2       chest pain type          -0.002941\n"
          ]
        }
      ]
    },
    {
      "cell_type": "code",
      "source": [
        "rank_2(svm_result)"
      ],
      "metadata": {
        "colab": {
          "base_uri": "https://localhost:8080/"
        },
        "id": "txUXFmfqd-iZ",
        "outputId": "e9fdcec6-521e-4ac3-f8ed-39d1e0f127ee"
      },
      "execution_count": null,
      "outputs": [
        {
          "output_type": "stream",
          "name": "stdout",
          "text": [
            "                Feature  (Mean) Importance\n",
            "10             ST slope           0.079412\n",
            "2       chest pain type           0.037815\n",
            "8       exercise angina           0.035294\n",
            "1                   sex           0.025210\n",
            "9               oldpeak           0.015966\n",
            "4           cholesterol           0.003361\n",
            "5   fasting blood sugar           0.001261\n",
            "6           resting ecg          -0.002521\n",
            "3          resting bp s          -0.002941\n",
            "7        max heart rate          -0.005042\n",
            "0                   age          -0.013866\n"
          ]
        }
      ]
    },
    {
      "cell_type": "markdown",
      "source": [
        "##Testing collective performance by removing certain features from all features"
      ],
      "metadata": {
        "id": "yZNTgHjtW1_a"
      }
    },
    {
      "cell_type": "code",
      "source": [
        "initial_dict = {} #run this only once"
      ],
      "metadata": {
        "id": "qAcI743_XMKU"
      },
      "execution_count": null,
      "outputs": []
    },
    {
      "cell_type": "code",
      "source": [
        "def remov(*items):\n",
        "    return [item for item in list(heart_data.columns.drop(target)) if item not in items]"
      ],
      "metadata": {
        "id": "wpelSGlOXu2p"
      },
      "execution_count": null,
      "outputs": []
    },
    {
      "cell_type": "code",
      "source": [
        "all_columns = remov('exercise angina') #'slope' had a good effect on GBM"
      ],
      "metadata": {
        "id": "bdWyp9x5YRN3"
      },
      "execution_count": null,
      "outputs": []
    },
    {
      "cell_type": "code",
      "source": [
        "X = heart_data[all_columns]\n",
        "y = heart_data[target]\n",
        "gbm = GradientBoostingClassifier(n_estimators=100, learning_rate=0.1, random_state=42)\n",
        "#training and testing results lists to store in\n",
        "accuracy = []\n",
        "f1 = []\n",
        "precision = []\n",
        "recall = []\n",
        "#splitting data\n",
        "aX_train, aX_test, ay_train, ay_test = train_test_split(X, y, test_size=0.2, random_state=42)\n",
        "#function for training and testing\n",
        "def training(model, aX_train, aX_test, ay_train, ay_test):\n",
        "    model.fit(aX_train, ay_train)\n",
        "    ay_train_pred = model.predict(aX_train)\n",
        "    ay_test_pred = model.predict(aX_test)\n",
        "    accuracy.append(accuracy_score(ay_test, ay_test_pred))\n",
        "    f1.append(f1_score(ay_test, ay_test_pred))\n",
        "    precision.append(precision_score(ay_test, ay_test_pred))\n",
        "    recall.append(recall_score(ay_test, ay_test_pred))\n",
        "training(rf, aX_train, aX_test, ay_train, ay_test)\n",
        "training(dt, aX_train, aX_test, ay_train, ay_test)\n",
        "training(knn, aX_train, aX_test, ay_train, ay_test)\n",
        "training(gbm, aX_train, aX_test, ay_train, ay_test)\n",
        "training(svm, aX_train, aX_test, ay_train, ay_test)\n",
        "training(et, aX_train, aX_test, ay_train, ay_test)\n",
        "#one model's results over different features\n",
        "models = [\"Random Forest\", \"Decision Tree\", \"k-Nearest Neighbors\", \"Gradient Boosting Machine\", \"Support Vector Machine\", \"Extra Trees\"]\n",
        "results = pd.DataFrame({\n",
        "    \"Model\": models,\n",
        "    \"Accuracy\": accuracy,\n",
        "    \"Precision\": precision,\n",
        "    \"Recall\": recall,\n",
        "    \"F1\": f1\n",
        "})\n",
        "print(results)\n",
        "initial_dict[str(all_columns)+\" | length \"+str(len(all_columns))] = results"
      ],
      "metadata": {
        "colab": {
          "base_uri": "https://localhost:8080/"
        },
        "id": "IPIIRmqEW7XC",
        "outputId": "14f92a44-eb67-4469-83cf-5093f0d8bb59"
      },
      "execution_count": null,
      "outputs": [
        {
          "output_type": "stream",
          "name": "stdout",
          "text": [
            "                       Model  Accuracy  Precision    Recall        F1\n",
            "0              Random Forest  0.886555   0.893939  0.900763  0.897338\n",
            "1              Decision Tree  0.848739   0.818792  0.931298  0.871429\n",
            "2        k-Nearest Neighbors  0.718487   0.753968  0.725191  0.739300\n",
            "3  Gradient Boosting Machine  0.907563   0.903704  0.931298  0.917293\n",
            "4     Support Vector Machine  0.831933   0.837037  0.862595  0.849624\n",
            "5                Extra Trees  0.936975   0.946154  0.938931  0.942529\n"
          ]
        }
      ]
    },
    {
      "cell_type": "code",
      "source": [
        "initial_dict"
      ],
      "metadata": {
        "colab": {
          "base_uri": "https://localhost:8080/"
        },
        "id": "vsGMi1PcYrey",
        "outputId": "d00eda3f-7591-4527-8da2-a604734f0757"
      },
      "execution_count": null,
      "outputs": [
        {
          "output_type": "execute_result",
          "data": {
            "text/plain": [
              "{\"['age', 'sex', 'chest pain type', 'resting bp s', 'cholesterol', 'fasting blood sugar', 'resting ecg', 'max heart rate', 'exercise angina', 'oldpeak', 'ST slope']\":                        Model  Accuracy  Precision    Recall        F1\n",
              " 0              Random Forest  0.882353   0.893130  0.893130  0.893130\n",
              " 1              Decision Tree  0.848739   0.818792  0.931298  0.871429\n",
              " 2        k-Nearest Neighbors  0.718487   0.753968  0.725191  0.739300\n",
              " 3  Gradient Boosting Machine  0.915966   0.917293  0.931298  0.924242\n",
              " 4     Support Vector Machine  0.848739   0.857143  0.870229  0.863636\n",
              " 5                Extra Trees  0.936975   0.953125  0.931298  0.942085,\n",
              " \"['age', 'chest pain type', 'resting bp s', 'cholesterol', 'resting ecg', 'max heart rate', 'exercise angina', 'oldpeak', 'ST slope']\":                        Model  Accuracy  Precision    Recall        F1\n",
              " 0              Random Forest  0.865546   0.866667  0.893130  0.879699\n",
              " 1              Decision Tree  0.815126   0.791946  0.900763  0.842857\n",
              " 2        k-Nearest Neighbors  0.718487   0.753968  0.725191  0.739300\n",
              " 3  Gradient Boosting Machine  0.878151   0.859155  0.931298  0.893773\n",
              " 4     Support Vector Machine  0.836134   0.838235  0.870229  0.853933\n",
              " 5                Extra Trees  0.899160   0.902256  0.916031  0.909091,\n",
              " \"['age', 'sex', 'chest pain type', 'resting bp s', 'cholesterol', 'resting ecg', 'max heart rate', 'exercise angina', 'oldpeak', 'ST slope']\":                        Model  Accuracy  Precision    Recall        F1\n",
              " 0              Random Forest  0.890756   0.894737  0.908397  0.901515\n",
              " 1              Decision Tree  0.848739   0.818792  0.931298  0.871429\n",
              " 2        k-Nearest Neighbors  0.718487   0.753968  0.725191  0.739300\n",
              " 3  Gradient Boosting Machine  0.928571   0.919118  0.954198  0.936330\n",
              " 4     Support Vector Machine  0.848739   0.841727  0.893130  0.866667\n",
              " 5                Extra Trees  0.928571   0.938462  0.931298  0.934866,\n",
              " \"['age', 'sex', 'chest pain type', 'resting bp s', 'cholesterol', 'fasting blood sugar', 'resting ecg', 'max heart rate', 'exercise angina', 'oldpeak', 'ST slope']11\":                        Model  Accuracy  Precision    Recall        F1\n",
              " 0              Random Forest  0.882353   0.893130  0.893130  0.893130\n",
              " 1              Decision Tree  0.848739   0.818792  0.931298  0.871429\n",
              " 2        k-Nearest Neighbors  0.718487   0.753968  0.725191  0.739300\n",
              " 3  Gradient Boosting Machine  0.915966   0.917293  0.931298  0.924242\n",
              " 4     Support Vector Machine  0.848739   0.857143  0.870229  0.863636\n",
              " 5                Extra Trees  0.936975   0.953125  0.931298  0.942085,\n",
              " \"['age', 'sex', 'chest pain type', 'resting bp s', 'cholesterol', 'fasting blood sugar', 'resting ecg', 'max heart rate', 'oldpeak', 'ST slope']10\":                        Model  Accuracy  Precision    Recall        F1\n",
              " 0              Random Forest  0.886555   0.893939  0.900763  0.897338\n",
              " 1              Decision Tree  0.848739   0.818792  0.931298  0.871429\n",
              " 2        k-Nearest Neighbors  0.718487   0.753968  0.725191  0.739300\n",
              " 3  Gradient Boosting Machine  0.907563   0.903704  0.931298  0.917293\n",
              " 4     Support Vector Machine  0.831933   0.837037  0.862595  0.849624\n",
              " 5                Extra Trees  0.936975   0.946154  0.938931  0.942529}"
            ]
          },
          "metadata": {},
          "execution_count": 235
        }
      ]
    },
    {
      "cell_type": "markdown",
      "source": [
        "Looks like removing exercise angina increased the accuracy by a tiny bit"
      ],
      "metadata": {
        "id": "cTIOXGPAJDhs"
      }
    },
    {
      "cell_type": "markdown",
      "source": [
        "##Testing for best single feature for the best models\n",
        "\n"
      ],
      "metadata": {
        "id": "bkhV4NNxVeku"
      }
    },
    {
      "cell_type": "code",
      "source": [
        "#initializing 5 models\n",
        "rf = RandomForestClassifier(max_depth=4,random_state=42, class_weight='balanced')\n",
        "et = ExtraTreesClassifier(n_estimators=100, random_state=42, class_weight='balanced')\n",
        "dt = DecisionTreeClassifier(max_depth=5, random_state=42, class_weight='balanced')\n",
        "knn = KNeighborsClassifier(n_neighbors=5)\n",
        "svm = SVC(kernel='linear', C=1, random_state=42)\n",
        "gbm = GradientBoostingClassifier(n_estimators=100, learning_rate=0.1, random_state=42)"
      ],
      "metadata": {
        "id": "GGRowTa9J8qN"
      },
      "execution_count": null,
      "outputs": []
    },
    {
      "cell_type": "code",
      "source": [
        "def single_feature(c_model):\n",
        "  for k in heart_data.columns.drop(target):\n",
        "    X = heart_data[[k]]\n",
        "    y = heart_data[target]\n",
        "    #f1 score\n",
        "    f1 = 0\n",
        "    #splitting data\n",
        "    aX_train, aX_test, ay_train, ay_test = train_test_split(X, y, test_size=0.2, random_state=42)\n",
        "    #function for training and testing\n",
        "    c_model.fit(aX_train, ay_train)\n",
        "    ay_train_pred = c_model.predict(aX_train)\n",
        "    ay_test_pred = c_model.predict(aX_test)\n",
        "    f1 = f1_score(ay_test, ay_test_pred)\n",
        "    #one model's results over different features\n",
        "    print(k+\":\", f1)"
      ],
      "metadata": {
        "id": "XiCiSv2jI3nG"
      },
      "execution_count": null,
      "outputs": []
    },
    {
      "cell_type": "code",
      "source": [
        "single_feature(rf)"
      ],
      "metadata": {
        "colab": {
          "base_uri": "https://localhost:8080/"
        },
        "id": "W420o2JNKthu",
        "outputId": "cf3b5ad6-f377-47a7-b8af-5d4c290cbfd4"
      },
      "execution_count": null,
      "outputs": [
        {
          "output_type": "stream",
          "name": "stdout",
          "text": [
            "age: 0.6381322957198444\n",
            "sex: 0.7562500000000001\n",
            "chest pain type: 0.7795275590551182\n",
            "resting bp s: 0.4519230769230769\n",
            "cholesterol: 0.6180257510729613\n",
            "fasting blood sugar: 0.42222222222222217\n",
            "resting ecg: 0.5407725321888412\n",
            "max heart rate: 0.723076923076923\n",
            "exercise angina: 0.7381974248927038\n",
            "oldpeak: 0.7086614173228347\n",
            "ST slope: 0.8074074074074076\n"
          ]
        }
      ]
    },
    {
      "cell_type": "code",
      "source": [
        "single_feature(gbm)"
      ],
      "metadata": {
        "colab": {
          "base_uri": "https://localhost:8080/"
        },
        "id": "dUwTorhMMSmy",
        "outputId": "b74a2c2f-3332-47a0-91e2-556cd20f3275"
      },
      "execution_count": null,
      "outputs": [
        {
          "output_type": "stream",
          "name": "stdout",
          "text": [
            "age: 0.640926640926641\n",
            "sex: 0.7562500000000001\n",
            "chest pain type: 0.7795275590551182\n",
            "resting bp s: 0.6343283582089552\n",
            "cholesterol: 0.688\n",
            "fasting blood sugar: 0.42222222222222217\n",
            "resting ecg: 0.5407725321888412\n",
            "max heart rate: 0.7272727272727273\n",
            "exercise angina: 0.7381974248927038\n",
            "oldpeak: 0.7086614173228347\n",
            "ST slope: 0.8074074074074076\n"
          ]
        }
      ]
    },
    {
      "cell_type": "code",
      "source": [
        "single_feature(et)"
      ],
      "metadata": {
        "colab": {
          "base_uri": "https://localhost:8080/"
        },
        "id": "50oFtmvjMSpC",
        "outputId": "e6bb44a3-6c6e-4013-883a-75e4212caa27"
      },
      "execution_count": null,
      "outputs": [
        {
          "output_type": "stream",
          "name": "stdout",
          "text": [
            "age: 0.6381322957198444\n",
            "sex: 0.7562500000000001\n",
            "chest pain type: 0.7795275590551182\n",
            "resting bp s: 0.5405405405405406\n",
            "cholesterol: 0.6422764227642276\n",
            "fasting blood sugar: 0.42222222222222217\n",
            "resting ecg: 0.5407725321888412\n",
            "max heart rate: 0.6746031746031745\n",
            "exercise angina: 0.7381974248927038\n",
            "oldpeak: 0.7086614173228347\n",
            "ST slope: 0.8074074074074076\n"
          ]
        }
      ]
    },
    {
      "cell_type": "markdown",
      "source": [
        "##Concluding Evaluations"
      ],
      "metadata": {
        "id": "IUYJr-DnVikI"
      }
    },
    {
      "cell_type": "code",
      "source": [
        "from sklearn.metrics import classification_report"
      ],
      "metadata": {
        "id": "Ga_RivSiOw5O"
      },
      "execution_count": null,
      "outputs": []
    },
    {
      "cell_type": "code",
      "source": [
        "heart_data.columns.drop(target)"
      ],
      "metadata": {
        "colab": {
          "base_uri": "https://localhost:8080/"
        },
        "id": "xxQoOZHENg-b",
        "outputId": "02443b1e-7a04-4763-9401-71ebe3e0971c"
      },
      "execution_count": null,
      "outputs": [
        {
          "output_type": "execute_result",
          "data": {
            "text/plain": [
              "Index(['age', 'sex', 'chest pain type', 'resting bp s', 'cholesterol',\n",
              "       'fasting blood sugar', 'resting ecg', 'max heart rate',\n",
              "       'exercise angina', 'oldpeak', 'ST slope'],\n",
              "      dtype='object')"
            ]
          },
          "metadata": {},
          "execution_count": 279
        }
      ]
    },
    {
      "cell_type": "markdown",
      "source": [
        "Lifestyle factor(s): exercise angina"
      ],
      "metadata": {
        "id": "vpe2rde2RdLH"
      }
    },
    {
      "cell_type": "markdown",
      "source": [
        "###With lifestyle factor(s)"
      ],
      "metadata": {
        "id": "Sp975NQbRmbM"
      }
    },
    {
      "cell_type": "code",
      "source": [
        "#testing for the best mulitple features ranked by importance by that model, from a preivous section\n",
        "all_columns = remov('exercise angina')\n",
        "X = heart_data[all_columns]\n",
        "y = heart_data[target]\n",
        "#initializing 5 models\n",
        "model = ExtraTreesClassifier(n_estimators=100, random_state=42, class_weight='balanced')\n",
        "#splitting data\n",
        "aX_train, aX_test, ay_train, ay_test = train_test_split(X, y, test_size=0.2, random_state=42)\n",
        "#function for training and testing\n",
        "model.fit(aX_train, ay_train)\n",
        "ay_train_pred = model.predict(aX_train)\n",
        "ay_test_pred = model.predict(aX_test)\n",
        "with_f1 = f1_score(ay_test,ay_test_pred)"
      ],
      "metadata": {
        "id": "MqtYQu7FQvmT"
      },
      "execution_count": null,
      "outputs": []
    },
    {
      "cell_type": "markdown",
      "source": [
        "###Without lifestyle factor(s)"
      ],
      "metadata": {
        "id": "VbqcWTEGRsBB"
      }
    },
    {
      "cell_type": "code",
      "source": [
        "#Using best model from preivous evaluations\n",
        "all_columns = remov()\n",
        "X = heart_data[all_columns]\n",
        "y = heart_data[target]\n",
        "#initializing 5 models\n",
        "model = ExtraTreesClassifier(n_estimators=100, random_state=42, class_weight='balanced')\n",
        "#splitting data\n",
        "aX_train, aX_test, ay_train, ay_test = train_test_split(X, y, test_size=0.2, random_state=42)\n",
        "#function for training and testing\n",
        "model.fit(aX_train, ay_train)\n",
        "ay_train_pred = model.predict(aX_train)\n",
        "ay_test_pred = model.predict(aX_test)\n",
        "without_f1 = f1_score(ay_test,ay_test_pred)"
      ],
      "metadata": {
        "id": "NUDjWyLIRtKF"
      },
      "execution_count": null,
      "outputs": []
    },
    {
      "cell_type": "code",
      "source": [
        "print(f'{with_f1} (factors)\\n{without_f1} (no factors)')"
      ],
      "metadata": {
        "id": "PXdrC0UlPVDv",
        "colab": {
          "base_uri": "https://localhost:8080/"
        },
        "outputId": "de453d90-3b92-48aa-8a71-af07f4145c71"
      },
      "execution_count": null,
      "outputs": [
        {
          "output_type": "stream",
          "name": "stdout",
          "text": [
            "0.9425287356321839 (factors)\n",
            "0.9420849420849421 (no factors)\n"
          ]
        }
      ]
    },
    {
      "cell_type": "markdown",
      "source": [
        "###Findings (Lifestyle vs No Lifestyle Factors)\n",
        "Removing exercise induced angina did not affect the result much, as it barely decreased the accuracy.\n",
        "\n",
        "However, the feature importance of Extra Trees shows that it was the second most important feature, second to ST Slope."
      ],
      "metadata": {
        "id": "TzjnixhiO_Yx"
      }
    },
    {
      "cell_type": "markdown",
      "source": [
        "Removing Other Most Important Features Ranked from Before for this model:\n",
        "\n",
        "ST slope (1st), chest pain (3rd), old peak (4th)"
      ],
      "metadata": {
        "id": "NoPJ93KGX0xP"
      }
    },
    {
      "cell_type": "code",
      "source": [
        "#Using best model from preivous evaluations\n",
        "all_columns = remov('ST slope')\n",
        "X = heart_data[all_columns]\n",
        "y = heart_data[target]\n",
        "#initializing 5 models\n",
        "model = ExtraTreesClassifier(n_estimators=100, random_state=42, class_weight='balanced')\n",
        "#splitting data\n",
        "aX_train, aX_test, ay_train, ay_test = train_test_split(X, y, test_size=0.2, random_state=42)\n",
        "#function for training and testing\n",
        "model.fit(aX_train, ay_train)\n",
        "ay_train_pred = model.predict(aX_train)\n",
        "ay_test_pred = model.predict(aX_test)\n",
        "print(f1_score(ay_test,ay_test_pred))"
      ],
      "metadata": {
        "colab": {
          "base_uri": "https://localhost:8080/"
        },
        "id": "a-Dj9vswXwlA",
        "outputId": "4f278de8-6679-4423-d30c-92e72aa18784"
      },
      "execution_count": null,
      "outputs": [
        {
          "output_type": "stream",
          "name": "stdout",
          "text": [
            "0.9140625000000001\n"
          ]
        }
      ]
    },
    {
      "cell_type": "code",
      "source": [
        "#Using best model from preivous evaluations\n",
        "all_columns = remov('chest pain')\n",
        "X = heart_data[all_columns]\n",
        "y = heart_data[target]\n",
        "#initializing 5 models\n",
        "model = ExtraTreesClassifier(n_estimators=100, random_state=42, class_weight='balanced')\n",
        "#splitting data\n",
        "aX_train, aX_test, ay_train, ay_test = train_test_split(X, y, test_size=0.2, random_state=42)\n",
        "#function for training and testing\n",
        "model.fit(aX_train, ay_train)\n",
        "ay_train_pred = model.predict(aX_train)\n",
        "ay_test_pred = model.predict(aX_test)\n",
        "print(f1_score(ay_test,ay_test_pred))"
      ],
      "metadata": {
        "colab": {
          "base_uri": "https://localhost:8080/"
        },
        "id": "hed2ctjZYE1G",
        "outputId": "5840c15a-eadb-4b8c-c81d-170d5241adc6"
      },
      "execution_count": null,
      "outputs": [
        {
          "output_type": "stream",
          "name": "stdout",
          "text": [
            "0.9420849420849421\n"
          ]
        }
      ]
    },
    {
      "cell_type": "code",
      "source": [
        "#Using best model from preivous evaluations\n",
        "all_columns = remov('oldpeak')\n",
        "X = heart_data[all_columns]\n",
        "y = heart_data[target]\n",
        "#initializing 5 models\n",
        "model = ExtraTreesClassifier(n_estimators=100, random_state=42, class_weight='balanced')\n",
        "#splitting data\n",
        "aX_train, aX_test, ay_train, ay_test = train_test_split(X, y, test_size=0.2, random_state=42)\n",
        "#function for training and testing\n",
        "model.fit(aX_train, ay_train)\n",
        "ay_train_pred = model.predict(aX_train)\n",
        "ay_test_pred = model.predict(aX_test)\n",
        "print(f1_score(ay_test,ay_test_pred))"
      ],
      "metadata": {
        "colab": {
          "base_uri": "https://localhost:8080/"
        },
        "id": "lIHWDLnHYH5V",
        "outputId": "8a715b57-9aae-4c09-d719-7efc16d48c35"
      },
      "execution_count": null,
      "outputs": [
        {
          "output_type": "stream",
          "name": "stdout",
          "text": [
            "0.9501915708812262\n"
          ]
        }
      ]
    },
    {
      "cell_type": "markdown",
      "source": [
        "* Removing oldpeak improved the model performance by 1%\n",
        "* Removing chest pain did not have much of an impact\n",
        "* Removing ST slope decreased accuracy to 91%\n",
        "\n",
        "Therefore, ST slope seems like an an important feature in predicting heart disease, as it was also ranked the most important feature of this model\n",
        "\n",
        "Slope of the Peak Exercise ST Segment is a psycological measure that can indicate how well the heart is functioning under stress."
      ],
      "metadata": {
        "id": "gM3ap1jCYZW1"
      }
    }
  ]
}