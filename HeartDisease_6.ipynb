{
  "nbformat": 4,
  "nbformat_minor": 0,
  "metadata": {
    "colab": {
      "provenance": [],
      "authorship_tag": "ABX9TyMEhnyNTKnLiG7Cger7enZQ",
      "include_colab_link": true
    },
    "kernelspec": {
      "name": "python3",
      "display_name": "Python 3"
    },
    "language_info": {
      "name": "python"
    }
  },
  "cells": [
    {
      "cell_type": "markdown",
      "metadata": {
        "id": "view-in-github",
        "colab_type": "text"
      },
      "source": [
        "<a href=\"https://colab.research.google.com/github/HamburgermanA3445/heartdiseaseprediction/blob/main/HeartDisease_6.ipynb\" target=\"_parent\"><img src=\"https://colab.research.google.com/assets/colab-badge.svg\" alt=\"Open In Colab\"/></a>"
      ]
    },
    {
      "cell_type": "markdown",
      "source": [
        "Successful, obtained from Kaggle:\n",
        "\n",
        "https://www.kaggle.com/datasets/fedesoriano/heart-failure-prediction"
      ],
      "metadata": {
        "id": "ZT6L1IQmDaJG"
      }
    },
    {
      "cell_type": "code",
      "source": [
        "!unzip \"/content/fedesoriano (6).zip\""
      ],
      "metadata": {
        "colab": {
          "base_uri": "https://localhost:8080/"
        },
        "id": "S6V-lZy9Xaqt",
        "outputId": "c68b2bb2-2dc0-40e2-cbda-6554a088f358"
      },
      "execution_count": null,
      "outputs": [
        {
          "output_type": "stream",
          "name": "stdout",
          "text": [
            "Archive:  /content/fedesoriano (6).zip\n",
            "  inflating: heart.csv               \n"
          ]
        }
      ]
    },
    {
      "cell_type": "code",
      "source": [
        "import pandas as pd\n",
        "from sklearn.preprocessing import LabelEncoder"
      ],
      "metadata": {
        "id": "kOo-yJDnFrvo"
      },
      "execution_count": null,
      "outputs": []
    },
    {
      "cell_type": "code",
      "source": [
        "heart_data = pd.read_csv(\"/content/heart.csv\")"
      ],
      "metadata": {
        "id": "HBfI_JItXdEM"
      },
      "execution_count": null,
      "outputs": []
    },
    {
      "cell_type": "code",
      "source": [
        "label_encoders = {}\n",
        "\n",
        "for col in heart_data.select_dtypes(include=['object']).columns:\n",
        "    le = LabelEncoder()\n",
        "    heart_data[col] = le.fit_transform(heart_data[col])\n",
        "    label_encoders[col] = le"
      ],
      "metadata": {
        "id": "FhB_TNorcdaE"
      },
      "execution_count": null,
      "outputs": []
    },
    {
      "cell_type": "code",
      "source": [
        "heart_data.columns"
      ],
      "metadata": {
        "colab": {
          "base_uri": "https://localhost:8080/"
        },
        "id": "-1mUGmY4XdIx",
        "outputId": "43af5f8b-baba-4883-ab41-788cadd23774"
      },
      "execution_count": null,
      "outputs": [
        {
          "output_type": "execute_result",
          "data": {
            "text/plain": [
              "Index(['Age', 'Sex', 'ChestPainType', 'RestingBP', 'Cholesterol', 'FastingBS',\n",
              "       'RestingECG', 'MaxHR', 'ExerciseAngina', 'Oldpeak', 'ST_Slope',\n",
              "       'HeartDisease'],\n",
              "      dtype='object')"
            ]
          },
          "metadata": {},
          "execution_count": 6
        }
      ]
    },
    {
      "cell_type": "code",
      "source": [
        "target = 'HeartDisease'\n",
        "all_columns = heart_data.columns.drop(target)"
      ],
      "metadata": {
        "id": "WR5drfXaLgrI"
      },
      "execution_count": null,
      "outputs": []
    },
    {
      "cell_type": "code",
      "source": [
        "heart_data.head()"
      ],
      "metadata": {
        "id": "cnbXNe-AaUlU",
        "colab": {
          "base_uri": "https://localhost:8080/",
          "height": 226
        },
        "outputId": "f2cfcff6-5514-485d-865e-a244a07aae43"
      },
      "execution_count": null,
      "outputs": [
        {
          "output_type": "execute_result",
          "data": {
            "text/plain": [
              "   Age  Sex  ChestPainType  RestingBP  Cholesterol  FastingBS  RestingECG  \\\n",
              "0   40    1              1        140          289          0           1   \n",
              "1   49    0              2        160          180          0           1   \n",
              "2   37    1              1        130          283          0           2   \n",
              "3   48    0              0        138          214          0           1   \n",
              "4   54    1              2        150          195          0           1   \n",
              "\n",
              "   MaxHR  ExerciseAngina  Oldpeak  ST_Slope  HeartDisease  \n",
              "0    172               0      0.0         2             0  \n",
              "1    156               0      1.0         1             1  \n",
              "2     98               0      0.0         2             0  \n",
              "3    108               1      1.5         1             1  \n",
              "4    122               0      0.0         2             0  "
            ],
            "text/html": [
              "\n",
              "  <div id=\"df-7cc90cb8-92e3-4d39-9da0-9187ba807112\" class=\"colab-df-container\">\n",
              "    <div>\n",
              "<style scoped>\n",
              "    .dataframe tbody tr th:only-of-type {\n",
              "        vertical-align: middle;\n",
              "    }\n",
              "\n",
              "    .dataframe tbody tr th {\n",
              "        vertical-align: top;\n",
              "    }\n",
              "\n",
              "    .dataframe thead th {\n",
              "        text-align: right;\n",
              "    }\n",
              "</style>\n",
              "<table border=\"1\" class=\"dataframe\">\n",
              "  <thead>\n",
              "    <tr style=\"text-align: right;\">\n",
              "      <th></th>\n",
              "      <th>Age</th>\n",
              "      <th>Sex</th>\n",
              "      <th>ChestPainType</th>\n",
              "      <th>RestingBP</th>\n",
              "      <th>Cholesterol</th>\n",
              "      <th>FastingBS</th>\n",
              "      <th>RestingECG</th>\n",
              "      <th>MaxHR</th>\n",
              "      <th>ExerciseAngina</th>\n",
              "      <th>Oldpeak</th>\n",
              "      <th>ST_Slope</th>\n",
              "      <th>HeartDisease</th>\n",
              "    </tr>\n",
              "  </thead>\n",
              "  <tbody>\n",
              "    <tr>\n",
              "      <th>0</th>\n",
              "      <td>40</td>\n",
              "      <td>1</td>\n",
              "      <td>1</td>\n",
              "      <td>140</td>\n",
              "      <td>289</td>\n",
              "      <td>0</td>\n",
              "      <td>1</td>\n",
              "      <td>172</td>\n",
              "      <td>0</td>\n",
              "      <td>0.0</td>\n",
              "      <td>2</td>\n",
              "      <td>0</td>\n",
              "    </tr>\n",
              "    <tr>\n",
              "      <th>1</th>\n",
              "      <td>49</td>\n",
              "      <td>0</td>\n",
              "      <td>2</td>\n",
              "      <td>160</td>\n",
              "      <td>180</td>\n",
              "      <td>0</td>\n",
              "      <td>1</td>\n",
              "      <td>156</td>\n",
              "      <td>0</td>\n",
              "      <td>1.0</td>\n",
              "      <td>1</td>\n",
              "      <td>1</td>\n",
              "    </tr>\n",
              "    <tr>\n",
              "      <th>2</th>\n",
              "      <td>37</td>\n",
              "      <td>1</td>\n",
              "      <td>1</td>\n",
              "      <td>130</td>\n",
              "      <td>283</td>\n",
              "      <td>0</td>\n",
              "      <td>2</td>\n",
              "      <td>98</td>\n",
              "      <td>0</td>\n",
              "      <td>0.0</td>\n",
              "      <td>2</td>\n",
              "      <td>0</td>\n",
              "    </tr>\n",
              "    <tr>\n",
              "      <th>3</th>\n",
              "      <td>48</td>\n",
              "      <td>0</td>\n",
              "      <td>0</td>\n",
              "      <td>138</td>\n",
              "      <td>214</td>\n",
              "      <td>0</td>\n",
              "      <td>1</td>\n",
              "      <td>108</td>\n",
              "      <td>1</td>\n",
              "      <td>1.5</td>\n",
              "      <td>1</td>\n",
              "      <td>1</td>\n",
              "    </tr>\n",
              "    <tr>\n",
              "      <th>4</th>\n",
              "      <td>54</td>\n",
              "      <td>1</td>\n",
              "      <td>2</td>\n",
              "      <td>150</td>\n",
              "      <td>195</td>\n",
              "      <td>0</td>\n",
              "      <td>1</td>\n",
              "      <td>122</td>\n",
              "      <td>0</td>\n",
              "      <td>0.0</td>\n",
              "      <td>2</td>\n",
              "      <td>0</td>\n",
              "    </tr>\n",
              "  </tbody>\n",
              "</table>\n",
              "</div>\n",
              "    <div class=\"colab-df-buttons\">\n",
              "\n",
              "  <div class=\"colab-df-container\">\n",
              "    <button class=\"colab-df-convert\" onclick=\"convertToInteractive('df-7cc90cb8-92e3-4d39-9da0-9187ba807112')\"\n",
              "            title=\"Convert this dataframe to an interactive table.\"\n",
              "            style=\"display:none;\">\n",
              "\n",
              "  <svg xmlns=\"http://www.w3.org/2000/svg\" height=\"24px\" viewBox=\"0 -960 960 960\">\n",
              "    <path d=\"M120-120v-720h720v720H120Zm60-500h600v-160H180v160Zm220 220h160v-160H400v160Zm0 220h160v-160H400v160ZM180-400h160v-160H180v160Zm440 0h160v-160H620v160ZM180-180h160v-160H180v160Zm440 0h160v-160H620v160Z\"/>\n",
              "  </svg>\n",
              "    </button>\n",
              "\n",
              "  <style>\n",
              "    .colab-df-container {\n",
              "      display:flex;\n",
              "      gap: 12px;\n",
              "    }\n",
              "\n",
              "    .colab-df-convert {\n",
              "      background-color: #E8F0FE;\n",
              "      border: none;\n",
              "      border-radius: 50%;\n",
              "      cursor: pointer;\n",
              "      display: none;\n",
              "      fill: #1967D2;\n",
              "      height: 32px;\n",
              "      padding: 0 0 0 0;\n",
              "      width: 32px;\n",
              "    }\n",
              "\n",
              "    .colab-df-convert:hover {\n",
              "      background-color: #E2EBFA;\n",
              "      box-shadow: 0px 1px 2px rgba(60, 64, 67, 0.3), 0px 1px 3px 1px rgba(60, 64, 67, 0.15);\n",
              "      fill: #174EA6;\n",
              "    }\n",
              "\n",
              "    .colab-df-buttons div {\n",
              "      margin-bottom: 4px;\n",
              "    }\n",
              "\n",
              "    [theme=dark] .colab-df-convert {\n",
              "      background-color: #3B4455;\n",
              "      fill: #D2E3FC;\n",
              "    }\n",
              "\n",
              "    [theme=dark] .colab-df-convert:hover {\n",
              "      background-color: #434B5C;\n",
              "      box-shadow: 0px 1px 3px 1px rgba(0, 0, 0, 0.15);\n",
              "      filter: drop-shadow(0px 1px 2px rgba(0, 0, 0, 0.3));\n",
              "      fill: #FFFFFF;\n",
              "    }\n",
              "  </style>\n",
              "\n",
              "    <script>\n",
              "      const buttonEl =\n",
              "        document.querySelector('#df-7cc90cb8-92e3-4d39-9da0-9187ba807112 button.colab-df-convert');\n",
              "      buttonEl.style.display =\n",
              "        google.colab.kernel.accessAllowed ? 'block' : 'none';\n",
              "\n",
              "      async function convertToInteractive(key) {\n",
              "        const element = document.querySelector('#df-7cc90cb8-92e3-4d39-9da0-9187ba807112');\n",
              "        const dataTable =\n",
              "          await google.colab.kernel.invokeFunction('convertToInteractive',\n",
              "                                                    [key], {});\n",
              "        if (!dataTable) return;\n",
              "\n",
              "        const docLinkHtml = 'Like what you see? Visit the ' +\n",
              "          '<a target=\"_blank\" href=https://colab.research.google.com/notebooks/data_table.ipynb>data table notebook</a>'\n",
              "          + ' to learn more about interactive tables.';\n",
              "        element.innerHTML = '';\n",
              "        dataTable['output_type'] = 'display_data';\n",
              "        await google.colab.output.renderOutput(dataTable, element);\n",
              "        const docLink = document.createElement('div');\n",
              "        docLink.innerHTML = docLinkHtml;\n",
              "        element.appendChild(docLink);\n",
              "      }\n",
              "    </script>\n",
              "  </div>\n",
              "\n",
              "\n",
              "<div id=\"df-d4304a7e-d82c-46ec-b419-8bede47e8b19\">\n",
              "  <button class=\"colab-df-quickchart\" onclick=\"quickchart('df-d4304a7e-d82c-46ec-b419-8bede47e8b19')\"\n",
              "            title=\"Suggest charts\"\n",
              "            style=\"display:none;\">\n",
              "\n",
              "<svg xmlns=\"http://www.w3.org/2000/svg\" height=\"24px\"viewBox=\"0 0 24 24\"\n",
              "     width=\"24px\">\n",
              "    <g>\n",
              "        <path d=\"M19 3H5c-1.1 0-2 .9-2 2v14c0 1.1.9 2 2 2h14c1.1 0 2-.9 2-2V5c0-1.1-.9-2-2-2zM9 17H7v-7h2v7zm4 0h-2V7h2v10zm4 0h-2v-4h2v4z\"/>\n",
              "    </g>\n",
              "</svg>\n",
              "  </button>\n",
              "\n",
              "<style>\n",
              "  .colab-df-quickchart {\n",
              "      --bg-color: #E8F0FE;\n",
              "      --fill-color: #1967D2;\n",
              "      --hover-bg-color: #E2EBFA;\n",
              "      --hover-fill-color: #174EA6;\n",
              "      --disabled-fill-color: #AAA;\n",
              "      --disabled-bg-color: #DDD;\n",
              "  }\n",
              "\n",
              "  [theme=dark] .colab-df-quickchart {\n",
              "      --bg-color: #3B4455;\n",
              "      --fill-color: #D2E3FC;\n",
              "      --hover-bg-color: #434B5C;\n",
              "      --hover-fill-color: #FFFFFF;\n",
              "      --disabled-bg-color: #3B4455;\n",
              "      --disabled-fill-color: #666;\n",
              "  }\n",
              "\n",
              "  .colab-df-quickchart {\n",
              "    background-color: var(--bg-color);\n",
              "    border: none;\n",
              "    border-radius: 50%;\n",
              "    cursor: pointer;\n",
              "    display: none;\n",
              "    fill: var(--fill-color);\n",
              "    height: 32px;\n",
              "    padding: 0;\n",
              "    width: 32px;\n",
              "  }\n",
              "\n",
              "  .colab-df-quickchart:hover {\n",
              "    background-color: var(--hover-bg-color);\n",
              "    box-shadow: 0 1px 2px rgba(60, 64, 67, 0.3), 0 1px 3px 1px rgba(60, 64, 67, 0.15);\n",
              "    fill: var(--button-hover-fill-color);\n",
              "  }\n",
              "\n",
              "  .colab-df-quickchart-complete:disabled,\n",
              "  .colab-df-quickchart-complete:disabled:hover {\n",
              "    background-color: var(--disabled-bg-color);\n",
              "    fill: var(--disabled-fill-color);\n",
              "    box-shadow: none;\n",
              "  }\n",
              "\n",
              "  .colab-df-spinner {\n",
              "    border: 2px solid var(--fill-color);\n",
              "    border-color: transparent;\n",
              "    border-bottom-color: var(--fill-color);\n",
              "    animation:\n",
              "      spin 1s steps(1) infinite;\n",
              "  }\n",
              "\n",
              "  @keyframes spin {\n",
              "    0% {\n",
              "      border-color: transparent;\n",
              "      border-bottom-color: var(--fill-color);\n",
              "      border-left-color: var(--fill-color);\n",
              "    }\n",
              "    20% {\n",
              "      border-color: transparent;\n",
              "      border-left-color: var(--fill-color);\n",
              "      border-top-color: var(--fill-color);\n",
              "    }\n",
              "    30% {\n",
              "      border-color: transparent;\n",
              "      border-left-color: var(--fill-color);\n",
              "      border-top-color: var(--fill-color);\n",
              "      border-right-color: var(--fill-color);\n",
              "    }\n",
              "    40% {\n",
              "      border-color: transparent;\n",
              "      border-right-color: var(--fill-color);\n",
              "      border-top-color: var(--fill-color);\n",
              "    }\n",
              "    60% {\n",
              "      border-color: transparent;\n",
              "      border-right-color: var(--fill-color);\n",
              "    }\n",
              "    80% {\n",
              "      border-color: transparent;\n",
              "      border-right-color: var(--fill-color);\n",
              "      border-bottom-color: var(--fill-color);\n",
              "    }\n",
              "    90% {\n",
              "      border-color: transparent;\n",
              "      border-bottom-color: var(--fill-color);\n",
              "    }\n",
              "  }\n",
              "</style>\n",
              "\n",
              "  <script>\n",
              "    async function quickchart(key) {\n",
              "      const quickchartButtonEl =\n",
              "        document.querySelector('#' + key + ' button');\n",
              "      quickchartButtonEl.disabled = true;  // To prevent multiple clicks.\n",
              "      quickchartButtonEl.classList.add('colab-df-spinner');\n",
              "      try {\n",
              "        const charts = await google.colab.kernel.invokeFunction(\n",
              "            'suggestCharts', [key], {});\n",
              "      } catch (error) {\n",
              "        console.error('Error during call to suggestCharts:', error);\n",
              "      }\n",
              "      quickchartButtonEl.classList.remove('colab-df-spinner');\n",
              "      quickchartButtonEl.classList.add('colab-df-quickchart-complete');\n",
              "    }\n",
              "    (() => {\n",
              "      let quickchartButtonEl =\n",
              "        document.querySelector('#df-d4304a7e-d82c-46ec-b419-8bede47e8b19 button');\n",
              "      quickchartButtonEl.style.display =\n",
              "        google.colab.kernel.accessAllowed ? 'block' : 'none';\n",
              "    })();\n",
              "  </script>\n",
              "</div>\n",
              "\n",
              "    </div>\n",
              "  </div>\n"
            ],
            "application/vnd.google.colaboratory.intrinsic+json": {
              "type": "dataframe",
              "variable_name": "heart_data",
              "summary": "{\n  \"name\": \"heart_data\",\n  \"rows\": 918,\n  \"fields\": [\n    {\n      \"column\": \"Age\",\n      \"properties\": {\n        \"dtype\": \"number\",\n        \"std\": 9,\n        \"min\": 28,\n        \"max\": 77,\n        \"num_unique_values\": 50,\n        \"samples\": [\n          44,\n          68,\n          66\n        ],\n        \"semantic_type\": \"\",\n        \"description\": \"\"\n      }\n    },\n    {\n      \"column\": \"Sex\",\n      \"properties\": {\n        \"dtype\": \"number\",\n        \"std\": 0,\n        \"min\": 0,\n        \"max\": 1,\n        \"num_unique_values\": 2,\n        \"samples\": [\n          0,\n          1\n        ],\n        \"semantic_type\": \"\",\n        \"description\": \"\"\n      }\n    },\n    {\n      \"column\": \"ChestPainType\",\n      \"properties\": {\n        \"dtype\": \"number\",\n        \"std\": 0,\n        \"min\": 0,\n        \"max\": 3,\n        \"num_unique_values\": 4,\n        \"samples\": [\n          2,\n          3\n        ],\n        \"semantic_type\": \"\",\n        \"description\": \"\"\n      }\n    },\n    {\n      \"column\": \"RestingBP\",\n      \"properties\": {\n        \"dtype\": \"number\",\n        \"std\": 18,\n        \"min\": 0,\n        \"max\": 200,\n        \"num_unique_values\": 67,\n        \"samples\": [\n          165,\n          118\n        ],\n        \"semantic_type\": \"\",\n        \"description\": \"\"\n      }\n    },\n    {\n      \"column\": \"Cholesterol\",\n      \"properties\": {\n        \"dtype\": \"number\",\n        \"std\": 109,\n        \"min\": 0,\n        \"max\": 603,\n        \"num_unique_values\": 222,\n        \"samples\": [\n          305,\n          321\n        ],\n        \"semantic_type\": \"\",\n        \"description\": \"\"\n      }\n    },\n    {\n      \"column\": \"FastingBS\",\n      \"properties\": {\n        \"dtype\": \"number\",\n        \"std\": 0,\n        \"min\": 0,\n        \"max\": 1,\n        \"num_unique_values\": 2,\n        \"samples\": [\n          1,\n          0\n        ],\n        \"semantic_type\": \"\",\n        \"description\": \"\"\n      }\n    },\n    {\n      \"column\": \"RestingECG\",\n      \"properties\": {\n        \"dtype\": \"number\",\n        \"std\": 0,\n        \"min\": 0,\n        \"max\": 2,\n        \"num_unique_values\": 3,\n        \"samples\": [\n          1,\n          2\n        ],\n        \"semantic_type\": \"\",\n        \"description\": \"\"\n      }\n    },\n    {\n      \"column\": \"MaxHR\",\n      \"properties\": {\n        \"dtype\": \"number\",\n        \"std\": 25,\n        \"min\": 60,\n        \"max\": 202,\n        \"num_unique_values\": 119,\n        \"samples\": [\n          132,\n          157\n        ],\n        \"semantic_type\": \"\",\n        \"description\": \"\"\n      }\n    },\n    {\n      \"column\": \"ExerciseAngina\",\n      \"properties\": {\n        \"dtype\": \"number\",\n        \"std\": 0,\n        \"min\": 0,\n        \"max\": 1,\n        \"num_unique_values\": 2,\n        \"samples\": [\n          1,\n          0\n        ],\n        \"semantic_type\": \"\",\n        \"description\": \"\"\n      }\n    },\n    {\n      \"column\": \"Oldpeak\",\n      \"properties\": {\n        \"dtype\": \"number\",\n        \"std\": 1.0665701510493257,\n        \"min\": -2.6,\n        \"max\": 6.2,\n        \"num_unique_values\": 53,\n        \"samples\": [\n          1.3,\n          0.6\n        ],\n        \"semantic_type\": \"\",\n        \"description\": \"\"\n      }\n    },\n    {\n      \"column\": \"ST_Slope\",\n      \"properties\": {\n        \"dtype\": \"number\",\n        \"std\": 0,\n        \"min\": 0,\n        \"max\": 2,\n        \"num_unique_values\": 3,\n        \"samples\": [\n          2,\n          1\n        ],\n        \"semantic_type\": \"\",\n        \"description\": \"\"\n      }\n    },\n    {\n      \"column\": \"HeartDisease\",\n      \"properties\": {\n        \"dtype\": \"number\",\n        \"std\": 0,\n        \"min\": 0,\n        \"max\": 1,\n        \"num_unique_values\": 2,\n        \"samples\": [\n          1,\n          0\n        ],\n        \"semantic_type\": \"\",\n        \"description\": \"\"\n      }\n    }\n  ]\n}"
            }
          },
          "metadata": {},
          "execution_count": 10
        }
      ]
    },
    {
      "cell_type": "markdown",
      "source": [
        "#Logistic Model"
      ],
      "metadata": {
        "id": "zJaxqrv-Ksue"
      }
    },
    {
      "cell_type": "code",
      "source": [
        "from sklearn.model_selection import train_test_split\n",
        "from sklearn.linear_model import LogisticRegression"
      ],
      "metadata": {
        "id": "oB2YmYuqXdB1"
      },
      "execution_count": null,
      "outputs": []
    },
    {
      "cell_type": "code",
      "source": [
        "#Use for filtering categorical data into numerical\n",
        "for l in all_columns:\n",
        "  all_x = []\n",
        "  for x in heart_data[l]:\n",
        "    if x not in all_x:\n",
        "      all_x.append(x)\n",
        "  print(f'{l}: {all_x}')"
      ],
      "metadata": {
        "colab": {
          "base_uri": "https://localhost:8080/"
        },
        "id": "vx0LU2paXdGa",
        "outputId": "f7512060-9c65-4eab-f0da-054d63e2fa8b"
      },
      "execution_count": null,
      "outputs": [
        {
          "output_type": "stream",
          "name": "stdout",
          "text": [
            "Age: [40, 49, 37, 48, 54, 39, 45, 58, 42, 38, 43, 60, 36, 44, 53, 52, 51, 56, 41, 32, 65, 35, 59, 50, 47, 31, 46, 57, 55, 63, 66, 34, 33, 61, 29, 62, 28, 30, 74, 68, 72, 64, 69, 67, 73, 70, 77, 75, 76, 71]\n",
            "Sex: [1, 0]\n",
            "ChestPainType: [1, 2, 0, 3]\n",
            "RestingBP: [140, 160, 130, 138, 150, 120, 110, 136, 115, 100, 124, 113, 125, 145, 112, 132, 118, 170, 142, 190, 135, 180, 108, 155, 128, 106, 92, 200, 122, 98, 105, 133, 95, 80, 137, 185, 165, 126, 152, 116, 0, 144, 154, 134, 104, 139, 131, 141, 178, 146, 158, 123, 102, 96, 143, 172, 156, 114, 127, 101, 174, 94, 148, 117, 192, 129, 164]\n",
            "Cholesterol: [289, 180, 283, 214, 195, 339, 237, 208, 207, 284, 211, 164, 204, 234, 273, 196, 201, 248, 267, 223, 184, 288, 215, 209, 260, 468, 188, 518, 167, 224, 172, 186, 254, 306, 250, 177, 227, 230, 294, 264, 259, 175, 318, 216, 340, 233, 205, 245, 194, 270, 213, 365, 342, 253, 277, 202, 297, 225, 246, 412, 265, 182, 218, 268, 163, 529, 100, 206, 238, 139, 263, 291, 229, 307, 210, 329, 147, 85, 269, 275, 179, 392, 466, 129, 241, 255, 276, 282, 338, 160, 156, 272, 240, 393, 161, 228, 292, 388, 166, 247, 331, 341, 243, 279, 198, 249, 168, 603, 159, 190, 185, 290, 212, 231, 222, 235, 320, 187, 266, 287, 404, 312, 251, 328, 285, 280, 192, 193, 308, 219, 257, 132, 226, 217, 303, 298, 256, 117, 295, 173, 315, 281, 309, 200, 336, 355, 326, 171, 491, 271, 274, 394, 221, 126, 305, 220, 242, 347, 344, 358, 169, 181, 0, 236, 203, 153, 316, 311, 252, 458, 384, 258, 349, 142, 197, 113, 261, 310, 232, 110, 123, 170, 369, 152, 244, 165, 337, 300, 333, 385, 322, 564, 239, 293, 407, 149, 199, 417, 178, 319, 354, 330, 302, 313, 141, 327, 304, 286, 360, 262, 325, 299, 409, 174, 183, 321, 353, 335, 278, 157, 176, 131]\n",
            "FastingBS: [0, 1]\n",
            "RestingECG: [1, 2, 0]\n",
            "MaxHR: [172, 156, 98, 108, 122, 170, 142, 130, 120, 99, 145, 140, 137, 150, 166, 165, 125, 160, 164, 138, 178, 112, 118, 127, 114, 154, 155, 87, 148, 100, 168, 184, 121, 153, 134, 96, 174, 175, 144, 82, 135, 115, 128, 116, 94, 110, 92, 180, 152, 124, 106, 185, 139, 190, 146, 158, 132, 176, 119, 188, 162, 105, 90, 136, 167, 129, 102, 143, 103, 91, 126, 93, 131, 149, 123, 182, 141, 77, 109, 133, 179, 113, 104, 95, 72, 97, 117, 86, 63, 157, 83, 60, 70, 163, 67, 78, 84, 111, 80, 107, 161, 69, 88, 73, 159, 151, 181, 186, 177, 173, 169, 171, 147, 71, 192, 195, 194, 187, 202]\n",
            "ExerciseAngina: [0, 1]\n",
            "Oldpeak: [0.0, 1.0, 1.5, 2.0, 3.0, 4.0, 0.5, 2.5, 5.0, 0.8, 0.7, 1.4, 2.1, 0.4, 0.2, 1.7, 2.2, 0.1, 1.6, 1.3, 0.3, 1.8, 2.6, -0.9, 2.8, -2.6, -1.5, -0.1, 0.9, 1.1, 2.4, -1.0, -1.1, -0.7, -0.8, 3.7, 1.2, -0.5, -2.0, 1.9, 3.5, 0.6, 3.1, 2.3, 3.4, 3.6, 4.2, 3.2, 5.6, 3.8, 2.9, 6.2, 4.4]\n",
            "ST_Slope: [2, 1, 0]\n"
          ]
        }
      ]
    },
    {
      "cell_type": "code",
      "source": [
        "import numpy as np\n",
        "import seaborn as sns\n",
        "import matplotlib.pyplot as plt\n",
        "from sklearn.metrics import accuracy_score, f1_score"
      ],
      "metadata": {
        "id": "KWHOWu29XdK5"
      },
      "execution_count": null,
      "outputs": []
    },
    {
      "cell_type": "code",
      "source": [
        "X = heart_data[all_columns]\n",
        "y = heart_data[target]\n",
        "X_train, X_test, y_train, y_test = train_test_split(X, y, test_size=0.2, random_state=42)\n",
        "lg = LogisticRegression()\n",
        "lg.fit(X_train, y_train)\n",
        "y_pred = lg.predict(X_test)\n",
        "accuracy_score(y_test, y_pred)"
      ],
      "metadata": {
        "colab": {
          "base_uri": "https://localhost:8080/"
        },
        "id": "z_Sagf_hXdNQ",
        "outputId": "918dc02f-9e2b-448f-cd6f-cfcb6169b488"
      },
      "execution_count": null,
      "outputs": [
        {
          "output_type": "stream",
          "name": "stderr",
          "text": [
            "/usr/local/lib/python3.10/dist-packages/sklearn/linear_model/_logistic.py:458: ConvergenceWarning: lbfgs failed to converge (status=1):\n",
            "STOP: TOTAL NO. of ITERATIONS REACHED LIMIT.\n",
            "\n",
            "Increase the number of iterations (max_iter) or scale the data as shown in:\n",
            "    https://scikit-learn.org/stable/modules/preprocessing.html\n",
            "Please also refer to the documentation for alternative solver options:\n",
            "    https://scikit-learn.org/stable/modules/linear_model.html#logistic-regression\n",
            "  n_iter_i = _check_optimize_result(\n"
          ]
        },
        {
          "output_type": "execute_result",
          "data": {
            "text/plain": [
              "0.842391304347826"
            ]
          },
          "metadata": {},
          "execution_count": 14
        }
      ]
    },
    {
      "cell_type": "code",
      "source": [
        "from sklearn.metrics import classification_report\n",
        "\n",
        "print(classification_report(y_test, y_pred))"
      ],
      "metadata": {
        "colab": {
          "base_uri": "https://localhost:8080/"
        },
        "id": "3X-e3jLVbTf8",
        "outputId": "8573a918-63cf-4e22-dd07-05934e53c36a"
      },
      "execution_count": null,
      "outputs": [
        {
          "output_type": "stream",
          "name": "stdout",
          "text": [
            "              precision    recall  f1-score   support\n",
            "\n",
            "           0       0.78      0.87      0.82        77\n",
            "           1       0.90      0.82      0.86       107\n",
            "\n",
            "    accuracy                           0.84       184\n",
            "   macro avg       0.84      0.85      0.84       184\n",
            "weighted avg       0.85      0.84      0.84       184\n",
            "\n"
          ]
        }
      ]
    },
    {
      "cell_type": "code",
      "source": [
        "coefficients = lg.coef_[0]\n",
        "feature_importance = np.abs(coefficients)\n",
        "\n",
        "importance = pd.DataFrame({\n",
        "    'Feature': X.columns,\n",
        "    'Coefficient': coefficients,\n",
        "    'Importance': feature_importance\n",
        "})\n",
        "\n",
        "importance = importance.sort_values(by='Importance', ascending=False)"
      ],
      "metadata": {
        "id": "5sdpRfUGzNoK"
      },
      "execution_count": null,
      "outputs": []
    },
    {
      "cell_type": "code",
      "source": [
        "importance"
      ],
      "metadata": {
        "colab": {
          "base_uri": "https://localhost:8080/",
          "height": 394
        },
        "id": "1ZYF2ZEHzyNQ",
        "outputId": "fe75ce65-8f74-4e90-db6a-11ec1601ac5a"
      },
      "execution_count": null,
      "outputs": [
        {
          "output_type": "execute_result",
          "data": {
            "text/plain": [
              "           Feature  Coefficient  Importance\n",
              "10        ST_Slope    -1.610871    1.610871\n",
              "8   ExerciseAngina     1.242443    1.242443\n",
              "1              Sex     1.173033    1.173033\n",
              "5        FastingBS     0.862581    0.862581\n",
              "2    ChestPainType    -0.610687    0.610687\n",
              "9          Oldpeak     0.439768    0.439768\n",
              "6       RestingECG    -0.185002    0.185002\n",
              "0              Age     0.028184    0.028184\n",
              "3        RestingBP     0.006712    0.006712\n",
              "4      Cholesterol    -0.004482    0.004482\n",
              "7            MaxHR    -0.003663    0.003663"
            ],
            "text/html": [
              "\n",
              "  <div id=\"df-96687ac9-f06b-4036-b1df-6533df8a3fe7\" class=\"colab-df-container\">\n",
              "    <div>\n",
              "<style scoped>\n",
              "    .dataframe tbody tr th:only-of-type {\n",
              "        vertical-align: middle;\n",
              "    }\n",
              "\n",
              "    .dataframe tbody tr th {\n",
              "        vertical-align: top;\n",
              "    }\n",
              "\n",
              "    .dataframe thead th {\n",
              "        text-align: right;\n",
              "    }\n",
              "</style>\n",
              "<table border=\"1\" class=\"dataframe\">\n",
              "  <thead>\n",
              "    <tr style=\"text-align: right;\">\n",
              "      <th></th>\n",
              "      <th>Feature</th>\n",
              "      <th>Coefficient</th>\n",
              "      <th>Importance</th>\n",
              "    </tr>\n",
              "  </thead>\n",
              "  <tbody>\n",
              "    <tr>\n",
              "      <th>10</th>\n",
              "      <td>ST_Slope</td>\n",
              "      <td>-1.610871</td>\n",
              "      <td>1.610871</td>\n",
              "    </tr>\n",
              "    <tr>\n",
              "      <th>8</th>\n",
              "      <td>ExerciseAngina</td>\n",
              "      <td>1.242443</td>\n",
              "      <td>1.242443</td>\n",
              "    </tr>\n",
              "    <tr>\n",
              "      <th>1</th>\n",
              "      <td>Sex</td>\n",
              "      <td>1.173033</td>\n",
              "      <td>1.173033</td>\n",
              "    </tr>\n",
              "    <tr>\n",
              "      <th>5</th>\n",
              "      <td>FastingBS</td>\n",
              "      <td>0.862581</td>\n",
              "      <td>0.862581</td>\n",
              "    </tr>\n",
              "    <tr>\n",
              "      <th>2</th>\n",
              "      <td>ChestPainType</td>\n",
              "      <td>-0.610687</td>\n",
              "      <td>0.610687</td>\n",
              "    </tr>\n",
              "    <tr>\n",
              "      <th>9</th>\n",
              "      <td>Oldpeak</td>\n",
              "      <td>0.439768</td>\n",
              "      <td>0.439768</td>\n",
              "    </tr>\n",
              "    <tr>\n",
              "      <th>6</th>\n",
              "      <td>RestingECG</td>\n",
              "      <td>-0.185002</td>\n",
              "      <td>0.185002</td>\n",
              "    </tr>\n",
              "    <tr>\n",
              "      <th>0</th>\n",
              "      <td>Age</td>\n",
              "      <td>0.028184</td>\n",
              "      <td>0.028184</td>\n",
              "    </tr>\n",
              "    <tr>\n",
              "      <th>3</th>\n",
              "      <td>RestingBP</td>\n",
              "      <td>0.006712</td>\n",
              "      <td>0.006712</td>\n",
              "    </tr>\n",
              "    <tr>\n",
              "      <th>4</th>\n",
              "      <td>Cholesterol</td>\n",
              "      <td>-0.004482</td>\n",
              "      <td>0.004482</td>\n",
              "    </tr>\n",
              "    <tr>\n",
              "      <th>7</th>\n",
              "      <td>MaxHR</td>\n",
              "      <td>-0.003663</td>\n",
              "      <td>0.003663</td>\n",
              "    </tr>\n",
              "  </tbody>\n",
              "</table>\n",
              "</div>\n",
              "    <div class=\"colab-df-buttons\">\n",
              "\n",
              "  <div class=\"colab-df-container\">\n",
              "    <button class=\"colab-df-convert\" onclick=\"convertToInteractive('df-96687ac9-f06b-4036-b1df-6533df8a3fe7')\"\n",
              "            title=\"Convert this dataframe to an interactive table.\"\n",
              "            style=\"display:none;\">\n",
              "\n",
              "  <svg xmlns=\"http://www.w3.org/2000/svg\" height=\"24px\" viewBox=\"0 -960 960 960\">\n",
              "    <path d=\"M120-120v-720h720v720H120Zm60-500h600v-160H180v160Zm220 220h160v-160H400v160Zm0 220h160v-160H400v160ZM180-400h160v-160H180v160Zm440 0h160v-160H620v160ZM180-180h160v-160H180v160Zm440 0h160v-160H620v160Z\"/>\n",
              "  </svg>\n",
              "    </button>\n",
              "\n",
              "  <style>\n",
              "    .colab-df-container {\n",
              "      display:flex;\n",
              "      gap: 12px;\n",
              "    }\n",
              "\n",
              "    .colab-df-convert {\n",
              "      background-color: #E8F0FE;\n",
              "      border: none;\n",
              "      border-radius: 50%;\n",
              "      cursor: pointer;\n",
              "      display: none;\n",
              "      fill: #1967D2;\n",
              "      height: 32px;\n",
              "      padding: 0 0 0 0;\n",
              "      width: 32px;\n",
              "    }\n",
              "\n",
              "    .colab-df-convert:hover {\n",
              "      background-color: #E2EBFA;\n",
              "      box-shadow: 0px 1px 2px rgba(60, 64, 67, 0.3), 0px 1px 3px 1px rgba(60, 64, 67, 0.15);\n",
              "      fill: #174EA6;\n",
              "    }\n",
              "\n",
              "    .colab-df-buttons div {\n",
              "      margin-bottom: 4px;\n",
              "    }\n",
              "\n",
              "    [theme=dark] .colab-df-convert {\n",
              "      background-color: #3B4455;\n",
              "      fill: #D2E3FC;\n",
              "    }\n",
              "\n",
              "    [theme=dark] .colab-df-convert:hover {\n",
              "      background-color: #434B5C;\n",
              "      box-shadow: 0px 1px 3px 1px rgba(0, 0, 0, 0.15);\n",
              "      filter: drop-shadow(0px 1px 2px rgba(0, 0, 0, 0.3));\n",
              "      fill: #FFFFFF;\n",
              "    }\n",
              "  </style>\n",
              "\n",
              "    <script>\n",
              "      const buttonEl =\n",
              "        document.querySelector('#df-96687ac9-f06b-4036-b1df-6533df8a3fe7 button.colab-df-convert');\n",
              "      buttonEl.style.display =\n",
              "        google.colab.kernel.accessAllowed ? 'block' : 'none';\n",
              "\n",
              "      async function convertToInteractive(key) {\n",
              "        const element = document.querySelector('#df-96687ac9-f06b-4036-b1df-6533df8a3fe7');\n",
              "        const dataTable =\n",
              "          await google.colab.kernel.invokeFunction('convertToInteractive',\n",
              "                                                    [key], {});\n",
              "        if (!dataTable) return;\n",
              "\n",
              "        const docLinkHtml = 'Like what you see? Visit the ' +\n",
              "          '<a target=\"_blank\" href=https://colab.research.google.com/notebooks/data_table.ipynb>data table notebook</a>'\n",
              "          + ' to learn more about interactive tables.';\n",
              "        element.innerHTML = '';\n",
              "        dataTable['output_type'] = 'display_data';\n",
              "        await google.colab.output.renderOutput(dataTable, element);\n",
              "        const docLink = document.createElement('div');\n",
              "        docLink.innerHTML = docLinkHtml;\n",
              "        element.appendChild(docLink);\n",
              "      }\n",
              "    </script>\n",
              "  </div>\n",
              "\n",
              "\n",
              "<div id=\"df-ef76ad49-372f-4998-9c77-d98d059da7bf\">\n",
              "  <button class=\"colab-df-quickchart\" onclick=\"quickchart('df-ef76ad49-372f-4998-9c77-d98d059da7bf')\"\n",
              "            title=\"Suggest charts\"\n",
              "            style=\"display:none;\">\n",
              "\n",
              "<svg xmlns=\"http://www.w3.org/2000/svg\" height=\"24px\"viewBox=\"0 0 24 24\"\n",
              "     width=\"24px\">\n",
              "    <g>\n",
              "        <path d=\"M19 3H5c-1.1 0-2 .9-2 2v14c0 1.1.9 2 2 2h14c1.1 0 2-.9 2-2V5c0-1.1-.9-2-2-2zM9 17H7v-7h2v7zm4 0h-2V7h2v10zm4 0h-2v-4h2v4z\"/>\n",
              "    </g>\n",
              "</svg>\n",
              "  </button>\n",
              "\n",
              "<style>\n",
              "  .colab-df-quickchart {\n",
              "      --bg-color: #E8F0FE;\n",
              "      --fill-color: #1967D2;\n",
              "      --hover-bg-color: #E2EBFA;\n",
              "      --hover-fill-color: #174EA6;\n",
              "      --disabled-fill-color: #AAA;\n",
              "      --disabled-bg-color: #DDD;\n",
              "  }\n",
              "\n",
              "  [theme=dark] .colab-df-quickchart {\n",
              "      --bg-color: #3B4455;\n",
              "      --fill-color: #D2E3FC;\n",
              "      --hover-bg-color: #434B5C;\n",
              "      --hover-fill-color: #FFFFFF;\n",
              "      --disabled-bg-color: #3B4455;\n",
              "      --disabled-fill-color: #666;\n",
              "  }\n",
              "\n",
              "  .colab-df-quickchart {\n",
              "    background-color: var(--bg-color);\n",
              "    border: none;\n",
              "    border-radius: 50%;\n",
              "    cursor: pointer;\n",
              "    display: none;\n",
              "    fill: var(--fill-color);\n",
              "    height: 32px;\n",
              "    padding: 0;\n",
              "    width: 32px;\n",
              "  }\n",
              "\n",
              "  .colab-df-quickchart:hover {\n",
              "    background-color: var(--hover-bg-color);\n",
              "    box-shadow: 0 1px 2px rgba(60, 64, 67, 0.3), 0 1px 3px 1px rgba(60, 64, 67, 0.15);\n",
              "    fill: var(--button-hover-fill-color);\n",
              "  }\n",
              "\n",
              "  .colab-df-quickchart-complete:disabled,\n",
              "  .colab-df-quickchart-complete:disabled:hover {\n",
              "    background-color: var(--disabled-bg-color);\n",
              "    fill: var(--disabled-fill-color);\n",
              "    box-shadow: none;\n",
              "  }\n",
              "\n",
              "  .colab-df-spinner {\n",
              "    border: 2px solid var(--fill-color);\n",
              "    border-color: transparent;\n",
              "    border-bottom-color: var(--fill-color);\n",
              "    animation:\n",
              "      spin 1s steps(1) infinite;\n",
              "  }\n",
              "\n",
              "  @keyframes spin {\n",
              "    0% {\n",
              "      border-color: transparent;\n",
              "      border-bottom-color: var(--fill-color);\n",
              "      border-left-color: var(--fill-color);\n",
              "    }\n",
              "    20% {\n",
              "      border-color: transparent;\n",
              "      border-left-color: var(--fill-color);\n",
              "      border-top-color: var(--fill-color);\n",
              "    }\n",
              "    30% {\n",
              "      border-color: transparent;\n",
              "      border-left-color: var(--fill-color);\n",
              "      border-top-color: var(--fill-color);\n",
              "      border-right-color: var(--fill-color);\n",
              "    }\n",
              "    40% {\n",
              "      border-color: transparent;\n",
              "      border-right-color: var(--fill-color);\n",
              "      border-top-color: var(--fill-color);\n",
              "    }\n",
              "    60% {\n",
              "      border-color: transparent;\n",
              "      border-right-color: var(--fill-color);\n",
              "    }\n",
              "    80% {\n",
              "      border-color: transparent;\n",
              "      border-right-color: var(--fill-color);\n",
              "      border-bottom-color: var(--fill-color);\n",
              "    }\n",
              "    90% {\n",
              "      border-color: transparent;\n",
              "      border-bottom-color: var(--fill-color);\n",
              "    }\n",
              "  }\n",
              "</style>\n",
              "\n",
              "  <script>\n",
              "    async function quickchart(key) {\n",
              "      const quickchartButtonEl =\n",
              "        document.querySelector('#' + key + ' button');\n",
              "      quickchartButtonEl.disabled = true;  // To prevent multiple clicks.\n",
              "      quickchartButtonEl.classList.add('colab-df-spinner');\n",
              "      try {\n",
              "        const charts = await google.colab.kernel.invokeFunction(\n",
              "            'suggestCharts', [key], {});\n",
              "      } catch (error) {\n",
              "        console.error('Error during call to suggestCharts:', error);\n",
              "      }\n",
              "      quickchartButtonEl.classList.remove('colab-df-spinner');\n",
              "      quickchartButtonEl.classList.add('colab-df-quickchart-complete');\n",
              "    }\n",
              "    (() => {\n",
              "      let quickchartButtonEl =\n",
              "        document.querySelector('#df-ef76ad49-372f-4998-9c77-d98d059da7bf button');\n",
              "      quickchartButtonEl.style.display =\n",
              "        google.colab.kernel.accessAllowed ? 'block' : 'none';\n",
              "    })();\n",
              "  </script>\n",
              "</div>\n",
              "\n",
              "  <div id=\"id_0b08d33f-a986-4b30-89c0-c95f9562a9b3\">\n",
              "    <style>\n",
              "      .colab-df-generate {\n",
              "        background-color: #E8F0FE;\n",
              "        border: none;\n",
              "        border-radius: 50%;\n",
              "        cursor: pointer;\n",
              "        display: none;\n",
              "        fill: #1967D2;\n",
              "        height: 32px;\n",
              "        padding: 0 0 0 0;\n",
              "        width: 32px;\n",
              "      }\n",
              "\n",
              "      .colab-df-generate:hover {\n",
              "        background-color: #E2EBFA;\n",
              "        box-shadow: 0px 1px 2px rgba(60, 64, 67, 0.3), 0px 1px 3px 1px rgba(60, 64, 67, 0.15);\n",
              "        fill: #174EA6;\n",
              "      }\n",
              "\n",
              "      [theme=dark] .colab-df-generate {\n",
              "        background-color: #3B4455;\n",
              "        fill: #D2E3FC;\n",
              "      }\n",
              "\n",
              "      [theme=dark] .colab-df-generate:hover {\n",
              "        background-color: #434B5C;\n",
              "        box-shadow: 0px 1px 3px 1px rgba(0, 0, 0, 0.15);\n",
              "        filter: drop-shadow(0px 1px 2px rgba(0, 0, 0, 0.3));\n",
              "        fill: #FFFFFF;\n",
              "      }\n",
              "    </style>\n",
              "    <button class=\"colab-df-generate\" onclick=\"generateWithVariable('importance')\"\n",
              "            title=\"Generate code using this dataframe.\"\n",
              "            style=\"display:none;\">\n",
              "\n",
              "  <svg xmlns=\"http://www.w3.org/2000/svg\" height=\"24px\"viewBox=\"0 0 24 24\"\n",
              "       width=\"24px\">\n",
              "    <path d=\"M7,19H8.4L18.45,9,17,7.55,7,17.6ZM5,21V16.75L18.45,3.32a2,2,0,0,1,2.83,0l1.4,1.43a1.91,1.91,0,0,1,.58,1.4,1.91,1.91,0,0,1-.58,1.4L9.25,21ZM18.45,9,17,7.55Zm-12,3A5.31,5.31,0,0,0,4.9,8.1,5.31,5.31,0,0,0,1,6.5,5.31,5.31,0,0,0,4.9,4.9,5.31,5.31,0,0,0,6.5,1,5.31,5.31,0,0,0,8.1,4.9,5.31,5.31,0,0,0,12,6.5,5.46,5.46,0,0,0,6.5,12Z\"/>\n",
              "  </svg>\n",
              "    </button>\n",
              "    <script>\n",
              "      (() => {\n",
              "      const buttonEl =\n",
              "        document.querySelector('#id_0b08d33f-a986-4b30-89c0-c95f9562a9b3 button.colab-df-generate');\n",
              "      buttonEl.style.display =\n",
              "        google.colab.kernel.accessAllowed ? 'block' : 'none';\n",
              "\n",
              "      buttonEl.onclick = () => {\n",
              "        google.colab.notebook.generateWithVariable('importance');\n",
              "      }\n",
              "      })();\n",
              "    </script>\n",
              "  </div>\n",
              "\n",
              "    </div>\n",
              "  </div>\n"
            ],
            "application/vnd.google.colaboratory.intrinsic+json": {
              "type": "dataframe",
              "variable_name": "importance",
              "summary": "{\n  \"name\": \"importance\",\n  \"rows\": 11,\n  \"fields\": [\n    {\n      \"column\": \"Feature\",\n      \"properties\": {\n        \"dtype\": \"string\",\n        \"num_unique_values\": 11,\n        \"samples\": [\n          \"Oldpeak\",\n          \"ST_Slope\",\n          \"Cholesterol\"\n        ],\n        \"semantic_type\": \"\",\n        \"description\": \"\"\n      }\n    },\n    {\n      \"column\": \"Coefficient\",\n      \"properties\": {\n        \"dtype\": \"number\",\n        \"std\": 0.8183705944682994,\n        \"min\": -1.610871317684021,\n        \"max\": 1.2424432538953052,\n        \"num_unique_values\": 11,\n        \"samples\": [\n          0.43976821721517295,\n          -1.610871317684021,\n          -0.004482407390255008\n        ],\n        \"semantic_type\": \"\",\n        \"description\": \"\"\n      }\n    },\n    {\n      \"column\": \"Importance\",\n      \"properties\": {\n        \"dtype\": \"number\",\n        \"std\": 0.5832781819680365,\n        \"min\": 0.0036625421572780608,\n        \"max\": 1.610871317684021,\n        \"num_unique_values\": 11,\n        \"samples\": [\n          0.43976821721517295,\n          1.610871317684021,\n          0.004482407390255008\n        ],\n        \"semantic_type\": \"\",\n        \"description\": \"\"\n      }\n    }\n  ]\n}"
            }
          },
          "metadata": {},
          "execution_count": 17
        }
      ]
    },
    {
      "cell_type": "code",
      "source": [
        "a_dict = {}\n",
        "for p in all_columns:\n",
        "  X = heart_data[[p]]\n",
        "  y = heart_data[target]\n",
        "  X_train, X_test, y_train, y_test = train_test_split(X, y, test_size=0.2, random_state=42)\n",
        "  lg = LogisticRegression()\n",
        "  lg.fit(X_train, y_train)\n",
        "  y_pred = lg.predict(X_test)\n",
        "  accuracy = accuracy_score(y_test, y_pred)\n",
        "  f1 = f1_score(y_test, y_pred)\n",
        "  a_dict[p] = accuracy\n",
        "\n",
        "a_dict = sorted(a_dict.items(), key= lambda x: x[1])\n",
        "print(f'{a_dict[-1][0]} had the highest score of {a_dict[-1][1]}')"
      ],
      "metadata": {
        "id": "reLHRBG7jkpy",
        "colab": {
          "base_uri": "https://localhost:8080/"
        },
        "outputId": "e02eef2b-44ce-4702-f338-4ed24b5375a0"
      },
      "execution_count": null,
      "outputs": [
        {
          "output_type": "stream",
          "name": "stdout",
          "text": [
            "ChestPainType had the highest score of 0.8043478260869565\n"
          ]
        }
      ]
    },
    {
      "cell_type": "code",
      "source": [
        "sorted(a_dict, key=lambda x: x[1], reverse=True)"
      ],
      "metadata": {
        "colab": {
          "base_uri": "https://localhost:8080/"
        },
        "id": "q6LQMleHamx9",
        "outputId": "c2967e96-3532-4784-9371-0e2e8cca1ff2"
      },
      "execution_count": null,
      "outputs": [
        {
          "output_type": "execute_result",
          "data": {
            "text/plain": [
              "[('ChestPainType', 0.8043478260869565),\n",
              " ('ST_Slope', 0.7989130434782609),\n",
              " ('Oldpeak', 0.6847826086956522),\n",
              " ('ExerciseAngina', 0.657608695652174),\n",
              " ('MaxHR', 0.6521739130434783),\n",
              " ('Sex', 0.6413043478260869),\n",
              " ('Age', 0.5978260869565217),\n",
              " ('FastingBS', 0.5869565217391305),\n",
              " ('RestingECG', 0.5815217391304348),\n",
              " ('RestingBP', 0.4673913043478261),\n",
              " ('Cholesterol', 0.46195652173913043)]"
            ]
          },
          "metadata": {},
          "execution_count": 19
        }
      ]
    },
    {
      "cell_type": "code",
      "source": [
        "#Testing a combination of the most important features ranked by the coefficients\n",
        "X = heart_data[['ST_Slope', 'ExerciseAngina', 'Sex', 'FastingBS', 'ChestPainType', 'Oldpeak']]\n",
        "y = heart_data[target]\n",
        "\n",
        "X_train, X_test, y_train, y_test = train_test_split(X, y, test_size=0.2, random_state=42)\n",
        "\n",
        "lg = LogisticRegression()\n",
        "lg.fit(X_train, y_train)\n",
        "y_pred = lg.predict(X_test)"
      ],
      "metadata": {
        "id": "Cxf0sTqvye_c"
      },
      "execution_count": null,
      "outputs": []
    },
    {
      "cell_type": "code",
      "source": [
        "print(classification_report(y_test, y_pred))"
      ],
      "metadata": {
        "id": "xyKFoV1oy5W8",
        "colab": {
          "base_uri": "https://localhost:8080/"
        },
        "outputId": "1c1fb238-5cbe-4574-d5b4-f5482c42e3db"
      },
      "execution_count": null,
      "outputs": [
        {
          "output_type": "stream",
          "name": "stdout",
          "text": [
            "              precision    recall  f1-score   support\n",
            "\n",
            "           0       0.77      0.88      0.82        77\n",
            "           1       0.91      0.81      0.86       107\n",
            "\n",
            "    accuracy                           0.84       184\n",
            "   macro avg       0.84      0.85      0.84       184\n",
            "weighted avg       0.85      0.84      0.84       184\n",
            "\n"
          ]
        }
      ]
    },
    {
      "cell_type": "code",
      "source": [
        "print(heart_data[target].value_counts())"
      ],
      "metadata": {
        "colab": {
          "base_uri": "https://localhost:8080/"
        },
        "id": "dALo8VjzbOPA",
        "outputId": "9a0e5f7d-8ce7-4da0-ea6e-4451dc601496"
      },
      "execution_count": null,
      "outputs": [
        {
          "output_type": "stream",
          "name": "stdout",
          "text": [
            "HeartDisease\n",
            "1    508\n",
            "0    410\n",
            "Name: count, dtype: int64\n"
          ]
        }
      ]
    },
    {
      "cell_type": "markdown",
      "source": [
        "#Neural Network"
      ],
      "metadata": {
        "id": "PliVvQr3KnuT"
      }
    },
    {
      "cell_type": "code",
      "source": [
        "import numpy as np\n",
        "import pandas as pd\n",
        "from sklearn.model_selection import train_test_split\n",
        "from sklearn.metrics import accuracy_score, confusion_matrix, f1_score\n",
        "from sklearn.preprocessing import StandardScaler"
      ],
      "metadata": {
        "id": "djOtspAQjkz0"
      },
      "execution_count": null,
      "outputs": []
    },
    {
      "cell_type": "code",
      "source": [
        "all_columns = heart_data.columns.drop(target)"
      ],
      "metadata": {
        "id": "ML68ZM_E2FSe"
      },
      "execution_count": null,
      "outputs": []
    },
    {
      "cell_type": "code",
      "source": [
        "X = heart_data[all_columns].values\n",
        "y = heart_data[target].values"
      ],
      "metadata": {
        "id": "F2ui91a9XdY6"
      },
      "execution_count": null,
      "outputs": []
    },
    {
      "cell_type": "code",
      "execution_count": null,
      "metadata": {
        "id": "sQXdds3hFhlU"
      },
      "outputs": [],
      "source": [
        "X_train, X_test, y_train, y_test = train_test_split(X, y, test_size=0.2, random_state=42)"
      ]
    },
    {
      "cell_type": "code",
      "source": [
        "scaler = StandardScaler()\n",
        "X_train = scaler.fit_transform(X_train)\n",
        "X_test = scaler.transform(X_test)"
      ],
      "metadata": {
        "id": "ImOPk_IVh4ly"
      },
      "execution_count": null,
      "outputs": []
    },
    {
      "cell_type": "code",
      "source": [
        "class NeuralNetwork:\n",
        "    def __init__(self, num_feats):\n",
        "        np.random.seed(1)\n",
        "        self.synaptic_weights = 2 * np.random.random((num_feats, 1)) - 1\n",
        "\n",
        "    def sigmoid(self, x):\n",
        "        return 1 / (1 + np.exp(-x))\n",
        "\n",
        "    def sigmoid_derivative(self, x):\n",
        "        return x * (1 - x)\n",
        "\n",
        "    def train(self, training_inputs, training_outputs, training_iterations):\n",
        "        for iteration in range(training_iterations):\n",
        "            output = self.think(training_inputs)\n",
        "            error = training_outputs - output\n",
        "            adjustments = np.dot(training_inputs.T, error * self.sigmoid_derivative(output))\n",
        "            self.synaptic_weights += adjustments\n",
        "\n",
        "    def think(self, inputs):\n",
        "        inputs = inputs.astype(float)\n",
        "        output = self.sigmoid(np.dot(inputs, self.synaptic_weights))\n",
        "        return output"
      ],
      "metadata": {
        "id": "u4tcQm9yv1kX"
      },
      "execution_count": null,
      "outputs": []
    },
    {
      "cell_type": "code",
      "source": [
        "neural_network = NeuralNetwork(num_feats=len(all_columns))\n",
        "\n",
        "print(f\"Random starting synaptic weights: \\n{neural_network.synaptic_weights}\")\n",
        "\n",
        "training_inputs = X_train\n",
        "training_outputs = y_train.reshape(-1, 1)\n",
        "\n",
        "neural_network.train(training_inputs, training_outputs, 1000)\n",
        "\n",
        "print(\"Synaptic weights after training: \")\n",
        "print(neural_network.synaptic_weights)"
      ],
      "metadata": {
        "colab": {
          "base_uri": "https://localhost:8080/"
        },
        "id": "DuevIXSiGYgs",
        "outputId": "e808874e-111c-4f9f-eaa3-01bce02a3821"
      },
      "execution_count": null,
      "outputs": [
        {
          "output_type": "stream",
          "name": "stdout",
          "text": [
            "Random starting synaptic weights: \n",
            "[[-0.16595599]\n",
            " [ 0.44064899]\n",
            " [-0.99977125]\n",
            " [-0.39533485]\n",
            " [-0.70648822]\n",
            " [-0.81532281]\n",
            " [-0.62747958]\n",
            " [-0.30887855]\n",
            " [-0.20646505]\n",
            " [ 0.07763347]\n",
            " [-0.16161097]]\n",
            "Synaptic weights after training: \n",
            "[[ 20.12535176]\n",
            " [  3.1719695 ]\n",
            " [-13.7406622 ]\n",
            " [ 12.52675953]\n",
            " [-16.01481091]\n",
            " [ 24.69659859]\n",
            " [  7.55842895]\n",
            " [-15.83218756]\n",
            " [ 28.15291961]\n",
            " [ 26.19973174]\n",
            " [-39.5332332 ]]\n"
          ]
        }
      ]
    },
    {
      "cell_type": "code",
      "source": [
        "test_inputs = X_test\n",
        "test_outputs = y_test.reshape(-1, 1)\n",
        "\n",
        "raw_test_pred = neural_network.think(test_inputs)\n",
        "test_pred = np.round(raw_test_pred).astype(int)\n",
        "accuracy = accuracy_score(test_outputs, test_pred)\n",
        "\n",
        "print(f'Accuracy: {accuracy_score(test_outputs, test_pred)}')\n",
        "print(classification_report(y_test, test_pred))"
      ],
      "metadata": {
        "colab": {
          "base_uri": "https://localhost:8080/"
        },
        "id": "696D3Z-cGZLd",
        "outputId": "0c95fbed-906f-4315-9de8-311ef7d1223c"
      },
      "execution_count": null,
      "outputs": [
        {
          "output_type": "stream",
          "name": "stdout",
          "text": [
            "Accuracy: 0.7989130434782609\n",
            "              precision    recall  f1-score   support\n",
            "\n",
            "           0       0.70      0.90      0.79        77\n",
            "           1       0.91      0.73      0.81       107\n",
            "\n",
            "    accuracy                           0.80       184\n",
            "   macro avg       0.81      0.81      0.80       184\n",
            "weighted avg       0.82      0.80      0.80       184\n",
            "\n"
          ]
        }
      ]
    },
    {
      "cell_type": "markdown",
      "source": [
        "#Tensorflow"
      ],
      "metadata": {
        "id": "feZUpwdPKBf-"
      }
    },
    {
      "cell_type": "code",
      "source": [
        "import tensorflow as tf\n",
        "from tensorflow.keras.models import Sequential\n",
        "from tensorflow.keras.layers import Dense"
      ],
      "metadata": {
        "id": "wGf8I9-VKD8t"
      },
      "execution_count": null,
      "outputs": []
    },
    {
      "cell_type": "code",
      "source": [
        "heart_data.columns"
      ],
      "metadata": {
        "colab": {
          "base_uri": "https://localhost:8080/"
        },
        "id": "QH-RJdLTDQrM",
        "outputId": "8d5ce839-3807-4aaf-82a5-a903bd70edad"
      },
      "execution_count": null,
      "outputs": [
        {
          "output_type": "execute_result",
          "data": {
            "text/plain": [
              "Index(['Age', 'Sex', 'ChestPainType', 'RestingBP', 'Cholesterol', 'FastingBS',\n",
              "       'RestingECG', 'MaxHR', 'ExerciseAngina', 'Oldpeak', 'ST_Slope',\n",
              "       'HeartDisease'],\n",
              "      dtype='object')"
            ]
          },
          "metadata": {},
          "execution_count": 33
        }
      ]
    },
    {
      "cell_type": "code",
      "source": [
        "tf.random.set_seed(42)"
      ],
      "metadata": {
        "id": "xOQlna4BF7th"
      },
      "execution_count": null,
      "outputs": []
    },
    {
      "cell_type": "code",
      "source": [
        "def remov(*items):\n",
        "    return [item for item in list(heart_data.columns.drop(target)) if item not in items]"
      ],
      "metadata": {
        "id": "z_5S1_Y_4fp6"
      },
      "execution_count": null,
      "outputs": []
    },
    {
      "cell_type": "code",
      "source": [
        "all_columns = remov()"
      ],
      "metadata": {
        "id": "m1mNgb8P2TBX"
      },
      "execution_count": null,
      "outputs": []
    },
    {
      "cell_type": "code",
      "source": [
        "X = heart_data[all_columns]\n",
        "y = heart_data[target]"
      ],
      "metadata": {
        "id": "Su1RK8F3KHcV"
      },
      "execution_count": null,
      "outputs": []
    },
    {
      "cell_type": "code",
      "source": [
        "X_train, X_test, y_train, y_test = train_test_split(X, y, test_size=0.2, random_state=42)"
      ],
      "metadata": {
        "id": "GvCNlF3IJXRJ"
      },
      "execution_count": null,
      "outputs": []
    },
    {
      "cell_type": "code",
      "source": [
        "ts = tf.keras.Sequential([\n",
        "    tf.keras.layers.Dense(64, activation='relu', input_shape=(len(all_columns),)),\n",
        "    tf.keras.layers.Dense(32, activation='relu'),\n",
        "    tf.keras.layers.Dense(1, activation='sigmoid')\n",
        "])\n",
        "\n",
        "ts.compile(optimizer=tf.keras.optimizers.Adam(learning_rate=0.001), loss='binary_crossentropy', metrics=['accuracy'])\n",
        "ts.fit(X_train, y_train, epochs=100, batch_size=10)"
      ],
      "metadata": {
        "colab": {
          "base_uri": "https://localhost:8080/"
        },
        "id": "tg58EGe7KMug",
        "outputId": "e5d1f355-9f72-494f-9280-e0e345cc70f6"
      },
      "execution_count": null,
      "outputs": [
        {
          "output_type": "stream",
          "name": "stdout",
          "text": [
            "Epoch 1/100\n",
            "74/74 [==============================] - 1s 3ms/step - loss: 1.8214 - accuracy: 0.4986\n",
            "Epoch 2/100\n",
            "74/74 [==============================] - 0s 3ms/step - loss: 0.7250 - accuracy: 0.6907\n",
            "Epoch 3/100\n",
            "74/74 [==============================] - 0s 3ms/step - loss: 0.5680 - accuracy: 0.7302\n",
            "Epoch 4/100\n",
            "74/74 [==============================] - 0s 2ms/step - loss: 0.6009 - accuracy: 0.7548\n",
            "Epoch 5/100\n",
            "74/74 [==============================] - 0s 2ms/step - loss: 0.5599 - accuracy: 0.7493\n",
            "Epoch 6/100\n",
            "74/74 [==============================] - 0s 3ms/step - loss: 0.5782 - accuracy: 0.7452\n",
            "Epoch 7/100\n",
            "74/74 [==============================] - 0s 3ms/step - loss: 0.4705 - accuracy: 0.7875\n",
            "Epoch 8/100\n",
            "74/74 [==============================] - 0s 3ms/step - loss: 0.4698 - accuracy: 0.7779\n",
            "Epoch 9/100\n",
            "74/74 [==============================] - 0s 3ms/step - loss: 0.5222 - accuracy: 0.7725\n",
            "Epoch 10/100\n",
            "74/74 [==============================] - 0s 3ms/step - loss: 0.4631 - accuracy: 0.8025\n",
            "Epoch 11/100\n",
            "74/74 [==============================] - 0s 3ms/step - loss: 0.4645 - accuracy: 0.8052\n",
            "Epoch 12/100\n",
            "74/74 [==============================] - 0s 3ms/step - loss: 0.5027 - accuracy: 0.7752\n",
            "Epoch 13/100\n",
            "74/74 [==============================] - 0s 3ms/step - loss: 0.5002 - accuracy: 0.7820\n",
            "Epoch 14/100\n",
            "74/74 [==============================] - 0s 3ms/step - loss: 0.4640 - accuracy: 0.8025\n",
            "Epoch 15/100\n",
            "74/74 [==============================] - 0s 3ms/step - loss: 0.4392 - accuracy: 0.8052\n",
            "Epoch 16/100\n",
            "74/74 [==============================] - 0s 3ms/step - loss: 0.4691 - accuracy: 0.7888\n",
            "Epoch 17/100\n",
            "74/74 [==============================] - 0s 2ms/step - loss: 0.4199 - accuracy: 0.8120\n",
            "Epoch 18/100\n",
            "74/74 [==============================] - 0s 2ms/step - loss: 0.4804 - accuracy: 0.7875\n",
            "Epoch 19/100\n",
            "74/74 [==============================] - 0s 2ms/step - loss: 0.3953 - accuracy: 0.8379\n",
            "Epoch 20/100\n",
            "74/74 [==============================] - 0s 2ms/step - loss: 0.3996 - accuracy: 0.8338\n",
            "Epoch 21/100\n",
            "74/74 [==============================] - 0s 2ms/step - loss: 0.5100 - accuracy: 0.8025\n",
            "Epoch 22/100\n",
            "74/74 [==============================] - 0s 2ms/step - loss: 0.4863 - accuracy: 0.8093\n",
            "Epoch 23/100\n",
            "74/74 [==============================] - 0s 2ms/step - loss: 0.4108 - accuracy: 0.8311\n",
            "Epoch 24/100\n",
            "74/74 [==============================] - 0s 2ms/step - loss: 0.4767 - accuracy: 0.8093\n",
            "Epoch 25/100\n",
            "74/74 [==============================] - 0s 2ms/step - loss: 0.4664 - accuracy: 0.8065\n",
            "Epoch 26/100\n",
            "74/74 [==============================] - 0s 2ms/step - loss: 0.4901 - accuracy: 0.7943\n",
            "Epoch 27/100\n",
            "74/74 [==============================] - 0s 2ms/step - loss: 0.4127 - accuracy: 0.8311\n",
            "Epoch 28/100\n",
            "74/74 [==============================] - 0s 2ms/step - loss: 0.4478 - accuracy: 0.8283\n",
            "Epoch 29/100\n",
            "74/74 [==============================] - 0s 2ms/step - loss: 0.4293 - accuracy: 0.8311\n",
            "Epoch 30/100\n",
            "74/74 [==============================] - 0s 2ms/step - loss: 0.4153 - accuracy: 0.8351\n",
            "Epoch 31/100\n",
            "74/74 [==============================] - 0s 2ms/step - loss: 0.3898 - accuracy: 0.8229\n",
            "Epoch 32/100\n",
            "74/74 [==============================] - 0s 2ms/step - loss: 0.4969 - accuracy: 0.7956\n",
            "Epoch 33/100\n",
            "74/74 [==============================] - 0s 2ms/step - loss: 0.4335 - accuracy: 0.8256\n",
            "Epoch 34/100\n",
            "74/74 [==============================] - 0s 2ms/step - loss: 0.5413 - accuracy: 0.7807\n",
            "Epoch 35/100\n",
            "74/74 [==============================] - 0s 2ms/step - loss: 0.5559 - accuracy: 0.7956\n",
            "Epoch 36/100\n",
            "74/74 [==============================] - 0s 2ms/step - loss: 0.4118 - accuracy: 0.8392\n",
            "Epoch 37/100\n",
            "74/74 [==============================] - 0s 2ms/step - loss: 0.4020 - accuracy: 0.8351\n",
            "Epoch 38/100\n",
            "74/74 [==============================] - 0s 2ms/step - loss: 0.3815 - accuracy: 0.8447\n",
            "Epoch 39/100\n",
            "74/74 [==============================] - 0s 2ms/step - loss: 0.3891 - accuracy: 0.8243\n",
            "Epoch 40/100\n",
            "74/74 [==============================] - 0s 2ms/step - loss: 0.4011 - accuracy: 0.8215\n",
            "Epoch 41/100\n",
            "74/74 [==============================] - 0s 2ms/step - loss: 0.4183 - accuracy: 0.8202\n",
            "Epoch 42/100\n",
            "74/74 [==============================] - 0s 2ms/step - loss: 0.4182 - accuracy: 0.8379\n",
            "Epoch 43/100\n",
            "74/74 [==============================] - 0s 2ms/step - loss: 0.3986 - accuracy: 0.8351\n",
            "Epoch 44/100\n",
            "74/74 [==============================] - 0s 2ms/step - loss: 0.3964 - accuracy: 0.8351\n",
            "Epoch 45/100\n",
            "74/74 [==============================] - 0s 2ms/step - loss: 0.3788 - accuracy: 0.8447\n",
            "Epoch 46/100\n",
            "74/74 [==============================] - 0s 2ms/step - loss: 0.3649 - accuracy: 0.8583\n",
            "Epoch 47/100\n",
            "74/74 [==============================] - 0s 2ms/step - loss: 0.3972 - accuracy: 0.8256\n",
            "Epoch 48/100\n",
            "74/74 [==============================] - 0s 2ms/step - loss: 0.4094 - accuracy: 0.8270\n",
            "Epoch 49/100\n",
            "74/74 [==============================] - 0s 2ms/step - loss: 0.3998 - accuracy: 0.8229\n",
            "Epoch 50/100\n",
            "74/74 [==============================] - 0s 2ms/step - loss: 0.4181 - accuracy: 0.8202\n",
            "Epoch 51/100\n",
            "74/74 [==============================] - 0s 2ms/step - loss: 0.4119 - accuracy: 0.8297\n",
            "Epoch 52/100\n",
            "74/74 [==============================] - 0s 2ms/step - loss: 0.3809 - accuracy: 0.8501\n",
            "Epoch 53/100\n",
            "74/74 [==============================] - 0s 2ms/step - loss: 0.4032 - accuracy: 0.8447\n",
            "Epoch 54/100\n",
            "74/74 [==============================] - 0s 2ms/step - loss: 0.4099 - accuracy: 0.8188\n",
            "Epoch 55/100\n",
            "74/74 [==============================] - 0s 2ms/step - loss: 0.4324 - accuracy: 0.8134\n",
            "Epoch 56/100\n",
            "74/74 [==============================] - 0s 2ms/step - loss: 0.4889 - accuracy: 0.7970\n",
            "Epoch 57/100\n",
            "74/74 [==============================] - 0s 2ms/step - loss: 0.4069 - accuracy: 0.8379\n",
            "Epoch 58/100\n",
            "74/74 [==============================] - 0s 2ms/step - loss: 0.4021 - accuracy: 0.8379\n",
            "Epoch 59/100\n",
            "74/74 [==============================] - 0s 2ms/step - loss: 0.4922 - accuracy: 0.7943\n",
            "Epoch 60/100\n",
            "74/74 [==============================] - 0s 2ms/step - loss: 0.4202 - accuracy: 0.8283\n",
            "Epoch 61/100\n",
            "74/74 [==============================] - 0s 2ms/step - loss: 0.3976 - accuracy: 0.8283\n",
            "Epoch 62/100\n",
            "74/74 [==============================] - 0s 2ms/step - loss: 0.4250 - accuracy: 0.8215\n",
            "Epoch 63/100\n",
            "74/74 [==============================] - 0s 2ms/step - loss: 0.3888 - accuracy: 0.8324\n",
            "Epoch 64/100\n",
            "74/74 [==============================] - 0s 2ms/step - loss: 0.4047 - accuracy: 0.8338\n",
            "Epoch 65/100\n",
            "74/74 [==============================] - 0s 2ms/step - loss: 0.3834 - accuracy: 0.8256\n",
            "Epoch 66/100\n",
            "74/74 [==============================] - 0s 2ms/step - loss: 0.3613 - accuracy: 0.8542\n",
            "Epoch 67/100\n",
            "74/74 [==============================] - 0s 2ms/step - loss: 0.3811 - accuracy: 0.8433\n",
            "Epoch 68/100\n",
            "74/74 [==============================] - 0s 2ms/step - loss: 0.3607 - accuracy: 0.8474\n",
            "Epoch 69/100\n",
            "74/74 [==============================] - 0s 2ms/step - loss: 0.3871 - accuracy: 0.8338\n",
            "Epoch 70/100\n",
            "74/74 [==============================] - 0s 2ms/step - loss: 0.3745 - accuracy: 0.8365\n",
            "Epoch 71/100\n",
            "74/74 [==============================] - 0s 2ms/step - loss: 0.4213 - accuracy: 0.8147\n",
            "Epoch 72/100\n",
            "74/74 [==============================] - 0s 2ms/step - loss: 0.3713 - accuracy: 0.8351\n",
            "Epoch 73/100\n",
            "74/74 [==============================] - 0s 2ms/step - loss: 0.3626 - accuracy: 0.8460\n",
            "Epoch 74/100\n",
            "74/74 [==============================] - 0s 2ms/step - loss: 0.3660 - accuracy: 0.8488\n",
            "Epoch 75/100\n",
            "74/74 [==============================] - 0s 2ms/step - loss: 0.3879 - accuracy: 0.8093\n",
            "Epoch 76/100\n",
            "74/74 [==============================] - 0s 2ms/step - loss: 0.4217 - accuracy: 0.8256\n",
            "Epoch 77/100\n",
            "74/74 [==============================] - 0s 2ms/step - loss: 0.3738 - accuracy: 0.8311\n",
            "Epoch 78/100\n",
            "74/74 [==============================] - 0s 2ms/step - loss: 0.4010 - accuracy: 0.8243\n",
            "Epoch 79/100\n",
            "74/74 [==============================] - 0s 2ms/step - loss: 0.4291 - accuracy: 0.8392\n",
            "Epoch 80/100\n",
            "74/74 [==============================] - 0s 2ms/step - loss: 0.4316 - accuracy: 0.8188\n",
            "Epoch 81/100\n",
            "74/74 [==============================] - 0s 2ms/step - loss: 0.3603 - accuracy: 0.8488\n",
            "Epoch 82/100\n",
            "74/74 [==============================] - 0s 2ms/step - loss: 0.3625 - accuracy: 0.8569\n",
            "Epoch 83/100\n",
            "74/74 [==============================] - 0s 2ms/step - loss: 0.3699 - accuracy: 0.8501\n",
            "Epoch 84/100\n",
            "74/74 [==============================] - 0s 2ms/step - loss: 0.3612 - accuracy: 0.8515\n",
            "Epoch 85/100\n",
            "74/74 [==============================] - 0s 2ms/step - loss: 0.3718 - accuracy: 0.8447\n",
            "Epoch 86/100\n",
            "74/74 [==============================] - 0s 3ms/step - loss: 0.3746 - accuracy: 0.8365\n",
            "Epoch 87/100\n",
            "74/74 [==============================] - 0s 3ms/step - loss: 0.3547 - accuracy: 0.8542\n",
            "Epoch 88/100\n",
            "74/74 [==============================] - 0s 4ms/step - loss: 0.3406 - accuracy: 0.8610\n",
            "Epoch 89/100\n",
            "74/74 [==============================] - 0s 3ms/step - loss: 0.3526 - accuracy: 0.8474\n",
            "Epoch 90/100\n",
            "74/74 [==============================] - 0s 3ms/step - loss: 0.3771 - accuracy: 0.8501\n",
            "Epoch 91/100\n",
            "74/74 [==============================] - 0s 2ms/step - loss: 0.3842 - accuracy: 0.8379\n",
            "Epoch 92/100\n",
            "74/74 [==============================] - 0s 2ms/step - loss: 0.4071 - accuracy: 0.8243\n",
            "Epoch 93/100\n",
            "74/74 [==============================] - 0s 4ms/step - loss: 0.3859 - accuracy: 0.8379\n",
            "Epoch 94/100\n",
            "74/74 [==============================] - 0s 3ms/step - loss: 0.4723 - accuracy: 0.7970\n",
            "Epoch 95/100\n",
            "74/74 [==============================] - 0s 3ms/step - loss: 0.3598 - accuracy: 0.8488\n",
            "Epoch 96/100\n",
            "74/74 [==============================] - 0s 3ms/step - loss: 0.3441 - accuracy: 0.8529\n",
            "Epoch 97/100\n",
            "74/74 [==============================] - 0s 3ms/step - loss: 0.4165 - accuracy: 0.8215\n",
            "Epoch 98/100\n",
            "74/74 [==============================] - 0s 3ms/step - loss: 0.3472 - accuracy: 0.8433\n",
            "Epoch 99/100\n",
            "74/74 [==============================] - 0s 3ms/step - loss: 0.3306 - accuracy: 0.8583\n",
            "Epoch 100/100\n",
            "74/74 [==============================] - 0s 3ms/step - loss: 0.3511 - accuracy: 0.8569\n"
          ]
        },
        {
          "output_type": "execute_result",
          "data": {
            "text/plain": [
              "<keras.src.callbacks.History at 0x79e72c782350>"
            ]
          },
          "metadata": {},
          "execution_count": 39
        }
      ]
    },
    {
      "cell_type": "code",
      "source": [
        "loss, accuracy = ts.evaluate(X_test, y_test)\n",
        "print(f\"Accuracy: {accuracy*100:.2f}%\")"
      ],
      "metadata": {
        "colab": {
          "base_uri": "https://localhost:8080/"
        },
        "id": "w_gOAhC9J1vj",
        "outputId": "ac048970-a75a-43c3-8c02-5a5ec05164b4"
      },
      "execution_count": null,
      "outputs": [
        {
          "output_type": "stream",
          "name": "stdout",
          "text": [
            "6/6 [==============================] - 0s 3ms/step - loss: 0.5376 - accuracy: 0.7717\n",
            "Accuracy: 77.17%\n"
          ]
        }
      ]
    },
    {
      "cell_type": "code",
      "source": [
        "from sklearn.metrics import classification_report\n",
        "\n",
        "y_pred = (ts.predict(X_test) > 0.5).astype(int)\n",
        "print(classification_report(y_test, y_pred))"
      ],
      "metadata": {
        "colab": {
          "base_uri": "https://localhost:8080/"
        },
        "id": "riciH3AXOurp",
        "outputId": "b46e1834-cfbb-4f92-f231-1532e1a7dfed"
      },
      "execution_count": null,
      "outputs": [
        {
          "output_type": "stream",
          "name": "stdout",
          "text": [
            "6/6 [==============================] - 0s 2ms/step\n",
            "              precision    recall  f1-score   support\n",
            "\n",
            "           0       0.66      0.94      0.77        77\n",
            "           1       0.93      0.65      0.77       107\n",
            "\n",
            "    accuracy                           0.77       184\n",
            "   macro avg       0.80      0.79      0.77       184\n",
            "weighted avg       0.82      0.77      0.77       184\n",
            "\n"
          ]
        }
      ]
    },
    {
      "cell_type": "markdown",
      "source": [
        "With all features: 82%\n",
        "\n",
        "Without the few least important features evaluated from logistic model: 83%"
      ],
      "metadata": {
        "id": "X-S_qzR55QVP"
      }
    },
    {
      "cell_type": "markdown",
      "source": [
        "#Other Models"
      ],
      "metadata": {
        "id": "dxt8gQX2p5Hs"
      }
    },
    {
      "cell_type": "code",
      "source": [
        "import pandas as pd\n",
        "import numpy as np\n",
        "import seaborn as sns\n",
        "import matplotlib.pyplot as plt\n",
        "from sklearn.model_selection import train_test_split\n",
        "from sklearn.metrics import classification_report, confusion_matrix, f1_score, accuracy_score, mean_squared_error, r2_score, recall_score, precision_score\n",
        "from sklearn.linear_model import LogisticRegression\n",
        "from sklearn.ensemble import RandomForestClassifier\n",
        "from sklearn.ensemble import ExtraTreesClassifier\n",
        "from sklearn.tree import DecisionTreeClassifier\n",
        "from sklearn.neighbors import KNeighborsClassifier\n",
        "from sklearn.svm import SVC\n",
        "from sklearn.ensemble import GradientBoostingClassifier\n",
        "from sklearn.model_selection import GridSearchCV"
      ],
      "metadata": {
        "id": "sOOOFkVlqNB5"
      },
      "execution_count": null,
      "outputs": []
    },
    {
      "cell_type": "code",
      "source": [
        "heart_data.columns.drop(target)"
      ],
      "metadata": {
        "colab": {
          "base_uri": "https://localhost:8080/"
        },
        "id": "k0V4dTPK9NsE",
        "outputId": "5d8528b5-fd41-4dee-e139-d5491681145f"
      },
      "execution_count": null,
      "outputs": [
        {
          "output_type": "execute_result",
          "data": {
            "text/plain": [
              "Index(['Age', 'Sex', 'ChestPainType', 'RestingBP', 'Cholesterol', 'FastingBS',\n",
              "       'RestingECG', 'MaxHR', 'ExerciseAngina', 'Oldpeak', 'ST_Slope'],\n",
              "      dtype='object')"
            ]
          },
          "metadata": {},
          "execution_count": 43
        }
      ]
    },
    {
      "cell_type": "code",
      "source": [
        "all_columns = list(heart_data.columns.drop(target))\n",
        "X = heart_data[all_columns]\n",
        "y = heart_data[target]"
      ],
      "metadata": {
        "id": "ql088IqqqdIe"
      },
      "execution_count": null,
      "outputs": []
    },
    {
      "cell_type": "code",
      "source": [
        "#initializing 5 models\n",
        "rf = RandomForestClassifier(max_depth=4,random_state=42, class_weight='balanced')\n",
        "et = ExtraTreesClassifier(n_estimators=100, random_state=42, class_weight='balanced')\n",
        "dt = DecisionTreeClassifier(max_depth=5, random_state=42, class_weight='balanced')\n",
        "knn = KNeighborsClassifier(n_neighbors=5)\n",
        "svm = SVC(kernel='linear', C=1, random_state=42)\n",
        "gbm = GradientBoostingClassifier(n_estimators=100, learning_rate=0.1, random_state=42)"
      ],
      "metadata": {
        "id": "FvZac-ZBp6--"
      },
      "execution_count": null,
      "outputs": []
    },
    {
      "cell_type": "code",
      "source": [
        "#training and testing results lists to store in\n",
        "accuracy = []\n",
        "f1 = []\n",
        "precision = []\n",
        "recall = []\n",
        "#splitting data\n",
        "aX_train, aX_test, ay_train, ay_test = train_test_split(X, y, test_size=0.2, random_state=42)"
      ],
      "metadata": {
        "id": "xQRMQJlvqGEJ"
      },
      "execution_count": null,
      "outputs": []
    },
    {
      "cell_type": "code",
      "source": [
        "#function for training and testing\n",
        "def training(model, aX_train, aX_test, ay_train, ay_test):\n",
        "    model.fit(aX_train, ay_train)\n",
        "    ay_train_pred = model.predict(aX_train)\n",
        "    ay_test_pred = model.predict(aX_test)\n",
        "    accuracy.append(accuracy_score(ay_test, ay_test_pred))\n",
        "    f1.append(f1_score(ay_test, ay_test_pred))\n",
        "    precision.append(precision_score(ay_test, ay_test_pred))\n",
        "    recall.append(recall_score(ay_test, ay_test_pred))\n",
        "    print(classification_report(ay_test, ay_test_pred))"
      ],
      "metadata": {
        "id": "s5sOs27fqHUX"
      },
      "execution_count": null,
      "outputs": []
    },
    {
      "cell_type": "code",
      "source": [
        "#calling training function for each model\n",
        "training(rf, aX_train, aX_test, ay_train, ay_test)"
      ],
      "metadata": {
        "id": "25S2RLnxqIjo",
        "colab": {
          "base_uri": "https://localhost:8080/"
        },
        "outputId": "c1c30587-10aa-4c48-8209-0172559e58db"
      },
      "execution_count": null,
      "outputs": [
        {
          "output_type": "stream",
          "name": "stdout",
          "text": [
            "              precision    recall  f1-score   support\n",
            "\n",
            "           0       0.85      0.88      0.87        77\n",
            "           1       0.91      0.89      0.90       107\n",
            "\n",
            "    accuracy                           0.89       184\n",
            "   macro avg       0.88      0.89      0.88       184\n",
            "weighted avg       0.89      0.89      0.89       184\n",
            "\n"
          ]
        }
      ]
    },
    {
      "cell_type": "code",
      "source": [
        "training(dt, aX_train, aX_test, ay_train, ay_test)"
      ],
      "metadata": {
        "id": "vg51r2D7rig-",
        "colab": {
          "base_uri": "https://localhost:8080/"
        },
        "outputId": "b51c4dca-5671-404a-fd40-18292e5d92dc"
      },
      "execution_count": null,
      "outputs": [
        {
          "output_type": "stream",
          "name": "stdout",
          "text": [
            "              precision    recall  f1-score   support\n",
            "\n",
            "           0       0.82      0.88      0.85        77\n",
            "           1       0.91      0.86      0.88       107\n",
            "\n",
            "    accuracy                           0.87       184\n",
            "   macro avg       0.87      0.87      0.87       184\n",
            "weighted avg       0.87      0.87      0.87       184\n",
            "\n"
          ]
        }
      ]
    },
    {
      "cell_type": "code",
      "source": [
        "training(knn, aX_train, aX_test, ay_train, ay_test)"
      ],
      "metadata": {
        "id": "AvP79T69rfFi",
        "colab": {
          "base_uri": "https://localhost:8080/"
        },
        "outputId": "cf246d54-0921-4f38-c8ca-768c12800e4e"
      },
      "execution_count": null,
      "outputs": [
        {
          "output_type": "stream",
          "name": "stdout",
          "text": [
            "              precision    recall  f1-score   support\n",
            "\n",
            "           0       0.62      0.71      0.67        77\n",
            "           1       0.77      0.69      0.73       107\n",
            "\n",
            "    accuracy                           0.70       184\n",
            "   macro avg       0.70      0.70      0.70       184\n",
            "weighted avg       0.71      0.70      0.70       184\n",
            "\n"
          ]
        }
      ]
    },
    {
      "cell_type": "code",
      "source": [
        "training(gbm, aX_train, aX_test, ay_train, ay_test)"
      ],
      "metadata": {
        "id": "gWckWFdECl9E",
        "colab": {
          "base_uri": "https://localhost:8080/"
        },
        "outputId": "fb79f217-1855-4037-fb98-d43a253c1757"
      },
      "execution_count": null,
      "outputs": [
        {
          "output_type": "stream",
          "name": "stdout",
          "text": [
            "              precision    recall  f1-score   support\n",
            "\n",
            "           0       0.82      0.90      0.86        77\n",
            "           1       0.92      0.86      0.89       107\n",
            "\n",
            "    accuracy                           0.88       184\n",
            "   macro avg       0.87      0.88      0.87       184\n",
            "weighted avg       0.88      0.88      0.88       184\n",
            "\n"
          ]
        }
      ]
    },
    {
      "cell_type": "code",
      "source": [
        "training(svm, aX_train, aX_test, ay_train, ay_test)"
      ],
      "metadata": {
        "colab": {
          "base_uri": "https://localhost:8080/"
        },
        "id": "3tEIrToG9Z6o",
        "outputId": "da71fe77-d083-4c54-ccbb-dfe4aac03a5d"
      },
      "execution_count": null,
      "outputs": [
        {
          "output_type": "stream",
          "name": "stdout",
          "text": [
            "              precision    recall  f1-score   support\n",
            "\n",
            "           0       0.77      0.87      0.82        77\n",
            "           1       0.90      0.81      0.85       107\n",
            "\n",
            "    accuracy                           0.84       184\n",
            "   macro avg       0.83      0.84      0.84       184\n",
            "weighted avg       0.84      0.84      0.84       184\n",
            "\n"
          ]
        }
      ]
    },
    {
      "cell_type": "code",
      "source": [
        "training(et, aX_train, aX_test, ay_train, ay_test)"
      ],
      "metadata": {
        "id": "8c-Bo0DTrkEj",
        "colab": {
          "base_uri": "https://localhost:8080/"
        },
        "outputId": "4d171fd5-6482-4d13-c343-3dbc850fdb37"
      },
      "execution_count": null,
      "outputs": [
        {
          "output_type": "stream",
          "name": "stdout",
          "text": [
            "              precision    recall  f1-score   support\n",
            "\n",
            "           0       0.85      0.91      0.88        77\n",
            "           1       0.93      0.89      0.91       107\n",
            "\n",
            "    accuracy                           0.90       184\n",
            "   macro avg       0.89      0.90      0.89       184\n",
            "weighted avg       0.90      0.90      0.90       184\n",
            "\n"
          ]
        }
      ]
    },
    {
      "cell_type": "code",
      "source": [
        "#all results\n",
        "models = [\"Random Forest\", \"Decision Tree\", \"k-Nearest Neighbors\", \"Gradient Boosting Machine\", \"Support Vector Machine\", \"Extra Trees\"]\n",
        "results = pd.DataFrame({\n",
        "    \"Model\": models,\n",
        "    \"Accuracy\": accuracy,\n",
        "    \"Precision\": precision,\n",
        "    \"Recall\": recall,\n",
        "    \"F1\": f1\n",
        "})\n",
        "print(results)"
      ],
      "metadata": {
        "colab": {
          "base_uri": "https://localhost:8080/"
        },
        "id": "HPkFQdiAqJlW",
        "outputId": "2f426623-94fb-4d3a-ab6e-e706709aa73b"
      },
      "execution_count": null,
      "outputs": [
        {
          "output_type": "stream",
          "name": "stdout",
          "text": [
            "                       Model  Accuracy  Precision    Recall        F1\n",
            "0              Random Forest  0.885870   0.913462  0.887850  0.900474\n",
            "1              Decision Tree  0.869565   0.910891  0.859813  0.884615\n",
            "2        k-Nearest Neighbors  0.701087   0.770833  0.691589  0.729064\n",
            "3  Gradient Boosting Machine  0.875000   0.920000  0.859813  0.888889\n",
            "4     Support Vector Machine  0.836957   0.896907  0.813084  0.852941\n",
            "5                Extra Trees  0.896739   0.931373  0.887850  0.909091\n"
          ]
        }
      ]
    },
    {
      "cell_type": "code",
      "source": [
        "heart_data.columns"
      ],
      "metadata": {
        "colab": {
          "base_uri": "https://localhost:8080/"
        },
        "id": "UrvUBeqKJbPG",
        "outputId": "8fc47321-a12a-404d-b10a-8957df536cdf"
      },
      "execution_count": null,
      "outputs": [
        {
          "output_type": "execute_result",
          "data": {
            "text/plain": [
              "Index(['Age', 'Sex', 'ChestPainType', 'RestingBP', 'Cholesterol', 'FastingBS',\n",
              "       'RestingECG', 'MaxHR', 'ExerciseAngina', 'Oldpeak', 'ST_Slope',\n",
              "       'HeartDisease'],\n",
              "      dtype='object')"
            ]
          },
          "metadata": {},
          "execution_count": 55
        }
      ]
    },
    {
      "cell_type": "markdown",
      "source": [
        "##Feature Importance Ranking"
      ],
      "metadata": {
        "id": "gEdpgWNOcv-N"
      }
    },
    {
      "cell_type": "code",
      "source": [
        "def rank(the_model):\n",
        "  feature_importances = the_model.feature_importances_\n",
        "  ranking = pd.DataFrame({\n",
        "      'Feature': X.columns,\n",
        "      'Importance': feature_importances\n",
        "  }).sort_values(by='Importance', ascending=False)\n",
        "\n",
        "  print(ranking)"
      ],
      "metadata": {
        "id": "dRd9xWXdbtwU"
      },
      "execution_count": null,
      "outputs": []
    },
    {
      "cell_type": "code",
      "source": [
        "rank(rf)"
      ],
      "metadata": {
        "colab": {
          "base_uri": "https://localhost:8080/"
        },
        "id": "EbZyhyfNdT-Y",
        "outputId": "27e27524-b241-47f4-80bb-653ed822aac3"
      },
      "execution_count": null,
      "outputs": [
        {
          "output_type": "stream",
          "name": "stdout",
          "text": [
            "           Feature  Importance\n",
            "10        ST_Slope    0.342370\n",
            "8   ExerciseAngina    0.156645\n",
            "2    ChestPainType    0.130064\n",
            "9          Oldpeak    0.126787\n",
            "4      Cholesterol    0.077713\n",
            "7            MaxHR    0.067528\n",
            "0              Age    0.032235\n",
            "1              Sex    0.030995\n",
            "5        FastingBS    0.015796\n",
            "3        RestingBP    0.015779\n",
            "6       RestingECG    0.004087\n"
          ]
        }
      ]
    },
    {
      "cell_type": "code",
      "source": [
        "rank(dt)"
      ],
      "metadata": {
        "colab": {
          "base_uri": "https://localhost:8080/"
        },
        "id": "YfjDKyWFdfWd",
        "outputId": "d476f08c-b8aa-44c6-d13b-b76946ec600e"
      },
      "execution_count": null,
      "outputs": [
        {
          "output_type": "stream",
          "name": "stdout",
          "text": [
            "           Feature  Importance\n",
            "10        ST_Slope    0.591524\n",
            "2    ChestPainType    0.086223\n",
            "4      Cholesterol    0.071698\n",
            "1              Sex    0.053965\n",
            "7            MaxHR    0.045052\n",
            "9          Oldpeak    0.043434\n",
            "0              Age    0.038659\n",
            "8   ExerciseAngina    0.037757\n",
            "5        FastingBS    0.021895\n",
            "3        RestingBP    0.009793\n",
            "6       RestingECG    0.000000\n"
          ]
        }
      ]
    },
    {
      "cell_type": "code",
      "source": [
        "rank(gbm)"
      ],
      "metadata": {
        "colab": {
          "base_uri": "https://localhost:8080/"
        },
        "id": "roNA2Cmpdfjq",
        "outputId": "7c4b12cc-5dd6-429d-abb0-45319eea3ac3"
      },
      "execution_count": null,
      "outputs": [
        {
          "output_type": "stream",
          "name": "stdout",
          "text": [
            "           Feature  Importance\n",
            "10        ST_Slope    0.474442\n",
            "9          Oldpeak    0.093714\n",
            "4      Cholesterol    0.088185\n",
            "2    ChestPainType    0.083655\n",
            "8   ExerciseAngina    0.062131\n",
            "7            MaxHR    0.056726\n",
            "1              Sex    0.044056\n",
            "0              Age    0.034019\n",
            "3        RestingBP    0.031689\n",
            "5        FastingBS    0.025429\n",
            "6       RestingECG    0.005955\n"
          ]
        }
      ]
    },
    {
      "cell_type": "code",
      "source": [
        "rank(et)"
      ],
      "metadata": {
        "colab": {
          "base_uri": "https://localhost:8080/"
        },
        "id": "ngSO-wxEdftC",
        "outputId": "6563de94-2a08-451a-f98f-7409e302be46"
      },
      "execution_count": null,
      "outputs": [
        {
          "output_type": "stream",
          "name": "stdout",
          "text": [
            "           Feature  Importance\n",
            "10        ST_Slope    0.205436\n",
            "8   ExerciseAngina    0.161701\n",
            "9          Oldpeak    0.096421\n",
            "4      Cholesterol    0.092057\n",
            "2    ChestPainType    0.090106\n",
            "7            MaxHR    0.082874\n",
            "0              Age    0.074509\n",
            "3        RestingBP    0.064317\n",
            "1              Sex    0.054630\n",
            "5        FastingBS    0.040683\n",
            "6       RestingECG    0.037265\n"
          ]
        }
      ]
    },
    {
      "cell_type": "code",
      "source": [
        "from sklearn.inspection import permutation_importance"
      ],
      "metadata": {
        "id": "cSndLbb-d05J"
      },
      "execution_count": null,
      "outputs": []
    },
    {
      "cell_type": "code",
      "source": [
        "knn_result = permutation_importance(knn, X_test, y_test, n_repeats=10, random_state=42)"
      ],
      "metadata": {
        "id": "QnQs0SDYd6FT"
      },
      "execution_count": null,
      "outputs": []
    },
    {
      "cell_type": "code",
      "source": [
        "svm_result = permutation_importance(svm, X_test, y_test, n_repeats=10, random_state=42)"
      ],
      "metadata": {
        "id": "1C5ceKIGd6MR"
      },
      "execution_count": null,
      "outputs": []
    },
    {
      "cell_type": "code",
      "source": [
        "def rank_2(result):\n",
        "  perms = pd.DataFrame({\n",
        "      'Feature': X.columns,\n",
        "      '(Mean) Importance': result.importances_mean,\n",
        "  })\n",
        "  sorted_importances = perms.sort_values(by='(Mean) Importance', ascending=False)\n",
        "\n",
        "  print(sorted_importances)"
      ],
      "metadata": {
        "id": "_kihSJlLd9SM"
      },
      "execution_count": null,
      "outputs": []
    },
    {
      "cell_type": "code",
      "source": [
        "rank_2(knn_result)"
      ],
      "metadata": {
        "colab": {
          "base_uri": "https://localhost:8080/"
        },
        "id": "ccpN5LE7eff3",
        "outputId": "9fb9b1ce-5df7-4903-d241-9b5b83de877f"
      },
      "execution_count": null,
      "outputs": [
        {
          "output_type": "stream",
          "name": "stdout",
          "text": [
            "           Feature  (Mean) Importance\n",
            "7            MaxHR           0.109239\n",
            "4      Cholesterol           0.107065\n",
            "0              Age           0.033152\n",
            "3        RestingBP           0.030978\n",
            "9          Oldpeak           0.002174\n",
            "1              Sex           0.000000\n",
            "2    ChestPainType           0.000000\n",
            "5        FastingBS           0.000000\n",
            "8   ExerciseAngina           0.000000\n",
            "6       RestingECG          -0.003261\n",
            "10        ST_Slope          -0.003804\n"
          ]
        }
      ]
    },
    {
      "cell_type": "code",
      "source": [
        "rank_2(svm_result)"
      ],
      "metadata": {
        "colab": {
          "base_uri": "https://localhost:8080/"
        },
        "id": "txUXFmfqd-iZ",
        "outputId": "1fe699f3-3b6a-4096-d808-7be902bcf62c"
      },
      "execution_count": null,
      "outputs": [
        {
          "output_type": "stream",
          "name": "stdout",
          "text": [
            "           Feature  (Mean) Importance\n",
            "10        ST_Slope           0.114674\n",
            "2    ChestPainType           0.028804\n",
            "5        FastingBS           0.015217\n",
            "9          Oldpeak           0.009783\n",
            "1              Sex           0.008696\n",
            "8   ExerciseAngina           0.004891\n",
            "4      Cholesterol           0.003804\n",
            "3        RestingBP           0.000000\n",
            "7            MaxHR          -0.001087\n",
            "6       RestingECG          -0.002717\n",
            "0              Age          -0.007609\n"
          ]
        }
      ]
    },
    {
      "cell_type": "markdown",
      "source": [
        "##Concluding Evaluations"
      ],
      "metadata": {
        "id": "IUYJr-DnVikI"
      }
    },
    {
      "cell_type": "code",
      "source": [
        "from sklearn.metrics import classification_report"
      ],
      "metadata": {
        "id": "Ga_RivSiOw5O"
      },
      "execution_count": null,
      "outputs": []
    },
    {
      "cell_type": "code",
      "source": [
        "heart_data.columns.drop(target)"
      ],
      "metadata": {
        "colab": {
          "base_uri": "https://localhost:8080/"
        },
        "id": "xxQoOZHENg-b",
        "outputId": "5e9603af-56dd-4303-ce29-286d88ad88e1"
      },
      "execution_count": null,
      "outputs": [
        {
          "output_type": "execute_result",
          "data": {
            "text/plain": [
              "Index(['Age', 'Sex', 'ChestPainType', 'RestingBP', 'Cholesterol', 'FastingBS',\n",
              "       'RestingECG', 'MaxHR', 'ExerciseAngina', 'Oldpeak', 'ST_Slope'],\n",
              "      dtype='object')"
            ]
          },
          "metadata": {},
          "execution_count": 157
        }
      ]
    },
    {
      "cell_type": "markdown",
      "source": [
        "Lifestyle factor(s): exercise angina, oldpeak"
      ],
      "metadata": {
        "id": "vpe2rde2RdLH"
      }
    },
    {
      "cell_type": "markdown",
      "source": [
        "###With lifestyle factor(s)"
      ],
      "metadata": {
        "id": "Sp975NQbRmbM"
      }
    },
    {
      "cell_type": "code",
      "source": [
        "#testing for the best mulitple features ranked by importance by that model, from a preivous section\n",
        "all_columns = remov('ExerciseAngina', 'Oldpeak')\n",
        "X = heart_data[all_columns]\n",
        "y = heart_data[target]\n",
        "#initializing 5 models\n",
        "model = ExtraTreesClassifier(n_estimators=100, random_state=42, class_weight='balanced')\n",
        "#splitting data\n",
        "aX_train, aX_test, ay_train, ay_test = train_test_split(X, y, test_size=0.2, random_state=42)\n",
        "#function for training and testing\n",
        "model.fit(aX_train, ay_train)\n",
        "ay_train_pred = model.predict(aX_train)\n",
        "ay_test_pred = model.predict(aX_test)\n",
        "without_f1 = f1_score(ay_test,ay_test_pred)"
      ],
      "metadata": {
        "id": "MqtYQu7FQvmT"
      },
      "execution_count": null,
      "outputs": []
    },
    {
      "cell_type": "markdown",
      "source": [
        "###Without lifestyle factor(s)"
      ],
      "metadata": {
        "id": "VbqcWTEGRsBB"
      }
    },
    {
      "cell_type": "code",
      "source": [
        "#Using best model from preivous evaluations\n",
        "all_columns = remov()\n",
        "X = heart_data[all_columns]\n",
        "y = heart_data[target]\n",
        "#initializing 5 models\n",
        "model = ExtraTreesClassifier(n_estimators=100, random_state=42, class_weight='balanced')\n",
        "#splitting data\n",
        "aX_train, aX_test, ay_train, ay_test = train_test_split(X, y, test_size=0.2, random_state=42)\n",
        "#function for training and testing\n",
        "model.fit(aX_train, ay_train)\n",
        "ay_train_pred = model.predict(aX_train)\n",
        "ay_test_pred = model.predict(aX_test)\n",
        "with_f1 = f1_score(ay_test,ay_test_pred)"
      ],
      "metadata": {
        "id": "NUDjWyLIRtKF"
      },
      "execution_count": null,
      "outputs": []
    },
    {
      "cell_type": "code",
      "source": [
        "print(f'{without_f1} (no factors)\\n{with_f1} (factors)')"
      ],
      "metadata": {
        "id": "PXdrC0UlPVDv",
        "colab": {
          "base_uri": "https://localhost:8080/"
        },
        "outputId": "9266e237-1e1d-4bdf-c7a0-81aeb8b18ad0"
      },
      "execution_count": null,
      "outputs": [
        {
          "output_type": "stream",
          "name": "stdout",
          "text": [
            "0.8823529411764706 (no factors)\n",
            "0.9090909090909091 (factors)\n"
          ]
        }
      ]
    },
    {
      "cell_type": "markdown",
      "source": [
        "###Findings (Lifestyle vs No Lifestyle Factors)\n",
        "Removing both lifestyle factors made the accuracy go down.\n",
        "\n",
        "The feature importance also shows that exercise angina and oldpeak are very important features"
      ],
      "metadata": {
        "id": "TzjnixhiO_Yx"
      }
    },
    {
      "cell_type": "markdown",
      "source": [
        "###Removing Other Most Important Features Ranked from Before for this model:\n",
        "\n",
        "ST slope, cholesterol, chest pain"
      ],
      "metadata": {
        "id": "NoPJ93KGX0xP"
      }
    },
    {
      "cell_type": "code",
      "source": [
        "heart_data.columns"
      ],
      "metadata": {
        "colab": {
          "base_uri": "https://localhost:8080/"
        },
        "id": "XxM5k7yQoVRL",
        "outputId": "0f3d9423-6f70-4613-d4b6-870c44d79c91"
      },
      "execution_count": null,
      "outputs": [
        {
          "output_type": "execute_result",
          "data": {
            "text/plain": [
              "Index(['Age', 'Sex', 'ChestPainType', 'RestingBP', 'Cholesterol', 'FastingBS',\n",
              "       'RestingECG', 'MaxHR', 'ExerciseAngina', 'Oldpeak', 'ST_Slope',\n",
              "       'HeartDisease'],\n",
              "      dtype='object')"
            ]
          },
          "metadata": {},
          "execution_count": 172
        }
      ]
    },
    {
      "cell_type": "code",
      "source": [
        "#Using best model from preivous evaluations\n",
        "all_columns = remov('ST_Slope')\n",
        "X = heart_data[all_columns]\n",
        "y = heart_data[target]\n",
        "#initializing 5 models\n",
        "model = ExtraTreesClassifier(n_estimators=100, random_state=42, class_weight='balanced')\n",
        "#splitting data\n",
        "aX_train, aX_test, ay_train, ay_test = train_test_split(X, y, test_size=0.2, random_state=42)\n",
        "#function for training and testing\n",
        "model.fit(aX_train, ay_train)\n",
        "ay_train_pred = model.predict(aX_train)\n",
        "ay_test_pred = model.predict(aX_test)\n",
        "print(f1_score(ay_test,ay_test_pred))"
      ],
      "metadata": {
        "colab": {
          "base_uri": "https://localhost:8080/"
        },
        "id": "a-Dj9vswXwlA",
        "outputId": "e514a790-5bcb-4cd9-e23a-7fafa291342e"
      },
      "execution_count": null,
      "outputs": [
        {
          "output_type": "stream",
          "name": "stdout",
          "text": [
            "0.8235294117647058\n"
          ]
        }
      ]
    },
    {
      "cell_type": "code",
      "source": [
        "#Using best model from preivous evaluations\n",
        "all_columns = remov('Cholesterol')\n",
        "X = heart_data[all_columns]\n",
        "y = heart_data[target]\n",
        "#initializing 5 models\n",
        "model = ExtraTreesClassifier(n_estimators=100, random_state=42, class_weight='balanced')\n",
        "#splitting data\n",
        "aX_train, aX_test, ay_train, ay_test = train_test_split(X, y, test_size=0.2, random_state=42)\n",
        "#function for training and testing\n",
        "model.fit(aX_train, ay_train)\n",
        "ay_train_pred = model.predict(aX_train)\n",
        "ay_test_pred = model.predict(aX_test)\n",
        "print(f1_score(ay_test,ay_test_pred))"
      ],
      "metadata": {
        "colab": {
          "base_uri": "https://localhost:8080/"
        },
        "id": "hed2ctjZYE1G",
        "outputId": "f488088d-30d8-4723-a890-a9d6d3fb7859"
      },
      "execution_count": null,
      "outputs": [
        {
          "output_type": "stream",
          "name": "stdout",
          "text": [
            "0.8669950738916257\n"
          ]
        }
      ]
    },
    {
      "cell_type": "code",
      "source": [
        "#Using best model from preivous evaluations\n",
        "all_columns = remov('ChestPainType')\n",
        "X = heart_data[all_columns]\n",
        "y = heart_data[target]\n",
        "#initializing 5 models\n",
        "model = ExtraTreesClassifier(n_estimators=100, random_state=42, class_weight='balanced')\n",
        "#splitting data\n",
        "aX_train, aX_test, ay_train, ay_test = train_test_split(X, y, test_size=0.2, random_state=42)\n",
        "#function for training and testing\n",
        "model.fit(aX_train, ay_train)\n",
        "ay_train_pred = model.predict(aX_train)\n",
        "ay_test_pred = model.predict(aX_test)\n",
        "print(f1_score(ay_test,ay_test_pred))"
      ],
      "metadata": {
        "colab": {
          "base_uri": "https://localhost:8080/"
        },
        "id": "lIHWDLnHYH5V",
        "outputId": "ddb77363-87e9-4b23-dfe3-3dc3a4623401"
      },
      "execution_count": null,
      "outputs": [
        {
          "output_type": "stream",
          "name": "stdout",
          "text": [
            "0.8651162790697675\n"
          ]
        }
      ]
    },
    {
      "cell_type": "markdown",
      "source": [
        "* Removing ST Slope decreased the model performance by 8%\n",
        "* Removing cholesterol, chestpain also decreased it, but by 4%\n",
        "\n",
        "Therefore, ST slope, cholesterl, and chestpain all seem like important features in predicting heart disease, as they were also ranked the most important features of this model\n",
        "\n",
        "Slope of the Peak Exercise ST Segment is a psycological measure that can indicate how well the heart is functioning under stress."
      ],
      "metadata": {
        "id": "gM3ap1jCYZW1"
      }
    },
    {
      "cell_type": "markdown",
      "source": [
        "##Testing collective performance by removing certain features from all features"
      ],
      "metadata": {
        "id": "yZNTgHjtW1_a"
      }
    },
    {
      "cell_type": "code",
      "source": [
        "#run this only once\n",
        "initial_dict = {}\n",
        "count = 0"
      ],
      "metadata": {
        "id": "qAcI743_XMKU"
      },
      "execution_count": null,
      "outputs": []
    },
    {
      "cell_type": "code",
      "source": [
        "def remov(*items):\n",
        "    return [item for item in list(heart_data.columns.drop(target)) if item not in items]"
      ],
      "metadata": {
        "id": "wpelSGlOXu2p"
      },
      "execution_count": null,
      "outputs": []
    },
    {
      "cell_type": "code",
      "source": [
        "all_columns = remov('ST_Slope') #ST_slope, exercise angina, and oldpeak had the highest importance by ET"
      ],
      "metadata": {
        "id": "bdWyp9x5YRN3"
      },
      "execution_count": null,
      "outputs": []
    },
    {
      "cell_type": "code",
      "source": [
        "X = heart_data[all_columns]\n",
        "y = heart_data[target]\n",
        "gbm = GradientBoostingClassifier(n_estimators=100, learning_rate=0.1, random_state=42)\n",
        "#training and testing results lists to store in\n",
        "accuracy = []\n",
        "f1 = []\n",
        "precision = []\n",
        "recall = []\n",
        "#splitting data\n",
        "aX_train, aX_test, ay_train, ay_test = train_test_split(X, y, test_size=0.2, random_state=42)\n",
        "#function for training and testing\n",
        "def training(model, aX_train, aX_test, ay_train, ay_test):\n",
        "    model.fit(aX_train, ay_train)\n",
        "    ay_train_pred = model.predict(aX_train)\n",
        "    ay_test_pred = model.predict(aX_test)\n",
        "    accuracy.append(accuracy_score(ay_test, ay_test_pred))\n",
        "    f1.append(f1_score(ay_test, ay_test_pred))\n",
        "    precision.append(precision_score(ay_test, ay_test_pred))\n",
        "    recall.append(recall_score(ay_test, ay_test_pred))\n",
        "training(rf, aX_train, aX_test, ay_train, ay_test)\n",
        "training(dt, aX_train, aX_test, ay_train, ay_test)\n",
        "training(knn, aX_train, aX_test, ay_train, ay_test)\n",
        "training(gbm, aX_train, aX_test, ay_train, ay_test)\n",
        "training(svm, aX_train, aX_test, ay_train, ay_test)\n",
        "training(et, aX_train, aX_test, ay_train, ay_test)\n",
        "#one model's results over different features\n",
        "models = [\"Random Forest\", \"Decision Tree\", \"k-Nearest Neighbors\", \"Gradient Boosting Machine\", \"Support Vector Machine\", \"Extra Trees\"]\n",
        "results = pd.DataFrame({\n",
        "    \"Model\": models,\n",
        "    \"Accuracy\": accuracy,\n",
        "    \"Precision\": precision,\n",
        "    \"Recall\": recall,\n",
        "    \"F1\": f1\n",
        "})\n",
        "print(results)\n",
        "initial_dict[count] = str([item for item in list(heart_data.columns.drop(target)) if item not in all_columns])+\" | length \"+str(len(all_columns))+\" | \"+str(f1)\n",
        "count+=1"
      ],
      "metadata": {
        "colab": {
          "base_uri": "https://localhost:8080/"
        },
        "id": "IPIIRmqEW7XC",
        "outputId": "001ea1cd-3cda-4fdd-8d06-76ecc7008089"
      },
      "execution_count": null,
      "outputs": [
        {
          "output_type": "stream",
          "name": "stdout",
          "text": [
            "                       Model  Accuracy  Precision    Recall        F1\n",
            "0              Random Forest  0.815217   0.901099  0.766355  0.828283\n",
            "1              Decision Tree  0.739130   0.817204  0.710280  0.760000\n",
            "2        k-Nearest Neighbors  0.701087   0.770833  0.691589  0.729064\n",
            "3  Gradient Boosting Machine  0.809783   0.867347  0.794393  0.829268\n",
            "4     Support Vector Machine  0.793478   0.863158  0.766355  0.811881\n",
            "5                Extra Trees  0.804348   0.865979  0.785047  0.823529\n"
          ]
        }
      ]
    },
    {
      "cell_type": "code",
      "source": [
        "initial_dict"
      ],
      "metadata": {
        "colab": {
          "base_uri": "https://localhost:8080/"
        },
        "id": "vsGMi1PcYrey",
        "outputId": "762e7128-cd09-4dc0-ddaa-752ff718c165"
      },
      "execution_count": null,
      "outputs": [
        {
          "output_type": "execute_result",
          "data": {
            "text/plain": [
              "{0: \"['ExerciseAngina', 'Oldpeak'] | length 9 | [0.8921568627450981, 0.872549019607843, 0.7281553398058253, 0.8857142857142858, 0.8415841584158417, 0.8823529411764706]\",\n",
              " 1: \"['ExerciseAngina'] | length 10 | [0.8952380952380954, 0.8899521531100477, 0.7290640394088671, 0.8682926829268293, 0.8431372549019608, 0.912621359223301]\",\n",
              " 2: \"['Oldpeak'] | length 10 | [0.888888888888889, 0.888888888888889, 0.7281553398058253, 0.8942307692307692, 0.84, 0.8866995073891626]\",\n",
              " 3: '[] | length 11 | [0.9004739336492891, 0.8846153846153846, 0.7290640394088671, 0.888888888888889, 0.8529411764705883, 0.9090909090909091]',\n",
              " 5: \"['ST_Slope'] | length 10 | [0.8282828282828283, 0.76, 0.7290640394088671, 0.8292682926829268, 0.8118811881188119, 0.8235294117647058]\"}"
            ]
          },
          "metadata": {},
          "execution_count": 136
        }
      ]
    },
    {
      "cell_type": "markdown",
      "source": [
        "Looks like removing exercise angina increased accuracy, removing old peak decreased, and removing ST_Slope dramatically decreased them all"
      ],
      "metadata": {
        "id": "cTIOXGPAJDhs"
      }
    },
    {
      "cell_type": "markdown",
      "source": [
        "##Testing for best single feature for the best models\n",
        "\n"
      ],
      "metadata": {
        "id": "bkhV4NNxVeku"
      }
    },
    {
      "cell_type": "code",
      "source": [
        "#initializing 5 models\n",
        "rf = RandomForestClassifier(max_depth=4,random_state=42, class_weight='balanced')\n",
        "et = ExtraTreesClassifier(n_estimators=100, random_state=42, class_weight='balanced')\n",
        "dt = DecisionTreeClassifier(max_depth=5, random_state=42, class_weight='balanced')\n",
        "knn = KNeighborsClassifier(n_neighbors=5)\n",
        "svm = SVC(kernel='linear', C=1, random_state=42)\n",
        "gbm = GradientBoostingClassifier(n_estimators=100, learning_rate=0.1, random_state=42)"
      ],
      "metadata": {
        "id": "GGRowTa9J8qN"
      },
      "execution_count": null,
      "outputs": []
    },
    {
      "cell_type": "code",
      "source": [
        "def single_feature(c_model):\n",
        "  t_dict = {}\n",
        "  for k in heart_data.columns.drop(target):\n",
        "    X = heart_data[[k]]\n",
        "    y = heart_data[target]\n",
        "    #f1 score\n",
        "    f1 = 0\n",
        "    #splitting data\n",
        "    aX_train, aX_test, ay_train, ay_test = train_test_split(X, y, test_size=0.2, random_state=42)\n",
        "    #function for training and testing\n",
        "    c_model.fit(aX_train, ay_train)\n",
        "    ay_train_pred = c_model.predict(aX_train)\n",
        "    ay_test_pred = c_model.predict(aX_test)\n",
        "    f1 = f1_score(ay_test, ay_test_pred)\n",
        "    #one model's results over different features\n",
        "    t_dict[k] = f1\n",
        "    print(k+\":\", f1)\n",
        "  print(\"\\nBest one is \"+str(max(t_dict, key=t_dict.get))+\" (\"+str(t_dict[max(t_dict, key=t_dict.get)])+\")\")"
      ],
      "metadata": {
        "id": "XiCiSv2jI3nG"
      },
      "execution_count": null,
      "outputs": []
    },
    {
      "cell_type": "code",
      "source": [
        "single_feature(rf)"
      ],
      "metadata": {
        "colab": {
          "base_uri": "https://localhost:8080/"
        },
        "id": "W420o2JNKthu",
        "outputId": "26d63e3f-183f-4c26-8751-0e68218aa592"
      },
      "execution_count": null,
      "outputs": [
        {
          "output_type": "stream",
          "name": "stdout",
          "text": [
            "Age: 0.6060606060606061\n",
            "Sex: 0.7499999999999999\n",
            "ChestPainType: 0.8217821782178217\n",
            "RestingBP: 0.5612244897959183\n",
            "Cholesterol: 0.5662650602409639\n",
            "FastingBS: 0.5064935064935064\n",
            "RestingECG: 0.5245901639344263\n",
            "MaxHR: 0.6559139784946237\n",
            "ExerciseAngina: 0.64\n",
            "Oldpeak: 0.7171717171717171\n",
            "ST_Slope: 0.8177339901477833\n",
            "\n",
            "Best one is ChestPainType (0.8217821782178217)\n"
          ]
        }
      ]
    },
    {
      "cell_type": "code",
      "source": [
        "single_feature(dt)"
      ],
      "metadata": {
        "colab": {
          "base_uri": "https://localhost:8080/"
        },
        "id": "XEMxarqjnPqQ",
        "outputId": "8d363861-265d-41bd-8c75-51c706e9e5f3"
      },
      "execution_count": null,
      "outputs": [
        {
          "output_type": "stream",
          "name": "stdout",
          "text": [
            "Age: 0.5929648241206029\n",
            "Sex: 0.7499999999999999\n",
            "ChestPainType: 0.8217821782178217\n",
            "RestingBP: 0.46249999999999997\n",
            "Cholesterol: 0.5575757575757576\n",
            "FastingBS: 0.5064935064935064\n",
            "RestingECG: 0.5245901639344263\n",
            "MaxHR: 0.6734693877551021\n",
            "ExerciseAngina: 0.64\n",
            "Oldpeak: 0.7282051282051282\n",
            "ST_Slope: 0.8177339901477833\n",
            "\n",
            "Best one is ChestPainType (0.8217821782178217)\n"
          ]
        }
      ]
    },
    {
      "cell_type": "code",
      "source": [
        "single_feature(knn)"
      ],
      "metadata": {
        "colab": {
          "base_uri": "https://localhost:8080/"
        },
        "id": "1izFw7-unRv3",
        "outputId": "2346a86d-73cb-4339-abb0-058ed5b5990b"
      },
      "execution_count": null,
      "outputs": [
        {
          "output_type": "stream",
          "name": "stdout",
          "text": [
            "Age: 0.703862660944206\n",
            "Sex: 0.0\n",
            "ChestPainType: 0.8217821782178217\n",
            "RestingBP: 0.572972972972973\n",
            "Cholesterol: 0.6435643564356435\n",
            "FastingBS: 0.5064935064935064\n",
            "RestingECG: 0.5245901639344263\n",
            "MaxHR: 0.6321243523316061\n",
            "ExerciseAngina: 0.64\n",
            "Oldpeak: 0.7142857142857143\n",
            "ST_Slope: 0.8177339901477833\n",
            "\n",
            "Best one is ChestPainType (0.8217821782178217)\n"
          ]
        }
      ]
    },
    {
      "cell_type": "code",
      "source": [
        "single_feature(gbm)"
      ],
      "metadata": {
        "colab": {
          "base_uri": "https://localhost:8080/"
        },
        "id": "dUwTorhMMSmy",
        "outputId": "140b2398-8323-4d22-bc4b-173315c142e8"
      },
      "execution_count": null,
      "outputs": [
        {
          "output_type": "stream",
          "name": "stdout",
          "text": [
            "Age: 0.6146341463414634\n",
            "Sex: 0.7499999999999999\n",
            "ChestPainType: 0.8217821782178217\n",
            "RestingBP: 0.6124401913875597\n",
            "Cholesterol: 0.6063829787234042\n",
            "FastingBS: 0.5064935064935064\n",
            "RestingECG: 0.7353951890034365\n",
            "MaxHR: 0.6926829268292682\n",
            "ExerciseAngina: 0.64\n",
            "Oldpeak: 0.7282051282051282\n",
            "ST_Slope: 0.8177339901477833\n",
            "\n",
            "Best one is ChestPainType (0.8217821782178217)\n"
          ]
        }
      ]
    },
    {
      "cell_type": "code",
      "source": [
        "single_feature(svm)"
      ],
      "metadata": {
        "colab": {
          "base_uri": "https://localhost:8080/"
        },
        "id": "_1l4omXQnS6w",
        "outputId": "43601ca5-6a89-4c20-8f0b-936c45afc912"
      },
      "execution_count": null,
      "outputs": [
        {
          "output_type": "stream",
          "name": "stdout",
          "text": [
            "Age: 0.6696428571428572\n",
            "Sex: 0.7499999999999999\n",
            "ChestPainType: 0.7457627118644068\n",
            "RestingBP: 0.7353951890034365\n",
            "Cholesterol: 0.47368421052631576\n",
            "FastingBS: 0.5064935064935064\n",
            "RestingECG: 0.7353951890034365\n",
            "MaxHR: 0.6952380952380953\n",
            "ExerciseAngina: 0.64\n",
            "Oldpeak: 0.6875\n",
            "ST_Slope: 0.8177339901477833\n",
            "\n",
            "Best one is ST_Slope (0.8177339901477833)\n"
          ]
        }
      ]
    },
    {
      "cell_type": "code",
      "source": [
        "single_feature(et)"
      ],
      "metadata": {
        "colab": {
          "base_uri": "https://localhost:8080/"
        },
        "id": "50oFtmvjMSpC",
        "outputId": "3563310f-cc69-42a2-8aea-00ed9191c5f9"
      },
      "execution_count": null,
      "outputs": [
        {
          "output_type": "stream",
          "name": "stdout",
          "text": [
            "Age: 0.5858585858585859\n",
            "Sex: 0.7499999999999999\n",
            "ChestPainType: 0.8217821782178217\n",
            "RestingBP: 0.5269461077844312\n",
            "Cholesterol: 0.6130653266331658\n",
            "FastingBS: 0.5064935064935064\n",
            "RestingECG: 0.5245901639344263\n",
            "MaxHR: 0.6382978723404256\n",
            "ExerciseAngina: 0.64\n",
            "Oldpeak: 0.7291666666666665\n",
            "ST_Slope: 0.8177339901477833\n",
            "\n",
            "Best one is ChestPainType (0.8217821782178217)\n"
          ]
        }
      ]
    }
  ]
}