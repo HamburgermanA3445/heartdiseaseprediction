{
  "nbformat": 4,
  "nbformat_minor": 0,
  "metadata": {
    "colab": {
      "provenance": [],
      "toc_visible": true,
      "authorship_tag": "ABX9TyNGmghZ2bR6XQKr552ic+ry",
      "include_colab_link": true
    },
    "kernelspec": {
      "name": "python3",
      "display_name": "Python 3"
    },
    "language_info": {
      "name": "python"
    }
  },
  "cells": [
    {
      "cell_type": "markdown",
      "metadata": {
        "id": "view-in-github",
        "colab_type": "text"
      },
      "source": [
        "<a href=\"https://colab.research.google.com/github/HamburgermanA3445/heartdiseaseprediction/blob/main/Heart_Disease_%5B2%5D.ipynb\" target=\"_parent\"><img src=\"https://colab.research.google.com/assets/colab-badge.svg\" alt=\"Open In Colab\"/></a>"
      ]
    },
    {
      "cell_type": "markdown",
      "source": [
        "Successful, obtained from Kaggle:\n",
        "\n",
        "https://www.kaggle.com/datasets/johnsmith88/heart-disease-dataset"
      ],
      "metadata": {
        "id": "gJq3zoJxDQJc"
      }
    },
    {
      "cell_type": "code",
      "source": [
        "!unzip \"/content/heart_2.zip\""
      ],
      "metadata": {
        "colab": {
          "base_uri": "https://localhost:8080/"
        },
        "id": "S6V-lZy9Xaqt",
        "outputId": "242f8146-7b36-4dce-afd7-f66c87efd9ef"
      },
      "execution_count": null,
      "outputs": [
        {
          "output_type": "stream",
          "name": "stdout",
          "text": [
            "Archive:  /content/heart_2.zip\n",
            "  inflating: heart.csv               \n"
          ]
        }
      ]
    },
    {
      "cell_type": "code",
      "source": [
        "import pandas as pd"
      ],
      "metadata": {
        "id": "kOo-yJDnFrvo"
      },
      "execution_count": null,
      "outputs": []
    },
    {
      "cell_type": "code",
      "source": [
        "heart_data = pd.read_csv(\"/content/heart.csv\")"
      ],
      "metadata": {
        "id": "HBfI_JItXdEM"
      },
      "execution_count": null,
      "outputs": []
    },
    {
      "cell_type": "code",
      "source": [
        "target = 'target'\n",
        "all_columns = heart_data.columns.drop(target)"
      ],
      "metadata": {
        "id": "WR5drfXaLgrI"
      },
      "execution_count": null,
      "outputs": []
    },
    {
      "cell_type": "code",
      "source": [
        "heart_data.columns"
      ],
      "metadata": {
        "colab": {
          "base_uri": "https://localhost:8080/"
        },
        "id": "-1mUGmY4XdIx",
        "outputId": "cd2005e8-87ca-450b-b2ac-a2af3d1ddc88"
      },
      "execution_count": null,
      "outputs": [
        {
          "output_type": "execute_result",
          "data": {
            "text/plain": [
              "Index(['age', 'sex', 'cp', 'trestbps', 'chol', 'fbs', 'restecg', 'thalach',\n",
              "       'exang', 'oldpeak', 'slope', 'ca', 'thal', 'target'],\n",
              "      dtype='object')"
            ]
          },
          "metadata": {},
          "execution_count": 5
        }
      ]
    },
    {
      "cell_type": "code",
      "source": [
        "heart_data.head()"
      ],
      "metadata": {
        "id": "cnbXNe-AaUlU",
        "colab": {
          "base_uri": "https://localhost:8080/",
          "height": 206
        },
        "outputId": "312971f0-89a2-44cb-e074-7e852718b8f3"
      },
      "execution_count": null,
      "outputs": [
        {
          "output_type": "execute_result",
          "data": {
            "text/plain": [
              "   age  sex  cp  trestbps  chol  fbs  restecg  thalach  exang  oldpeak  slope  \\\n",
              "0   52    1   0       125   212    0        1      168      0      1.0      2   \n",
              "1   53    1   0       140   203    1        0      155      1      3.1      0   \n",
              "2   70    1   0       145   174    0        1      125      1      2.6      0   \n",
              "3   61    1   0       148   203    0        1      161      0      0.0      2   \n",
              "4   62    0   0       138   294    1        1      106      0      1.9      1   \n",
              "\n",
              "   ca  thal  target  \n",
              "0   2     3       0  \n",
              "1   0     3       0  \n",
              "2   0     3       0  \n",
              "3   1     3       0  \n",
              "4   3     2       0  "
            ],
            "text/html": [
              "\n",
              "  <div id=\"df-1bcd44df-f8fd-4c49-9701-b626928b09fb\" class=\"colab-df-container\">\n",
              "    <div>\n",
              "<style scoped>\n",
              "    .dataframe tbody tr th:only-of-type {\n",
              "        vertical-align: middle;\n",
              "    }\n",
              "\n",
              "    .dataframe tbody tr th {\n",
              "        vertical-align: top;\n",
              "    }\n",
              "\n",
              "    .dataframe thead th {\n",
              "        text-align: right;\n",
              "    }\n",
              "</style>\n",
              "<table border=\"1\" class=\"dataframe\">\n",
              "  <thead>\n",
              "    <tr style=\"text-align: right;\">\n",
              "      <th></th>\n",
              "      <th>age</th>\n",
              "      <th>sex</th>\n",
              "      <th>cp</th>\n",
              "      <th>trestbps</th>\n",
              "      <th>chol</th>\n",
              "      <th>fbs</th>\n",
              "      <th>restecg</th>\n",
              "      <th>thalach</th>\n",
              "      <th>exang</th>\n",
              "      <th>oldpeak</th>\n",
              "      <th>slope</th>\n",
              "      <th>ca</th>\n",
              "      <th>thal</th>\n",
              "      <th>target</th>\n",
              "    </tr>\n",
              "  </thead>\n",
              "  <tbody>\n",
              "    <tr>\n",
              "      <th>0</th>\n",
              "      <td>52</td>\n",
              "      <td>1</td>\n",
              "      <td>0</td>\n",
              "      <td>125</td>\n",
              "      <td>212</td>\n",
              "      <td>0</td>\n",
              "      <td>1</td>\n",
              "      <td>168</td>\n",
              "      <td>0</td>\n",
              "      <td>1.0</td>\n",
              "      <td>2</td>\n",
              "      <td>2</td>\n",
              "      <td>3</td>\n",
              "      <td>0</td>\n",
              "    </tr>\n",
              "    <tr>\n",
              "      <th>1</th>\n",
              "      <td>53</td>\n",
              "      <td>1</td>\n",
              "      <td>0</td>\n",
              "      <td>140</td>\n",
              "      <td>203</td>\n",
              "      <td>1</td>\n",
              "      <td>0</td>\n",
              "      <td>155</td>\n",
              "      <td>1</td>\n",
              "      <td>3.1</td>\n",
              "      <td>0</td>\n",
              "      <td>0</td>\n",
              "      <td>3</td>\n",
              "      <td>0</td>\n",
              "    </tr>\n",
              "    <tr>\n",
              "      <th>2</th>\n",
              "      <td>70</td>\n",
              "      <td>1</td>\n",
              "      <td>0</td>\n",
              "      <td>145</td>\n",
              "      <td>174</td>\n",
              "      <td>0</td>\n",
              "      <td>1</td>\n",
              "      <td>125</td>\n",
              "      <td>1</td>\n",
              "      <td>2.6</td>\n",
              "      <td>0</td>\n",
              "      <td>0</td>\n",
              "      <td>3</td>\n",
              "      <td>0</td>\n",
              "    </tr>\n",
              "    <tr>\n",
              "      <th>3</th>\n",
              "      <td>61</td>\n",
              "      <td>1</td>\n",
              "      <td>0</td>\n",
              "      <td>148</td>\n",
              "      <td>203</td>\n",
              "      <td>0</td>\n",
              "      <td>1</td>\n",
              "      <td>161</td>\n",
              "      <td>0</td>\n",
              "      <td>0.0</td>\n",
              "      <td>2</td>\n",
              "      <td>1</td>\n",
              "      <td>3</td>\n",
              "      <td>0</td>\n",
              "    </tr>\n",
              "    <tr>\n",
              "      <th>4</th>\n",
              "      <td>62</td>\n",
              "      <td>0</td>\n",
              "      <td>0</td>\n",
              "      <td>138</td>\n",
              "      <td>294</td>\n",
              "      <td>1</td>\n",
              "      <td>1</td>\n",
              "      <td>106</td>\n",
              "      <td>0</td>\n",
              "      <td>1.9</td>\n",
              "      <td>1</td>\n",
              "      <td>3</td>\n",
              "      <td>2</td>\n",
              "      <td>0</td>\n",
              "    </tr>\n",
              "  </tbody>\n",
              "</table>\n",
              "</div>\n",
              "    <div class=\"colab-df-buttons\">\n",
              "\n",
              "  <div class=\"colab-df-container\">\n",
              "    <button class=\"colab-df-convert\" onclick=\"convertToInteractive('df-1bcd44df-f8fd-4c49-9701-b626928b09fb')\"\n",
              "            title=\"Convert this dataframe to an interactive table.\"\n",
              "            style=\"display:none;\">\n",
              "\n",
              "  <svg xmlns=\"http://www.w3.org/2000/svg\" height=\"24px\" viewBox=\"0 -960 960 960\">\n",
              "    <path d=\"M120-120v-720h720v720H120Zm60-500h600v-160H180v160Zm220 220h160v-160H400v160Zm0 220h160v-160H400v160ZM180-400h160v-160H180v160Zm440 0h160v-160H620v160ZM180-180h160v-160H180v160Zm440 0h160v-160H620v160Z\"/>\n",
              "  </svg>\n",
              "    </button>\n",
              "\n",
              "  <style>\n",
              "    .colab-df-container {\n",
              "      display:flex;\n",
              "      gap: 12px;\n",
              "    }\n",
              "\n",
              "    .colab-df-convert {\n",
              "      background-color: #E8F0FE;\n",
              "      border: none;\n",
              "      border-radius: 50%;\n",
              "      cursor: pointer;\n",
              "      display: none;\n",
              "      fill: #1967D2;\n",
              "      height: 32px;\n",
              "      padding: 0 0 0 0;\n",
              "      width: 32px;\n",
              "    }\n",
              "\n",
              "    .colab-df-convert:hover {\n",
              "      background-color: #E2EBFA;\n",
              "      box-shadow: 0px 1px 2px rgba(60, 64, 67, 0.3), 0px 1px 3px 1px rgba(60, 64, 67, 0.15);\n",
              "      fill: #174EA6;\n",
              "    }\n",
              "\n",
              "    .colab-df-buttons div {\n",
              "      margin-bottom: 4px;\n",
              "    }\n",
              "\n",
              "    [theme=dark] .colab-df-convert {\n",
              "      background-color: #3B4455;\n",
              "      fill: #D2E3FC;\n",
              "    }\n",
              "\n",
              "    [theme=dark] .colab-df-convert:hover {\n",
              "      background-color: #434B5C;\n",
              "      box-shadow: 0px 1px 3px 1px rgba(0, 0, 0, 0.15);\n",
              "      filter: drop-shadow(0px 1px 2px rgba(0, 0, 0, 0.3));\n",
              "      fill: #FFFFFF;\n",
              "    }\n",
              "  </style>\n",
              "\n",
              "    <script>\n",
              "      const buttonEl =\n",
              "        document.querySelector('#df-1bcd44df-f8fd-4c49-9701-b626928b09fb button.colab-df-convert');\n",
              "      buttonEl.style.display =\n",
              "        google.colab.kernel.accessAllowed ? 'block' : 'none';\n",
              "\n",
              "      async function convertToInteractive(key) {\n",
              "        const element = document.querySelector('#df-1bcd44df-f8fd-4c49-9701-b626928b09fb');\n",
              "        const dataTable =\n",
              "          await google.colab.kernel.invokeFunction('convertToInteractive',\n",
              "                                                    [key], {});\n",
              "        if (!dataTable) return;\n",
              "\n",
              "        const docLinkHtml = 'Like what you see? Visit the ' +\n",
              "          '<a target=\"_blank\" href=https://colab.research.google.com/notebooks/data_table.ipynb>data table notebook</a>'\n",
              "          + ' to learn more about interactive tables.';\n",
              "        element.innerHTML = '';\n",
              "        dataTable['output_type'] = 'display_data';\n",
              "        await google.colab.output.renderOutput(dataTable, element);\n",
              "        const docLink = document.createElement('div');\n",
              "        docLink.innerHTML = docLinkHtml;\n",
              "        element.appendChild(docLink);\n",
              "      }\n",
              "    </script>\n",
              "  </div>\n",
              "\n",
              "\n",
              "<div id=\"df-7b38ed32-e29a-4192-9981-e5848e8fc7db\">\n",
              "  <button class=\"colab-df-quickchart\" onclick=\"quickchart('df-7b38ed32-e29a-4192-9981-e5848e8fc7db')\"\n",
              "            title=\"Suggest charts\"\n",
              "            style=\"display:none;\">\n",
              "\n",
              "<svg xmlns=\"http://www.w3.org/2000/svg\" height=\"24px\"viewBox=\"0 0 24 24\"\n",
              "     width=\"24px\">\n",
              "    <g>\n",
              "        <path d=\"M19 3H5c-1.1 0-2 .9-2 2v14c0 1.1.9 2 2 2h14c1.1 0 2-.9 2-2V5c0-1.1-.9-2-2-2zM9 17H7v-7h2v7zm4 0h-2V7h2v10zm4 0h-2v-4h2v4z\"/>\n",
              "    </g>\n",
              "</svg>\n",
              "  </button>\n",
              "\n",
              "<style>\n",
              "  .colab-df-quickchart {\n",
              "      --bg-color: #E8F0FE;\n",
              "      --fill-color: #1967D2;\n",
              "      --hover-bg-color: #E2EBFA;\n",
              "      --hover-fill-color: #174EA6;\n",
              "      --disabled-fill-color: #AAA;\n",
              "      --disabled-bg-color: #DDD;\n",
              "  }\n",
              "\n",
              "  [theme=dark] .colab-df-quickchart {\n",
              "      --bg-color: #3B4455;\n",
              "      --fill-color: #D2E3FC;\n",
              "      --hover-bg-color: #434B5C;\n",
              "      --hover-fill-color: #FFFFFF;\n",
              "      --disabled-bg-color: #3B4455;\n",
              "      --disabled-fill-color: #666;\n",
              "  }\n",
              "\n",
              "  .colab-df-quickchart {\n",
              "    background-color: var(--bg-color);\n",
              "    border: none;\n",
              "    border-radius: 50%;\n",
              "    cursor: pointer;\n",
              "    display: none;\n",
              "    fill: var(--fill-color);\n",
              "    height: 32px;\n",
              "    padding: 0;\n",
              "    width: 32px;\n",
              "  }\n",
              "\n",
              "  .colab-df-quickchart:hover {\n",
              "    background-color: var(--hover-bg-color);\n",
              "    box-shadow: 0 1px 2px rgba(60, 64, 67, 0.3), 0 1px 3px 1px rgba(60, 64, 67, 0.15);\n",
              "    fill: var(--button-hover-fill-color);\n",
              "  }\n",
              "\n",
              "  .colab-df-quickchart-complete:disabled,\n",
              "  .colab-df-quickchart-complete:disabled:hover {\n",
              "    background-color: var(--disabled-bg-color);\n",
              "    fill: var(--disabled-fill-color);\n",
              "    box-shadow: none;\n",
              "  }\n",
              "\n",
              "  .colab-df-spinner {\n",
              "    border: 2px solid var(--fill-color);\n",
              "    border-color: transparent;\n",
              "    border-bottom-color: var(--fill-color);\n",
              "    animation:\n",
              "      spin 1s steps(1) infinite;\n",
              "  }\n",
              "\n",
              "  @keyframes spin {\n",
              "    0% {\n",
              "      border-color: transparent;\n",
              "      border-bottom-color: var(--fill-color);\n",
              "      border-left-color: var(--fill-color);\n",
              "    }\n",
              "    20% {\n",
              "      border-color: transparent;\n",
              "      border-left-color: var(--fill-color);\n",
              "      border-top-color: var(--fill-color);\n",
              "    }\n",
              "    30% {\n",
              "      border-color: transparent;\n",
              "      border-left-color: var(--fill-color);\n",
              "      border-top-color: var(--fill-color);\n",
              "      border-right-color: var(--fill-color);\n",
              "    }\n",
              "    40% {\n",
              "      border-color: transparent;\n",
              "      border-right-color: var(--fill-color);\n",
              "      border-top-color: var(--fill-color);\n",
              "    }\n",
              "    60% {\n",
              "      border-color: transparent;\n",
              "      border-right-color: var(--fill-color);\n",
              "    }\n",
              "    80% {\n",
              "      border-color: transparent;\n",
              "      border-right-color: var(--fill-color);\n",
              "      border-bottom-color: var(--fill-color);\n",
              "    }\n",
              "    90% {\n",
              "      border-color: transparent;\n",
              "      border-bottom-color: var(--fill-color);\n",
              "    }\n",
              "  }\n",
              "</style>\n",
              "\n",
              "  <script>\n",
              "    async function quickchart(key) {\n",
              "      const quickchartButtonEl =\n",
              "        document.querySelector('#' + key + ' button');\n",
              "      quickchartButtonEl.disabled = true;  // To prevent multiple clicks.\n",
              "      quickchartButtonEl.classList.add('colab-df-spinner');\n",
              "      try {\n",
              "        const charts = await google.colab.kernel.invokeFunction(\n",
              "            'suggestCharts', [key], {});\n",
              "      } catch (error) {\n",
              "        console.error('Error during call to suggestCharts:', error);\n",
              "      }\n",
              "      quickchartButtonEl.classList.remove('colab-df-spinner');\n",
              "      quickchartButtonEl.classList.add('colab-df-quickchart-complete');\n",
              "    }\n",
              "    (() => {\n",
              "      let quickchartButtonEl =\n",
              "        document.querySelector('#df-7b38ed32-e29a-4192-9981-e5848e8fc7db button');\n",
              "      quickchartButtonEl.style.display =\n",
              "        google.colab.kernel.accessAllowed ? 'block' : 'none';\n",
              "    })();\n",
              "  </script>\n",
              "</div>\n",
              "\n",
              "    </div>\n",
              "  </div>\n"
            ],
            "application/vnd.google.colaboratory.intrinsic+json": {
              "type": "dataframe",
              "variable_name": "heart_data",
              "summary": "{\n  \"name\": \"heart_data\",\n  \"rows\": 1025,\n  \"fields\": [\n    {\n      \"column\": \"age\",\n      \"properties\": {\n        \"dtype\": \"number\",\n        \"std\": 9,\n        \"min\": 29,\n        \"max\": 77,\n        \"num_unique_values\": 41,\n        \"samples\": [\n          65,\n          50,\n          54\n        ],\n        \"semantic_type\": \"\",\n        \"description\": \"\"\n      }\n    },\n    {\n      \"column\": \"sex\",\n      \"properties\": {\n        \"dtype\": \"number\",\n        \"std\": 0,\n        \"min\": 0,\n        \"max\": 1,\n        \"num_unique_values\": 2,\n        \"samples\": [\n          0,\n          1\n        ],\n        \"semantic_type\": \"\",\n        \"description\": \"\"\n      }\n    },\n    {\n      \"column\": \"cp\",\n      \"properties\": {\n        \"dtype\": \"number\",\n        \"std\": 1,\n        \"min\": 0,\n        \"max\": 3,\n        \"num_unique_values\": 4,\n        \"samples\": [\n          1,\n          3\n        ],\n        \"semantic_type\": \"\",\n        \"description\": \"\"\n      }\n    },\n    {\n      \"column\": \"trestbps\",\n      \"properties\": {\n        \"dtype\": \"number\",\n        \"std\": 17,\n        \"min\": 94,\n        \"max\": 200,\n        \"num_unique_values\": 49,\n        \"samples\": [\n          128,\n          172\n        ],\n        \"semantic_type\": \"\",\n        \"description\": \"\"\n      }\n    },\n    {\n      \"column\": \"chol\",\n      \"properties\": {\n        \"dtype\": \"number\",\n        \"std\": 51,\n        \"min\": 126,\n        \"max\": 564,\n        \"num_unique_values\": 152,\n        \"samples\": [\n          267,\n          262\n        ],\n        \"semantic_type\": \"\",\n        \"description\": \"\"\n      }\n    },\n    {\n      \"column\": \"fbs\",\n      \"properties\": {\n        \"dtype\": \"number\",\n        \"std\": 0,\n        \"min\": 0,\n        \"max\": 1,\n        \"num_unique_values\": 2,\n        \"samples\": [\n          1,\n          0\n        ],\n        \"semantic_type\": \"\",\n        \"description\": \"\"\n      }\n    },\n    {\n      \"column\": \"restecg\",\n      \"properties\": {\n        \"dtype\": \"number\",\n        \"std\": 0,\n        \"min\": 0,\n        \"max\": 2,\n        \"num_unique_values\": 3,\n        \"samples\": [\n          1,\n          0\n        ],\n        \"semantic_type\": \"\",\n        \"description\": \"\"\n      }\n    },\n    {\n      \"column\": \"thalach\",\n      \"properties\": {\n        \"dtype\": \"number\",\n        \"std\": 23,\n        \"min\": 71,\n        \"max\": 202,\n        \"num_unique_values\": 91,\n        \"samples\": [\n          180,\n          152\n        ],\n        \"semantic_type\": \"\",\n        \"description\": \"\"\n      }\n    },\n    {\n      \"column\": \"exang\",\n      \"properties\": {\n        \"dtype\": \"number\",\n        \"std\": 0,\n        \"min\": 0,\n        \"max\": 1,\n        \"num_unique_values\": 2,\n        \"samples\": [\n          1,\n          0\n        ],\n        \"semantic_type\": \"\",\n        \"description\": \"\"\n      }\n    },\n    {\n      \"column\": \"oldpeak\",\n      \"properties\": {\n        \"dtype\": \"number\",\n        \"std\": 1.175053255150176,\n        \"min\": 0.0,\n        \"max\": 6.2,\n        \"num_unique_values\": 40,\n        \"samples\": [\n          2.8,\n          0.4\n        ],\n        \"semantic_type\": \"\",\n        \"description\": \"\"\n      }\n    },\n    {\n      \"column\": \"slope\",\n      \"properties\": {\n        \"dtype\": \"number\",\n        \"std\": 0,\n        \"min\": 0,\n        \"max\": 2,\n        \"num_unique_values\": 3,\n        \"samples\": [\n          2,\n          0\n        ],\n        \"semantic_type\": \"\",\n        \"description\": \"\"\n      }\n    },\n    {\n      \"column\": \"ca\",\n      \"properties\": {\n        \"dtype\": \"number\",\n        \"std\": 1,\n        \"min\": 0,\n        \"max\": 4,\n        \"num_unique_values\": 5,\n        \"samples\": [\n          0,\n          4\n        ],\n        \"semantic_type\": \"\",\n        \"description\": \"\"\n      }\n    },\n    {\n      \"column\": \"thal\",\n      \"properties\": {\n        \"dtype\": \"number\",\n        \"std\": 0,\n        \"min\": 0,\n        \"max\": 3,\n        \"num_unique_values\": 4,\n        \"samples\": [\n          2,\n          0\n        ],\n        \"semantic_type\": \"\",\n        \"description\": \"\"\n      }\n    },\n    {\n      \"column\": \"target\",\n      \"properties\": {\n        \"dtype\": \"number\",\n        \"std\": 0,\n        \"min\": 0,\n        \"max\": 1,\n        \"num_unique_values\": 2,\n        \"samples\": [\n          1,\n          0\n        ],\n        \"semantic_type\": \"\",\n        \"description\": \"\"\n      }\n    }\n  ]\n}"
            }
          },
          "metadata": {},
          "execution_count": 7
        }
      ]
    },
    {
      "cell_type": "markdown",
      "source": [
        "#Logistic Model"
      ],
      "metadata": {
        "id": "zJaxqrv-Ksue"
      }
    },
    {
      "cell_type": "code",
      "source": [
        "from sklearn.model_selection import train_test_split\n",
        "from sklearn.linear_model import LogisticRegression"
      ],
      "metadata": {
        "id": "oB2YmYuqXdB1"
      },
      "execution_count": null,
      "outputs": []
    },
    {
      "cell_type": "code",
      "source": [
        "#Use for filtering categorical data into numerical\n",
        "for l in all_columns:\n",
        "  all_x = []\n",
        "  for x in heart_data[l]:\n",
        "    if x not in all_x:\n",
        "      all_x.append(x)\n",
        "  print(f'{l}: {all_x}')"
      ],
      "metadata": {
        "colab": {
          "base_uri": "https://localhost:8080/"
        },
        "id": "vx0LU2paXdGa",
        "outputId": "3e6145c5-d986-41b9-ff1b-19aa447e86fa"
      },
      "execution_count": null,
      "outputs": [
        {
          "output_type": "stream",
          "name": "stdout",
          "text": [
            "age: [52, 53, 70, 61, 62, 58, 55, 46, 54, 71, 43, 34, 51, 50, 60, 67, 45, 63, 42, 44, 56, 57, 59, 64, 65, 41, 66, 38, 49, 48, 29, 37, 47, 68, 76, 40, 39, 77, 69, 35, 74]\n",
            "sex: [1, 0]\n",
            "cp: [0, 1, 2, 3]\n",
            "trestbps: [125, 140, 145, 148, 138, 100, 114, 160, 120, 122, 112, 132, 118, 128, 124, 106, 104, 135, 130, 136, 180, 129, 150, 178, 146, 117, 152, 154, 170, 134, 174, 144, 108, 123, 110, 142, 126, 192, 115, 94, 200, 165, 102, 105, 155, 172, 164, 156, 101]\n",
            "chol: [212, 203, 174, 294, 248, 318, 289, 249, 286, 149, 341, 210, 298, 204, 308, 266, 244, 211, 185, 223, 208, 252, 209, 307, 233, 319, 256, 327, 169, 131, 269, 196, 231, 213, 271, 263, 229, 360, 258, 330, 342, 226, 228, 278, 230, 283, 241, 175, 188, 217, 193, 245, 232, 299, 288, 197, 315, 215, 164, 326, 207, 177, 257, 255, 187, 201, 220, 268, 267, 236, 303, 282, 126, 309, 186, 275, 281, 206, 335, 218, 254, 295, 417, 260, 240, 302, 192, 225, 325, 235, 274, 234, 182, 167, 172, 321, 300, 199, 564, 157, 304, 222, 184, 354, 160, 247, 239, 246, 409, 293, 180, 250, 221, 200, 227, 243, 311, 261, 242, 205, 306, 219, 353, 198, 394, 183, 237, 224, 265, 313, 340, 259, 270, 216, 264, 276, 322, 214, 273, 253, 176, 284, 305, 168, 407, 290, 277, 262, 195, 166, 178, 141]\n",
            "fbs: [0, 1]\n",
            "restecg: [1, 0, 2]\n",
            "thalach: [168, 155, 125, 161, 106, 122, 140, 145, 144, 116, 136, 192, 156, 142, 109, 162, 165, 148, 172, 173, 146, 179, 152, 117, 115, 112, 163, 147, 182, 105, 150, 151, 169, 166, 178, 132, 160, 123, 139, 111, 180, 164, 202, 157, 159, 170, 138, 175, 158, 126, 143, 141, 167, 95, 190, 118, 103, 181, 108, 177, 134, 120, 171, 149, 154, 153, 88, 174, 114, 195, 133, 96, 124, 131, 185, 194, 128, 127, 186, 184, 188, 130, 71, 137, 99, 121, 187, 97, 90, 129, 113]\n",
            "exang: [0, 1]\n",
            "oldpeak: [1.0, 3.1, 2.6, 0.0, 1.9, 4.4, 0.8, 3.2, 1.6, 3.0, 0.7, 4.2, 1.5, 2.2, 1.1, 0.3, 0.4, 0.6, 3.4, 2.8, 1.2, 2.9, 3.6, 1.4, 0.2, 2.0, 5.6, 0.9, 1.8, 6.2, 4.0, 2.5, 0.5, 0.1, 2.1, 2.4, 3.8, 2.3, 1.3, 3.5]\n",
            "slope: [2, 0, 1]\n",
            "ca: [2, 0, 1, 3, 4]\n",
            "thal: [3, 2, 1, 0]\n"
          ]
        }
      ]
    },
    {
      "cell_type": "code",
      "source": [
        "import numpy as np\n",
        "import seaborn as sns\n",
        "import matplotlib.pyplot as plt\n",
        "from sklearn.metrics import accuracy_score, f1_score"
      ],
      "metadata": {
        "id": "KWHOWu29XdK5"
      },
      "execution_count": null,
      "outputs": []
    },
    {
      "cell_type": "code",
      "source": [
        "X = heart_data[all_columns]\n",
        "y = heart_data[target]\n",
        "X_train, X_test, y_train, y_test = train_test_split(X, y, test_size=0.2, random_state=42)\n",
        "lg = LogisticRegression()\n",
        "lg.fit(X_train, y_train)\n",
        "y_pred = lg.predict(X_test)\n",
        "accuracy_score(y_test, y_pred)"
      ],
      "metadata": {
        "colab": {
          "base_uri": "https://localhost:8080/"
        },
        "id": "z_Sagf_hXdNQ",
        "outputId": "5a93727d-94b7-48d2-e006-38f1d4f57ae2"
      },
      "execution_count": null,
      "outputs": [
        {
          "output_type": "stream",
          "name": "stderr",
          "text": [
            "/usr/local/lib/python3.10/dist-packages/sklearn/linear_model/_logistic.py:458: ConvergenceWarning: lbfgs failed to converge (status=1):\n",
            "STOP: TOTAL NO. of ITERATIONS REACHED LIMIT.\n",
            "\n",
            "Increase the number of iterations (max_iter) or scale the data as shown in:\n",
            "    https://scikit-learn.org/stable/modules/preprocessing.html\n",
            "Please also refer to the documentation for alternative solver options:\n",
            "    https://scikit-learn.org/stable/modules/linear_model.html#logistic-regression\n",
            "  n_iter_i = _check_optimize_result(\n"
          ]
        },
        {
          "output_type": "execute_result",
          "data": {
            "text/plain": [
              "0.7853658536585366"
            ]
          },
          "metadata": {},
          "execution_count": 11
        }
      ]
    },
    {
      "cell_type": "code",
      "source": [
        "from sklearn.metrics import classification_report\n",
        "\n",
        "print(classification_report(y_test, y_pred))"
      ],
      "metadata": {
        "colab": {
          "base_uri": "https://localhost:8080/"
        },
        "id": "3X-e3jLVbTf8",
        "outputId": "05d51f95-552e-4dc9-aca7-a7c372035475"
      },
      "execution_count": null,
      "outputs": [
        {
          "output_type": "stream",
          "name": "stdout",
          "text": [
            "              precision    recall  f1-score   support\n",
            "\n",
            "           0       0.85      0.70      0.76       102\n",
            "           1       0.74      0.87      0.80       103\n",
            "\n",
            "    accuracy                           0.79       205\n",
            "   macro avg       0.79      0.78      0.78       205\n",
            "weighted avg       0.79      0.79      0.78       205\n",
            "\n"
          ]
        }
      ]
    },
    {
      "cell_type": "code",
      "source": [
        "coefficients = lg.coef_[0]\n",
        "feature_importance = np.abs(coefficients)\n",
        "\n",
        "importance = pd.DataFrame({\n",
        "    'Feature': X.columns,\n",
        "    'Coefficient': coefficients,\n",
        "    'Importance': feature_importance\n",
        "})\n",
        "\n",
        "importance = importance.sort_values(by='Importance', ascending=False)"
      ],
      "metadata": {
        "id": "OT8_rNXA0rpO"
      },
      "execution_count": null,
      "outputs": []
    },
    {
      "cell_type": "code",
      "source": [
        "importance"
      ],
      "metadata": {
        "colab": {
          "base_uri": "https://localhost:8080/",
          "height": 457
        },
        "id": "8sGEEJzv0sV8",
        "outputId": "7c9f39eb-54f9-4d90-babf-3a63a76dde4a"
      },
      "execution_count": null,
      "outputs": [
        {
          "output_type": "execute_result",
          "data": {
            "text/plain": [
              "     Feature  Coefficient  Importance\n",
              "1        sex    -1.569755    1.569755\n",
              "12      thal    -1.000228    1.000228\n",
              "2         cp     0.843606    0.843606\n",
              "11        ca    -0.821458    0.821458\n",
              "8      exang    -0.771145    0.771145\n",
              "9    oldpeak    -0.656387    0.656387\n",
              "10     slope     0.588744    0.588744\n",
              "6    restecg     0.437109    0.437109\n",
              "5        fbs    -0.219184    0.219184\n",
              "7    thalach     0.036583    0.036583\n",
              "0        age     0.020468    0.020468\n",
              "3   trestbps    -0.013686    0.013686\n",
              "4       chol    -0.007716    0.007716"
            ],
            "text/html": [
              "\n",
              "  <div id=\"df-a3c131a5-f9eb-4096-afc4-40824192e802\" class=\"colab-df-container\">\n",
              "    <div>\n",
              "<style scoped>\n",
              "    .dataframe tbody tr th:only-of-type {\n",
              "        vertical-align: middle;\n",
              "    }\n",
              "\n",
              "    .dataframe tbody tr th {\n",
              "        vertical-align: top;\n",
              "    }\n",
              "\n",
              "    .dataframe thead th {\n",
              "        text-align: right;\n",
              "    }\n",
              "</style>\n",
              "<table border=\"1\" class=\"dataframe\">\n",
              "  <thead>\n",
              "    <tr style=\"text-align: right;\">\n",
              "      <th></th>\n",
              "      <th>Feature</th>\n",
              "      <th>Coefficient</th>\n",
              "      <th>Importance</th>\n",
              "    </tr>\n",
              "  </thead>\n",
              "  <tbody>\n",
              "    <tr>\n",
              "      <th>1</th>\n",
              "      <td>sex</td>\n",
              "      <td>-1.569755</td>\n",
              "      <td>1.569755</td>\n",
              "    </tr>\n",
              "    <tr>\n",
              "      <th>12</th>\n",
              "      <td>thal</td>\n",
              "      <td>-1.000228</td>\n",
              "      <td>1.000228</td>\n",
              "    </tr>\n",
              "    <tr>\n",
              "      <th>2</th>\n",
              "      <td>cp</td>\n",
              "      <td>0.843606</td>\n",
              "      <td>0.843606</td>\n",
              "    </tr>\n",
              "    <tr>\n",
              "      <th>11</th>\n",
              "      <td>ca</td>\n",
              "      <td>-0.821458</td>\n",
              "      <td>0.821458</td>\n",
              "    </tr>\n",
              "    <tr>\n",
              "      <th>8</th>\n",
              "      <td>exang</td>\n",
              "      <td>-0.771145</td>\n",
              "      <td>0.771145</td>\n",
              "    </tr>\n",
              "    <tr>\n",
              "      <th>9</th>\n",
              "      <td>oldpeak</td>\n",
              "      <td>-0.656387</td>\n",
              "      <td>0.656387</td>\n",
              "    </tr>\n",
              "    <tr>\n",
              "      <th>10</th>\n",
              "      <td>slope</td>\n",
              "      <td>0.588744</td>\n",
              "      <td>0.588744</td>\n",
              "    </tr>\n",
              "    <tr>\n",
              "      <th>6</th>\n",
              "      <td>restecg</td>\n",
              "      <td>0.437109</td>\n",
              "      <td>0.437109</td>\n",
              "    </tr>\n",
              "    <tr>\n",
              "      <th>5</th>\n",
              "      <td>fbs</td>\n",
              "      <td>-0.219184</td>\n",
              "      <td>0.219184</td>\n",
              "    </tr>\n",
              "    <tr>\n",
              "      <th>7</th>\n",
              "      <td>thalach</td>\n",
              "      <td>0.036583</td>\n",
              "      <td>0.036583</td>\n",
              "    </tr>\n",
              "    <tr>\n",
              "      <th>0</th>\n",
              "      <td>age</td>\n",
              "      <td>0.020468</td>\n",
              "      <td>0.020468</td>\n",
              "    </tr>\n",
              "    <tr>\n",
              "      <th>3</th>\n",
              "      <td>trestbps</td>\n",
              "      <td>-0.013686</td>\n",
              "      <td>0.013686</td>\n",
              "    </tr>\n",
              "    <tr>\n",
              "      <th>4</th>\n",
              "      <td>chol</td>\n",
              "      <td>-0.007716</td>\n",
              "      <td>0.007716</td>\n",
              "    </tr>\n",
              "  </tbody>\n",
              "</table>\n",
              "</div>\n",
              "    <div class=\"colab-df-buttons\">\n",
              "\n",
              "  <div class=\"colab-df-container\">\n",
              "    <button class=\"colab-df-convert\" onclick=\"convertToInteractive('df-a3c131a5-f9eb-4096-afc4-40824192e802')\"\n",
              "            title=\"Convert this dataframe to an interactive table.\"\n",
              "            style=\"display:none;\">\n",
              "\n",
              "  <svg xmlns=\"http://www.w3.org/2000/svg\" height=\"24px\" viewBox=\"0 -960 960 960\">\n",
              "    <path d=\"M120-120v-720h720v720H120Zm60-500h600v-160H180v160Zm220 220h160v-160H400v160Zm0 220h160v-160H400v160ZM180-400h160v-160H180v160Zm440 0h160v-160H620v160ZM180-180h160v-160H180v160Zm440 0h160v-160H620v160Z\"/>\n",
              "  </svg>\n",
              "    </button>\n",
              "\n",
              "  <style>\n",
              "    .colab-df-container {\n",
              "      display:flex;\n",
              "      gap: 12px;\n",
              "    }\n",
              "\n",
              "    .colab-df-convert {\n",
              "      background-color: #E8F0FE;\n",
              "      border: none;\n",
              "      border-radius: 50%;\n",
              "      cursor: pointer;\n",
              "      display: none;\n",
              "      fill: #1967D2;\n",
              "      height: 32px;\n",
              "      padding: 0 0 0 0;\n",
              "      width: 32px;\n",
              "    }\n",
              "\n",
              "    .colab-df-convert:hover {\n",
              "      background-color: #E2EBFA;\n",
              "      box-shadow: 0px 1px 2px rgba(60, 64, 67, 0.3), 0px 1px 3px 1px rgba(60, 64, 67, 0.15);\n",
              "      fill: #174EA6;\n",
              "    }\n",
              "\n",
              "    .colab-df-buttons div {\n",
              "      margin-bottom: 4px;\n",
              "    }\n",
              "\n",
              "    [theme=dark] .colab-df-convert {\n",
              "      background-color: #3B4455;\n",
              "      fill: #D2E3FC;\n",
              "    }\n",
              "\n",
              "    [theme=dark] .colab-df-convert:hover {\n",
              "      background-color: #434B5C;\n",
              "      box-shadow: 0px 1px 3px 1px rgba(0, 0, 0, 0.15);\n",
              "      filter: drop-shadow(0px 1px 2px rgba(0, 0, 0, 0.3));\n",
              "      fill: #FFFFFF;\n",
              "    }\n",
              "  </style>\n",
              "\n",
              "    <script>\n",
              "      const buttonEl =\n",
              "        document.querySelector('#df-a3c131a5-f9eb-4096-afc4-40824192e802 button.colab-df-convert');\n",
              "      buttonEl.style.display =\n",
              "        google.colab.kernel.accessAllowed ? 'block' : 'none';\n",
              "\n",
              "      async function convertToInteractive(key) {\n",
              "        const element = document.querySelector('#df-a3c131a5-f9eb-4096-afc4-40824192e802');\n",
              "        const dataTable =\n",
              "          await google.colab.kernel.invokeFunction('convertToInteractive',\n",
              "                                                    [key], {});\n",
              "        if (!dataTable) return;\n",
              "\n",
              "        const docLinkHtml = 'Like what you see? Visit the ' +\n",
              "          '<a target=\"_blank\" href=https://colab.research.google.com/notebooks/data_table.ipynb>data table notebook</a>'\n",
              "          + ' to learn more about interactive tables.';\n",
              "        element.innerHTML = '';\n",
              "        dataTable['output_type'] = 'display_data';\n",
              "        await google.colab.output.renderOutput(dataTable, element);\n",
              "        const docLink = document.createElement('div');\n",
              "        docLink.innerHTML = docLinkHtml;\n",
              "        element.appendChild(docLink);\n",
              "      }\n",
              "    </script>\n",
              "  </div>\n",
              "\n",
              "\n",
              "<div id=\"df-975440a5-47f9-4e70-8bcb-d0fe7470e288\">\n",
              "  <button class=\"colab-df-quickchart\" onclick=\"quickchart('df-975440a5-47f9-4e70-8bcb-d0fe7470e288')\"\n",
              "            title=\"Suggest charts\"\n",
              "            style=\"display:none;\">\n",
              "\n",
              "<svg xmlns=\"http://www.w3.org/2000/svg\" height=\"24px\"viewBox=\"0 0 24 24\"\n",
              "     width=\"24px\">\n",
              "    <g>\n",
              "        <path d=\"M19 3H5c-1.1 0-2 .9-2 2v14c0 1.1.9 2 2 2h14c1.1 0 2-.9 2-2V5c0-1.1-.9-2-2-2zM9 17H7v-7h2v7zm4 0h-2V7h2v10zm4 0h-2v-4h2v4z\"/>\n",
              "    </g>\n",
              "</svg>\n",
              "  </button>\n",
              "\n",
              "<style>\n",
              "  .colab-df-quickchart {\n",
              "      --bg-color: #E8F0FE;\n",
              "      --fill-color: #1967D2;\n",
              "      --hover-bg-color: #E2EBFA;\n",
              "      --hover-fill-color: #174EA6;\n",
              "      --disabled-fill-color: #AAA;\n",
              "      --disabled-bg-color: #DDD;\n",
              "  }\n",
              "\n",
              "  [theme=dark] .colab-df-quickchart {\n",
              "      --bg-color: #3B4455;\n",
              "      --fill-color: #D2E3FC;\n",
              "      --hover-bg-color: #434B5C;\n",
              "      --hover-fill-color: #FFFFFF;\n",
              "      --disabled-bg-color: #3B4455;\n",
              "      --disabled-fill-color: #666;\n",
              "  }\n",
              "\n",
              "  .colab-df-quickchart {\n",
              "    background-color: var(--bg-color);\n",
              "    border: none;\n",
              "    border-radius: 50%;\n",
              "    cursor: pointer;\n",
              "    display: none;\n",
              "    fill: var(--fill-color);\n",
              "    height: 32px;\n",
              "    padding: 0;\n",
              "    width: 32px;\n",
              "  }\n",
              "\n",
              "  .colab-df-quickchart:hover {\n",
              "    background-color: var(--hover-bg-color);\n",
              "    box-shadow: 0 1px 2px rgba(60, 64, 67, 0.3), 0 1px 3px 1px rgba(60, 64, 67, 0.15);\n",
              "    fill: var(--button-hover-fill-color);\n",
              "  }\n",
              "\n",
              "  .colab-df-quickchart-complete:disabled,\n",
              "  .colab-df-quickchart-complete:disabled:hover {\n",
              "    background-color: var(--disabled-bg-color);\n",
              "    fill: var(--disabled-fill-color);\n",
              "    box-shadow: none;\n",
              "  }\n",
              "\n",
              "  .colab-df-spinner {\n",
              "    border: 2px solid var(--fill-color);\n",
              "    border-color: transparent;\n",
              "    border-bottom-color: var(--fill-color);\n",
              "    animation:\n",
              "      spin 1s steps(1) infinite;\n",
              "  }\n",
              "\n",
              "  @keyframes spin {\n",
              "    0% {\n",
              "      border-color: transparent;\n",
              "      border-bottom-color: var(--fill-color);\n",
              "      border-left-color: var(--fill-color);\n",
              "    }\n",
              "    20% {\n",
              "      border-color: transparent;\n",
              "      border-left-color: var(--fill-color);\n",
              "      border-top-color: var(--fill-color);\n",
              "    }\n",
              "    30% {\n",
              "      border-color: transparent;\n",
              "      border-left-color: var(--fill-color);\n",
              "      border-top-color: var(--fill-color);\n",
              "      border-right-color: var(--fill-color);\n",
              "    }\n",
              "    40% {\n",
              "      border-color: transparent;\n",
              "      border-right-color: var(--fill-color);\n",
              "      border-top-color: var(--fill-color);\n",
              "    }\n",
              "    60% {\n",
              "      border-color: transparent;\n",
              "      border-right-color: var(--fill-color);\n",
              "    }\n",
              "    80% {\n",
              "      border-color: transparent;\n",
              "      border-right-color: var(--fill-color);\n",
              "      border-bottom-color: var(--fill-color);\n",
              "    }\n",
              "    90% {\n",
              "      border-color: transparent;\n",
              "      border-bottom-color: var(--fill-color);\n",
              "    }\n",
              "  }\n",
              "</style>\n",
              "\n",
              "  <script>\n",
              "    async function quickchart(key) {\n",
              "      const quickchartButtonEl =\n",
              "        document.querySelector('#' + key + ' button');\n",
              "      quickchartButtonEl.disabled = true;  // To prevent multiple clicks.\n",
              "      quickchartButtonEl.classList.add('colab-df-spinner');\n",
              "      try {\n",
              "        const charts = await google.colab.kernel.invokeFunction(\n",
              "            'suggestCharts', [key], {});\n",
              "      } catch (error) {\n",
              "        console.error('Error during call to suggestCharts:', error);\n",
              "      }\n",
              "      quickchartButtonEl.classList.remove('colab-df-spinner');\n",
              "      quickchartButtonEl.classList.add('colab-df-quickchart-complete');\n",
              "    }\n",
              "    (() => {\n",
              "      let quickchartButtonEl =\n",
              "        document.querySelector('#df-975440a5-47f9-4e70-8bcb-d0fe7470e288 button');\n",
              "      quickchartButtonEl.style.display =\n",
              "        google.colab.kernel.accessAllowed ? 'block' : 'none';\n",
              "    })();\n",
              "  </script>\n",
              "</div>\n",
              "\n",
              "  <div id=\"id_ea7d5723-b715-4ada-a47f-2838191f778c\">\n",
              "    <style>\n",
              "      .colab-df-generate {\n",
              "        background-color: #E8F0FE;\n",
              "        border: none;\n",
              "        border-radius: 50%;\n",
              "        cursor: pointer;\n",
              "        display: none;\n",
              "        fill: #1967D2;\n",
              "        height: 32px;\n",
              "        padding: 0 0 0 0;\n",
              "        width: 32px;\n",
              "      }\n",
              "\n",
              "      .colab-df-generate:hover {\n",
              "        background-color: #E2EBFA;\n",
              "        box-shadow: 0px 1px 2px rgba(60, 64, 67, 0.3), 0px 1px 3px 1px rgba(60, 64, 67, 0.15);\n",
              "        fill: #174EA6;\n",
              "      }\n",
              "\n",
              "      [theme=dark] .colab-df-generate {\n",
              "        background-color: #3B4455;\n",
              "        fill: #D2E3FC;\n",
              "      }\n",
              "\n",
              "      [theme=dark] .colab-df-generate:hover {\n",
              "        background-color: #434B5C;\n",
              "        box-shadow: 0px 1px 3px 1px rgba(0, 0, 0, 0.15);\n",
              "        filter: drop-shadow(0px 1px 2px rgba(0, 0, 0, 0.3));\n",
              "        fill: #FFFFFF;\n",
              "      }\n",
              "    </style>\n",
              "    <button class=\"colab-df-generate\" onclick=\"generateWithVariable('importance')\"\n",
              "            title=\"Generate code using this dataframe.\"\n",
              "            style=\"display:none;\">\n",
              "\n",
              "  <svg xmlns=\"http://www.w3.org/2000/svg\" height=\"24px\"viewBox=\"0 0 24 24\"\n",
              "       width=\"24px\">\n",
              "    <path d=\"M7,19H8.4L18.45,9,17,7.55,7,17.6ZM5,21V16.75L18.45,3.32a2,2,0,0,1,2.83,0l1.4,1.43a1.91,1.91,0,0,1,.58,1.4,1.91,1.91,0,0,1-.58,1.4L9.25,21ZM18.45,9,17,7.55Zm-12,3A5.31,5.31,0,0,0,4.9,8.1,5.31,5.31,0,0,0,1,6.5,5.31,5.31,0,0,0,4.9,4.9,5.31,5.31,0,0,0,6.5,1,5.31,5.31,0,0,0,8.1,4.9,5.31,5.31,0,0,0,12,6.5,5.46,5.46,0,0,0,6.5,12Z\"/>\n",
              "  </svg>\n",
              "    </button>\n",
              "    <script>\n",
              "      (() => {\n",
              "      const buttonEl =\n",
              "        document.querySelector('#id_ea7d5723-b715-4ada-a47f-2838191f778c button.colab-df-generate');\n",
              "      buttonEl.style.display =\n",
              "        google.colab.kernel.accessAllowed ? 'block' : 'none';\n",
              "\n",
              "      buttonEl.onclick = () => {\n",
              "        google.colab.notebook.generateWithVariable('importance');\n",
              "      }\n",
              "      })();\n",
              "    </script>\n",
              "  </div>\n",
              "\n",
              "    </div>\n",
              "  </div>\n"
            ],
            "application/vnd.google.colaboratory.intrinsic+json": {
              "type": "dataframe",
              "variable_name": "importance",
              "summary": "{\n  \"name\": \"importance\",\n  \"rows\": 13,\n  \"fields\": [\n    {\n      \"column\": \"Feature\",\n      \"properties\": {\n        \"dtype\": \"string\",\n        \"num_unique_values\": 13,\n        \"samples\": [\n          \"trestbps\",\n          \"thalach\",\n          \"sex\"\n        ],\n        \"semantic_type\": \"\",\n        \"description\": \"\"\n      }\n    },\n    {\n      \"column\": \"Coefficient\",\n      \"properties\": {\n        \"dtype\": \"number\",\n        \"std\": 0.6897592398015165,\n        \"min\": -1.5697551121315172,\n        \"max\": 0.8436063021298502,\n        \"num_unique_values\": 13,\n        \"samples\": [\n          -0.013685879727509842,\n          0.03658327719955181,\n          -1.5697551121315172\n        ],\n        \"semantic_type\": \"\",\n        \"description\": \"\"\n      }\n    },\n    {\n      \"column\": \"Importance\",\n      \"properties\": {\n        \"dtype\": \"number\",\n        \"std\": 0.47522339852003215,\n        \"min\": 0.0077157695876720655,\n        \"max\": 1.5697551121315172,\n        \"num_unique_values\": 13,\n        \"samples\": [\n          0.013685879727509842,\n          0.03658327719955181,\n          1.5697551121315172\n        ],\n        \"semantic_type\": \"\",\n        \"description\": \"\"\n      }\n    }\n  ]\n}"
            }
          },
          "metadata": {},
          "execution_count": 14
        }
      ]
    },
    {
      "cell_type": "code",
      "source": [
        "a_dict = {}\n",
        "for p in all_columns:\n",
        "  X = heart_data[[p]]\n",
        "  y = heart_data[target]\n",
        "  X_train, X_test, y_train, y_test = train_test_split(X, y, test_size=0.2, random_state=42)\n",
        "  lg = LogisticRegression()\n",
        "  lg.fit(X_train, y_train)\n",
        "  y_pred = lg.predict(X_test)\n",
        "  accuracy = accuracy_score(y_test, y_pred)\n",
        "  f1 = f1_score(y_test, y_pred)\n",
        "  a_dict[p] = accuracy\n",
        "\n",
        "a_dict = sorted(a_dict.items(), key= lambda x: x[1])\n",
        "print(f'{a_dict[-1][0]} had the highest score of {a_dict[-1][1]}')"
      ],
      "metadata": {
        "id": "reLHRBG7jkpy",
        "colab": {
          "base_uri": "https://localhost:8080/"
        },
        "outputId": "7f382a8b-0cbc-4ffb-d3f2-d64acccb276c"
      },
      "execution_count": null,
      "outputs": [
        {
          "output_type": "stream",
          "name": "stdout",
          "text": [
            "cp had the highest score of 0.751219512195122\n"
          ]
        }
      ]
    },
    {
      "cell_type": "code",
      "source": [
        "a_dict"
      ],
      "metadata": {
        "colab": {
          "base_uri": "https://localhost:8080/"
        },
        "id": "q6LQMleHamx9",
        "outputId": "996176e5-a239-46a5-b352-5141926fc529"
      },
      "execution_count": null,
      "outputs": [
        {
          "output_type": "execute_result",
          "data": {
            "text/plain": [
              "[('chol', 0.5024390243902439),\n",
              " ('fbs', 0.5073170731707317),\n",
              " ('trestbps', 0.5609756097560976),\n",
              " ('restecg', 0.6048780487804878),\n",
              " ('age', 0.624390243902439),\n",
              " ('oldpeak', 0.6292682926829268),\n",
              " ('sex', 0.6536585365853659),\n",
              " ('thalach', 0.6536585365853659),\n",
              " ('slope', 0.6926829268292682),\n",
              " ('thal', 0.6926829268292682),\n",
              " ('ca', 0.7073170731707317),\n",
              " ('exang', 0.7268292682926829),\n",
              " ('cp', 0.751219512195122)]"
            ]
          },
          "metadata": {},
          "execution_count": 16
        }
      ]
    },
    {
      "cell_type": "code",
      "source": [
        "#testing a combiantion of the most important features that were ranked by the coefficients of the model\n",
        "X = heart_data[['sex', 'thal', 'cp', 'ca', 'exang', 'oldpeak', 'slope', 'restecg', 'fbs']]\n",
        "y = heart_data[target]\n",
        "\n",
        "X_train, X_test, y_train, y_test = train_test_split(X, y, test_size=0.2, random_state=42)\n",
        "\n",
        "lg = LogisticRegression()\n",
        "lg.fit(X_train, y_train)\n",
        "y_pred = lg.predict(X_test)"
      ],
      "metadata": {
        "id": "X7VcESzq0-Ay"
      },
      "execution_count": null,
      "outputs": []
    },
    {
      "cell_type": "code",
      "source": [
        "print(classification_report(y_test, y_pred))"
      ],
      "metadata": {
        "colab": {
          "base_uri": "https://localhost:8080/"
        },
        "id": "SDUjl2xJ1M8V",
        "outputId": "21838a8a-20a3-4ad1-b1fd-e8a2d0d9f050"
      },
      "execution_count": null,
      "outputs": [
        {
          "output_type": "stream",
          "name": "stdout",
          "text": [
            "              precision    recall  f1-score   support\n",
            "\n",
            "           0       0.85      0.74      0.79       102\n",
            "           1       0.77      0.87      0.82       103\n",
            "\n",
            "    accuracy                           0.80       205\n",
            "   macro avg       0.81      0.80      0.80       205\n",
            "weighted avg       0.81      0.80      0.80       205\n",
            "\n"
          ]
        }
      ]
    },
    {
      "cell_type": "code",
      "source": [
        "print(heart_data[target].value_counts())"
      ],
      "metadata": {
        "colab": {
          "base_uri": "https://localhost:8080/"
        },
        "id": "dALo8VjzbOPA",
        "outputId": "2dc3e476-c656-4a94-d1d0-c4080870e5cf"
      },
      "execution_count": null,
      "outputs": [
        {
          "output_type": "stream",
          "name": "stdout",
          "text": [
            "target\n",
            "1    526\n",
            "0    499\n",
            "Name: count, dtype: int64\n"
          ]
        }
      ]
    },
    {
      "cell_type": "markdown",
      "source": [
        "#Neural Network"
      ],
      "metadata": {
        "id": "PliVvQr3KnuT"
      }
    },
    {
      "cell_type": "code",
      "source": [
        "import numpy as np\n",
        "import pandas as pd\n",
        "from sklearn.model_selection import train_test_split\n",
        "from sklearn.metrics import accuracy_score, confusion_matrix, f1_score\n",
        "from sklearn.preprocessing import StandardScaler"
      ],
      "metadata": {
        "id": "djOtspAQjkz0"
      },
      "execution_count": null,
      "outputs": []
    },
    {
      "cell_type": "code",
      "source": [
        "all_columns = heart_data.columns.drop('target')"
      ],
      "metadata": {
        "id": "j6AtEvA83DPP"
      },
      "execution_count": null,
      "outputs": []
    },
    {
      "cell_type": "code",
      "source": [
        "X = heart_data[all_columns].values\n",
        "y = heart_data[target].values"
      ],
      "metadata": {
        "id": "F2ui91a9XdY6"
      },
      "execution_count": null,
      "outputs": []
    },
    {
      "cell_type": "code",
      "execution_count": null,
      "metadata": {
        "id": "sQXdds3hFhlU"
      },
      "outputs": [],
      "source": [
        "X_train, X_test, y_train, y_test = train_test_split(X, y, test_size=0.2, random_state=42)"
      ]
    },
    {
      "cell_type": "code",
      "source": [
        "scaler = StandardScaler()\n",
        "X_train = scaler.fit_transform(X_train)\n",
        "X_test = scaler.transform(X_test)"
      ],
      "metadata": {
        "id": "ImOPk_IVh4ly"
      },
      "execution_count": null,
      "outputs": []
    },
    {
      "cell_type": "code",
      "source": [
        "class NeuralNetwork:\n",
        "    def __init__(self, num_feats):\n",
        "        np.random.seed(1)\n",
        "        self.synaptic_weights = 2 * np.random.random((num_feats, 1)) - 1\n",
        "\n",
        "    def sigmoid(self, x):\n",
        "        return 1 / (1 + np.exp(-x))\n",
        "\n",
        "    def sigmoid_derivative(self, x):\n",
        "        return x * (1 - x)\n",
        "\n",
        "    def train(self, training_inputs, training_outputs, training_iterations):\n",
        "        for iteration in range(training_iterations):\n",
        "            output = self.think(training_inputs)\n",
        "            error = training_outputs - output\n",
        "            adjustments = np.dot(training_inputs.T, error * self.sigmoid_derivative(output))\n",
        "            self.synaptic_weights += adjustments\n",
        "\n",
        "    def think(self, inputs):\n",
        "        inputs = inputs.astype(float)\n",
        "        output = self.sigmoid(np.dot(inputs, self.synaptic_weights))\n",
        "        return output"
      ],
      "metadata": {
        "id": "u4tcQm9yv1kX"
      },
      "execution_count": null,
      "outputs": []
    },
    {
      "cell_type": "code",
      "source": [
        "neural_network = NeuralNetwork(num_feats=len(all_columns))\n",
        "\n",
        "print(f\"Random starting synaptic weights: \\n{neural_network.synaptic_weights}\")\n",
        "\n",
        "training_inputs = X_train\n",
        "training_outputs = y_train.reshape(-1, 1)\n",
        "\n",
        "neural_network.train(training_inputs, training_outputs, 1000)\n",
        "\n",
        "print(\"Synaptic weights after training: \")\n",
        "print(neural_network.synaptic_weights)"
      ],
      "metadata": {
        "colab": {
          "base_uri": "https://localhost:8080/"
        },
        "id": "DuevIXSiGYgs",
        "outputId": "4f64eb85-2327-406b-c9d1-dd0ab3d64e64"
      },
      "execution_count": null,
      "outputs": [
        {
          "output_type": "stream",
          "name": "stdout",
          "text": [
            "Random starting synaptic weights: \n",
            "[[-0.16595599]\n",
            " [ 0.44064899]\n",
            " [-0.99977125]\n",
            " [-0.39533485]\n",
            " [-0.70648822]\n",
            " [-0.81532281]\n",
            " [-0.62747958]\n",
            " [-0.30887855]\n",
            " [-0.20646505]\n",
            " [ 0.07763347]\n",
            " [-0.16161097]\n",
            " [ 0.370439  ]\n",
            " [-0.5910955 ]]\n",
            "Synaptic weights after training: \n",
            "[[-12.22426968]\n",
            " [-18.91287158]\n",
            " [ 38.81218213]\n",
            " [-13.09982729]\n",
            " [ -2.29998331]\n",
            " [ -0.1896854 ]\n",
            " [ 18.33918252]\n",
            " [ 33.00058709]\n",
            " [-23.15765302]\n",
            " [-23.5210817 ]\n",
            " [ 18.69485814]\n",
            " [-43.44971092]\n",
            " [-20.73105626]]\n"
          ]
        }
      ]
    },
    {
      "cell_type": "code",
      "source": [
        "test_inputs = X_test\n",
        "test_outputs = y_test.reshape(-1, 1)\n",
        "\n",
        "raw_test_pred = neural_network.think(test_inputs)\n",
        "test_pred = np.round(raw_test_pred).astype(int)\n",
        "accuracy = accuracy_score(test_outputs, test_pred)\n",
        "\n",
        "print(f'Accuracy: {accuracy_score(test_outputs, test_pred)}')\n",
        "print(classification_report(y_test, test_pred))"
      ],
      "metadata": {
        "colab": {
          "base_uri": "https://localhost:8080/"
        },
        "id": "696D3Z-cGZLd",
        "outputId": "bfd97730-f9b1-4317-890f-a80354b4b7d0"
      },
      "execution_count": null,
      "outputs": [
        {
          "output_type": "stream",
          "name": "stdout",
          "text": [
            "Accuracy: 0.8195121951219512\n",
            "              precision    recall  f1-score   support\n",
            "\n",
            "           0       0.89      0.73      0.80       102\n",
            "           1       0.77      0.91      0.84       103\n",
            "\n",
            "    accuracy                           0.82       205\n",
            "   macro avg       0.83      0.82      0.82       205\n",
            "weighted avg       0.83      0.82      0.82       205\n",
            "\n"
          ]
        }
      ]
    },
    {
      "cell_type": "markdown",
      "source": [
        "#Tensorflow"
      ],
      "metadata": {
        "id": "feZUpwdPKBf-"
      }
    },
    {
      "cell_type": "code",
      "source": [
        "import tensorflow as tf\n",
        "from tensorflow.keras.models import Sequential\n",
        "from tensorflow.keras.layers import Dense"
      ],
      "metadata": {
        "id": "wGf8I9-VKD8t"
      },
      "execution_count": null,
      "outputs": []
    },
    {
      "cell_type": "code",
      "source": [
        "def remov(*items):\n",
        "    return [item for item in list(heart_data.columns.drop(target)) if item not in items]"
      ],
      "metadata": {
        "id": "JKEDRamH5vh3"
      },
      "execution_count": null,
      "outputs": []
    },
    {
      "cell_type": "code",
      "source": [
        "tf.random.set_seed(42) #was added after, so accuracy fluctuate from reported accuracy"
      ],
      "metadata": {
        "id": "JVV5fd4gGsDz"
      },
      "execution_count": null,
      "outputs": []
    },
    {
      "cell_type": "code",
      "source": [
        "all_columns = remov('chol', 'trestbps', 'age', 'thalach')"
      ],
      "metadata": {
        "id": "YquNsS0d3Hot"
      },
      "execution_count": null,
      "outputs": []
    },
    {
      "cell_type": "code",
      "source": [
        "X = heart_data[all_columns]\n",
        "y = heart_data[target]"
      ],
      "metadata": {
        "id": "Su1RK8F3KHcV"
      },
      "execution_count": null,
      "outputs": []
    },
    {
      "cell_type": "code",
      "source": [
        "X_train, X_test, y_train, y_test = train_test_split(X, y, test_size=0.2, random_state=42)"
      ],
      "metadata": {
        "id": "GvCNlF3IJXRJ"
      },
      "execution_count": null,
      "outputs": []
    },
    {
      "cell_type": "code",
      "source": [
        "ts = tf.keras.Sequential([\n",
        "    tf.keras.layers.Dense(64, activation='relu', input_shape=(len(all_columns),)),\n",
        "    tf.keras.layers.Dense(32, activation='relu'),\n",
        "    tf.keras.layers.Dense(1, activation='sigmoid')\n",
        "])\n",
        "\n",
        "ts.compile(optimizer=tf.keras.optimizers.Adam(learning_rate=0.001), loss='binary_crossentropy', metrics=['accuracy'])\n",
        "ts.fit(X_train, y_train, epochs=100, batch_size=10)"
      ],
      "metadata": {
        "colab": {
          "base_uri": "https://localhost:8080/"
        },
        "id": "tg58EGe7KMug",
        "outputId": "b6e554c7-3caf-41e2-d0e3-29d421ce975c"
      },
      "execution_count": null,
      "outputs": [
        {
          "output_type": "stream",
          "name": "stdout",
          "text": [
            "Epoch 1/100\n",
            "82/82 [==============================] - 3s 3ms/step - loss: 0.5592 - accuracy: 0.7195\n",
            "Epoch 2/100\n",
            "82/82 [==============================] - 0s 3ms/step - loss: 0.3991 - accuracy: 0.8537\n",
            "Epoch 3/100\n",
            "82/82 [==============================] - 0s 2ms/step - loss: 0.3693 - accuracy: 0.8537\n",
            "Epoch 4/100\n",
            "82/82 [==============================] - 0s 2ms/step - loss: 0.3527 - accuracy: 0.8561\n",
            "Epoch 5/100\n",
            "82/82 [==============================] - 0s 2ms/step - loss: 0.3372 - accuracy: 0.8573\n",
            "Epoch 6/100\n",
            "82/82 [==============================] - 0s 2ms/step - loss: 0.3218 - accuracy: 0.8793\n",
            "Epoch 7/100\n",
            "82/82 [==============================] - 0s 2ms/step - loss: 0.3075 - accuracy: 0.8951\n",
            "Epoch 8/100\n",
            "82/82 [==============================] - 0s 4ms/step - loss: 0.2947 - accuracy: 0.8854\n",
            "Epoch 9/100\n",
            "82/82 [==============================] - 0s 4ms/step - loss: 0.2853 - accuracy: 0.8915\n",
            "Epoch 10/100\n",
            "82/82 [==============================] - 0s 3ms/step - loss: 0.2797 - accuracy: 0.8976\n",
            "Epoch 11/100\n",
            "82/82 [==============================] - 0s 3ms/step - loss: 0.2629 - accuracy: 0.9037\n",
            "Epoch 12/100\n",
            "82/82 [==============================] - 0s 3ms/step - loss: 0.2558 - accuracy: 0.9110\n",
            "Epoch 13/100\n",
            "82/82 [==============================] - 0s 3ms/step - loss: 0.2485 - accuracy: 0.9073\n",
            "Epoch 14/100\n",
            "82/82 [==============================] - 0s 4ms/step - loss: 0.2368 - accuracy: 0.9159\n",
            "Epoch 15/100\n",
            "82/82 [==============================] - 0s 3ms/step - loss: 0.2275 - accuracy: 0.9256\n",
            "Epoch 16/100\n",
            "82/82 [==============================] - 0s 3ms/step - loss: 0.2300 - accuracy: 0.9073\n",
            "Epoch 17/100\n",
            "82/82 [==============================] - 0s 3ms/step - loss: 0.2222 - accuracy: 0.9207\n",
            "Epoch 18/100\n",
            "82/82 [==============================] - 0s 3ms/step - loss: 0.2118 - accuracy: 0.9195\n",
            "Epoch 19/100\n",
            "82/82 [==============================] - 0s 2ms/step - loss: 0.2051 - accuracy: 0.9159\n",
            "Epoch 20/100\n",
            "82/82 [==============================] - 0s 2ms/step - loss: 0.1990 - accuracy: 0.9244\n",
            "Epoch 21/100\n",
            "82/82 [==============================] - 0s 2ms/step - loss: 0.1908 - accuracy: 0.9280\n",
            "Epoch 22/100\n",
            "82/82 [==============================] - 0s 2ms/step - loss: 0.1904 - accuracy: 0.9280\n",
            "Epoch 23/100\n",
            "82/82 [==============================] - 0s 2ms/step - loss: 0.1846 - accuracy: 0.9256\n",
            "Epoch 24/100\n",
            "82/82 [==============================] - 0s 2ms/step - loss: 0.1800 - accuracy: 0.9354\n",
            "Epoch 25/100\n",
            "82/82 [==============================] - 0s 2ms/step - loss: 0.1763 - accuracy: 0.9354\n",
            "Epoch 26/100\n",
            "82/82 [==============================] - 0s 2ms/step - loss: 0.1649 - accuracy: 0.9427\n",
            "Epoch 27/100\n",
            "82/82 [==============================] - 0s 2ms/step - loss: 0.1632 - accuracy: 0.9341\n",
            "Epoch 28/100\n",
            "82/82 [==============================] - 0s 3ms/step - loss: 0.1644 - accuracy: 0.9329\n",
            "Epoch 29/100\n",
            "82/82 [==============================] - 0s 2ms/step - loss: 0.1556 - accuracy: 0.9415\n",
            "Epoch 30/100\n",
            "82/82 [==============================] - 0s 2ms/step - loss: 0.1525 - accuracy: 0.9439\n",
            "Epoch 31/100\n",
            "82/82 [==============================] - 0s 2ms/step - loss: 0.1501 - accuracy: 0.9427\n",
            "Epoch 32/100\n",
            "82/82 [==============================] - 0s 2ms/step - loss: 0.1472 - accuracy: 0.9439\n",
            "Epoch 33/100\n",
            "82/82 [==============================] - 0s 2ms/step - loss: 0.1455 - accuracy: 0.9463\n",
            "Epoch 34/100\n",
            "82/82 [==============================] - 0s 2ms/step - loss: 0.1470 - accuracy: 0.9463\n",
            "Epoch 35/100\n",
            "82/82 [==============================] - 0s 2ms/step - loss: 0.1364 - accuracy: 0.9500\n",
            "Epoch 36/100\n",
            "82/82 [==============================] - 0s 2ms/step - loss: 0.1361 - accuracy: 0.9500\n",
            "Epoch 37/100\n",
            "82/82 [==============================] - 0s 2ms/step - loss: 0.1307 - accuracy: 0.9500\n",
            "Epoch 38/100\n",
            "82/82 [==============================] - 0s 2ms/step - loss: 0.1353 - accuracy: 0.9476\n",
            "Epoch 39/100\n",
            "82/82 [==============================] - 0s 2ms/step - loss: 0.1389 - accuracy: 0.9427\n",
            "Epoch 40/100\n",
            "82/82 [==============================] - 0s 2ms/step - loss: 0.1313 - accuracy: 0.9451\n",
            "Epoch 41/100\n",
            "82/82 [==============================] - 0s 2ms/step - loss: 0.1209 - accuracy: 0.9537\n",
            "Epoch 42/100\n",
            "82/82 [==============================] - 0s 2ms/step - loss: 0.1320 - accuracy: 0.9463\n",
            "Epoch 43/100\n",
            "82/82 [==============================] - 0s 2ms/step - loss: 0.1175 - accuracy: 0.9500\n",
            "Epoch 44/100\n",
            "82/82 [==============================] - 0s 2ms/step - loss: 0.1173 - accuracy: 0.9537\n",
            "Epoch 45/100\n",
            "82/82 [==============================] - 0s 2ms/step - loss: 0.1174 - accuracy: 0.9561\n",
            "Epoch 46/100\n",
            "82/82 [==============================] - 0s 2ms/step - loss: 0.1157 - accuracy: 0.9500\n",
            "Epoch 47/100\n",
            "82/82 [==============================] - 0s 2ms/step - loss: 0.1144 - accuracy: 0.9524\n",
            "Epoch 48/100\n",
            "82/82 [==============================] - 0s 2ms/step - loss: 0.1135 - accuracy: 0.9573\n",
            "Epoch 49/100\n",
            "82/82 [==============================] - 0s 2ms/step - loss: 0.1198 - accuracy: 0.9488\n",
            "Epoch 50/100\n",
            "82/82 [==============================] - 0s 2ms/step - loss: 0.1089 - accuracy: 0.9512\n",
            "Epoch 51/100\n",
            "82/82 [==============================] - 0s 2ms/step - loss: 0.1093 - accuracy: 0.9549\n",
            "Epoch 52/100\n",
            "82/82 [==============================] - 0s 2ms/step - loss: 0.1098 - accuracy: 0.9610\n",
            "Epoch 53/100\n",
            "82/82 [==============================] - 0s 2ms/step - loss: 0.1072 - accuracy: 0.9537\n",
            "Epoch 54/100\n",
            "82/82 [==============================] - 0s 2ms/step - loss: 0.1014 - accuracy: 0.9634\n",
            "Epoch 55/100\n",
            "82/82 [==============================] - 0s 2ms/step - loss: 0.0984 - accuracy: 0.9622\n",
            "Epoch 56/100\n",
            "82/82 [==============================] - 0s 2ms/step - loss: 0.0997 - accuracy: 0.9646\n",
            "Epoch 57/100\n",
            "82/82 [==============================] - 0s 3ms/step - loss: 0.1000 - accuracy: 0.9537\n",
            "Epoch 58/100\n",
            "82/82 [==============================] - 0s 4ms/step - loss: 0.0933 - accuracy: 0.9646\n",
            "Epoch 59/100\n",
            "82/82 [==============================] - 0s 3ms/step - loss: 0.0975 - accuracy: 0.9610\n",
            "Epoch 60/100\n",
            "82/82 [==============================] - 0s 3ms/step - loss: 0.1051 - accuracy: 0.9598\n",
            "Epoch 61/100\n",
            "82/82 [==============================] - 0s 3ms/step - loss: 0.0961 - accuracy: 0.9598\n",
            "Epoch 62/100\n",
            "82/82 [==============================] - 0s 4ms/step - loss: 0.0944 - accuracy: 0.9610\n",
            "Epoch 63/100\n",
            "82/82 [==============================] - 0s 4ms/step - loss: 0.0939 - accuracy: 0.9573\n",
            "Epoch 64/100\n",
            "82/82 [==============================] - 0s 4ms/step - loss: 0.0926 - accuracy: 0.9671\n",
            "Epoch 65/100\n",
            "82/82 [==============================] - 0s 4ms/step - loss: 0.0895 - accuracy: 0.9646\n",
            "Epoch 66/100\n",
            "82/82 [==============================] - 0s 3ms/step - loss: 0.0926 - accuracy: 0.9598\n",
            "Epoch 67/100\n",
            "82/82 [==============================] - 0s 3ms/step - loss: 0.0906 - accuracy: 0.9671\n",
            "Epoch 68/100\n",
            "82/82 [==============================] - 0s 4ms/step - loss: 0.0901 - accuracy: 0.9634\n",
            "Epoch 69/100\n",
            "82/82 [==============================] - 0s 3ms/step - loss: 0.0908 - accuracy: 0.9646\n",
            "Epoch 70/100\n",
            "82/82 [==============================] - 0s 2ms/step - loss: 0.0847 - accuracy: 0.9671\n",
            "Epoch 71/100\n",
            "82/82 [==============================] - 0s 2ms/step - loss: 0.0887 - accuracy: 0.9683\n",
            "Epoch 72/100\n",
            "82/82 [==============================] - 0s 2ms/step - loss: 0.0889 - accuracy: 0.9610\n",
            "Epoch 73/100\n",
            "82/82 [==============================] - 0s 2ms/step - loss: 0.0825 - accuracy: 0.9671\n",
            "Epoch 74/100\n",
            "82/82 [==============================] - 0s 2ms/step - loss: 0.0859 - accuracy: 0.9683\n",
            "Epoch 75/100\n",
            "82/82 [==============================] - 0s 2ms/step - loss: 0.0849 - accuracy: 0.9646\n",
            "Epoch 76/100\n",
            "82/82 [==============================] - 0s 2ms/step - loss: 0.0882 - accuracy: 0.9622\n",
            "Epoch 77/100\n",
            "82/82 [==============================] - 0s 2ms/step - loss: 0.0799 - accuracy: 0.9659\n",
            "Epoch 78/100\n",
            "82/82 [==============================] - 0s 2ms/step - loss: 0.0875 - accuracy: 0.9537\n",
            "Epoch 79/100\n",
            "82/82 [==============================] - 0s 2ms/step - loss: 0.0857 - accuracy: 0.9634\n",
            "Epoch 80/100\n",
            "82/82 [==============================] - 0s 2ms/step - loss: 0.0823 - accuracy: 0.9671\n",
            "Epoch 81/100\n",
            "82/82 [==============================] - 0s 2ms/step - loss: 0.0798 - accuracy: 0.9646\n",
            "Epoch 82/100\n",
            "82/82 [==============================] - 0s 2ms/step - loss: 0.0837 - accuracy: 0.9610\n",
            "Epoch 83/100\n",
            "82/82 [==============================] - 0s 2ms/step - loss: 0.0944 - accuracy: 0.9622\n",
            "Epoch 84/100\n",
            "82/82 [==============================] - 0s 2ms/step - loss: 0.0825 - accuracy: 0.9646\n",
            "Epoch 85/100\n",
            "82/82 [==============================] - 0s 2ms/step - loss: 0.0814 - accuracy: 0.9622\n",
            "Epoch 86/100\n",
            "82/82 [==============================] - 0s 2ms/step - loss: 0.0762 - accuracy: 0.9671\n",
            "Epoch 87/100\n",
            "82/82 [==============================] - 0s 2ms/step - loss: 0.0798 - accuracy: 0.9683\n",
            "Epoch 88/100\n",
            "82/82 [==============================] - 0s 2ms/step - loss: 0.0814 - accuracy: 0.9646\n",
            "Epoch 89/100\n",
            "82/82 [==============================] - 0s 2ms/step - loss: 0.0756 - accuracy: 0.9659\n",
            "Epoch 90/100\n",
            "82/82 [==============================] - 0s 2ms/step - loss: 0.0845 - accuracy: 0.9671\n",
            "Epoch 91/100\n",
            "82/82 [==============================] - 0s 2ms/step - loss: 0.0758 - accuracy: 0.9646\n",
            "Epoch 92/100\n",
            "82/82 [==============================] - 0s 2ms/step - loss: 0.0791 - accuracy: 0.9622\n",
            "Epoch 93/100\n",
            "82/82 [==============================] - 0s 2ms/step - loss: 0.0727 - accuracy: 0.9659\n",
            "Epoch 94/100\n",
            "82/82 [==============================] - 0s 2ms/step - loss: 0.0809 - accuracy: 0.9646\n",
            "Epoch 95/100\n",
            "82/82 [==============================] - 0s 2ms/step - loss: 0.0745 - accuracy: 0.9610\n",
            "Epoch 96/100\n",
            "82/82 [==============================] - 0s 2ms/step - loss: 0.0789 - accuracy: 0.9646\n",
            "Epoch 97/100\n",
            "82/82 [==============================] - 0s 2ms/step - loss: 0.0752 - accuracy: 0.9683\n",
            "Epoch 98/100\n",
            "82/82 [==============================] - 0s 2ms/step - loss: 0.0745 - accuracy: 0.9732\n",
            "Epoch 99/100\n",
            "82/82 [==============================] - 0s 2ms/step - loss: 0.0720 - accuracy: 0.9720\n",
            "Epoch 100/100\n",
            "82/82 [==============================] - 0s 2ms/step - loss: 0.0871 - accuracy: 0.9537\n"
          ]
        },
        {
          "output_type": "execute_result",
          "data": {
            "text/plain": [
              "<keras.src.callbacks.History at 0x79aade8b0160>"
            ]
          },
          "metadata": {},
          "execution_count": 37
        }
      ]
    },
    {
      "cell_type": "code",
      "source": [
        "loss, accuracy = ts.evaluate(X_test, y_test)\n",
        "print(f\"Accuracy: {accuracy*100:.2f}%\")"
      ],
      "metadata": {
        "colab": {
          "base_uri": "https://localhost:8080/"
        },
        "id": "w_gOAhC9J1vj",
        "outputId": "7dce55ae-8b7b-4ab9-f931-a99eef86002a"
      },
      "execution_count": null,
      "outputs": [
        {
          "output_type": "stream",
          "name": "stdout",
          "text": [
            "7/7 [==============================] - 0s 2ms/step - loss: 0.2336 - accuracy: 0.9220\n",
            "Accuracy: 92.20%\n"
          ]
        }
      ]
    },
    {
      "cell_type": "code",
      "source": [
        "from sklearn.metrics import classification_report\n",
        "\n",
        "y_pred = (ts.predict(X_test) > 0.5).astype(int)\n",
        "print(classification_report(y_test, y_pred))"
      ],
      "metadata": {
        "colab": {
          "base_uri": "https://localhost:8080/"
        },
        "id": "riciH3AXOurp",
        "outputId": "86ffdfd6-45b8-4c68-a4a9-6dc88ace6a28"
      },
      "execution_count": null,
      "outputs": [
        {
          "output_type": "stream",
          "name": "stdout",
          "text": [
            "7/7 [==============================] - 0s 2ms/step\n",
            "              precision    recall  f1-score   support\n",
            "\n",
            "           0       0.97      0.87      0.92       102\n",
            "           1       0.88      0.97      0.93       103\n",
            "\n",
            "    accuracy                           0.92       205\n",
            "   macro avg       0.93      0.92      0.92       205\n",
            "weighted avg       0.93      0.92      0.92       205\n",
            "\n"
          ]
        }
      ]
    },
    {
      "cell_type": "markdown",
      "source": [
        "All feature accuracy: 83%\n",
        "\n",
        "Without chol, trestbps, age, thalach: 92%"
      ],
      "metadata": {
        "id": "BL4LXGB25pj0"
      }
    },
    {
      "cell_type": "markdown",
      "source": [
        "#Other Models"
      ],
      "metadata": {
        "id": "dxt8gQX2p5Hs"
      }
    },
    {
      "cell_type": "code",
      "source": [
        "import pandas as pd\n",
        "import numpy as np\n",
        "import seaborn as sns\n",
        "import matplotlib.pyplot as plt\n",
        "from sklearn.model_selection import train_test_split\n",
        "from sklearn.metrics import classification_report, confusion_matrix, f1_score, accuracy_score, mean_squared_error, r2_score, recall_score, precision_score\n",
        "from sklearn.linear_model import LogisticRegression\n",
        "from sklearn.ensemble import RandomForestClassifier\n",
        "from sklearn.ensemble import ExtraTreesClassifier\n",
        "from sklearn.tree import DecisionTreeClassifier\n",
        "from sklearn.neighbors import KNeighborsClassifier\n",
        "from sklearn.svm import SVC\n",
        "from sklearn.ensemble import GradientBoostingClassifier\n",
        "from sklearn.model_selection import GridSearchCV"
      ],
      "metadata": {
        "id": "sOOOFkVlqNB5"
      },
      "execution_count": null,
      "outputs": []
    },
    {
      "cell_type": "code",
      "source": [
        "heart_data.columns.drop(target)"
      ],
      "metadata": {
        "colab": {
          "base_uri": "https://localhost:8080/"
        },
        "id": "k0V4dTPK9NsE",
        "outputId": "50683048-dd8d-453a-e97b-bc85b2b9fb0f"
      },
      "execution_count": null,
      "outputs": [
        {
          "output_type": "execute_result",
          "data": {
            "text/plain": [
              "Index(['age', 'sex', 'cp', 'trestbps', 'chol', 'fbs', 'restecg', 'thalach',\n",
              "       'exang', 'oldpeak', 'slope', 'ca', 'thal'],\n",
              "      dtype='object')"
            ]
          },
          "metadata": {},
          "execution_count": 130
        }
      ]
    },
    {
      "cell_type": "code",
      "source": [
        "all_columns = list(heart_data.columns.drop(target))\n",
        "X = heart_data[all_columns]\n",
        "y = heart_data[target]"
      ],
      "metadata": {
        "id": "ql088IqqqdIe"
      },
      "execution_count": null,
      "outputs": []
    },
    {
      "cell_type": "code",
      "source": [
        "#initializing 5 models\n",
        "rf = RandomForestClassifier(max_depth=4,random_state=42, class_weight='balanced')\n",
        "et = ExtraTreesClassifier(n_estimators=100, random_state=42, class_weight='balanced')\n",
        "dt = DecisionTreeClassifier(max_depth=5, random_state=42, class_weight='balanced')\n",
        "knn = KNeighborsClassifier(n_neighbors=5)\n",
        "svm = SVC(kernel='linear', C=1, random_state=42)\n",
        "gbm = GradientBoostingClassifier(n_estimators=100, learning_rate=0.1, random_state=42)"
      ],
      "metadata": {
        "id": "FvZac-ZBp6--"
      },
      "execution_count": null,
      "outputs": []
    },
    {
      "cell_type": "code",
      "source": [
        "#training and testing results lists to store in\n",
        "accuracy = []\n",
        "f1 = []\n",
        "precision = []\n",
        "recall = []\n",
        "#splitting data\n",
        "aX_train, aX_test, ay_train, ay_test = train_test_split(X, y, test_size=0.2, random_state=42)"
      ],
      "metadata": {
        "id": "xQRMQJlvqGEJ"
      },
      "execution_count": null,
      "outputs": []
    },
    {
      "cell_type": "code",
      "source": [
        "#function for training and testing\n",
        "def training(model, aX_train, aX_test, ay_train, ay_test):\n",
        "    model.fit(aX_train, ay_train)\n",
        "    ay_train_pred = model.predict(aX_train)\n",
        "    ay_test_pred = model.predict(aX_test)\n",
        "    accuracy.append(accuracy_score(ay_test, ay_test_pred))\n",
        "    f1.append(f1_score(ay_test, ay_test_pred))\n",
        "    precision.append(precision_score(ay_test, ay_test_pred))\n",
        "    recall.append(recall_score(ay_test, ay_test_pred))\n",
        "    print(classification_report(ay_test, ay_test_pred))"
      ],
      "metadata": {
        "id": "s5sOs27fqHUX"
      },
      "execution_count": null,
      "outputs": []
    },
    {
      "cell_type": "code",
      "source": [
        "#calling training function for each model\n",
        "training(rf, aX_train, aX_test, ay_train, ay_test)"
      ],
      "metadata": {
        "id": "25S2RLnxqIjo",
        "colab": {
          "base_uri": "https://localhost:8080/"
        },
        "outputId": "df8f62ca-1b97-443e-af56-d647a6129de9"
      },
      "execution_count": null,
      "outputs": [
        {
          "output_type": "stream",
          "name": "stdout",
          "text": [
            "              precision    recall  f1-score   support\n",
            "\n",
            "           0       0.90      0.77      0.83       102\n",
            "           1       0.80      0.91      0.85       103\n",
            "\n",
            "    accuracy                           0.84       205\n",
            "   macro avg       0.85      0.84      0.84       205\n",
            "weighted avg       0.85      0.84      0.84       205\n",
            "\n"
          ]
        }
      ]
    },
    {
      "cell_type": "code",
      "source": [
        "training(dt, aX_train, aX_test, ay_train, ay_test)"
      ],
      "metadata": {
        "id": "vg51r2D7rig-",
        "colab": {
          "base_uri": "https://localhost:8080/"
        },
        "outputId": "ad490784-0c24-4418-8de9-56f46a4a4a3f"
      },
      "execution_count": null,
      "outputs": [
        {
          "output_type": "stream",
          "name": "stdout",
          "text": [
            "              precision    recall  f1-score   support\n",
            "\n",
            "           0       0.90      0.75      0.82       102\n",
            "           1       0.79      0.92      0.85       103\n",
            "\n",
            "    accuracy                           0.83       205\n",
            "   macro avg       0.84      0.83      0.83       205\n",
            "weighted avg       0.84      0.83      0.83       205\n",
            "\n"
          ]
        }
      ]
    },
    {
      "cell_type": "code",
      "source": [
        "training(knn, aX_train, aX_test, ay_train, ay_test)"
      ],
      "metadata": {
        "id": "AvP79T69rfFi",
        "colab": {
          "base_uri": "https://localhost:8080/"
        },
        "outputId": "206dc9e9-b311-4a17-a79d-84cf2bb22ceb"
      },
      "execution_count": null,
      "outputs": [
        {
          "output_type": "stream",
          "name": "stdout",
          "text": [
            "              precision    recall  f1-score   support\n",
            "\n",
            "           0       0.73      0.73      0.73       102\n",
            "           1       0.73      0.74      0.73       103\n",
            "\n",
            "    accuracy                           0.73       205\n",
            "   macro avg       0.73      0.73      0.73       205\n",
            "weighted avg       0.73      0.73      0.73       205\n",
            "\n"
          ]
        }
      ]
    },
    {
      "cell_type": "code",
      "source": [
        "training(gbm, aX_train, aX_test, ay_train, ay_test)"
      ],
      "metadata": {
        "id": "gWckWFdECl9E",
        "colab": {
          "base_uri": "https://localhost:8080/"
        },
        "outputId": "0417996a-ec3c-4a83-b592-1c6258227f1d"
      },
      "execution_count": null,
      "outputs": [
        {
          "output_type": "stream",
          "name": "stdout",
          "text": [
            "              precision    recall  f1-score   support\n",
            "\n",
            "           0       0.95      0.91      0.93       102\n",
            "           1       0.92      0.95      0.93       103\n",
            "\n",
            "    accuracy                           0.93       205\n",
            "   macro avg       0.93      0.93      0.93       205\n",
            "weighted avg       0.93      0.93      0.93       205\n",
            "\n"
          ]
        }
      ]
    },
    {
      "cell_type": "code",
      "source": [
        "training(svm, aX_train, aX_test, ay_train, ay_test)"
      ],
      "metadata": {
        "colab": {
          "base_uri": "https://localhost:8080/"
        },
        "id": "3tEIrToG9Z6o",
        "outputId": "b62dc60a-68c8-4180-b01d-a878d235f18b"
      },
      "execution_count": null,
      "outputs": [
        {
          "output_type": "stream",
          "name": "stdout",
          "text": [
            "              precision    recall  f1-score   support\n",
            "\n",
            "           0       0.88      0.71      0.78       102\n",
            "           1       0.76      0.90      0.82       103\n",
            "\n",
            "    accuracy                           0.80       205\n",
            "   macro avg       0.82      0.80      0.80       205\n",
            "weighted avg       0.82      0.80      0.80       205\n",
            "\n"
          ]
        }
      ]
    },
    {
      "cell_type": "code",
      "source": [
        "training(et, aX_train, aX_test, ay_train, ay_test)"
      ],
      "metadata": {
        "id": "8c-Bo0DTrkEj",
        "colab": {
          "base_uri": "https://localhost:8080/"
        },
        "outputId": "17b6652c-0654-4f71-c6e8-54d19163e9fd"
      },
      "execution_count": null,
      "outputs": [
        {
          "output_type": "stream",
          "name": "stdout",
          "text": [
            "              precision    recall  f1-score   support\n",
            "\n",
            "           0       1.00      1.00      1.00       102\n",
            "           1       1.00      1.00      1.00       103\n",
            "\n",
            "    accuracy                           1.00       205\n",
            "   macro avg       1.00      1.00      1.00       205\n",
            "weighted avg       1.00      1.00      1.00       205\n",
            "\n"
          ]
        }
      ]
    },
    {
      "cell_type": "code",
      "source": [
        "#all results\n",
        "models = [\"Random Forest\", \"Decision Tree\", \"k-Nearest Neighbors\", \"Gradient Boosting Machine\", \"Support Vector Machine\", \"Extra Trees\"]\n",
        "results = pd.DataFrame({\n",
        "    \"Model\": models,\n",
        "    \"Accuracy\": accuracy,\n",
        "    \"Precision\": precision,\n",
        "    \"Recall\": recall,\n",
        "    \"F1\": f1\n",
        "})\n",
        "print(results)"
      ],
      "metadata": {
        "colab": {
          "base_uri": "https://localhost:8080/"
        },
        "id": "HPkFQdiAqJlW",
        "outputId": "d8a51b5c-cb28-4a5b-c8d2-b5d97ffed5be"
      },
      "execution_count": null,
      "outputs": [
        {
          "output_type": "stream",
          "name": "stdout",
          "text": [
            "                       Model  Accuracy  Precision    Recall        F1\n",
            "0              Random Forest  0.843902   0.803419  0.912621  0.854545\n",
            "1              Decision Tree  0.834146   0.785124  0.922330  0.848214\n",
            "2        k-Nearest Neighbors  0.731707   0.730769  0.737864  0.734300\n",
            "3  Gradient Boosting Machine  0.931707   0.915888  0.951456  0.933333\n",
            "4     Support Vector Machine  0.804878   0.756098  0.902913  0.823009\n",
            "5                Extra Trees  1.000000   1.000000  1.000000  1.000000\n"
          ]
        }
      ]
    },
    {
      "cell_type": "code",
      "source": [
        "heart_data.columns"
      ],
      "metadata": {
        "colab": {
          "base_uri": "https://localhost:8080/"
        },
        "id": "UrvUBeqKJbPG",
        "outputId": "d5305669-13e4-42b0-93f4-94cd655072b0"
      },
      "execution_count": null,
      "outputs": [
        {
          "output_type": "execute_result",
          "data": {
            "text/plain": [
              "Index(['age', 'sex', 'cp', 'trestbps', 'chol', 'fbs', 'restecg', 'thalach',\n",
              "       'exang', 'oldpeak', 'slope', 'ca', 'thal', 'target'],\n",
              "      dtype='object')"
            ]
          },
          "metadata": {},
          "execution_count": 48
        }
      ]
    },
    {
      "cell_type": "markdown",
      "source": [
        "##Testing collective performance by removing certain features from all features"
      ],
      "metadata": {
        "id": "yZNTgHjtW1_a"
      }
    },
    {
      "cell_type": "code",
      "source": [
        "initial_dict = {}"
      ],
      "metadata": {
        "id": "qAcI743_XMKU"
      },
      "execution_count": null,
      "outputs": []
    },
    {
      "cell_type": "code",
      "source": [
        "def remov(*items):\n",
        "    return [item for item in list(heart_data.columns.drop(target)) if item not in items]"
      ],
      "metadata": {
        "id": "wpelSGlOXu2p"
      },
      "execution_count": null,
      "outputs": []
    },
    {
      "cell_type": "code",
      "source": [
        "all_columns = remov() #'slope' had a good effect on GBM"
      ],
      "metadata": {
        "id": "bdWyp9x5YRN3"
      },
      "execution_count": null,
      "outputs": []
    },
    {
      "cell_type": "code",
      "source": [
        "X = heart_data[all_columns]\n",
        "y = heart_data[target]\n",
        "gbm = GradientBoostingClassifier(n_estimators=100, learning_rate=0.1, random_state=42)\n",
        "#training and testing results lists to store in\n",
        "accuracy = []\n",
        "f1 = []\n",
        "precision = []\n",
        "recall = []\n",
        "#splitting data\n",
        "aX_train, aX_test, ay_train, ay_test = train_test_split(X, y, test_size=0.2, random_state=42)\n",
        "#function for training and testing\n",
        "def training(model, aX_train, aX_test, ay_train, ay_test):\n",
        "    model.fit(aX_train, ay_train)\n",
        "    ay_train_pred = model.predict(aX_train)\n",
        "    ay_test_pred = model.predict(aX_test)\n",
        "    accuracy.append(accuracy_score(ay_test, ay_test_pred))\n",
        "    f1.append(f1_score(ay_test, ay_test_pred))\n",
        "    precision.append(precision_score(ay_test, ay_test_pred))\n",
        "    recall.append(recall_score(ay_test, ay_test_pred))\n",
        "training(rf, aX_train, aX_test, ay_train, ay_test)\n",
        "training(dt, aX_train, aX_test, ay_train, ay_test)\n",
        "training(knn, aX_train, aX_test, ay_train, ay_test)\n",
        "training(gbm, aX_train, aX_test, ay_train, ay_test)\n",
        "training(svm, aX_train, aX_test, ay_train, ay_test)\n",
        "training(et, aX_train, aX_test, ay_train, ay_test)\n",
        "#one model's results over different features\n",
        "models = [\"Random Forest\", \"Decision Tree\", \"k-Nearest Neighbors\", \"Gradient Boosting Machine\", \"Support Vector Machine\", \"Extra Trees\"]\n",
        "results = pd.DataFrame({\n",
        "    \"Model\": models,\n",
        "    \"Accuracy\": accuracy,\n",
        "    \"Precision\": precision,\n",
        "    \"Recall\": recall,\n",
        "    \"F1\": f1\n",
        "})\n",
        "print(results)\n",
        "initial_dict[str(all_columns)] = results"
      ],
      "metadata": {
        "colab": {
          "base_uri": "https://localhost:8080/"
        },
        "id": "IPIIRmqEW7XC",
        "outputId": "65e19f39-2842-4183-ebcb-5e26751ed587"
      },
      "execution_count": null,
      "outputs": [
        {
          "output_type": "stream",
          "name": "stdout",
          "text": [
            "                       Model  Accuracy  Precision    Recall        F1\n",
            "0              Random Forest  0.843902   0.803419  0.912621  0.854545\n",
            "1              Decision Tree  0.834146   0.785124  0.922330  0.848214\n",
            "2        k-Nearest Neighbors  0.731707   0.730769  0.737864  0.734300\n",
            "3  Gradient Boosting Machine  0.931707   0.915888  0.951456  0.933333\n",
            "4     Support Vector Machine  0.804878   0.756098  0.902913  0.823009\n",
            "5                Extra Trees  1.000000   1.000000  1.000000  1.000000\n"
          ]
        }
      ]
    },
    {
      "cell_type": "code",
      "source": [
        "initial_dict"
      ],
      "metadata": {
        "colab": {
          "base_uri": "https://localhost:8080/"
        },
        "id": "vsGMi1PcYrey",
        "outputId": "30a56756-0d3e-4868-8baa-de28267956b1"
      },
      "execution_count": null,
      "outputs": [
        {
          "output_type": "execute_result",
          "data": {
            "text/plain": [
              "{\"['age', 'sex', 'cp', 'trestbps', 'chol', 'fbs', 'restecg', 'thalach', 'exang', 'oldpeak', 'slope', 'ca', 'thal']\":                        Model  Accuracy  Precision    Recall        F1\n",
              " 0              Random Forest  0.843902   0.803419  0.912621  0.854545\n",
              " 1              Decision Tree  0.834146   0.785124  0.922330  0.848214\n",
              " 2        k-Nearest Neighbors  0.731707   0.730769  0.737864  0.734300\n",
              " 3  Gradient Boosting Machine  0.931707   0.915888  0.951456  0.933333\n",
              " 4     Support Vector Machine  0.804878   0.756098  0.902913  0.823009\n",
              " 5                Extra Trees  1.000000   1.000000  1.000000  1.000000,\n",
              " \"['sex', 'cp', 'trestbps', 'chol', 'fbs', 'restecg', 'thalach', 'exang', 'oldpeak', 'slope', 'ca', 'thal']\":                        Model  Accuracy  Precision    Recall        F1\n",
              " 0              Random Forest  0.848780   0.795082  0.941748  0.862222\n",
              " 1              Decision Tree  0.819512   0.770492  0.912621  0.835556\n",
              " 2        k-Nearest Neighbors  0.751220   0.765306  0.728155  0.746269\n",
              " 3  Gradient Boosting Machine  0.941463   0.933333  0.951456  0.942308\n",
              " 4     Support Vector Machine  0.804878   0.756098  0.902913  0.823009\n",
              " 5                Extra Trees  1.000000   1.000000  1.000000  1.000000,\n",
              " \"['age', 'cp', 'trestbps', 'chol', 'fbs', 'restecg', 'exang', 'ca', 'thal']\":                        Model  Accuracy  Precision    Recall        F1\n",
              " 0              Random Forest  0.829268   0.798246  0.883495  0.838710\n",
              " 1              Decision Tree  0.814634   0.835052  0.786408  0.810000\n",
              " 2        k-Nearest Neighbors  0.697561   0.715789  0.660194  0.686869\n",
              " 3  Gradient Boosting Machine  0.917073   0.898148  0.941748  0.919431\n",
              " 4     Support Vector Machine  0.760976   0.725000  0.844660  0.780269\n",
              " 5                Extra Trees  0.985366   1.000000  0.970874  0.985222,\n",
              " \"['age', 'sex', 'cp', 'trestbps', 'chol', 'fbs', 'restecg', 'thalach', 'exang', 'oldpeak', 'ca', 'thal']\":                        Model  Accuracy  Precision    Recall        F1\n",
              " 0              Random Forest  0.834146   0.789916  0.912621  0.846847\n",
              " 1              Decision Tree  0.834146   0.785124  0.922330  0.848214\n",
              " 2        k-Nearest Neighbors  0.731707   0.730769  0.737864  0.734300\n",
              " 3  Gradient Boosting Machine  0.956098   0.960784  0.951456  0.956098\n",
              " 4     Support Vector Machine  0.800000   0.746032  0.912621  0.820961\n",
              " 5                Extra Trees  0.985366   1.000000  0.970874  0.985222}"
            ]
          },
          "metadata": {},
          "execution_count": 200
        }
      ]
    },
    {
      "cell_type": "markdown",
      "source": [
        "##Feature Importance Ranking"
      ],
      "metadata": {
        "id": "gEdpgWNOcv-N"
      }
    },
    {
      "cell_type": "code",
      "source": [
        "def rank(the_model):\n",
        "  feature_importances = the_model.feature_importances_\n",
        "  ranking = pd.DataFrame({\n",
        "      'Feature': X.columns,\n",
        "      'Importance': feature_importances\n",
        "  }).sort_values(by='Importance', ascending=False)\n",
        "\n",
        "  print(ranking)"
      ],
      "metadata": {
        "id": "dRd9xWXdbtwU"
      },
      "execution_count": null,
      "outputs": []
    },
    {
      "cell_type": "code",
      "source": [
        "rank(rf)"
      ],
      "metadata": {
        "colab": {
          "base_uri": "https://localhost:8080/"
        },
        "id": "EbZyhyfNdT-Y",
        "outputId": "3a1caa7b-e986-4943-9bc6-eaf80d793f36"
      },
      "execution_count": null,
      "outputs": [
        {
          "output_type": "stream",
          "name": "stdout",
          "text": [
            "     Feature  Importance\n",
            "2         cp    0.180663\n",
            "11        ca    0.167100\n",
            "12      thal    0.153147\n",
            "9    oldpeak    0.127980\n",
            "7    thalach    0.105142\n",
            "8      exang    0.080050\n",
            "0        age    0.054279\n",
            "10     slope    0.050622\n",
            "4       chol    0.029317\n",
            "3   trestbps    0.024821\n",
            "1        sex    0.018537\n",
            "6    restecg    0.005148\n",
            "5        fbs    0.003195\n"
          ]
        }
      ]
    },
    {
      "cell_type": "code",
      "source": [
        "rank(dt)"
      ],
      "metadata": {
        "colab": {
          "base_uri": "https://localhost:8080/"
        },
        "id": "YfjDKyWFdfWd",
        "outputId": "79c42ca4-b984-4f89-b055-9d16c0196da1"
      },
      "execution_count": null,
      "outputs": [
        {
          "output_type": "stream",
          "name": "stdout",
          "text": [
            "     Feature  Importance\n",
            "2         cp    0.352122\n",
            "12      thal    0.190978\n",
            "11        ca    0.131031\n",
            "9    oldpeak    0.097288\n",
            "7    thalach    0.064528\n",
            "4       chol    0.057741\n",
            "0        age    0.028387\n",
            "10     slope    0.027420\n",
            "8      exang    0.025258\n",
            "3   trestbps    0.025248\n",
            "1        sex    0.000000\n",
            "5        fbs    0.000000\n",
            "6    restecg    0.000000\n"
          ]
        }
      ]
    },
    {
      "cell_type": "code",
      "source": [
        "rank(gbm)"
      ],
      "metadata": {
        "colab": {
          "base_uri": "https://localhost:8080/"
        },
        "id": "roNA2Cmpdfjq",
        "outputId": "af997b33-e4c8-4b1e-9dfc-e9e8f420f4f0"
      },
      "execution_count": null,
      "outputs": [
        {
          "output_type": "stream",
          "name": "stdout",
          "text": [
            "     Feature  Importance\n",
            "2         cp    0.269297\n",
            "11        ca    0.164116\n",
            "12      thal    0.155692\n",
            "9    oldpeak    0.117409\n",
            "0        age    0.065040\n",
            "4       chol    0.055734\n",
            "7    thalach    0.049970\n",
            "10     slope    0.041074\n",
            "3   trestbps    0.033357\n",
            "1        sex    0.021087\n",
            "8      exang    0.020587\n",
            "6    restecg    0.006348\n",
            "5        fbs    0.000288\n"
          ]
        }
      ]
    },
    {
      "cell_type": "code",
      "source": [
        "rank(et)"
      ],
      "metadata": {
        "colab": {
          "base_uri": "https://localhost:8080/"
        },
        "id": "ngSO-wxEdftC",
        "outputId": "e216b038-7c31-42b4-956c-7bbe0b193774"
      },
      "execution_count": null,
      "outputs": [
        {
          "output_type": "stream",
          "name": "stdout",
          "text": [
            "     Feature  Importance\n",
            "2         cp    0.119356\n",
            "11        ca    0.118884\n",
            "12      thal    0.110466\n",
            "8      exang    0.099474\n",
            "9    oldpeak    0.097429\n",
            "7    thalach    0.081728\n",
            "10     slope    0.073975\n",
            "0        age    0.072687\n",
            "3   trestbps    0.061187\n",
            "4       chol    0.061075\n",
            "1        sex    0.052402\n",
            "6    restecg    0.031949\n",
            "5        fbs    0.019388\n"
          ]
        }
      ]
    },
    {
      "cell_type": "code",
      "source": [
        "from sklearn.inspection import permutation_importance"
      ],
      "metadata": {
        "id": "cSndLbb-d05J"
      },
      "execution_count": null,
      "outputs": []
    },
    {
      "cell_type": "code",
      "source": [
        "knn_result = permutation_importance(knn, X_test, y_test, n_repeats=10, random_state=42)"
      ],
      "metadata": {
        "id": "QnQs0SDYd6FT"
      },
      "execution_count": null,
      "outputs": []
    },
    {
      "cell_type": "code",
      "source": [
        "svm_result = permutation_importance(svm, X_test, y_test, n_repeats=10, random_state=42)"
      ],
      "metadata": {
        "id": "1C5ceKIGd6MR"
      },
      "execution_count": null,
      "outputs": []
    },
    {
      "cell_type": "code",
      "source": [
        "def rank_2(result):\n",
        "  perms = pd.DataFrame({\n",
        "      'Feature': X.columns,\n",
        "      '(Mean) Importance': result.importances_mean,\n",
        "  })\n",
        "  sorted_importances = perms.sort_values(by='(Mean) Importance', ascending=False)\n",
        "\n",
        "  print(sorted_importances)"
      ],
      "metadata": {
        "id": "_kihSJlLd9SM"
      },
      "execution_count": null,
      "outputs": []
    },
    {
      "cell_type": "code",
      "source": [
        "rank_2(knn_result)"
      ],
      "metadata": {
        "colab": {
          "base_uri": "https://localhost:8080/"
        },
        "id": "ccpN5LE7eff3",
        "outputId": "b8e3d316-b946-4ebc-d163-075a6e9dd855"
      },
      "execution_count": null,
      "outputs": [
        {
          "output_type": "stream",
          "name": "stdout",
          "text": [
            "     Feature  (Mean) Importance\n",
            "7    thalach           0.182927\n",
            "4       chol           0.116585\n",
            "3   trestbps           0.063902\n",
            "0        age           0.059024\n",
            "9    oldpeak           0.003415\n",
            "1        sex           0.000000\n",
            "5        fbs           0.000000\n",
            "6    restecg           0.000000\n",
            "8      exang           0.000000\n",
            "10     slope           0.000000\n",
            "11        ca           0.000000\n",
            "12      thal           0.000000\n",
            "2         cp          -0.006341\n"
          ]
        }
      ]
    },
    {
      "cell_type": "code",
      "source": [
        "rank_2(svm_result)"
      ],
      "metadata": {
        "colab": {
          "base_uri": "https://localhost:8080/"
        },
        "id": "txUXFmfqd-iZ",
        "outputId": "414b620a-63fc-42ae-f711-e618a5865442"
      },
      "execution_count": null,
      "outputs": [
        {
          "output_type": "stream",
          "name": "stdout",
          "text": [
            "     Feature  (Mean) Importance\n",
            "2         cp           0.060976\n",
            "1        sex           0.031220\n",
            "11        ca           0.024878\n",
            "12      thal           0.023902\n",
            "7    thalach           0.021951\n",
            "9    oldpeak           0.020000\n",
            "3   trestbps           0.010244\n",
            "10     slope           0.010244\n",
            "8      exang           0.005854\n",
            "0        age          -0.000488\n",
            "5        fbs          -0.000488\n",
            "6    restecg          -0.001951\n",
            "4       chol          -0.012195\n"
          ]
        }
      ]
    },
    {
      "cell_type": "markdown",
      "source": [
        "##Testing for best single feature for GBM"
      ],
      "metadata": {
        "id": "bkhV4NNxVeku"
      }
    },
    {
      "cell_type": "code",
      "source": [
        "temp = {}"
      ],
      "metadata": {
        "id": "NpXynwPgLW0g"
      },
      "execution_count": null,
      "outputs": []
    },
    {
      "cell_type": "code",
      "source": [
        "#testing for the best feature\n",
        "for k in heart_data.columns.drop('target'):\n",
        "  X = heart_data[[k]]\n",
        "  y = heart_data[target]\n",
        "  gbm = GradientBoostingClassifier(n_estimators=100, learning_rate=0.1, random_state=42)\n",
        "  #training and testing results lists to store in\n",
        "  accuracy = []\n",
        "  f1 = []\n",
        "  precision = []\n",
        "  recall = []\n",
        "  #splitting data\n",
        "  aX_train, aX_test, ay_train, ay_test = train_test_split(X, y, test_size=0.2, random_state=42)\n",
        "  #function for training and testing\n",
        "  def training(model, aX_train, aX_test, ay_train, ay_test):\n",
        "      model.fit(aX_train, ay_train)\n",
        "      ay_train_pred = model.predict(aX_train)\n",
        "      ay_test_pred = model.predict(aX_test)\n",
        "      accuracy.append(accuracy_score(ay_test, ay_test_pred))\n",
        "      f1.append(f1_score(ay_test, ay_test_pred))\n",
        "      precision.append(precision_score(ay_test, ay_test_pred))\n",
        "      recall.append(recall_score(ay_test, ay_test_pred))\n",
        "  training(gbm, aX_train, aX_test, ay_train, ay_test)\n",
        "  #one model's results over different features\n",
        "  models = [\"Random Forest\", \"Decision Tree\", \"k-Nearest Neighbors\", \"Gradient Boosting Machine\", \"Support Vector Machine\", \"Extra Trees\"]\n",
        "  results = pd.DataFrame({\n",
        "      \"Model\": models[3],\n",
        "      \"Accuracy\": accuracy,\n",
        "      #\"Precision\": precision,\n",
        "      #\"Recall\" recall,\n",
        "      \"F1\": f1\n",
        "  })\n",
        "  print(k, f1[0])\n",
        "  temp[str(all_columns)] = f1[0]"
      ],
      "metadata": {
        "colab": {
          "base_uri": "https://localhost:8080/"
        },
        "id": "XiCiSv2jI3nG",
        "outputId": "38531f0e-f63d-4838-ce47-a4e3ca18ad8a"
      },
      "execution_count": null,
      "outputs": [
        {
          "output_type": "stream",
          "name": "stdout",
          "text": [
            "age 0.6464646464646464\n",
            "sex 0.5798816568047338\n",
            "cp 0.7559808612440191\n",
            "trestbps 0.6108374384236454\n",
            "chol 0.6759259259259259\n",
            "fbs 0.6327272727272727\n",
            "restecg 0.6261682242990655\n",
            "thalach 0.7096774193548386\n",
            "exang 0.7723577235772359\n",
            "oldpeak 0.7348837209302326\n",
            "slope 0.6834170854271358\n",
            "ca 0.7339449541284403\n",
            "thal 0.7368421052631577\n"
          ]
        }
      ]
    },
    {
      "cell_type": "markdown",
      "source": [
        "##Conclusion"
      ],
      "metadata": {
        "id": "IUYJr-DnVikI"
      }
    },
    {
      "cell_type": "code",
      "source": [
        "heart_data.columns.drop('target')"
      ],
      "metadata": {
        "colab": {
          "base_uri": "https://localhost:8080/"
        },
        "id": "67iVG3Q8UTAh",
        "outputId": "99872881-4521-4a5c-d025-ed97319562fe"
      },
      "execution_count": null,
      "outputs": [
        {
          "output_type": "execute_result",
          "data": {
            "text/plain": [
              "Index(['age', 'sex', 'cp', 'trestbps', 'chol', 'fbs', 'restecg', 'thalach',\n",
              "       'exang', 'oldpeak', 'slope', 'ca', 'thal'],\n",
              "      dtype='object')"
            ]
          },
          "metadata": {},
          "execution_count": 41
        }
      ]
    },
    {
      "cell_type": "markdown",
      "source": [
        "Lifestyle Factors: Exercise Induced Angina, Oldpeak"
      ],
      "metadata": {
        "id": "O17fCaQhUlrK"
      }
    },
    {
      "cell_type": "markdown",
      "source": [
        "###With Lifestyle Factors"
      ],
      "metadata": {
        "id": "uuP1idoMUu1m"
      }
    },
    {
      "cell_type": "code",
      "source": [
        "#Using best model from preivous evaluations\n",
        "all_columns = remov()\n",
        "X = heart_data[all_columns]\n",
        "y = heart_data[target]\n",
        "#initializing 5 models\n",
        "model = GradientBoostingClassifier(n_estimators=100, learning_rate=0.1, random_state=42)\n",
        "#splitting data\n",
        "aX_train, aX_test, ay_train, ay_test = train_test_split(X, y, test_size=0.2, random_state=42)\n",
        "#function for training and testing\n",
        "model.fit(aX_train, ay_train)\n",
        "ay_train_pred = model.predict(aX_train)\n",
        "ay_test_pred = model.predict(aX_test)\n",
        "with_f1 = f1_score(ay_test,ay_test_pred)"
      ],
      "metadata": {
        "id": "x1phCbjRUuEJ"
      },
      "execution_count": null,
      "outputs": []
    },
    {
      "cell_type": "markdown",
      "source": [
        "###Without Lifestyle Factors"
      ],
      "metadata": {
        "id": "RTaSsg-SVKz4"
      }
    },
    {
      "cell_type": "code",
      "source": [
        "#Using best model from preivous evaluations\n",
        "all_columns = remov('exang', 'oldpeak')\n",
        "X = heart_data[all_columns]\n",
        "y = heart_data[target]\n",
        "#initializing 5 models\n",
        "model = GradientBoostingClassifier(n_estimators=100, learning_rate=0.1, random_state=42)\n",
        "#splitting data\n",
        "aX_train, aX_test, ay_train, ay_test = train_test_split(X, y, test_size=0.2, random_state=42)\n",
        "#function for training and testing\n",
        "model.fit(aX_train, ay_train)\n",
        "ay_train_pred = model.predict(aX_train)\n",
        "ay_test_pred = model.predict(aX_test)\n",
        "without_f1 = f1_score(ay_test,ay_test_pred)"
      ],
      "metadata": {
        "id": "MqtYQu7FQvmT"
      },
      "execution_count": null,
      "outputs": []
    },
    {
      "cell_type": "code",
      "source": [
        "print(f'{with_f1} (factors)\\n{without_f1} (no factors)')"
      ],
      "metadata": {
        "colab": {
          "base_uri": "https://localhost:8080/"
        },
        "id": "jlvfW7QuVcV4",
        "outputId": "874b2767-c92c-4903-a970-4e659d22aeea"
      },
      "execution_count": null,
      "outputs": [
        {
          "output_type": "stream",
          "name": "stdout",
          "text": [
            "0.9333333333333335 (factors)\n",
            "0.9458128078817734 (no factors)\n"
          ]
        }
      ]
    },
    {
      "cell_type": "markdown",
      "source": [
        "###Findings (Lifestyle vs No Lifestyle Factors)\n",
        "Removing the exercised angina and oldpeak did not affect the model too much, and in fact increased the accuracy.\n",
        "\n",
        "However, Oldpeak was in the top 4 of the most important features of the GBM model. So let's see the difference in f1_score of all features being utilized vs. only 'oldpeak' being removed"
      ],
      "metadata": {
        "id": "yk1PQN1jVnRi"
      }
    },
    {
      "cell_type": "markdown",
      "source": [
        "###Other Things"
      ],
      "metadata": {
        "id": "UN8k6sSUWBvO"
      }
    },
    {
      "cell_type": "code",
      "source": [
        "#Using best model from preivous evaluations\n",
        "all_columns = remov('slope')\n",
        "X = heart_data[all_columns]\n",
        "y = heart_data[target]\n",
        "#initializing 5 models\n",
        "model = GradientBoostingClassifier(n_estimators=100, learning_rate=0.1, random_state=42)\n",
        "#splitting data\n",
        "aX_train, aX_test, ay_train, ay_test = train_test_split(X, y, test_size=0.2, random_state=42)\n",
        "#function for training and testing\n",
        "model.fit(aX_train, ay_train)\n",
        "ay_train_pred = model.predict(aX_train)\n",
        "ay_test_pred = model.predict(aX_test)\n",
        "print(\"Only slope removed\",f1_score(ay_test,ay_test_pred))"
      ],
      "metadata": {
        "colab": {
          "base_uri": "https://localhost:8080/"
        },
        "id": "tWE8QOYWWPZB",
        "outputId": "6117a07b-6606-4a22-b1ed-6a8016784d04"
      },
      "execution_count": null,
      "outputs": [
        {
          "output_type": "stream",
          "name": "stdout",
          "text": [
            "Only slope removed 0.9560975609756097\n"
          ]
        }
      ]
    },
    {
      "cell_type": "markdown",
      "source": [
        "It looks like removing oldpeak increased our accuracy."
      ],
      "metadata": {
        "id": "71XcoaaHWzzT"
      }
    },
    {
      "cell_type": "code",
      "source": [
        "#Using best model from preivous evaluations\n",
        "all_columns = remov('cp')\n",
        "X = heart_data[all_columns]\n",
        "y = heart_data[target]\n",
        "#initializing 5 models\n",
        "model = GradientBoostingClassifier(n_estimators=100, learning_rate=0.1, random_state=42)\n",
        "#splitting data\n",
        "aX_train, aX_test, ay_train, ay_test = train_test_split(X, y, test_size=0.2, random_state=42)\n",
        "#function for training and testing\n",
        "model.fit(aX_train, ay_train)\n",
        "ay_train_pred = model.predict(aX_train)\n",
        "ay_test_pred = model.predict(aX_test)\n",
        "print(\"Chest pain type removed:\",f1_score(ay_test,ay_test_pred))"
      ],
      "metadata": {
        "colab": {
          "base_uri": "https://localhost:8080/"
        },
        "id": "met1zwWRXISN",
        "outputId": "301af54d-cd74-47d7-a867-0a08f24f19fd"
      },
      "execution_count": null,
      "outputs": [
        {
          "output_type": "stream",
          "name": "stdout",
          "text": [
            "Chest pain type removed: 0.9611650485436893\n"
          ]
        }
      ]
    },
    {
      "cell_type": "code",
      "source": [
        "#Using best model from preivous evaluations\n",
        "all_columns = remov('ca')\n",
        "X = heart_data[all_columns]\n",
        "y = heart_data[target]\n",
        "#initializing 5 models\n",
        "model = GradientBoostingClassifier(n_estimators=100, learning_rate=0.1, random_state=42)\n",
        "#splitting data\n",
        "aX_train, aX_test, ay_train, ay_test = train_test_split(X, y, test_size=0.2, random_state=42)\n",
        "#function for training and testing\n",
        "model.fit(aX_train, ay_train)\n",
        "ay_train_pred = model.predict(aX_train)\n",
        "ay_test_pred = model.predict(aX_test)\n",
        "print(\"removing number of major vessels (0-3) colored by fluoroscopy: \",f1_score(ay_test,ay_test_pred))"
      ],
      "metadata": {
        "colab": {
          "base_uri": "https://localhost:8080/"
        },
        "id": "zIAH2q3R-uqu",
        "outputId": "8fecc026-989a-427c-c310-e22b45d4733a"
      },
      "execution_count": null,
      "outputs": [
        {
          "output_type": "stream",
          "name": "stdout",
          "text": [
            "removing number of major vessels (0-3) colored by fluoroscopy:  0.9377990430622011\n"
          ]
        }
      ]
    },
    {
      "cell_type": "markdown",
      "source": [
        "This is counterintuitive: They were ranked as the most important features"
      ],
      "metadata": {
        "id": "fhrT6bJBacGc"
      }
    },
    {
      "cell_type": "code",
      "source": [
        "#Of the other combinations I tried, I noted that:\n",
        "#best accuracy was 0.9560975609756097\n",
        "#using all features except slope\n",
        "#third best accuracy was 0.9423076923076923\n",
        "#using ['age', 'cp', 'trestbps', 'fbs', 'chol', 'restecg', 'thalach', 'oldpeak', 'ca', 'thal']\n",
        "#third best accuracy I tested was match was 0.9463414634146341\n",
        "#by ['age', 'sex', 'cp', 'exang', 'oldpeak', 'trestbps']"
      ],
      "metadata": {
        "id": "PXdrC0UlPVDv"
      },
      "execution_count": null,
      "outputs": []
    },
    {
      "cell_type": "code",
      "source": [
        "for m in heart_data.columns.drop('target'):\n",
        "  if m not in ['age', 'sex', 'cp', 'exang', 'oldpeak', 'trestbps']:\n",
        "    print(m)"
      ],
      "metadata": {
        "colab": {
          "base_uri": "https://localhost:8080/"
        },
        "id": "lgFzTdowQnK4",
        "outputId": "c6f33658-ce70-44ec-9415-438e9a028bde"
      },
      "execution_count": null,
      "outputs": [
        {
          "output_type": "stream",
          "name": "stdout",
          "text": [
            "chol\n",
            "fbs\n",
            "restecg\n",
            "thalach\n",
            "slope\n",
            "ca\n",
            "thal\n"
          ]
        }
      ]
    },
    {
      "cell_type": "code",
      "source": [
        "temp"
      ],
      "metadata": {
        "colab": {
          "base_uri": "https://localhost:8080/"
        },
        "id": "2XvpsX87NSte",
        "outputId": "fb9e911f-9e11-4286-b4fd-961d200155f2"
      },
      "execution_count": null,
      "outputs": [
        {
          "output_type": "execute_result",
          "data": {
            "text/plain": [
              "{\"['age', 'sex', 'cp', 'trestbps', 'chol', 'fbs', 'restecg', 'thalach', 'oldpeak', 'slope', 'ca', 'thal']\": 0.9423076923076923,\n",
              " \"['exang']\": 0.7723577235772359,\n",
              " \"['exang', 'cp']\": 0.7559808612440191,\n",
              " \"['exang', 'trestbps']\": 0.7792207792207791,\n",
              " \"['exang', 'trestbps', 'restecg']\": 0.8,\n",
              " \"['exang', 'trestbps', 'restecg', 'chol']\": 0.7368421052631577}"
            ]
          },
          "metadata": {},
          "execution_count": 82
        }
      ]
    },
    {
      "cell_type": "markdown",
      "source": [
        "I found that sex decreased the accuracy by a lot when testing 2-3 features with exercised induced angina\n",
        "\n",
        "> cholesterol being removed/added to the combination had a large effect (~7%) on the performance f1 score\n",
        "\n"
      ],
      "metadata": {
        "id": "TzjnixhiO_Yx"
      }
    },
    {
      "cell_type": "markdown",
      "source": [
        "##Testing a prediction"
      ],
      "metadata": {
        "id": "Ib--iiedVtPd"
      }
    },
    {
      "cell_type": "code",
      "source": [
        "single_test = heart_data.loc[0].tolist()[:-1]\n",
        "single_test"
      ],
      "metadata": {
        "colab": {
          "base_uri": "https://localhost:8080/"
        },
        "id": "_vPLsOm4yE2n",
        "outputId": "3911947a-e302-4ce0-a0b0-76da973e1740"
      },
      "execution_count": null,
      "outputs": [
        {
          "output_type": "execute_result",
          "data": {
            "text/plain": [
              "[52.0, 1.0, 0.0, 125.0, 212.0, 0.0, 1.0, 168.0, 0.0, 1.0, 2.0, 2.0, 3.0]"
            ]
          },
          "metadata": {},
          "execution_count": 164
        }
      ]
    },
    {
      "cell_type": "code",
      "source": [
        "et.predict(np.array([[52.0, 1.0, 0.0, 125.0, 212.0, 0.0, 1.0, 38.0, 0.0, 1.0, 2.0, 2.0, 3.0]])).tolist()[0]"
      ],
      "metadata": {
        "colab": {
          "base_uri": "https://localhost:8080/"
        },
        "id": "CWto7zynzjdX",
        "outputId": "7f31a158-73cd-4459-eb8f-fee342b78ddc"
      },
      "execution_count": null,
      "outputs": [
        {
          "output_type": "stream",
          "name": "stderr",
          "text": [
            "/usr/local/lib/python3.10/dist-packages/sklearn/base.py:439: UserWarning: X does not have valid feature names, but ExtraTreesClassifier was fitted with feature names\n",
            "  warnings.warn(\n"
          ]
        },
        {
          "output_type": "execute_result",
          "data": {
            "text/plain": [
              "0"
            ]
          },
          "metadata": {},
          "execution_count": 170
        }
      ]
    },
    {
      "cell_type": "code",
      "source": [
        "all"
      ],
      "metadata": {
        "colab": {
          "base_uri": "https://localhost:8080/"
        },
        "id": "M83Wwco6zU6p",
        "outputId": "1a679c03-2770-4eb2-e529-cae566f1e736"
      },
      "execution_count": null,
      "outputs": [
        {
          "output_type": "execute_result",
          "data": {
            "text/plain": [
              "Index(['age', 'sex', 'cp', 'trestbps', 'chol', 'fbs', 'restecg', 'thalach',\n",
              "       'exang', 'oldpeak', 'slope', 'ca', 'thal', 'target'],\n",
              "      dtype='object')"
            ]
          },
          "metadata": {},
          "execution_count": 139
        }
      ]
    },
    {
      "cell_type": "code",
      "source": [
        "heart_data.size"
      ],
      "metadata": {
        "colab": {
          "base_uri": "https://localhost:8080/"
        },
        "id": "7PWq5loyP0Fq",
        "outputId": "bdf7c7aa-8383-4a4e-baf0-b158c81ef778"
      },
      "execution_count": null,
      "outputs": [
        {
          "output_type": "execute_result",
          "data": {
            "text/plain": [
              "14350"
            ]
          },
          "metadata": {},
          "execution_count": 252
        }
      ]
    }
  ]
}