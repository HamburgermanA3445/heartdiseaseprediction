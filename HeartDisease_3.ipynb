{
  "nbformat": 4,
  "nbformat_minor": 0,
  "metadata": {
    "colab": {
      "provenance": [],
      "toc_visible": true,
      "authorship_tag": "ABX9TyMe+v7TrKwfS/vbv17NhRUj",
      "include_colab_link": true
    },
    "kernelspec": {
      "name": "python3",
      "display_name": "Python 3"
    },
    "language_info": {
      "name": "python"
    }
  },
  "cells": [
    {
      "cell_type": "markdown",
      "metadata": {
        "id": "view-in-github",
        "colab_type": "text"
      },
      "source": [
        "<a href=\"https://colab.research.google.com/github/HamburgermanA3445/heartdiseaseprediction/blob/main/HeartDisease_3.ipynb\" target=\"_parent\"><img src=\"https://colab.research.google.com/assets/colab-badge.svg\" alt=\"Open In Colab\"/></a>"
      ]
    },
    {
      "cell_type": "markdown",
      "source": [
        "Successful, obtained from Kaggle:\n",
        "\n",
        "https://www.kaggle.com/datasets/mexwell/heart-disease-dataset"
      ],
      "metadata": {
        "id": "FH-xF0-zDVar"
      }
    },
    {
      "cell_type": "code",
      "source": [
        "!unzip \"/content/mexwell (3).zip\""
      ],
      "metadata": {
        "colab": {
          "base_uri": "https://localhost:8080/"
        },
        "id": "S6V-lZy9Xaqt",
        "outputId": "2bf4aa84-da05-4dc2-dec8-6f89b6624c09"
      },
      "execution_count": null,
      "outputs": [
        {
          "output_type": "stream",
          "name": "stdout",
          "text": [
            "Archive:  /content/mexwell (3).zip\n",
            "  inflating: documentation.pdf       \n",
            "  inflating: heart_statlog_cleveland_hungary_final.csv  \n"
          ]
        }
      ]
    },
    {
      "cell_type": "code",
      "source": [
        "import pandas as pd"
      ],
      "metadata": {
        "id": "kOo-yJDnFrvo"
      },
      "execution_count": null,
      "outputs": []
    },
    {
      "cell_type": "code",
      "source": [
        "heart_data = pd.read_csv(\"/content/heart_statlog_cleveland_hungary_final.csv\")"
      ],
      "metadata": {
        "id": "HBfI_JItXdEM"
      },
      "execution_count": null,
      "outputs": []
    },
    {
      "cell_type": "code",
      "source": [
        "target = 'target'\n",
        "all_columns = heart_data.columns.drop(target)"
      ],
      "metadata": {
        "id": "WR5drfXaLgrI"
      },
      "execution_count": null,
      "outputs": []
    },
    {
      "cell_type": "code",
      "source": [
        "heart_data.columns"
      ],
      "metadata": {
        "colab": {
          "base_uri": "https://localhost:8080/"
        },
        "id": "-1mUGmY4XdIx",
        "outputId": "5ef3586a-39a8-433b-f811-a47a3de162bc"
      },
      "execution_count": null,
      "outputs": [
        {
          "output_type": "execute_result",
          "data": {
            "text/plain": [
              "Index(['age', 'sex', 'chest pain type', 'resting bp s', 'cholesterol',\n",
              "       'fasting blood sugar', 'resting ecg', 'max heart rate',\n",
              "       'exercise angina', 'oldpeak', 'ST slope', 'target'],\n",
              "      dtype='object')"
            ]
          },
          "metadata": {},
          "execution_count": 7
        }
      ]
    },
    {
      "cell_type": "code",
      "source": [
        "heart_data.head()"
      ],
      "metadata": {
        "id": "cnbXNe-AaUlU",
        "colab": {
          "base_uri": "https://localhost:8080/",
          "height": 241
        },
        "outputId": "624421bb-596b-496d-ffd0-0793dca29f93"
      },
      "execution_count": null,
      "outputs": [
        {
          "output_type": "execute_result",
          "data": {
            "text/plain": [
              "   age  sex  chest pain type  resting bp s  cholesterol  fasting blood sugar  \\\n",
              "0   40    1                2           140          289                    0   \n",
              "1   49    0                3           160          180                    0   \n",
              "2   37    1                2           130          283                    0   \n",
              "3   48    0                4           138          214                    0   \n",
              "4   54    1                3           150          195                    0   \n",
              "\n",
              "   resting ecg  max heart rate  exercise angina  oldpeak  ST slope  target  \n",
              "0            0             172                0      0.0         1       0  \n",
              "1            0             156                0      1.0         2       1  \n",
              "2            1              98                0      0.0         1       0  \n",
              "3            0             108                1      1.5         2       1  \n",
              "4            0             122                0      0.0         1       0  "
            ],
            "text/html": [
              "\n",
              "  <div id=\"df-5be4902a-733c-4935-90ab-705f68c893e4\" class=\"colab-df-container\">\n",
              "    <div>\n",
              "<style scoped>\n",
              "    .dataframe tbody tr th:only-of-type {\n",
              "        vertical-align: middle;\n",
              "    }\n",
              "\n",
              "    .dataframe tbody tr th {\n",
              "        vertical-align: top;\n",
              "    }\n",
              "\n",
              "    .dataframe thead th {\n",
              "        text-align: right;\n",
              "    }\n",
              "</style>\n",
              "<table border=\"1\" class=\"dataframe\">\n",
              "  <thead>\n",
              "    <tr style=\"text-align: right;\">\n",
              "      <th></th>\n",
              "      <th>age</th>\n",
              "      <th>sex</th>\n",
              "      <th>chest pain type</th>\n",
              "      <th>resting bp s</th>\n",
              "      <th>cholesterol</th>\n",
              "      <th>fasting blood sugar</th>\n",
              "      <th>resting ecg</th>\n",
              "      <th>max heart rate</th>\n",
              "      <th>exercise angina</th>\n",
              "      <th>oldpeak</th>\n",
              "      <th>ST slope</th>\n",
              "      <th>target</th>\n",
              "    </tr>\n",
              "  </thead>\n",
              "  <tbody>\n",
              "    <tr>\n",
              "      <th>0</th>\n",
              "      <td>40</td>\n",
              "      <td>1</td>\n",
              "      <td>2</td>\n",
              "      <td>140</td>\n",
              "      <td>289</td>\n",
              "      <td>0</td>\n",
              "      <td>0</td>\n",
              "      <td>172</td>\n",
              "      <td>0</td>\n",
              "      <td>0.0</td>\n",
              "      <td>1</td>\n",
              "      <td>0</td>\n",
              "    </tr>\n",
              "    <tr>\n",
              "      <th>1</th>\n",
              "      <td>49</td>\n",
              "      <td>0</td>\n",
              "      <td>3</td>\n",
              "      <td>160</td>\n",
              "      <td>180</td>\n",
              "      <td>0</td>\n",
              "      <td>0</td>\n",
              "      <td>156</td>\n",
              "      <td>0</td>\n",
              "      <td>1.0</td>\n",
              "      <td>2</td>\n",
              "      <td>1</td>\n",
              "    </tr>\n",
              "    <tr>\n",
              "      <th>2</th>\n",
              "      <td>37</td>\n",
              "      <td>1</td>\n",
              "      <td>2</td>\n",
              "      <td>130</td>\n",
              "      <td>283</td>\n",
              "      <td>0</td>\n",
              "      <td>1</td>\n",
              "      <td>98</td>\n",
              "      <td>0</td>\n",
              "      <td>0.0</td>\n",
              "      <td>1</td>\n",
              "      <td>0</td>\n",
              "    </tr>\n",
              "    <tr>\n",
              "      <th>3</th>\n",
              "      <td>48</td>\n",
              "      <td>0</td>\n",
              "      <td>4</td>\n",
              "      <td>138</td>\n",
              "      <td>214</td>\n",
              "      <td>0</td>\n",
              "      <td>0</td>\n",
              "      <td>108</td>\n",
              "      <td>1</td>\n",
              "      <td>1.5</td>\n",
              "      <td>2</td>\n",
              "      <td>1</td>\n",
              "    </tr>\n",
              "    <tr>\n",
              "      <th>4</th>\n",
              "      <td>54</td>\n",
              "      <td>1</td>\n",
              "      <td>3</td>\n",
              "      <td>150</td>\n",
              "      <td>195</td>\n",
              "      <td>0</td>\n",
              "      <td>0</td>\n",
              "      <td>122</td>\n",
              "      <td>0</td>\n",
              "      <td>0.0</td>\n",
              "      <td>1</td>\n",
              "      <td>0</td>\n",
              "    </tr>\n",
              "  </tbody>\n",
              "</table>\n",
              "</div>\n",
              "    <div class=\"colab-df-buttons\">\n",
              "\n",
              "  <div class=\"colab-df-container\">\n",
              "    <button class=\"colab-df-convert\" onclick=\"convertToInteractive('df-5be4902a-733c-4935-90ab-705f68c893e4')\"\n",
              "            title=\"Convert this dataframe to an interactive table.\"\n",
              "            style=\"display:none;\">\n",
              "\n",
              "  <svg xmlns=\"http://www.w3.org/2000/svg\" height=\"24px\" viewBox=\"0 -960 960 960\">\n",
              "    <path d=\"M120-120v-720h720v720H120Zm60-500h600v-160H180v160Zm220 220h160v-160H400v160Zm0 220h160v-160H400v160ZM180-400h160v-160H180v160Zm440 0h160v-160H620v160ZM180-180h160v-160H180v160Zm440 0h160v-160H620v160Z\"/>\n",
              "  </svg>\n",
              "    </button>\n",
              "\n",
              "  <style>\n",
              "    .colab-df-container {\n",
              "      display:flex;\n",
              "      gap: 12px;\n",
              "    }\n",
              "\n",
              "    .colab-df-convert {\n",
              "      background-color: #E8F0FE;\n",
              "      border: none;\n",
              "      border-radius: 50%;\n",
              "      cursor: pointer;\n",
              "      display: none;\n",
              "      fill: #1967D2;\n",
              "      height: 32px;\n",
              "      padding: 0 0 0 0;\n",
              "      width: 32px;\n",
              "    }\n",
              "\n",
              "    .colab-df-convert:hover {\n",
              "      background-color: #E2EBFA;\n",
              "      box-shadow: 0px 1px 2px rgba(60, 64, 67, 0.3), 0px 1px 3px 1px rgba(60, 64, 67, 0.15);\n",
              "      fill: #174EA6;\n",
              "    }\n",
              "\n",
              "    .colab-df-buttons div {\n",
              "      margin-bottom: 4px;\n",
              "    }\n",
              "\n",
              "    [theme=dark] .colab-df-convert {\n",
              "      background-color: #3B4455;\n",
              "      fill: #D2E3FC;\n",
              "    }\n",
              "\n",
              "    [theme=dark] .colab-df-convert:hover {\n",
              "      background-color: #434B5C;\n",
              "      box-shadow: 0px 1px 3px 1px rgba(0, 0, 0, 0.15);\n",
              "      filter: drop-shadow(0px 1px 2px rgba(0, 0, 0, 0.3));\n",
              "      fill: #FFFFFF;\n",
              "    }\n",
              "  </style>\n",
              "\n",
              "    <script>\n",
              "      const buttonEl =\n",
              "        document.querySelector('#df-5be4902a-733c-4935-90ab-705f68c893e4 button.colab-df-convert');\n",
              "      buttonEl.style.display =\n",
              "        google.colab.kernel.accessAllowed ? 'block' : 'none';\n",
              "\n",
              "      async function convertToInteractive(key) {\n",
              "        const element = document.querySelector('#df-5be4902a-733c-4935-90ab-705f68c893e4');\n",
              "        const dataTable =\n",
              "          await google.colab.kernel.invokeFunction('convertToInteractive',\n",
              "                                                    [key], {});\n",
              "        if (!dataTable) return;\n",
              "\n",
              "        const docLinkHtml = 'Like what you see? Visit the ' +\n",
              "          '<a target=\"_blank\" href=https://colab.research.google.com/notebooks/data_table.ipynb>data table notebook</a>'\n",
              "          + ' to learn more about interactive tables.';\n",
              "        element.innerHTML = '';\n",
              "        dataTable['output_type'] = 'display_data';\n",
              "        await google.colab.output.renderOutput(dataTable, element);\n",
              "        const docLink = document.createElement('div');\n",
              "        docLink.innerHTML = docLinkHtml;\n",
              "        element.appendChild(docLink);\n",
              "      }\n",
              "    </script>\n",
              "  </div>\n",
              "\n",
              "\n",
              "<div id=\"df-32919fcd-4a3e-44d1-8ba4-48ee7c0d309d\">\n",
              "  <button class=\"colab-df-quickchart\" onclick=\"quickchart('df-32919fcd-4a3e-44d1-8ba4-48ee7c0d309d')\"\n",
              "            title=\"Suggest charts\"\n",
              "            style=\"display:none;\">\n",
              "\n",
              "<svg xmlns=\"http://www.w3.org/2000/svg\" height=\"24px\"viewBox=\"0 0 24 24\"\n",
              "     width=\"24px\">\n",
              "    <g>\n",
              "        <path d=\"M19 3H5c-1.1 0-2 .9-2 2v14c0 1.1.9 2 2 2h14c1.1 0 2-.9 2-2V5c0-1.1-.9-2-2-2zM9 17H7v-7h2v7zm4 0h-2V7h2v10zm4 0h-2v-4h2v4z\"/>\n",
              "    </g>\n",
              "</svg>\n",
              "  </button>\n",
              "\n",
              "<style>\n",
              "  .colab-df-quickchart {\n",
              "      --bg-color: #E8F0FE;\n",
              "      --fill-color: #1967D2;\n",
              "      --hover-bg-color: #E2EBFA;\n",
              "      --hover-fill-color: #174EA6;\n",
              "      --disabled-fill-color: #AAA;\n",
              "      --disabled-bg-color: #DDD;\n",
              "  }\n",
              "\n",
              "  [theme=dark] .colab-df-quickchart {\n",
              "      --bg-color: #3B4455;\n",
              "      --fill-color: #D2E3FC;\n",
              "      --hover-bg-color: #434B5C;\n",
              "      --hover-fill-color: #FFFFFF;\n",
              "      --disabled-bg-color: #3B4455;\n",
              "      --disabled-fill-color: #666;\n",
              "  }\n",
              "\n",
              "  .colab-df-quickchart {\n",
              "    background-color: var(--bg-color);\n",
              "    border: none;\n",
              "    border-radius: 50%;\n",
              "    cursor: pointer;\n",
              "    display: none;\n",
              "    fill: var(--fill-color);\n",
              "    height: 32px;\n",
              "    padding: 0;\n",
              "    width: 32px;\n",
              "  }\n",
              "\n",
              "  .colab-df-quickchart:hover {\n",
              "    background-color: var(--hover-bg-color);\n",
              "    box-shadow: 0 1px 2px rgba(60, 64, 67, 0.3), 0 1px 3px 1px rgba(60, 64, 67, 0.15);\n",
              "    fill: var(--button-hover-fill-color);\n",
              "  }\n",
              "\n",
              "  .colab-df-quickchart-complete:disabled,\n",
              "  .colab-df-quickchart-complete:disabled:hover {\n",
              "    background-color: var(--disabled-bg-color);\n",
              "    fill: var(--disabled-fill-color);\n",
              "    box-shadow: none;\n",
              "  }\n",
              "\n",
              "  .colab-df-spinner {\n",
              "    border: 2px solid var(--fill-color);\n",
              "    border-color: transparent;\n",
              "    border-bottom-color: var(--fill-color);\n",
              "    animation:\n",
              "      spin 1s steps(1) infinite;\n",
              "  }\n",
              "\n",
              "  @keyframes spin {\n",
              "    0% {\n",
              "      border-color: transparent;\n",
              "      border-bottom-color: var(--fill-color);\n",
              "      border-left-color: var(--fill-color);\n",
              "    }\n",
              "    20% {\n",
              "      border-color: transparent;\n",
              "      border-left-color: var(--fill-color);\n",
              "      border-top-color: var(--fill-color);\n",
              "    }\n",
              "    30% {\n",
              "      border-color: transparent;\n",
              "      border-left-color: var(--fill-color);\n",
              "      border-top-color: var(--fill-color);\n",
              "      border-right-color: var(--fill-color);\n",
              "    }\n",
              "    40% {\n",
              "      border-color: transparent;\n",
              "      border-right-color: var(--fill-color);\n",
              "      border-top-color: var(--fill-color);\n",
              "    }\n",
              "    60% {\n",
              "      border-color: transparent;\n",
              "      border-right-color: var(--fill-color);\n",
              "    }\n",
              "    80% {\n",
              "      border-color: transparent;\n",
              "      border-right-color: var(--fill-color);\n",
              "      border-bottom-color: var(--fill-color);\n",
              "    }\n",
              "    90% {\n",
              "      border-color: transparent;\n",
              "      border-bottom-color: var(--fill-color);\n",
              "    }\n",
              "  }\n",
              "</style>\n",
              "\n",
              "  <script>\n",
              "    async function quickchart(key) {\n",
              "      const quickchartButtonEl =\n",
              "        document.querySelector('#' + key + ' button');\n",
              "      quickchartButtonEl.disabled = true;  // To prevent multiple clicks.\n",
              "      quickchartButtonEl.classList.add('colab-df-spinner');\n",
              "      try {\n",
              "        const charts = await google.colab.kernel.invokeFunction(\n",
              "            'suggestCharts', [key], {});\n",
              "      } catch (error) {\n",
              "        console.error('Error during call to suggestCharts:', error);\n",
              "      }\n",
              "      quickchartButtonEl.classList.remove('colab-df-spinner');\n",
              "      quickchartButtonEl.classList.add('colab-df-quickchart-complete');\n",
              "    }\n",
              "    (() => {\n",
              "      let quickchartButtonEl =\n",
              "        document.querySelector('#df-32919fcd-4a3e-44d1-8ba4-48ee7c0d309d button');\n",
              "      quickchartButtonEl.style.display =\n",
              "        google.colab.kernel.accessAllowed ? 'block' : 'none';\n",
              "    })();\n",
              "  </script>\n",
              "</div>\n",
              "\n",
              "    </div>\n",
              "  </div>\n"
            ],
            "application/vnd.google.colaboratory.intrinsic+json": {
              "type": "dataframe",
              "variable_name": "heart_data",
              "summary": "{\n  \"name\": \"heart_data\",\n  \"rows\": 1190,\n  \"fields\": [\n    {\n      \"column\": \"age\",\n      \"properties\": {\n        \"dtype\": \"number\",\n        \"std\": 9,\n        \"min\": 28,\n        \"max\": 77,\n        \"num_unique_values\": 50,\n        \"samples\": [\n          44,\n          68,\n          66\n        ],\n        \"semantic_type\": \"\",\n        \"description\": \"\"\n      }\n    },\n    {\n      \"column\": \"sex\",\n      \"properties\": {\n        \"dtype\": \"number\",\n        \"std\": 0,\n        \"min\": 0,\n        \"max\": 1,\n        \"num_unique_values\": 2,\n        \"samples\": [\n          0,\n          1\n        ],\n        \"semantic_type\": \"\",\n        \"description\": \"\"\n      }\n    },\n    {\n      \"column\": \"chest pain type\",\n      \"properties\": {\n        \"dtype\": \"number\",\n        \"std\": 0,\n        \"min\": 1,\n        \"max\": 4,\n        \"num_unique_values\": 4,\n        \"samples\": [\n          3,\n          1\n        ],\n        \"semantic_type\": \"\",\n        \"description\": \"\"\n      }\n    },\n    {\n      \"column\": \"resting bp s\",\n      \"properties\": {\n        \"dtype\": \"number\",\n        \"std\": 18,\n        \"min\": 0,\n        \"max\": 200,\n        \"num_unique_values\": 67,\n        \"samples\": [\n          165,\n          118\n        ],\n        \"semantic_type\": \"\",\n        \"description\": \"\"\n      }\n    },\n    {\n      \"column\": \"cholesterol\",\n      \"properties\": {\n        \"dtype\": \"number\",\n        \"std\": 101,\n        \"min\": 0,\n        \"max\": 603,\n        \"num_unique_values\": 222,\n        \"samples\": [\n          305,\n          321\n        ],\n        \"semantic_type\": \"\",\n        \"description\": \"\"\n      }\n    },\n    {\n      \"column\": \"fasting blood sugar\",\n      \"properties\": {\n        \"dtype\": \"number\",\n        \"std\": 0,\n        \"min\": 0,\n        \"max\": 1,\n        \"num_unique_values\": 2,\n        \"samples\": [\n          1,\n          0\n        ],\n        \"semantic_type\": \"\",\n        \"description\": \"\"\n      }\n    },\n    {\n      \"column\": \"resting ecg\",\n      \"properties\": {\n        \"dtype\": \"number\",\n        \"std\": 0,\n        \"min\": 0,\n        \"max\": 2,\n        \"num_unique_values\": 3,\n        \"samples\": [\n          0,\n          1\n        ],\n        \"semantic_type\": \"\",\n        \"description\": \"\"\n      }\n    },\n    {\n      \"column\": \"max heart rate\",\n      \"properties\": {\n        \"dtype\": \"number\",\n        \"std\": 25,\n        \"min\": 60,\n        \"max\": 202,\n        \"num_unique_values\": 119,\n        \"samples\": [\n          132,\n          157\n        ],\n        \"semantic_type\": \"\",\n        \"description\": \"\"\n      }\n    },\n    {\n      \"column\": \"exercise angina\",\n      \"properties\": {\n        \"dtype\": \"number\",\n        \"std\": 0,\n        \"min\": 0,\n        \"max\": 1,\n        \"num_unique_values\": 2,\n        \"samples\": [\n          1,\n          0\n        ],\n        \"semantic_type\": \"\",\n        \"description\": \"\"\n      }\n    },\n    {\n      \"column\": \"oldpeak\",\n      \"properties\": {\n        \"dtype\": \"number\",\n        \"std\": 1.0863372185219862,\n        \"min\": -2.6,\n        \"max\": 6.2,\n        \"num_unique_values\": 53,\n        \"samples\": [\n          1.3,\n          0.6\n        ],\n        \"semantic_type\": \"\",\n        \"description\": \"\"\n      }\n    },\n    {\n      \"column\": \"ST slope\",\n      \"properties\": {\n        \"dtype\": \"number\",\n        \"std\": 0,\n        \"min\": 0,\n        \"max\": 3,\n        \"num_unique_values\": 4,\n        \"samples\": [\n          2,\n          0\n        ],\n        \"semantic_type\": \"\",\n        \"description\": \"\"\n      }\n    },\n    {\n      \"column\": \"target\",\n      \"properties\": {\n        \"dtype\": \"number\",\n        \"std\": 0,\n        \"min\": 0,\n        \"max\": 1,\n        \"num_unique_values\": 2,\n        \"samples\": [\n          1,\n          0\n        ],\n        \"semantic_type\": \"\",\n        \"description\": \"\"\n      }\n    }\n  ]\n}"
            }
          },
          "metadata": {},
          "execution_count": 8
        }
      ]
    },
    {
      "cell_type": "markdown",
      "source": [
        "#Logistic Model"
      ],
      "metadata": {
        "id": "zJaxqrv-Ksue"
      }
    },
    {
      "cell_type": "code",
      "source": [
        "from sklearn.model_selection import train_test_split\n",
        "from sklearn.linear_model import LogisticRegression"
      ],
      "metadata": {
        "id": "oB2YmYuqXdB1"
      },
      "execution_count": null,
      "outputs": []
    },
    {
      "cell_type": "code",
      "source": [
        "#Use for filtering categorical data into numerical\n",
        "for l in all_columns:\n",
        "  all_x = []\n",
        "  for x in heart_data[l]:\n",
        "    if x not in all_x:\n",
        "      all_x.append(x)\n",
        "  print(f'{l}: {all_x}')"
      ],
      "metadata": {
        "colab": {
          "base_uri": "https://localhost:8080/"
        },
        "id": "vx0LU2paXdGa",
        "outputId": "230efabb-354b-47d2-abcc-2c2a38230aa2"
      },
      "execution_count": null,
      "outputs": [
        {
          "output_type": "stream",
          "name": "stdout",
          "text": [
            "age: [40, 49, 37, 48, 54, 39, 45, 58, 42, 38, 43, 60, 36, 44, 53, 52, 51, 56, 41, 32, 65, 35, 59, 50, 47, 31, 46, 57, 55, 63, 66, 34, 33, 61, 29, 62, 28, 30, 74, 68, 72, 64, 69, 67, 73, 70, 77, 75, 76, 71]\n",
            "sex: [1, 0]\n",
            "chest pain type: [2, 3, 4, 1]\n",
            "resting bp s: [140, 160, 130, 138, 150, 120, 110, 136, 115, 100, 124, 113, 125, 145, 112, 132, 118, 170, 142, 190, 135, 180, 108, 155, 128, 106, 92, 200, 122, 98, 105, 133, 95, 80, 137, 185, 165, 126, 152, 116, 0, 144, 154, 134, 104, 139, 131, 141, 178, 146, 158, 123, 102, 96, 143, 172, 156, 114, 127, 101, 174, 94, 148, 117, 192, 129, 164]\n",
            "cholesterol: [289, 180, 283, 214, 195, 339, 237, 208, 207, 284, 211, 164, 204, 234, 273, 196, 201, 248, 267, 223, 184, 288, 215, 209, 260, 468, 188, 518, 167, 224, 172, 186, 254, 306, 250, 177, 227, 230, 294, 264, 259, 175, 318, 216, 340, 233, 205, 245, 194, 270, 213, 365, 342, 253, 277, 202, 297, 225, 246, 412, 265, 182, 218, 268, 163, 529, 100, 206, 238, 139, 263, 291, 229, 307, 210, 329, 147, 85, 269, 275, 179, 392, 466, 129, 241, 255, 276, 282, 338, 160, 156, 272, 240, 393, 161, 228, 292, 388, 166, 247, 331, 341, 243, 279, 198, 249, 168, 603, 159, 190, 185, 290, 212, 231, 222, 235, 320, 187, 266, 287, 404, 312, 251, 328, 285, 280, 192, 193, 308, 219, 257, 132, 226, 217, 303, 298, 256, 117, 295, 173, 315, 281, 309, 200, 336, 355, 326, 171, 491, 271, 274, 394, 221, 126, 305, 220, 242, 347, 344, 358, 169, 181, 0, 236, 203, 153, 316, 311, 252, 458, 384, 258, 349, 142, 197, 113, 261, 310, 232, 110, 123, 170, 369, 152, 244, 165, 337, 300, 333, 385, 322, 564, 239, 293, 407, 149, 199, 417, 178, 319, 354, 330, 302, 313, 141, 327, 304, 286, 360, 262, 325, 299, 409, 174, 183, 321, 353, 335, 278, 157, 176, 131]\n",
            "fasting blood sugar: [0, 1]\n",
            "resting ecg: [0, 1, 2]\n",
            "max heart rate: [172, 156, 98, 108, 122, 170, 142, 130, 120, 99, 145, 140, 137, 150, 166, 165, 125, 160, 164, 138, 178, 112, 118, 127, 114, 154, 155, 87, 148, 100, 168, 184, 121, 153, 134, 96, 174, 175, 144, 82, 135, 115, 128, 116, 94, 110, 92, 180, 152, 124, 106, 185, 139, 190, 146, 158, 132, 176, 119, 188, 162, 105, 90, 136, 167, 129, 102, 143, 103, 91, 126, 93, 131, 149, 123, 182, 141, 77, 109, 133, 179, 113, 104, 95, 72, 97, 117, 86, 63, 157, 83, 60, 70, 163, 67, 78, 84, 111, 80, 107, 161, 69, 88, 73, 159, 151, 181, 186, 177, 173, 169, 171, 147, 71, 192, 195, 194, 187, 202]\n",
            "exercise angina: [0, 1]\n",
            "oldpeak: [0.0, 1.0, 1.5, 2.0, 3.0, 4.0, 0.5, 2.5, 5.0, 0.8, 0.7, 1.4, 2.1, 0.4, 0.2, 1.7, 2.2, 0.1, 1.6, 1.3, 0.3, 1.8, 2.6, -0.9, 2.8, -2.6, -1.5, -0.1, 0.9, 1.1, 2.4, -1.0, -1.1, -0.7, -0.8, 3.7, 1.2, -0.5, -2.0, 1.9, 3.5, 0.6, 3.1, 2.3, 3.4, 3.6, 4.2, 3.2, 5.6, 3.8, 2.9, 6.2, 4.4]\n",
            "ST slope: [1, 2, 3, 0]\n"
          ]
        }
      ]
    },
    {
      "cell_type": "code",
      "source": [
        "import numpy as np\n",
        "import seaborn as sns\n",
        "import matplotlib.pyplot as plt\n",
        "from sklearn.metrics import accuracy_score, f1_score"
      ],
      "metadata": {
        "id": "KWHOWu29XdK5"
      },
      "execution_count": null,
      "outputs": []
    },
    {
      "cell_type": "code",
      "source": [
        "X = heart_data[all_columns]\n",
        "y = heart_data[target]\n",
        "X_train, X_test, y_train, y_test = train_test_split(X, y, test_size=0.2, random_state=42)\n",
        "lg = LogisticRegression()\n",
        "lg.fit(X_train, y_train)\n",
        "y_pred = lg.predict(X_test)\n",
        "accuracy_score(y_test, y_pred)"
      ],
      "metadata": {
        "colab": {
          "base_uri": "https://localhost:8080/"
        },
        "id": "z_Sagf_hXdNQ",
        "outputId": "17fc2060-5326-4fb6-f0ab-f7ca960c9beb"
      },
      "execution_count": null,
      "outputs": [
        {
          "output_type": "stream",
          "name": "stderr",
          "text": [
            "/usr/local/lib/python3.10/dist-packages/sklearn/linear_model/_logistic.py:458: ConvergenceWarning: lbfgs failed to converge (status=1):\n",
            "STOP: TOTAL NO. of ITERATIONS REACHED LIMIT.\n",
            "\n",
            "Increase the number of iterations (max_iter) or scale the data as shown in:\n",
            "    https://scikit-learn.org/stable/modules/preprocessing.html\n",
            "Please also refer to the documentation for alternative solver options:\n",
            "    https://scikit-learn.org/stable/modules/linear_model.html#logistic-regression\n",
            "  n_iter_i = _check_optimize_result(\n"
          ]
        },
        {
          "output_type": "execute_result",
          "data": {
            "text/plain": [
              "0.8319327731092437"
            ]
          },
          "metadata": {},
          "execution_count": 40
        }
      ]
    },
    {
      "cell_type": "code",
      "source": [
        "from sklearn.metrics import classification_report\n",
        "\n",
        "print(classification_report(y_test, y_pred))"
      ],
      "metadata": {
        "colab": {
          "base_uri": "https://localhost:8080/"
        },
        "id": "3X-e3jLVbTf8",
        "outputId": "14c3561d-7cb7-4725-c6bc-3913eb4b4328"
      },
      "execution_count": null,
      "outputs": [
        {
          "output_type": "stream",
          "name": "stdout",
          "text": [
            "              precision    recall  f1-score   support\n",
            "\n",
            "           0       0.82      0.80      0.81       107\n",
            "           1       0.84      0.85      0.85       131\n",
            "\n",
            "    accuracy                           0.83       238\n",
            "   macro avg       0.83      0.83      0.83       238\n",
            "weighted avg       0.83      0.83      0.83       238\n",
            "\n"
          ]
        }
      ]
    },
    {
      "cell_type": "code",
      "source": [
        "coefficients = lg.coef_[0]\n",
        "feature_importance = np.abs(coefficients)\n",
        "\n",
        "importance = pd.DataFrame({\n",
        "    'Feature': X.columns,\n",
        "    'Coefficient': coefficients,\n",
        "    'Importance': feature_importance\n",
        "})\n",
        "\n",
        "importance = importance.sort_values(by='Importance', ascending=False)"
      ],
      "metadata": {
        "id": "5sdpRfUGzNoK"
      },
      "execution_count": null,
      "outputs": []
    },
    {
      "cell_type": "code",
      "source": [
        "importance"
      ],
      "metadata": {
        "colab": {
          "base_uri": "https://localhost:8080/",
          "height": 394
        },
        "id": "1ZYF2ZEHzyNQ",
        "outputId": "3804b50c-bc99-4257-d22e-7ca5285a6638"
      },
      "execution_count": null,
      "outputs": [
        {
          "output_type": "execute_result",
          "data": {
            "text/plain": [
              "                Feature  Coefficient  Importance\n",
              "8       exercise angina     1.060117    1.060117\n",
              "1                   sex     0.997454    0.997454\n",
              "10             ST slope     0.940531    0.940531\n",
              "5   fasting blood sugar     0.831924    0.831924\n",
              "2       chest pain type     0.594002    0.594002\n",
              "9               oldpeak     0.442632    0.442632\n",
              "6           resting ecg     0.077900    0.077900\n",
              "7        max heart rate    -0.023712    0.023712\n",
              "3          resting bp s    -0.006366    0.006366\n",
              "4           cholesterol    -0.002665    0.002665\n",
              "0                   age     0.000436    0.000436"
            ],
            "text/html": [
              "\n",
              "  <div id=\"df-c0105692-5a45-45fd-925a-408a5bfe08c1\" class=\"colab-df-container\">\n",
              "    <div>\n",
              "<style scoped>\n",
              "    .dataframe tbody tr th:only-of-type {\n",
              "        vertical-align: middle;\n",
              "    }\n",
              "\n",
              "    .dataframe tbody tr th {\n",
              "        vertical-align: top;\n",
              "    }\n",
              "\n",
              "    .dataframe thead th {\n",
              "        text-align: right;\n",
              "    }\n",
              "</style>\n",
              "<table border=\"1\" class=\"dataframe\">\n",
              "  <thead>\n",
              "    <tr style=\"text-align: right;\">\n",
              "      <th></th>\n",
              "      <th>Feature</th>\n",
              "      <th>Coefficient</th>\n",
              "      <th>Importance</th>\n",
              "    </tr>\n",
              "  </thead>\n",
              "  <tbody>\n",
              "    <tr>\n",
              "      <th>8</th>\n",
              "      <td>exercise angina</td>\n",
              "      <td>1.060117</td>\n",
              "      <td>1.060117</td>\n",
              "    </tr>\n",
              "    <tr>\n",
              "      <th>1</th>\n",
              "      <td>sex</td>\n",
              "      <td>0.997454</td>\n",
              "      <td>0.997454</td>\n",
              "    </tr>\n",
              "    <tr>\n",
              "      <th>10</th>\n",
              "      <td>ST slope</td>\n",
              "      <td>0.940531</td>\n",
              "      <td>0.940531</td>\n",
              "    </tr>\n",
              "    <tr>\n",
              "      <th>5</th>\n",
              "      <td>fasting blood sugar</td>\n",
              "      <td>0.831924</td>\n",
              "      <td>0.831924</td>\n",
              "    </tr>\n",
              "    <tr>\n",
              "      <th>2</th>\n",
              "      <td>chest pain type</td>\n",
              "      <td>0.594002</td>\n",
              "      <td>0.594002</td>\n",
              "    </tr>\n",
              "    <tr>\n",
              "      <th>9</th>\n",
              "      <td>oldpeak</td>\n",
              "      <td>0.442632</td>\n",
              "      <td>0.442632</td>\n",
              "    </tr>\n",
              "    <tr>\n",
              "      <th>6</th>\n",
              "      <td>resting ecg</td>\n",
              "      <td>0.077900</td>\n",
              "      <td>0.077900</td>\n",
              "    </tr>\n",
              "    <tr>\n",
              "      <th>7</th>\n",
              "      <td>max heart rate</td>\n",
              "      <td>-0.023712</td>\n",
              "      <td>0.023712</td>\n",
              "    </tr>\n",
              "    <tr>\n",
              "      <th>3</th>\n",
              "      <td>resting bp s</td>\n",
              "      <td>-0.006366</td>\n",
              "      <td>0.006366</td>\n",
              "    </tr>\n",
              "    <tr>\n",
              "      <th>4</th>\n",
              "      <td>cholesterol</td>\n",
              "      <td>-0.002665</td>\n",
              "      <td>0.002665</td>\n",
              "    </tr>\n",
              "    <tr>\n",
              "      <th>0</th>\n",
              "      <td>age</td>\n",
              "      <td>0.000436</td>\n",
              "      <td>0.000436</td>\n",
              "    </tr>\n",
              "  </tbody>\n",
              "</table>\n",
              "</div>\n",
              "    <div class=\"colab-df-buttons\">\n",
              "\n",
              "  <div class=\"colab-df-container\">\n",
              "    <button class=\"colab-df-convert\" onclick=\"convertToInteractive('df-c0105692-5a45-45fd-925a-408a5bfe08c1')\"\n",
              "            title=\"Convert this dataframe to an interactive table.\"\n",
              "            style=\"display:none;\">\n",
              "\n",
              "  <svg xmlns=\"http://www.w3.org/2000/svg\" height=\"24px\" viewBox=\"0 -960 960 960\">\n",
              "    <path d=\"M120-120v-720h720v720H120Zm60-500h600v-160H180v160Zm220 220h160v-160H400v160Zm0 220h160v-160H400v160ZM180-400h160v-160H180v160Zm440 0h160v-160H620v160ZM180-180h160v-160H180v160Zm440 0h160v-160H620v160Z\"/>\n",
              "  </svg>\n",
              "    </button>\n",
              "\n",
              "  <style>\n",
              "    .colab-df-container {\n",
              "      display:flex;\n",
              "      gap: 12px;\n",
              "    }\n",
              "\n",
              "    .colab-df-convert {\n",
              "      background-color: #E8F0FE;\n",
              "      border: none;\n",
              "      border-radius: 50%;\n",
              "      cursor: pointer;\n",
              "      display: none;\n",
              "      fill: #1967D2;\n",
              "      height: 32px;\n",
              "      padding: 0 0 0 0;\n",
              "      width: 32px;\n",
              "    }\n",
              "\n",
              "    .colab-df-convert:hover {\n",
              "      background-color: #E2EBFA;\n",
              "      box-shadow: 0px 1px 2px rgba(60, 64, 67, 0.3), 0px 1px 3px 1px rgba(60, 64, 67, 0.15);\n",
              "      fill: #174EA6;\n",
              "    }\n",
              "\n",
              "    .colab-df-buttons div {\n",
              "      margin-bottom: 4px;\n",
              "    }\n",
              "\n",
              "    [theme=dark] .colab-df-convert {\n",
              "      background-color: #3B4455;\n",
              "      fill: #D2E3FC;\n",
              "    }\n",
              "\n",
              "    [theme=dark] .colab-df-convert:hover {\n",
              "      background-color: #434B5C;\n",
              "      box-shadow: 0px 1px 3px 1px rgba(0, 0, 0, 0.15);\n",
              "      filter: drop-shadow(0px 1px 2px rgba(0, 0, 0, 0.3));\n",
              "      fill: #FFFFFF;\n",
              "    }\n",
              "  </style>\n",
              "\n",
              "    <script>\n",
              "      const buttonEl =\n",
              "        document.querySelector('#df-c0105692-5a45-45fd-925a-408a5bfe08c1 button.colab-df-convert');\n",
              "      buttonEl.style.display =\n",
              "        google.colab.kernel.accessAllowed ? 'block' : 'none';\n",
              "\n",
              "      async function convertToInteractive(key) {\n",
              "        const element = document.querySelector('#df-c0105692-5a45-45fd-925a-408a5bfe08c1');\n",
              "        const dataTable =\n",
              "          await google.colab.kernel.invokeFunction('convertToInteractive',\n",
              "                                                    [key], {});\n",
              "        if (!dataTable) return;\n",
              "\n",
              "        const docLinkHtml = 'Like what you see? Visit the ' +\n",
              "          '<a target=\"_blank\" href=https://colab.research.google.com/notebooks/data_table.ipynb>data table notebook</a>'\n",
              "          + ' to learn more about interactive tables.';\n",
              "        element.innerHTML = '';\n",
              "        dataTable['output_type'] = 'display_data';\n",
              "        await google.colab.output.renderOutput(dataTable, element);\n",
              "        const docLink = document.createElement('div');\n",
              "        docLink.innerHTML = docLinkHtml;\n",
              "        element.appendChild(docLink);\n",
              "      }\n",
              "    </script>\n",
              "  </div>\n",
              "\n",
              "\n",
              "<div id=\"df-af4cc0d4-2a1b-4588-bf25-4d6871e9b609\">\n",
              "  <button class=\"colab-df-quickchart\" onclick=\"quickchart('df-af4cc0d4-2a1b-4588-bf25-4d6871e9b609')\"\n",
              "            title=\"Suggest charts\"\n",
              "            style=\"display:none;\">\n",
              "\n",
              "<svg xmlns=\"http://www.w3.org/2000/svg\" height=\"24px\"viewBox=\"0 0 24 24\"\n",
              "     width=\"24px\">\n",
              "    <g>\n",
              "        <path d=\"M19 3H5c-1.1 0-2 .9-2 2v14c0 1.1.9 2 2 2h14c1.1 0 2-.9 2-2V5c0-1.1-.9-2-2-2zM9 17H7v-7h2v7zm4 0h-2V7h2v10zm4 0h-2v-4h2v4z\"/>\n",
              "    </g>\n",
              "</svg>\n",
              "  </button>\n",
              "\n",
              "<style>\n",
              "  .colab-df-quickchart {\n",
              "      --bg-color: #E8F0FE;\n",
              "      --fill-color: #1967D2;\n",
              "      --hover-bg-color: #E2EBFA;\n",
              "      --hover-fill-color: #174EA6;\n",
              "      --disabled-fill-color: #AAA;\n",
              "      --disabled-bg-color: #DDD;\n",
              "  }\n",
              "\n",
              "  [theme=dark] .colab-df-quickchart {\n",
              "      --bg-color: #3B4455;\n",
              "      --fill-color: #D2E3FC;\n",
              "      --hover-bg-color: #434B5C;\n",
              "      --hover-fill-color: #FFFFFF;\n",
              "      --disabled-bg-color: #3B4455;\n",
              "      --disabled-fill-color: #666;\n",
              "  }\n",
              "\n",
              "  .colab-df-quickchart {\n",
              "    background-color: var(--bg-color);\n",
              "    border: none;\n",
              "    border-radius: 50%;\n",
              "    cursor: pointer;\n",
              "    display: none;\n",
              "    fill: var(--fill-color);\n",
              "    height: 32px;\n",
              "    padding: 0;\n",
              "    width: 32px;\n",
              "  }\n",
              "\n",
              "  .colab-df-quickchart:hover {\n",
              "    background-color: var(--hover-bg-color);\n",
              "    box-shadow: 0 1px 2px rgba(60, 64, 67, 0.3), 0 1px 3px 1px rgba(60, 64, 67, 0.15);\n",
              "    fill: var(--button-hover-fill-color);\n",
              "  }\n",
              "\n",
              "  .colab-df-quickchart-complete:disabled,\n",
              "  .colab-df-quickchart-complete:disabled:hover {\n",
              "    background-color: var(--disabled-bg-color);\n",
              "    fill: var(--disabled-fill-color);\n",
              "    box-shadow: none;\n",
              "  }\n",
              "\n",
              "  .colab-df-spinner {\n",
              "    border: 2px solid var(--fill-color);\n",
              "    border-color: transparent;\n",
              "    border-bottom-color: var(--fill-color);\n",
              "    animation:\n",
              "      spin 1s steps(1) infinite;\n",
              "  }\n",
              "\n",
              "  @keyframes spin {\n",
              "    0% {\n",
              "      border-color: transparent;\n",
              "      border-bottom-color: var(--fill-color);\n",
              "      border-left-color: var(--fill-color);\n",
              "    }\n",
              "    20% {\n",
              "      border-color: transparent;\n",
              "      border-left-color: var(--fill-color);\n",
              "      border-top-color: var(--fill-color);\n",
              "    }\n",
              "    30% {\n",
              "      border-color: transparent;\n",
              "      border-left-color: var(--fill-color);\n",
              "      border-top-color: var(--fill-color);\n",
              "      border-right-color: var(--fill-color);\n",
              "    }\n",
              "    40% {\n",
              "      border-color: transparent;\n",
              "      border-right-color: var(--fill-color);\n",
              "      border-top-color: var(--fill-color);\n",
              "    }\n",
              "    60% {\n",
              "      border-color: transparent;\n",
              "      border-right-color: var(--fill-color);\n",
              "    }\n",
              "    80% {\n",
              "      border-color: transparent;\n",
              "      border-right-color: var(--fill-color);\n",
              "      border-bottom-color: var(--fill-color);\n",
              "    }\n",
              "    90% {\n",
              "      border-color: transparent;\n",
              "      border-bottom-color: var(--fill-color);\n",
              "    }\n",
              "  }\n",
              "</style>\n",
              "\n",
              "  <script>\n",
              "    async function quickchart(key) {\n",
              "      const quickchartButtonEl =\n",
              "        document.querySelector('#' + key + ' button');\n",
              "      quickchartButtonEl.disabled = true;  // To prevent multiple clicks.\n",
              "      quickchartButtonEl.classList.add('colab-df-spinner');\n",
              "      try {\n",
              "        const charts = await google.colab.kernel.invokeFunction(\n",
              "            'suggestCharts', [key], {});\n",
              "      } catch (error) {\n",
              "        console.error('Error during call to suggestCharts:', error);\n",
              "      }\n",
              "      quickchartButtonEl.classList.remove('colab-df-spinner');\n",
              "      quickchartButtonEl.classList.add('colab-df-quickchart-complete');\n",
              "    }\n",
              "    (() => {\n",
              "      let quickchartButtonEl =\n",
              "        document.querySelector('#df-af4cc0d4-2a1b-4588-bf25-4d6871e9b609 button');\n",
              "      quickchartButtonEl.style.display =\n",
              "        google.colab.kernel.accessAllowed ? 'block' : 'none';\n",
              "    })();\n",
              "  </script>\n",
              "</div>\n",
              "\n",
              "  <div id=\"id_5ddd055d-20a2-414b-ab77-b86c5f5b9f54\">\n",
              "    <style>\n",
              "      .colab-df-generate {\n",
              "        background-color: #E8F0FE;\n",
              "        border: none;\n",
              "        border-radius: 50%;\n",
              "        cursor: pointer;\n",
              "        display: none;\n",
              "        fill: #1967D2;\n",
              "        height: 32px;\n",
              "        padding: 0 0 0 0;\n",
              "        width: 32px;\n",
              "      }\n",
              "\n",
              "      .colab-df-generate:hover {\n",
              "        background-color: #E2EBFA;\n",
              "        box-shadow: 0px 1px 2px rgba(60, 64, 67, 0.3), 0px 1px 3px 1px rgba(60, 64, 67, 0.15);\n",
              "        fill: #174EA6;\n",
              "      }\n",
              "\n",
              "      [theme=dark] .colab-df-generate {\n",
              "        background-color: #3B4455;\n",
              "        fill: #D2E3FC;\n",
              "      }\n",
              "\n",
              "      [theme=dark] .colab-df-generate:hover {\n",
              "        background-color: #434B5C;\n",
              "        box-shadow: 0px 1px 3px 1px rgba(0, 0, 0, 0.15);\n",
              "        filter: drop-shadow(0px 1px 2px rgba(0, 0, 0, 0.3));\n",
              "        fill: #FFFFFF;\n",
              "      }\n",
              "    </style>\n",
              "    <button class=\"colab-df-generate\" onclick=\"generateWithVariable('importance')\"\n",
              "            title=\"Generate code using this dataframe.\"\n",
              "            style=\"display:none;\">\n",
              "\n",
              "  <svg xmlns=\"http://www.w3.org/2000/svg\" height=\"24px\"viewBox=\"0 0 24 24\"\n",
              "       width=\"24px\">\n",
              "    <path d=\"M7,19H8.4L18.45,9,17,7.55,7,17.6ZM5,21V16.75L18.45,3.32a2,2,0,0,1,2.83,0l1.4,1.43a1.91,1.91,0,0,1,.58,1.4,1.91,1.91,0,0,1-.58,1.4L9.25,21ZM18.45,9,17,7.55Zm-12,3A5.31,5.31,0,0,0,4.9,8.1,5.31,5.31,0,0,0,1,6.5,5.31,5.31,0,0,0,4.9,4.9,5.31,5.31,0,0,0,6.5,1,5.31,5.31,0,0,0,8.1,4.9,5.31,5.31,0,0,0,12,6.5,5.46,5.46,0,0,0,6.5,12Z\"/>\n",
              "  </svg>\n",
              "    </button>\n",
              "    <script>\n",
              "      (() => {\n",
              "      const buttonEl =\n",
              "        document.querySelector('#id_5ddd055d-20a2-414b-ab77-b86c5f5b9f54 button.colab-df-generate');\n",
              "      buttonEl.style.display =\n",
              "        google.colab.kernel.accessAllowed ? 'block' : 'none';\n",
              "\n",
              "      buttonEl.onclick = () => {\n",
              "        google.colab.notebook.generateWithVariable('importance');\n",
              "      }\n",
              "      })();\n",
              "    </script>\n",
              "  </div>\n",
              "\n",
              "    </div>\n",
              "  </div>\n"
            ],
            "application/vnd.google.colaboratory.intrinsic+json": {
              "type": "dataframe",
              "variable_name": "importance",
              "summary": "{\n  \"name\": \"importance\",\n  \"rows\": 11,\n  \"fields\": [\n    {\n      \"column\": \"Feature\",\n      \"properties\": {\n        \"dtype\": \"string\",\n        \"num_unique_values\": 11,\n        \"samples\": [\n          \"oldpeak\",\n          \"exercise angina\",\n          \"cholesterol\"\n        ],\n        \"semantic_type\": \"\",\n        \"description\": \"\"\n      }\n    },\n    {\n      \"column\": \"Coefficient\",\n      \"properties\": {\n        \"dtype\": \"number\",\n        \"std\": 0.4535681894318899,\n        \"min\": -0.023711706299758904,\n        \"max\": 1.06011692830211,\n        \"num_unique_values\": 11,\n        \"samples\": [\n          0.4426315763631654,\n          1.06011692830211,\n          -0.0026649577188873476\n        ],\n        \"semantic_type\": \"\",\n        \"description\": \"\"\n      }\n    },\n    {\n      \"column\": \"Importance\",\n      \"properties\": {\n        \"dtype\": \"number\",\n        \"std\": 0.4470305517782526,\n        \"min\": 0.00043617387235930587,\n        \"max\": 1.06011692830211,\n        \"num_unique_values\": 11,\n        \"samples\": [\n          0.4426315763631654,\n          1.06011692830211,\n          0.0026649577188873476\n        ],\n        \"semantic_type\": \"\",\n        \"description\": \"\"\n      }\n    }\n  ]\n}"
            }
          },
          "metadata": {},
          "execution_count": 43
        }
      ]
    },
    {
      "cell_type": "code",
      "source": [
        "a_dict = {}\n",
        "for p in all_columns:\n",
        "  X = heart_data[[p]]\n",
        "  y = heart_data[target]\n",
        "  X_train, X_test, y_train, y_test = train_test_split(X, y, test_size=0.2, random_state=42)\n",
        "  lg = LogisticRegression()\n",
        "  lg.fit(X_train, y_train)\n",
        "  y_pred = lg.predict(X_test)\n",
        "  accuracy = accuracy_score(y_test, y_pred)\n",
        "  f1 = f1_score(y_test, y_pred)\n",
        "  a_dict[p] = accuracy\n",
        "\n",
        "a_dict = sorted(a_dict.items(), key= lambda x: x[1])\n",
        "print(f'{a_dict[-1][0]} had the highest score of {a_dict[-1][1]}')"
      ],
      "metadata": {
        "id": "reLHRBG7jkpy",
        "colab": {
          "base_uri": "https://localhost:8080/"
        },
        "outputId": "6ae6dea7-bef3-4ac7-fb42-728835615a7d"
      },
      "execution_count": null,
      "outputs": [
        {
          "output_type": "stream",
          "name": "stdout",
          "text": [
            "ST slope had the highest score of 0.7815126050420168\n"
          ]
        }
      ]
    },
    {
      "cell_type": "code",
      "source": [
        "sorted(a_dict, key=lambda x: x[1], reverse=True)"
      ],
      "metadata": {
        "colab": {
          "base_uri": "https://localhost:8080/"
        },
        "id": "q6LQMleHamx9",
        "outputId": "a5973e7b-cf45-4853-8169-493bfe377aee"
      },
      "execution_count": null,
      "outputs": [
        {
          "output_type": "execute_result",
          "data": {
            "text/plain": [
              "[('ST slope', 0.7815126050420168),\n",
              " ('chest pain type', 0.7647058823529411),\n",
              " ('exercise angina', 0.7436974789915967),\n",
              " ('oldpeak', 0.6932773109243697),\n",
              " ('sex', 0.6722689075630253),\n",
              " ('max heart rate', 0.6722689075630253),\n",
              " ('age', 0.6092436974789915),\n",
              " ('fasting blood sugar', 0.5630252100840336),\n",
              " ('resting ecg', 0.5504201680672269),\n",
              " ('resting bp s', 0.5378151260504201),\n",
              " ('cholesterol', 0.4957983193277311)]"
            ]
          },
          "metadata": {},
          "execution_count": 28
        }
      ]
    },
    {
      "cell_type": "code",
      "source": [
        "#Testing a combination of the most important features ranked by the coefficients\n",
        "X = heart_data[['exercise angina', 'sex', 'ST slope', 'fasting blood sugar', 'chest pain type', 'oldpeak']]\n",
        "y = heart_data[target]\n",
        "\n",
        "X_train, X_test, y_train, y_test = train_test_split(X, y, test_size=0.2, random_state=42)\n",
        "\n",
        "lg = LogisticRegression()\n",
        "lg.fit(X_train, y_train)\n",
        "y_pred = lg.predict(X_test)"
      ],
      "metadata": {
        "id": "Cxf0sTqvye_c"
      },
      "execution_count": null,
      "outputs": []
    },
    {
      "cell_type": "code",
      "source": [
        "print(classification_report(y_test, y_pred))"
      ],
      "metadata": {
        "colab": {
          "base_uri": "https://localhost:8080/"
        },
        "id": "xyKFoV1oy5W8",
        "outputId": "9f442686-60e8-414b-b7df-8bf770694bc6"
      },
      "execution_count": null,
      "outputs": [
        {
          "output_type": "stream",
          "name": "stdout",
          "text": [
            "              precision    recall  f1-score   support\n",
            "\n",
            "           0       0.83      0.84      0.84       107\n",
            "           1       0.87      0.86      0.87       131\n",
            "\n",
            "    accuracy                           0.85       238\n",
            "   macro avg       0.85      0.85      0.85       238\n",
            "weighted avg       0.85      0.85      0.85       238\n",
            "\n"
          ]
        }
      ]
    },
    {
      "cell_type": "code",
      "source": [
        "print(heart_data[target].value_counts())"
      ],
      "metadata": {
        "colab": {
          "base_uri": "https://localhost:8080/"
        },
        "id": "dALo8VjzbOPA",
        "outputId": "dd8b2332-7613-4801-c9d2-d3bd9a4daff7"
      },
      "execution_count": null,
      "outputs": [
        {
          "output_type": "stream",
          "name": "stdout",
          "text": [
            "target\n",
            "1    629\n",
            "0    561\n",
            "Name: count, dtype: int64\n"
          ]
        }
      ]
    },
    {
      "cell_type": "markdown",
      "source": [
        "#Neural Network"
      ],
      "metadata": {
        "id": "PliVvQr3KnuT"
      }
    },
    {
      "cell_type": "code",
      "source": [
        "import numpy as np\n",
        "import pandas as pd\n",
        "from sklearn.model_selection import train_test_split\n",
        "from sklearn.metrics import accuracy_score, confusion_matrix, f1_score\n",
        "from sklearn.preprocessing import StandardScaler"
      ],
      "metadata": {
        "id": "djOtspAQjkz0"
      },
      "execution_count": null,
      "outputs": []
    },
    {
      "cell_type": "code",
      "source": [
        "all_columns = heart_data.columns.drop(target)"
      ],
      "metadata": {
        "id": "ML68ZM_E2FSe"
      },
      "execution_count": null,
      "outputs": []
    },
    {
      "cell_type": "code",
      "source": [
        "X = heart_data[all_columns].values\n",
        "y = heart_data[target].values"
      ],
      "metadata": {
        "id": "F2ui91a9XdY6"
      },
      "execution_count": null,
      "outputs": []
    },
    {
      "cell_type": "code",
      "execution_count": null,
      "metadata": {
        "id": "sQXdds3hFhlU"
      },
      "outputs": [],
      "source": [
        "X_train, X_test, y_train, y_test = train_test_split(X, y, test_size=0.2, random_state=42)"
      ]
    },
    {
      "cell_type": "code",
      "source": [
        "scaler = StandardScaler()\n",
        "X_train = scaler.fit_transform(X_train)\n",
        "X_test = scaler.transform(X_test)"
      ],
      "metadata": {
        "id": "ImOPk_IVh4ly"
      },
      "execution_count": null,
      "outputs": []
    },
    {
      "cell_type": "code",
      "source": [
        "class NeuralNetwork:\n",
        "    def __init__(self, num_feats):\n",
        "        np.random.seed(1)\n",
        "        self.synaptic_weights = 2 * np.random.random((num_feats, 1)) - 1\n",
        "\n",
        "    def sigmoid(self, x):\n",
        "        return 1 / (1 + np.exp(-x))\n",
        "\n",
        "    def sigmoid_derivative(self, x):\n",
        "        return x * (1 - x)\n",
        "\n",
        "    def train(self, training_inputs, training_outputs, training_iterations):\n",
        "        for iteration in range(training_iterations):\n",
        "            output = self.think(training_inputs)\n",
        "            error = training_outputs - output\n",
        "            adjustments = np.dot(training_inputs.T, error * self.sigmoid_derivative(output))\n",
        "            self.synaptic_weights += adjustments\n",
        "\n",
        "    def think(self, inputs):\n",
        "        inputs = inputs.astype(float)\n",
        "        output = self.sigmoid(np.dot(inputs, self.synaptic_weights))\n",
        "        return output"
      ],
      "metadata": {
        "id": "u4tcQm9yv1kX"
      },
      "execution_count": null,
      "outputs": []
    },
    {
      "cell_type": "code",
      "source": [
        "neural_network = NeuralNetwork(num_feats=len(all_columns))\n",
        "\n",
        "print(f\"Random starting synaptic weights: \\n{neural_network.synaptic_weights}\")\n",
        "\n",
        "training_inputs = X_train\n",
        "training_outputs = y_train.reshape(-1, 1)\n",
        "\n",
        "neural_network.train(training_inputs, training_outputs, 1000)\n",
        "\n",
        "print(\"Synaptic weights after training: \")\n",
        "print(neural_network.synaptic_weights)"
      ],
      "metadata": {
        "colab": {
          "base_uri": "https://localhost:8080/"
        },
        "id": "DuevIXSiGYgs",
        "outputId": "12845610-1059-41b8-936b-ea293e0fb8d4"
      },
      "execution_count": null,
      "outputs": [
        {
          "output_type": "stream",
          "name": "stdout",
          "text": [
            "Random starting synaptic weights: \n",
            "[[-0.16595599]\n",
            " [ 0.44064899]\n",
            " [-0.99977125]\n",
            " [-0.39533485]\n",
            " [-0.70648822]\n",
            " [-0.81532281]\n",
            " [-0.62747958]\n",
            " [-0.30887855]\n",
            " [-0.20646505]\n",
            " [ 0.07763347]\n",
            " [-0.16161097]]\n",
            "Synaptic weights after training: \n",
            "[[ 24.846768  ]\n",
            " [ 31.74681265]\n",
            " [ 42.58894145]\n",
            " [  7.06035297]\n",
            " [-17.84505095]\n",
            " [ 15.92746448]\n",
            " [  6.41169229]\n",
            " [-36.45599246]\n",
            " [ 42.53868126]\n",
            " [ 43.75605679]\n",
            " [ 47.40503255]]\n"
          ]
        }
      ]
    },
    {
      "cell_type": "code",
      "source": [
        "test_inputs = X_test\n",
        "test_outputs = y_test.reshape(-1, 1)\n",
        "\n",
        "raw_test_pred = neural_network.think(test_inputs)\n",
        "test_pred = np.round(raw_test_pred).astype(int)\n",
        "accuracy = accuracy_score(test_outputs, test_pred)\n",
        "\n",
        "print(f'Accuracy: {accuracy_score(test_outputs, test_pred)}')\n",
        "print(classification_report(y_test, test_pred))"
      ],
      "metadata": {
        "colab": {
          "base_uri": "https://localhost:8080/"
        },
        "id": "696D3Z-cGZLd",
        "outputId": "717e8a1c-0b46-43da-c4fa-2c25e2c6f4a6"
      },
      "execution_count": null,
      "outputs": [
        {
          "output_type": "stream",
          "name": "stdout",
          "text": [
            "Accuracy: 0.8445378151260504\n",
            "              precision    recall  f1-score   support\n",
            "\n",
            "           0       0.83      0.82      0.83       107\n",
            "           1       0.86      0.86      0.86       131\n",
            "\n",
            "    accuracy                           0.84       238\n",
            "   macro avg       0.84      0.84      0.84       238\n",
            "weighted avg       0.84      0.84      0.84       238\n",
            "\n"
          ]
        }
      ]
    },
    {
      "cell_type": "markdown",
      "source": [
        "#Tensorflow"
      ],
      "metadata": {
        "id": "feZUpwdPKBf-"
      }
    },
    {
      "cell_type": "code",
      "source": [
        "import tensorflow as tf\n",
        "from tensorflow.keras.models import Sequential\n",
        "from tensorflow.keras.layers import Dense"
      ],
      "metadata": {
        "id": "wGf8I9-VKD8t"
      },
      "execution_count": null,
      "outputs": []
    },
    {
      "cell_type": "code",
      "source": [
        "heart_data.columns"
      ],
      "metadata": {
        "colab": {
          "base_uri": "https://localhost:8080/"
        },
        "id": "QH-RJdLTDQrM",
        "outputId": "2ebd5545-031e-4730-f316-6e869d8b6dd3"
      },
      "execution_count": null,
      "outputs": [
        {
          "output_type": "execute_result",
          "data": {
            "text/plain": [
              "Index(['age', 'sex', 'chest pain type', 'resting bp s', 'cholesterol',\n",
              "       'fasting blood sugar', 'resting ecg', 'max heart rate',\n",
              "       'exercise angina', 'oldpeak', 'ST slope', 'target'],\n",
              "      dtype='object')"
            ]
          },
          "metadata": {},
          "execution_count": 184
        }
      ]
    },
    {
      "cell_type": "code",
      "source": [
        "tf.random.set_seed(42)"
      ],
      "metadata": {
        "id": "xOQlna4BF7th"
      },
      "execution_count": null,
      "outputs": []
    },
    {
      "cell_type": "code",
      "source": [
        "def remov(*items):\n",
        "    return [item for item in list(heart_data.columns.drop(target)) if item not in items]"
      ],
      "metadata": {
        "id": "z_5S1_Y_4fp6"
      },
      "execution_count": null,
      "outputs": []
    },
    {
      "cell_type": "code",
      "source": [
        "all_columns = remov()"
      ],
      "metadata": {
        "id": "m1mNgb8P2TBX"
      },
      "execution_count": null,
      "outputs": []
    },
    {
      "cell_type": "code",
      "source": [
        "X = heart_data[all_columns]\n",
        "y = heart_data[target]"
      ],
      "metadata": {
        "id": "Su1RK8F3KHcV"
      },
      "execution_count": null,
      "outputs": []
    },
    {
      "cell_type": "code",
      "source": [
        "X_train, X_test, y_train, y_test = train_test_split(X, y, test_size=0.2, random_state=42)"
      ],
      "metadata": {
        "id": "GvCNlF3IJXRJ"
      },
      "execution_count": null,
      "outputs": []
    },
    {
      "cell_type": "code",
      "source": [
        "ts = tf.keras.Sequential([\n",
        "    tf.keras.layers.Dense(64, activation='relu', input_shape=(len(all_columns),)),\n",
        "    tf.keras.layers.Dense(32, activation='relu'),\n",
        "    tf.keras.layers.Dense(1, activation='sigmoid')\n",
        "])\n",
        "\n",
        "ts.compile(optimizer=tf.keras.optimizers.Adam(learning_rate=0.001), loss='binary_crossentropy', metrics=['accuracy'])\n",
        "ts.fit(X_train, y_train, epochs=100, batch_size=10)"
      ],
      "metadata": {
        "colab": {
          "base_uri": "https://localhost:8080/"
        },
        "id": "tg58EGe7KMug",
        "outputId": "38c7173e-e0fc-47e7-ac5f-59148a966a97"
      },
      "execution_count": null,
      "outputs": [
        {
          "output_type": "stream",
          "name": "stdout",
          "text": [
            "Epoch 1/100\n",
            "96/96 [==============================] - 1s 2ms/step - loss: 0.9693 - accuracy: 0.6439\n",
            "Epoch 2/100\n",
            "96/96 [==============================] - 0s 2ms/step - loss: 0.6179 - accuracy: 0.7048\n",
            "Epoch 3/100\n",
            "96/96 [==============================] - 0s 2ms/step - loss: 0.5691 - accuracy: 0.7080\n",
            "Epoch 4/100\n",
            "96/96 [==============================] - 0s 2ms/step - loss: 0.6885 - accuracy: 0.6828\n",
            "Epoch 5/100\n",
            "96/96 [==============================] - 0s 2ms/step - loss: 0.5501 - accuracy: 0.7500\n",
            "Epoch 6/100\n",
            "96/96 [==============================] - 0s 2ms/step - loss: 0.5391 - accuracy: 0.7626\n",
            "Epoch 7/100\n",
            "96/96 [==============================] - 0s 3ms/step - loss: 0.5831 - accuracy: 0.7416\n",
            "Epoch 8/100\n",
            "96/96 [==============================] - 0s 4ms/step - loss: 0.5447 - accuracy: 0.7721\n",
            "Epoch 9/100\n",
            "96/96 [==============================] - 0s 4ms/step - loss: 0.6686 - accuracy: 0.7416\n",
            "Epoch 10/100\n",
            "96/96 [==============================] - 0s 4ms/step - loss: 0.5336 - accuracy: 0.7689\n",
            "Epoch 11/100\n",
            "96/96 [==============================] - 0s 3ms/step - loss: 0.7102 - accuracy: 0.7363\n",
            "Epoch 12/100\n",
            "96/96 [==============================] - 0s 4ms/step - loss: 0.5554 - accuracy: 0.7637\n",
            "Epoch 13/100\n",
            "96/96 [==============================] - 0s 4ms/step - loss: 0.5210 - accuracy: 0.7679\n",
            "Epoch 14/100\n",
            "96/96 [==============================] - 0s 3ms/step - loss: 0.4525 - accuracy: 0.8004\n",
            "Epoch 15/100\n",
            "96/96 [==============================] - 0s 3ms/step - loss: 0.4975 - accuracy: 0.7763\n",
            "Epoch 16/100\n",
            "96/96 [==============================] - 0s 3ms/step - loss: 0.4646 - accuracy: 0.7773\n",
            "Epoch 17/100\n",
            "96/96 [==============================] - 0s 4ms/step - loss: 0.5073 - accuracy: 0.7847\n",
            "Epoch 18/100\n",
            "96/96 [==============================] - 0s 3ms/step - loss: 0.4966 - accuracy: 0.7920\n",
            "Epoch 19/100\n",
            "96/96 [==============================] - 0s 2ms/step - loss: 0.4741 - accuracy: 0.7899\n",
            "Epoch 20/100\n",
            "96/96 [==============================] - 0s 2ms/step - loss: 0.4923 - accuracy: 0.7910\n",
            "Epoch 21/100\n",
            "96/96 [==============================] - 0s 2ms/step - loss: 0.5442 - accuracy: 0.7584\n",
            "Epoch 22/100\n",
            "96/96 [==============================] - 0s 2ms/step - loss: 0.5509 - accuracy: 0.7553\n",
            "Epoch 23/100\n",
            "96/96 [==============================] - 0s 2ms/step - loss: 0.4775 - accuracy: 0.7878\n",
            "Epoch 24/100\n",
            "96/96 [==============================] - 0s 2ms/step - loss: 0.4533 - accuracy: 0.7962\n",
            "Epoch 25/100\n",
            "96/96 [==============================] - 0s 3ms/step - loss: 0.5119 - accuracy: 0.7889\n",
            "Epoch 26/100\n",
            "96/96 [==============================] - 0s 2ms/step - loss: 0.4389 - accuracy: 0.8057\n",
            "Epoch 27/100\n",
            "96/96 [==============================] - 0s 2ms/step - loss: 0.4320 - accuracy: 0.8277\n",
            "Epoch 28/100\n",
            "96/96 [==============================] - 0s 2ms/step - loss: 0.4596 - accuracy: 0.7973\n",
            "Epoch 29/100\n",
            "96/96 [==============================] - 0s 2ms/step - loss: 0.4217 - accuracy: 0.8277\n",
            "Epoch 30/100\n",
            "96/96 [==============================] - 0s 2ms/step - loss: 0.4417 - accuracy: 0.8088\n",
            "Epoch 31/100\n",
            "96/96 [==============================] - 0s 2ms/step - loss: 0.3944 - accuracy: 0.8319\n",
            "Epoch 32/100\n",
            "96/96 [==============================] - 0s 2ms/step - loss: 0.4490 - accuracy: 0.8046\n",
            "Epoch 33/100\n",
            "96/96 [==============================] - 0s 2ms/step - loss: 0.4559 - accuracy: 0.8057\n",
            "Epoch 34/100\n",
            "96/96 [==============================] - 0s 2ms/step - loss: 0.4849 - accuracy: 0.7878\n",
            "Epoch 35/100\n",
            "96/96 [==============================] - 0s 2ms/step - loss: 0.4320 - accuracy: 0.8109\n",
            "Epoch 36/100\n",
            "96/96 [==============================] - 0s 2ms/step - loss: 0.4246 - accuracy: 0.8130\n",
            "Epoch 37/100\n",
            "96/96 [==============================] - 0s 2ms/step - loss: 0.4540 - accuracy: 0.8036\n",
            "Epoch 38/100\n",
            "96/96 [==============================] - 0s 2ms/step - loss: 0.5298 - accuracy: 0.7878\n",
            "Epoch 39/100\n",
            "96/96 [==============================] - 0s 3ms/step - loss: 0.4269 - accuracy: 0.8214\n",
            "Epoch 40/100\n",
            "96/96 [==============================] - 0s 2ms/step - loss: 0.4446 - accuracy: 0.7983\n",
            "Epoch 41/100\n",
            "96/96 [==============================] - 0s 2ms/step - loss: 0.4206 - accuracy: 0.8288\n",
            "Epoch 42/100\n",
            "96/96 [==============================] - 0s 2ms/step - loss: 0.4415 - accuracy: 0.8151\n",
            "Epoch 43/100\n",
            "96/96 [==============================] - 0s 2ms/step - loss: 0.4392 - accuracy: 0.8078\n",
            "Epoch 44/100\n",
            "96/96 [==============================] - 0s 2ms/step - loss: 0.4433 - accuracy: 0.8025\n",
            "Epoch 45/100\n",
            "96/96 [==============================] - 0s 2ms/step - loss: 0.4414 - accuracy: 0.8109\n",
            "Epoch 46/100\n",
            "96/96 [==============================] - 0s 2ms/step - loss: 0.4002 - accuracy: 0.8309\n",
            "Epoch 47/100\n",
            "96/96 [==============================] - 0s 2ms/step - loss: 0.4138 - accuracy: 0.8288\n",
            "Epoch 48/100\n",
            "96/96 [==============================] - 0s 2ms/step - loss: 0.4222 - accuracy: 0.8109\n",
            "Epoch 49/100\n",
            "96/96 [==============================] - 0s 2ms/step - loss: 0.4591 - accuracy: 0.8036\n",
            "Epoch 50/100\n",
            "96/96 [==============================] - 0s 2ms/step - loss: 0.4151 - accuracy: 0.8183\n",
            "Epoch 51/100\n",
            "96/96 [==============================] - 0s 2ms/step - loss: 0.4243 - accuracy: 0.8225\n",
            "Epoch 52/100\n",
            "96/96 [==============================] - 0s 2ms/step - loss: 0.4443 - accuracy: 0.8109\n",
            "Epoch 53/100\n",
            "96/96 [==============================] - 0s 2ms/step - loss: 0.4451 - accuracy: 0.8067\n",
            "Epoch 54/100\n",
            "96/96 [==============================] - 0s 2ms/step - loss: 0.4094 - accuracy: 0.8225\n",
            "Epoch 55/100\n",
            "96/96 [==============================] - 0s 2ms/step - loss: 0.4533 - accuracy: 0.8015\n",
            "Epoch 56/100\n",
            "96/96 [==============================] - 0s 2ms/step - loss: 0.4937 - accuracy: 0.7889\n",
            "Epoch 57/100\n",
            "96/96 [==============================] - 0s 2ms/step - loss: 0.4240 - accuracy: 0.8214\n",
            "Epoch 58/100\n",
            "96/96 [==============================] - 0s 2ms/step - loss: 0.4292 - accuracy: 0.8382\n",
            "Epoch 59/100\n",
            "96/96 [==============================] - 0s 2ms/step - loss: 0.4342 - accuracy: 0.8151\n",
            "Epoch 60/100\n",
            "96/96 [==============================] - 0s 2ms/step - loss: 0.4122 - accuracy: 0.8141\n",
            "Epoch 61/100\n",
            "96/96 [==============================] - 0s 2ms/step - loss: 0.4053 - accuracy: 0.8141\n",
            "Epoch 62/100\n",
            "96/96 [==============================] - 0s 2ms/step - loss: 0.4283 - accuracy: 0.8099\n",
            "Epoch 63/100\n",
            "96/96 [==============================] - 0s 2ms/step - loss: 0.4148 - accuracy: 0.8120\n",
            "Epoch 64/100\n",
            "96/96 [==============================] - 0s 2ms/step - loss: 0.4234 - accuracy: 0.8067\n",
            "Epoch 65/100\n",
            "96/96 [==============================] - 0s 2ms/step - loss: 0.4575 - accuracy: 0.8109\n",
            "Epoch 66/100\n",
            "96/96 [==============================] - 0s 2ms/step - loss: 0.4196 - accuracy: 0.8172\n",
            "Epoch 67/100\n",
            "96/96 [==============================] - 0s 4ms/step - loss: 0.4069 - accuracy: 0.8225\n",
            "Epoch 68/100\n",
            "96/96 [==============================] - 0s 3ms/step - loss: 0.3959 - accuracy: 0.8130\n",
            "Epoch 69/100\n",
            "96/96 [==============================] - 0s 3ms/step - loss: 0.3974 - accuracy: 0.8172\n",
            "Epoch 70/100\n",
            "96/96 [==============================] - 0s 3ms/step - loss: 0.4111 - accuracy: 0.8214\n",
            "Epoch 71/100\n",
            "96/96 [==============================] - 0s 3ms/step - loss: 0.4142 - accuracy: 0.8225\n",
            "Epoch 72/100\n",
            "96/96 [==============================] - 0s 3ms/step - loss: 0.4085 - accuracy: 0.8214\n",
            "Epoch 73/100\n",
            "96/96 [==============================] - 0s 4ms/step - loss: 0.4302 - accuracy: 0.8151\n",
            "Epoch 74/100\n",
            "96/96 [==============================] - 0s 3ms/step - loss: 0.4442 - accuracy: 0.8015\n",
            "Epoch 75/100\n",
            "96/96 [==============================] - 0s 3ms/step - loss: 0.4135 - accuracy: 0.8193\n",
            "Epoch 76/100\n",
            "96/96 [==============================] - 0s 4ms/step - loss: 0.4155 - accuracy: 0.8151\n",
            "Epoch 77/100\n",
            "96/96 [==============================] - 0s 3ms/step - loss: 0.4099 - accuracy: 0.8099\n",
            "Epoch 78/100\n",
            "96/96 [==============================] - 0s 3ms/step - loss: 0.4026 - accuracy: 0.8204\n",
            "Epoch 79/100\n",
            "96/96 [==============================] - 0s 2ms/step - loss: 0.3921 - accuracy: 0.8256\n",
            "Epoch 80/100\n",
            "96/96 [==============================] - 0s 2ms/step - loss: 0.4087 - accuracy: 0.8235\n",
            "Epoch 81/100\n",
            "96/96 [==============================] - 0s 2ms/step - loss: 0.3785 - accuracy: 0.8351\n",
            "Epoch 82/100\n",
            "96/96 [==============================] - 0s 2ms/step - loss: 0.4004 - accuracy: 0.8277\n",
            "Epoch 83/100\n",
            "96/96 [==============================] - 0s 2ms/step - loss: 0.3824 - accuracy: 0.8309\n",
            "Epoch 84/100\n",
            "96/96 [==============================] - 0s 2ms/step - loss: 0.3946 - accuracy: 0.8340\n",
            "Epoch 85/100\n",
            "96/96 [==============================] - 0s 2ms/step - loss: 0.4385 - accuracy: 0.8078\n",
            "Epoch 86/100\n",
            "96/96 [==============================] - 0s 2ms/step - loss: 0.4273 - accuracy: 0.8193\n",
            "Epoch 87/100\n",
            "96/96 [==============================] - 0s 2ms/step - loss: 0.3909 - accuracy: 0.8288\n",
            "Epoch 88/100\n",
            "96/96 [==============================] - 0s 2ms/step - loss: 0.4178 - accuracy: 0.8099\n",
            "Epoch 89/100\n",
            "96/96 [==============================] - 0s 2ms/step - loss: 0.3946 - accuracy: 0.8298\n",
            "Epoch 90/100\n",
            "96/96 [==============================] - 0s 2ms/step - loss: 0.4056 - accuracy: 0.8288\n",
            "Epoch 91/100\n",
            "96/96 [==============================] - 0s 2ms/step - loss: 0.4240 - accuracy: 0.8151\n",
            "Epoch 92/100\n",
            "96/96 [==============================] - 0s 2ms/step - loss: 0.3871 - accuracy: 0.8330\n",
            "Epoch 93/100\n",
            "96/96 [==============================] - 0s 2ms/step - loss: 0.4073 - accuracy: 0.8267\n",
            "Epoch 94/100\n",
            "96/96 [==============================] - 0s 2ms/step - loss: 0.3769 - accuracy: 0.8424\n",
            "Epoch 95/100\n",
            "96/96 [==============================] - 0s 2ms/step - loss: 0.4073 - accuracy: 0.8141\n",
            "Epoch 96/100\n",
            "96/96 [==============================] - 0s 2ms/step - loss: 0.3797 - accuracy: 0.8393\n",
            "Epoch 97/100\n",
            "96/96 [==============================] - 0s 2ms/step - loss: 0.3859 - accuracy: 0.8340\n",
            "Epoch 98/100\n",
            "96/96 [==============================] - 0s 2ms/step - loss: 0.3885 - accuracy: 0.8309\n",
            "Epoch 99/100\n",
            "96/96 [==============================] - 0s 2ms/step - loss: 0.3883 - accuracy: 0.8298\n",
            "Epoch 100/100\n",
            "96/96 [==============================] - 0s 2ms/step - loss: 0.4088 - accuracy: 0.8340\n"
          ]
        },
        {
          "output_type": "execute_result",
          "data": {
            "text/plain": [
              "<keras.src.callbacks.History at 0x7fcc62b46e00>"
            ]
          },
          "metadata": {},
          "execution_count": 190
        }
      ]
    },
    {
      "cell_type": "code",
      "source": [
        "loss, accuracy = ts.evaluate(X_test, y_test)\n",
        "print(f\"Accuracy: {accuracy*100:.2f}%\")"
      ],
      "metadata": {
        "colab": {
          "base_uri": "https://localhost:8080/"
        },
        "id": "w_gOAhC9J1vj",
        "outputId": "3dc247d8-35f7-499b-98f7-fc7b8ffb06d7"
      },
      "execution_count": null,
      "outputs": [
        {
          "output_type": "stream",
          "name": "stdout",
          "text": [
            "8/8 [==============================] - 0s 4ms/step - loss: 0.4375 - accuracy: 0.8151\n",
            "Accuracy: 81.51%\n"
          ]
        }
      ]
    },
    {
      "cell_type": "code",
      "source": [
        "from sklearn.metrics import classification_report\n",
        "\n",
        "y_pred = (ts.predict(X_test) > 0.5).astype(int)\n",
        "print(classification_report(y_test, y_pred))"
      ],
      "metadata": {
        "colab": {
          "base_uri": "https://localhost:8080/"
        },
        "id": "riciH3AXOurp",
        "outputId": "61dd9c70-adee-4528-e57d-30f5962908a8"
      },
      "execution_count": null,
      "outputs": [
        {
          "output_type": "stream",
          "name": "stderr",
          "text": [
            "Exception ignored in: <function _xla_gc_callback at 0x7fcc89f28790>\n",
            "Traceback (most recent call last):\n",
            "  File \"/usr/local/lib/python3.10/dist-packages/jax/_src/lib/__init__.py\", line 98, in _xla_gc_callback\n",
            "    def _xla_gc_callback(*args):\n",
            "KeyboardInterrupt: \n"
          ]
        },
        {
          "output_type": "stream",
          "name": "stdout",
          "text": [
            "8/8 [==============================] - 0s 2ms/step\n",
            "              precision    recall  f1-score   support\n",
            "\n",
            "           0       0.81      0.78      0.79       107\n",
            "           1       0.82      0.85      0.83       131\n",
            "\n",
            "    accuracy                           0.82       238\n",
            "   macro avg       0.81      0.81      0.81       238\n",
            "weighted avg       0.81      0.82      0.81       238\n",
            "\n"
          ]
        }
      ]
    },
    {
      "cell_type": "markdown",
      "source": [
        "With all features: 82%\n",
        "\n",
        "Without the few least important features evaluated from logistic model: 83%"
      ],
      "metadata": {
        "id": "X-S_qzR55QVP"
      }
    },
    {
      "cell_type": "markdown",
      "source": [
        "#Other Models"
      ],
      "metadata": {
        "id": "dxt8gQX2p5Hs"
      }
    },
    {
      "cell_type": "code",
      "source": [
        "import pandas as pd\n",
        "import numpy as np\n",
        "import seaborn as sns\n",
        "import matplotlib.pyplot as plt\n",
        "from sklearn.model_selection import train_test_split\n",
        "from sklearn.metrics import classification_report, confusion_matrix, f1_score, accuracy_score, mean_squared_error, r2_score, recall_score, precision_score\n",
        "from sklearn.linear_model import LogisticRegression\n",
        "from sklearn.ensemble import RandomForestClassifier\n",
        "from sklearn.ensemble import ExtraTreesClassifier\n",
        "from sklearn.tree import DecisionTreeClassifier\n",
        "from sklearn.neighbors import KNeighborsClassifier\n",
        "from sklearn.svm import SVC\n",
        "from sklearn.ensemble import GradientBoostingClassifier\n",
        "from sklearn.model_selection import GridSearchCV"
      ],
      "metadata": {
        "id": "sOOOFkVlqNB5"
      },
      "execution_count": null,
      "outputs": []
    },
    {
      "cell_type": "code",
      "source": [
        "heart_data.columns.drop(target)"
      ],
      "metadata": {
        "colab": {
          "base_uri": "https://localhost:8080/"
        },
        "id": "k0V4dTPK9NsE",
        "outputId": "8dac01b3-9c92-4931-877a-5a6cb98f8a46"
      },
      "execution_count": null,
      "outputs": [
        {
          "output_type": "execute_result",
          "data": {
            "text/plain": [
              "Index(['age', 'sex', 'chest pain type', 'resting bp s', 'cholesterol',\n",
              "       'fasting blood sugar', 'resting ecg', 'max heart rate',\n",
              "       'exercise angina', 'oldpeak', 'ST slope'],\n",
              "      dtype='object')"
            ]
          },
          "metadata": {},
          "execution_count": 194
        }
      ]
    },
    {
      "cell_type": "code",
      "source": [
        "all_columns = list(heart_data.columns.drop(target))\n",
        "X = heart_data[all_columns]\n",
        "y = heart_data[target]"
      ],
      "metadata": {
        "id": "ql088IqqqdIe"
      },
      "execution_count": null,
      "outputs": []
    },
    {
      "cell_type": "code",
      "source": [
        "#initializing 5 models\n",
        "rf = RandomForestClassifier(max_depth=4,random_state=42, class_weight='balanced')\n",
        "et = ExtraTreesClassifier(n_estimators=100, random_state=42, class_weight='balanced')\n",
        "dt = DecisionTreeClassifier(max_depth=5, random_state=42, class_weight='balanced')\n",
        "knn = KNeighborsClassifier(n_neighbors=5)\n",
        "svm = SVC(kernel='linear', C=1, random_state=42)\n",
        "gbm = GradientBoostingClassifier(n_estimators=100, learning_rate=0.1, random_state=42)"
      ],
      "metadata": {
        "id": "FvZac-ZBp6--"
      },
      "execution_count": null,
      "outputs": []
    },
    {
      "cell_type": "code",
      "source": [
        "#training and testing results lists to store in\n",
        "accuracy = []\n",
        "f1 = []\n",
        "precision = []\n",
        "recall = []\n",
        "#splitting data\n",
        "aX_train, aX_test, ay_train, ay_test = train_test_split(X, y, test_size=0.2, random_state=42)"
      ],
      "metadata": {
        "id": "xQRMQJlvqGEJ"
      },
      "execution_count": null,
      "outputs": []
    },
    {
      "cell_type": "code",
      "source": [
        "#function for training and testing\n",
        "def training(model, aX_train, aX_test, ay_train, ay_test):\n",
        "    model.fit(aX_train, ay_train)\n",
        "    ay_train_pred = model.predict(aX_train)\n",
        "    ay_test_pred = model.predict(aX_test)\n",
        "    accuracy.append(accuracy_score(ay_test, ay_test_pred))\n",
        "    f1.append(f1_score(ay_test, ay_test_pred))\n",
        "    precision.append(precision_score(ay_test, ay_test_pred))\n",
        "    recall.append(recall_score(ay_test, ay_test_pred))\n",
        "    print(classification_report(ay_test, ay_test_pred))"
      ],
      "metadata": {
        "id": "s5sOs27fqHUX"
      },
      "execution_count": null,
      "outputs": []
    },
    {
      "cell_type": "code",
      "source": [
        "#calling training function for each model\n",
        "training(rf, aX_train, aX_test, ay_train, ay_test)"
      ],
      "metadata": {
        "id": "25S2RLnxqIjo",
        "colab": {
          "base_uri": "https://localhost:8080/"
        },
        "outputId": "3ebcccf1-7b7a-4ad4-ed77-b76cc34a507e"
      },
      "execution_count": null,
      "outputs": [
        {
          "output_type": "stream",
          "name": "stdout",
          "text": [
            "              precision    recall  f1-score   support\n",
            "\n",
            "           0       0.87      0.87      0.87       107\n",
            "           1       0.89      0.89      0.89       131\n",
            "\n",
            "    accuracy                           0.88       238\n",
            "   macro avg       0.88      0.88      0.88       238\n",
            "weighted avg       0.88      0.88      0.88       238\n",
            "\n"
          ]
        }
      ]
    },
    {
      "cell_type": "code",
      "source": [
        "training(dt, aX_train, aX_test, ay_train, ay_test)"
      ],
      "metadata": {
        "id": "vg51r2D7rig-",
        "colab": {
          "base_uri": "https://localhost:8080/"
        },
        "outputId": "7c7ba918-52ce-4128-c033-28cf932f36e4"
      },
      "execution_count": null,
      "outputs": [
        {
          "output_type": "stream",
          "name": "stdout",
          "text": [
            "              precision    recall  f1-score   support\n",
            "\n",
            "           0       0.90      0.75      0.82       107\n",
            "           1       0.82      0.93      0.87       131\n",
            "\n",
            "    accuracy                           0.85       238\n",
            "   macro avg       0.86      0.84      0.84       238\n",
            "weighted avg       0.85      0.85      0.85       238\n",
            "\n"
          ]
        }
      ]
    },
    {
      "cell_type": "code",
      "source": [
        "training(knn, aX_train, aX_test, ay_train, ay_test)"
      ],
      "metadata": {
        "id": "AvP79T69rfFi",
        "colab": {
          "base_uri": "https://localhost:8080/"
        },
        "outputId": "bf52abf9-9cf1-4fea-e1d9-a943c1cd1c40"
      },
      "execution_count": null,
      "outputs": [
        {
          "output_type": "stream",
          "name": "stdout",
          "text": [
            "              precision    recall  f1-score   support\n",
            "\n",
            "           0       0.68      0.71      0.69       107\n",
            "           1       0.75      0.73      0.74       131\n",
            "\n",
            "    accuracy                           0.72       238\n",
            "   macro avg       0.72      0.72      0.72       238\n",
            "weighted avg       0.72      0.72      0.72       238\n",
            "\n"
          ]
        }
      ]
    },
    {
      "cell_type": "code",
      "source": [
        "training(gbm, aX_train, aX_test, ay_train, ay_test)"
      ],
      "metadata": {
        "id": "gWckWFdECl9E",
        "colab": {
          "base_uri": "https://localhost:8080/"
        },
        "outputId": "94850e79-d65e-49da-b3cb-097aa7ce6762"
      },
      "execution_count": null,
      "outputs": [
        {
          "output_type": "stream",
          "name": "stdout",
          "text": [
            "              precision    recall  f1-score   support\n",
            "\n",
            "           0       0.91      0.90      0.91       107\n",
            "           1       0.92      0.93      0.92       131\n",
            "\n",
            "    accuracy                           0.92       238\n",
            "   macro avg       0.92      0.91      0.91       238\n",
            "weighted avg       0.92      0.92      0.92       238\n",
            "\n"
          ]
        }
      ]
    },
    {
      "cell_type": "code",
      "source": [
        "training(svm, aX_train, aX_test, ay_train, ay_test)"
      ],
      "metadata": {
        "colab": {
          "base_uri": "https://localhost:8080/"
        },
        "id": "3tEIrToG9Z6o",
        "outputId": "6adb3cfc-3e22-4806-d914-1bfa96de4f78"
      },
      "execution_count": null,
      "outputs": [
        {
          "output_type": "stream",
          "name": "stdout",
          "text": [
            "              precision    recall  f1-score   support\n",
            "\n",
            "           0       0.84      0.82      0.83       107\n",
            "           1       0.86      0.87      0.86       131\n",
            "\n",
            "    accuracy                           0.85       238\n",
            "   macro avg       0.85      0.85      0.85       238\n",
            "weighted avg       0.85      0.85      0.85       238\n",
            "\n"
          ]
        }
      ]
    },
    {
      "cell_type": "code",
      "source": [
        "training(et, aX_train, aX_test, ay_train, ay_test)"
      ],
      "metadata": {
        "id": "8c-Bo0DTrkEj",
        "colab": {
          "base_uri": "https://localhost:8080/"
        },
        "outputId": "9befcfe2-8cad-46b2-dfd7-29a3d32cce67"
      },
      "execution_count": null,
      "outputs": [
        {
          "output_type": "stream",
          "name": "stdout",
          "text": [
            "              precision    recall  f1-score   support\n",
            "\n",
            "           0       0.92      0.94      0.93       107\n",
            "           1       0.95      0.93      0.94       131\n",
            "\n",
            "    accuracy                           0.94       238\n",
            "   macro avg       0.94      0.94      0.94       238\n",
            "weighted avg       0.94      0.94      0.94       238\n",
            "\n"
          ]
        }
      ]
    },
    {
      "cell_type": "code",
      "source": [
        "#all results\n",
        "models = [\"Random Forest\", \"Decision Tree\", \"k-Nearest Neighbors\", \"Gradient Boosting Machine\", \"Support Vector Machine\", \"Extra Trees\"]\n",
        "results = pd.DataFrame({\n",
        "    \"Model\": models,\n",
        "    \"Accuracy\": accuracy,\n",
        "    \"Precision\": precision,\n",
        "    \"Recall\": recall,\n",
        "    \"F1\": f1\n",
        "})\n",
        "print(results)"
      ],
      "metadata": {
        "colab": {
          "base_uri": "https://localhost:8080/"
        },
        "id": "HPkFQdiAqJlW",
        "outputId": "4e6b85f0-a9c8-491d-8519-ae405f843a02"
      },
      "execution_count": null,
      "outputs": [
        {
          "output_type": "stream",
          "name": "stdout",
          "text": [
            "                       Model  Accuracy  Precision    Recall        F1\n",
            "0              Random Forest  0.882353   0.893130  0.893130  0.893130\n",
            "1              Decision Tree  0.848739   0.818792  0.931298  0.871429\n",
            "2        k-Nearest Neighbors  0.718487   0.753968  0.725191  0.739300\n",
            "3  Gradient Boosting Machine  0.915966   0.917293  0.931298  0.924242\n",
            "4     Support Vector Machine  0.848739   0.857143  0.870229  0.863636\n",
            "5                Extra Trees  0.936975   0.953125  0.931298  0.942085\n"
          ]
        }
      ]
    },
    {
      "cell_type": "code",
      "source": [
        "heart_data.columns"
      ],
      "metadata": {
        "colab": {
          "base_uri": "https://localhost:8080/"
        },
        "id": "UrvUBeqKJbPG",
        "outputId": "9600d50e-6358-4913-901d-ef5a06bf4cad"
      },
      "execution_count": null,
      "outputs": [
        {
          "output_type": "execute_result",
          "data": {
            "text/plain": [
              "Index(['age', 'sex', 'chest pain type', 'resting bp s', 'cholesterol',\n",
              "       'fasting blood sugar', 'resting ecg', 'max heart rate',\n",
              "       'exercise angina', 'oldpeak', 'ST slope', 'target'],\n",
              "      dtype='object')"
            ]
          },
          "metadata": {},
          "execution_count": 206
        }
      ]
    },
    {
      "cell_type": "markdown",
      "source": [
        "##Feature Importance Ranking"
      ],
      "metadata": {
        "id": "gEdpgWNOcv-N"
      }
    },
    {
      "cell_type": "code",
      "source": [
        "def rank(the_model):\n",
        "  feature_importances = the_model.feature_importances_\n",
        "  ranking = pd.DataFrame({\n",
        "      'Feature': X.columns,\n",
        "      'Importance': feature_importances\n",
        "  }).sort_values(by='Importance', ascending=False)\n",
        "\n",
        "  print(ranking)"
      ],
      "metadata": {
        "id": "dRd9xWXdbtwU"
      },
      "execution_count": null,
      "outputs": []
    },
    {
      "cell_type": "code",
      "source": [
        "rank(rf)"
      ],
      "metadata": {
        "colab": {
          "base_uri": "https://localhost:8080/"
        },
        "id": "EbZyhyfNdT-Y",
        "outputId": "f2c82893-eec0-4f0a-d758-07b283d3dd24"
      },
      "execution_count": null,
      "outputs": [
        {
          "output_type": "stream",
          "name": "stdout",
          "text": [
            "                Feature  Importance\n",
            "10             ST slope    0.307498\n",
            "2       chest pain type    0.192244\n",
            "9               oldpeak    0.122014\n",
            "8       exercise angina    0.117147\n",
            "7        max heart rate    0.067680\n",
            "4           cholesterol    0.064525\n",
            "1                   sex    0.042679\n",
            "0                   age    0.042556\n",
            "3          resting bp s    0.023041\n",
            "5   fasting blood sugar    0.013083\n",
            "6           resting ecg    0.007532\n"
          ]
        }
      ]
    },
    {
      "cell_type": "code",
      "source": [
        "rank(dt)"
      ],
      "metadata": {
        "colab": {
          "base_uri": "https://localhost:8080/"
        },
        "id": "YfjDKyWFdfWd",
        "outputId": "8bb23df8-c0e4-4f3d-e7b7-59adfb6c3e33"
      },
      "execution_count": null,
      "outputs": [
        {
          "output_type": "stream",
          "name": "stdout",
          "text": [
            "                Feature  Importance\n",
            "10             ST slope    0.513429\n",
            "2       chest pain type    0.172394\n",
            "9               oldpeak    0.084700\n",
            "7        max heart rate    0.083859\n",
            "1                   sex    0.057109\n",
            "3          resting bp s    0.029284\n",
            "5   fasting blood sugar    0.020572\n",
            "0                   age    0.020384\n",
            "8       exercise angina    0.009420\n",
            "4           cholesterol    0.008849\n",
            "6           resting ecg    0.000000\n"
          ]
        }
      ]
    },
    {
      "cell_type": "code",
      "source": [
        "rank(gbm)"
      ],
      "metadata": {
        "colab": {
          "base_uri": "https://localhost:8080/"
        },
        "id": "roNA2Cmpdfjq",
        "outputId": "d07e2ac0-5f54-4c3f-e002-cc9ad40d6400"
      },
      "execution_count": null,
      "outputs": [
        {
          "output_type": "stream",
          "name": "stdout",
          "text": [
            "                Feature  Importance\n",
            "10             ST slope    0.399717\n",
            "2       chest pain type    0.141090\n",
            "9               oldpeak    0.084093\n",
            "7        max heart rate    0.083209\n",
            "4           cholesterol    0.077786\n",
            "8       exercise angina    0.047677\n",
            "0                   age    0.046599\n",
            "1                   sex    0.046086\n",
            "3          resting bp s    0.038352\n",
            "5   fasting blood sugar    0.023777\n",
            "6           resting ecg    0.011616\n"
          ]
        }
      ]
    },
    {
      "cell_type": "code",
      "source": [
        "rank(et)"
      ],
      "metadata": {
        "colab": {
          "base_uri": "https://localhost:8080/"
        },
        "id": "ngSO-wxEdftC",
        "outputId": "9e3f20f9-1859-4ddc-b377-c26dddbbab15"
      },
      "execution_count": null,
      "outputs": [
        {
          "output_type": "stream",
          "name": "stdout",
          "text": [
            "                Feature  Importance\n",
            "10             ST slope    0.161499\n",
            "8       exercise angina    0.140620\n",
            "2       chest pain type    0.129899\n",
            "9               oldpeak    0.095566\n",
            "7        max heart rate    0.093239\n",
            "4           cholesterol    0.089776\n",
            "0                   age    0.080637\n",
            "3          resting bp s    0.075222\n",
            "1                   sex    0.055412\n",
            "6           resting ecg    0.041936\n",
            "5   fasting blood sugar    0.036194\n"
          ]
        }
      ]
    },
    {
      "cell_type": "code",
      "source": [
        "from sklearn.inspection import permutation_importance"
      ],
      "metadata": {
        "id": "cSndLbb-d05J"
      },
      "execution_count": null,
      "outputs": []
    },
    {
      "cell_type": "code",
      "source": [
        "knn_result = permutation_importance(knn, X_test, y_test, n_repeats=10, random_state=42)"
      ],
      "metadata": {
        "id": "QnQs0SDYd6FT"
      },
      "execution_count": null,
      "outputs": []
    },
    {
      "cell_type": "code",
      "source": [
        "svm_result = permutation_importance(svm, X_test, y_test, n_repeats=10, random_state=42)"
      ],
      "metadata": {
        "id": "1C5ceKIGd6MR"
      },
      "execution_count": null,
      "outputs": []
    },
    {
      "cell_type": "code",
      "source": [
        "def rank_2(result):\n",
        "  perms = pd.DataFrame({\n",
        "      'Feature': X.columns,\n",
        "      '(Mean) Importance': result.importances_mean,\n",
        "  })\n",
        "  sorted_importances = perms.sort_values(by='(Mean) Importance', ascending=False)\n",
        "\n",
        "  print(sorted_importances)"
      ],
      "metadata": {
        "id": "_kihSJlLd9SM"
      },
      "execution_count": null,
      "outputs": []
    },
    {
      "cell_type": "code",
      "source": [
        "rank_2(knn_result)"
      ],
      "metadata": {
        "colab": {
          "base_uri": "https://localhost:8080/"
        },
        "id": "ccpN5LE7eff3",
        "outputId": "2e82c6f6-7fc4-4a02-f3c9-5a5592389391"
      },
      "execution_count": null,
      "outputs": [
        {
          "output_type": "stream",
          "name": "stdout",
          "text": [
            "                Feature  (Mean) Importance\n",
            "7        max heart rate           0.137815\n",
            "4           cholesterol           0.101261\n",
            "3          resting bp s           0.042437\n",
            "0                   age           0.020588\n",
            "8       exercise angina           0.003361\n",
            "6           resting ecg           0.002941\n",
            "9               oldpeak           0.002941\n",
            "1                   sex           0.001681\n",
            "10             ST slope           0.000000\n",
            "5   fasting blood sugar          -0.000840\n",
            "2       chest pain type          -0.002941\n"
          ]
        }
      ]
    },
    {
      "cell_type": "code",
      "source": [
        "rank_2(svm_result)"
      ],
      "metadata": {
        "colab": {
          "base_uri": "https://localhost:8080/"
        },
        "id": "txUXFmfqd-iZ",
        "outputId": "e9fdcec6-521e-4ac3-f8ed-39d1e0f127ee"
      },
      "execution_count": null,
      "outputs": [
        {
          "output_type": "stream",
          "name": "stdout",
          "text": [
            "                Feature  (Mean) Importance\n",
            "10             ST slope           0.079412\n",
            "2       chest pain type           0.037815\n",
            "8       exercise angina           0.035294\n",
            "1                   sex           0.025210\n",
            "9               oldpeak           0.015966\n",
            "4           cholesterol           0.003361\n",
            "5   fasting blood sugar           0.001261\n",
            "6           resting ecg          -0.002521\n",
            "3          resting bp s          -0.002941\n",
            "7        max heart rate          -0.005042\n",
            "0                   age          -0.013866\n"
          ]
        }
      ]
    },
    {
      "cell_type": "markdown",
      "source": [
        "##Testing collective performance by removing certain features from all features"
      ],
      "metadata": {
        "id": "yZNTgHjtW1_a"
      }
    },
    {
      "cell_type": "code",
      "source": [
        "initial_dict = {} #run this only once"
      ],
      "metadata": {
        "id": "qAcI743_XMKU"
      },
      "execution_count": null,
      "outputs": []
    },
    {
      "cell_type": "code",
      "source": [
        "def remov(*items):\n",
        "    return [item for item in list(heart_data.columns.drop(target)) if item not in items]"
      ],
      "metadata": {
        "id": "wpelSGlOXu2p"
      },
      "execution_count": null,
      "outputs": []
    },
    {
      "cell_type": "code",
      "source": [
        "all_columns = remov('exercise angina') #'slope' had a good effect on GBM"
      ],
      "metadata": {
        "id": "bdWyp9x5YRN3"
      },
      "execution_count": null,
      "outputs": []
    },
    {
      "cell_type": "code",
      "source": [
        "X = heart_data[all_columns]\n",
        "y = heart_data[target]\n",
        "gbm = GradientBoostingClassifier(n_estimators=100, learning_rate=0.1, random_state=42)\n",
        "#training and testing results lists to store in\n",
        "accuracy = []\n",
        "f1 = []\n",
        "precision = []\n",
        "recall = []\n",
        "#splitting data\n",
        "aX_train, aX_test, ay_train, ay_test = train_test_split(X, y, test_size=0.2, random_state=42)\n",
        "#function for training and testing\n",
        "def training(model, aX_train, aX_test, ay_train, ay_test):\n",
        "    model.fit(aX_train, ay_train)\n",
        "    ay_train_pred = model.predict(aX_train)\n",
        "    ay_test_pred = model.predict(aX_test)\n",
        "    accuracy.append(accuracy_score(ay_test, ay_test_pred))\n",
        "    f1.append(f1_score(ay_test, ay_test_pred))\n",
        "    precision.append(precision_score(ay_test, ay_test_pred))\n",
        "    recall.append(recall_score(ay_test, ay_test_pred))\n",
        "training(rf, aX_train, aX_test, ay_train, ay_test)\n",
        "training(dt, aX_train, aX_test, ay_train, ay_test)\n",
        "training(knn, aX_train, aX_test, ay_train, ay_test)\n",
        "training(gbm, aX_train, aX_test, ay_train, ay_test)\n",
        "training(svm, aX_train, aX_test, ay_train, ay_test)\n",
        "training(et, aX_train, aX_test, ay_train, ay_test)\n",
        "#one model's results over different features\n",
        "models = [\"Random Forest\", \"Decision Tree\", \"k-Nearest Neighbors\", \"Gradient Boosting Machine\", \"Support Vector Machine\", \"Extra Trees\"]\n",
        "results = pd.DataFrame({\n",
        "    \"Model\": models,\n",
        "    \"Accuracy\": accuracy,\n",
        "    \"Precision\": precision,\n",
        "    \"Recall\": recall,\n",
        "    \"F1\": f1\n",
        "})\n",
        "print(results)\n",
        "initial_dict[str(all_columns)+\" | length \"+str(len(all_columns))] = results"
      ],
      "metadata": {
        "colab": {
          "base_uri": "https://localhost:8080/"
        },
        "id": "IPIIRmqEW7XC",
        "outputId": "14f92a44-eb67-4469-83cf-5093f0d8bb59"
      },
      "execution_count": null,
      "outputs": [
        {
          "output_type": "stream",
          "name": "stdout",
          "text": [
            "                       Model  Accuracy  Precision    Recall        F1\n",
            "0              Random Forest  0.886555   0.893939  0.900763  0.897338\n",
            "1              Decision Tree  0.848739   0.818792  0.931298  0.871429\n",
            "2        k-Nearest Neighbors  0.718487   0.753968  0.725191  0.739300\n",
            "3  Gradient Boosting Machine  0.907563   0.903704  0.931298  0.917293\n",
            "4     Support Vector Machine  0.831933   0.837037  0.862595  0.849624\n",
            "5                Extra Trees  0.936975   0.946154  0.938931  0.942529\n"
          ]
        }
      ]
    },
    {
      "cell_type": "code",
      "source": [
        "initial_dict"
      ],
      "metadata": {
        "colab": {
          "base_uri": "https://localhost:8080/"
        },
        "id": "vsGMi1PcYrey",
        "outputId": "d00eda3f-7591-4527-8da2-a604734f0757"
      },
      "execution_count": null,
      "outputs": [
        {
          "output_type": "execute_result",
          "data": {
            "text/plain": [
              "{\"['age', 'sex', 'chest pain type', 'resting bp s', 'cholesterol', 'fasting blood sugar', 'resting ecg', 'max heart rate', 'exercise angina', 'oldpeak', 'ST slope']\":                        Model  Accuracy  Precision    Recall        F1\n",
              " 0              Random Forest  0.882353   0.893130  0.893130  0.893130\n",
              " 1              Decision Tree  0.848739   0.818792  0.931298  0.871429\n",
              " 2        k-Nearest Neighbors  0.718487   0.753968  0.725191  0.739300\n",
              " 3  Gradient Boosting Machine  0.915966   0.917293  0.931298  0.924242\n",
              " 4     Support Vector Machine  0.848739   0.857143  0.870229  0.863636\n",
              " 5                Extra Trees  0.936975   0.953125  0.931298  0.942085,\n",
              " \"['age', 'chest pain type', 'resting bp s', 'cholesterol', 'resting ecg', 'max heart rate', 'exercise angina', 'oldpeak', 'ST slope']\":                        Model  Accuracy  Precision    Recall        F1\n",
              " 0              Random Forest  0.865546   0.866667  0.893130  0.879699\n",
              " 1              Decision Tree  0.815126   0.791946  0.900763  0.842857\n",
              " 2        k-Nearest Neighbors  0.718487   0.753968  0.725191  0.739300\n",
              " 3  Gradient Boosting Machine  0.878151   0.859155  0.931298  0.893773\n",
              " 4     Support Vector Machine  0.836134   0.838235  0.870229  0.853933\n",
              " 5                Extra Trees  0.899160   0.902256  0.916031  0.909091,\n",
              " \"['age', 'sex', 'chest pain type', 'resting bp s', 'cholesterol', 'resting ecg', 'max heart rate', 'exercise angina', 'oldpeak', 'ST slope']\":                        Model  Accuracy  Precision    Recall        F1\n",
              " 0              Random Forest  0.890756   0.894737  0.908397  0.901515\n",
              " 1              Decision Tree  0.848739   0.818792  0.931298  0.871429\n",
              " 2        k-Nearest Neighbors  0.718487   0.753968  0.725191  0.739300\n",
              " 3  Gradient Boosting Machine  0.928571   0.919118  0.954198  0.936330\n",
              " 4     Support Vector Machine  0.848739   0.841727  0.893130  0.866667\n",
              " 5                Extra Trees  0.928571   0.938462  0.931298  0.934866,\n",
              " \"['age', 'sex', 'chest pain type', 'resting bp s', 'cholesterol', 'fasting blood sugar', 'resting ecg', 'max heart rate', 'exercise angina', 'oldpeak', 'ST slope']11\":                        Model  Accuracy  Precision    Recall        F1\n",
              " 0              Random Forest  0.882353   0.893130  0.893130  0.893130\n",
              " 1              Decision Tree  0.848739   0.818792  0.931298  0.871429\n",
              " 2        k-Nearest Neighbors  0.718487   0.753968  0.725191  0.739300\n",
              " 3  Gradient Boosting Machine  0.915966   0.917293  0.931298  0.924242\n",
              " 4     Support Vector Machine  0.848739   0.857143  0.870229  0.863636\n",
              " 5                Extra Trees  0.936975   0.953125  0.931298  0.942085,\n",
              " \"['age', 'sex', 'chest pain type', 'resting bp s', 'cholesterol', 'fasting blood sugar', 'resting ecg', 'max heart rate', 'oldpeak', 'ST slope']10\":                        Model  Accuracy  Precision    Recall        F1\n",
              " 0              Random Forest  0.886555   0.893939  0.900763  0.897338\n",
              " 1              Decision Tree  0.848739   0.818792  0.931298  0.871429\n",
              " 2        k-Nearest Neighbors  0.718487   0.753968  0.725191  0.739300\n",
              " 3  Gradient Boosting Machine  0.907563   0.903704  0.931298  0.917293\n",
              " 4     Support Vector Machine  0.831933   0.837037  0.862595  0.849624\n",
              " 5                Extra Trees  0.936975   0.946154  0.938931  0.942529}"
            ]
          },
          "metadata": {},
          "execution_count": 235
        }
      ]
    },
    {
      "cell_type": "markdown",
      "source": [
        "Looks like removing exercise angina increased the accuracy by a tiny bit"
      ],
      "metadata": {
        "id": "cTIOXGPAJDhs"
      }
    },
    {
      "cell_type": "markdown",
      "source": [
        "##Testing for best single feature for the best models\n",
        "\n"
      ],
      "metadata": {
        "id": "bkhV4NNxVeku"
      }
    },
    {
      "cell_type": "code",
      "source": [
        "#initializing 5 models\n",
        "rf = RandomForestClassifier(max_depth=4,random_state=42, class_weight='balanced')\n",
        "et = ExtraTreesClassifier(n_estimators=100, random_state=42, class_weight='balanced')\n",
        "dt = DecisionTreeClassifier(max_depth=5, random_state=42, class_weight='balanced')\n",
        "knn = KNeighborsClassifier(n_neighbors=5)\n",
        "svm = SVC(kernel='linear', C=1, random_state=42)\n",
        "gbm = GradientBoostingClassifier(n_estimators=100, learning_rate=0.1, random_state=42)"
      ],
      "metadata": {
        "id": "GGRowTa9J8qN"
      },
      "execution_count": null,
      "outputs": []
    },
    {
      "cell_type": "code",
      "source": [
        "def single_feature(c_model):\n",
        "  for k in heart_data.columns.drop(target):\n",
        "    X = heart_data[[k]]\n",
        "    y = heart_data[target]\n",
        "    #f1 score\n",
        "    f1 = 0\n",
        "    #splitting data\n",
        "    aX_train, aX_test, ay_train, ay_test = train_test_split(X, y, test_size=0.2, random_state=42)\n",
        "    #function for training and testing\n",
        "    c_model.fit(aX_train, ay_train)\n",
        "    ay_train_pred = c_model.predict(aX_train)\n",
        "    ay_test_pred = c_model.predict(aX_test)\n",
        "    f1 = f1_score(ay_test, ay_test_pred)\n",
        "    #one model's results over different features\n",
        "    print(k+\":\", f1)"
      ],
      "metadata": {
        "id": "XiCiSv2jI3nG"
      },
      "execution_count": null,
      "outputs": []
    },
    {
      "cell_type": "code",
      "source": [
        "single_feature(rf)"
      ],
      "metadata": {
        "colab": {
          "base_uri": "https://localhost:8080/"
        },
        "id": "W420o2JNKthu",
        "outputId": "cf3b5ad6-f377-47a7-b8af-5d4c290cbfd4"
      },
      "execution_count": null,
      "outputs": [
        {
          "output_type": "stream",
          "name": "stdout",
          "text": [
            "age: 0.6381322957198444\n",
            "sex: 0.7562500000000001\n",
            "chest pain type: 0.7795275590551182\n",
            "resting bp s: 0.4519230769230769\n",
            "cholesterol: 0.6180257510729613\n",
            "fasting blood sugar: 0.42222222222222217\n",
            "resting ecg: 0.5407725321888412\n",
            "max heart rate: 0.723076923076923\n",
            "exercise angina: 0.7381974248927038\n",
            "oldpeak: 0.7086614173228347\n",
            "ST slope: 0.8074074074074076\n"
          ]
        }
      ]
    },
    {
      "cell_type": "code",
      "source": [
        "single_feature(gbm)"
      ],
      "metadata": {
        "colab": {
          "base_uri": "https://localhost:8080/"
        },
        "id": "dUwTorhMMSmy",
        "outputId": "b74a2c2f-3332-47a0-91e2-556cd20f3275"
      },
      "execution_count": null,
      "outputs": [
        {
          "output_type": "stream",
          "name": "stdout",
          "text": [
            "age: 0.640926640926641\n",
            "sex: 0.7562500000000001\n",
            "chest pain type: 0.7795275590551182\n",
            "resting bp s: 0.6343283582089552\n",
            "cholesterol: 0.688\n",
            "fasting blood sugar: 0.42222222222222217\n",
            "resting ecg: 0.5407725321888412\n",
            "max heart rate: 0.7272727272727273\n",
            "exercise angina: 0.7381974248927038\n",
            "oldpeak: 0.7086614173228347\n",
            "ST slope: 0.8074074074074076\n"
          ]
        }
      ]
    },
    {
      "cell_type": "code",
      "source": [
        "single_feature(et)"
      ],
      "metadata": {
        "colab": {
          "base_uri": "https://localhost:8080/"
        },
        "id": "50oFtmvjMSpC",
        "outputId": "e6bb44a3-6c6e-4013-883a-75e4212caa27"
      },
      "execution_count": null,
      "outputs": [
        {
          "output_type": "stream",
          "name": "stdout",
          "text": [
            "age: 0.6381322957198444\n",
            "sex: 0.7562500000000001\n",
            "chest pain type: 0.7795275590551182\n",
            "resting bp s: 0.5405405405405406\n",
            "cholesterol: 0.6422764227642276\n",
            "fasting blood sugar: 0.42222222222222217\n",
            "resting ecg: 0.5407725321888412\n",
            "max heart rate: 0.6746031746031745\n",
            "exercise angina: 0.7381974248927038\n",
            "oldpeak: 0.7086614173228347\n",
            "ST slope: 0.8074074074074076\n"
          ]
        }
      ]
    },
    {
      "cell_type": "markdown",
      "source": [
        "##Concluding Evaluations"
      ],
      "metadata": {
        "id": "IUYJr-DnVikI"
      }
    },
    {
      "cell_type": "code",
      "source": [
        "from sklearn.metrics import classification_report"
      ],
      "metadata": {
        "id": "Ga_RivSiOw5O"
      },
      "execution_count": null,
      "outputs": []
    },
    {
      "cell_type": "code",
      "source": [
        "heart_data.columns.drop(target)"
      ],
      "metadata": {
        "colab": {
          "base_uri": "https://localhost:8080/"
        },
        "id": "xxQoOZHENg-b",
        "outputId": "02443b1e-7a04-4763-9401-71ebe3e0971c"
      },
      "execution_count": null,
      "outputs": [
        {
          "output_type": "execute_result",
          "data": {
            "text/plain": [
              "Index(['age', 'sex', 'chest pain type', 'resting bp s', 'cholesterol',\n",
              "       'fasting blood sugar', 'resting ecg', 'max heart rate',\n",
              "       'exercise angina', 'oldpeak', 'ST slope'],\n",
              "      dtype='object')"
            ]
          },
          "metadata": {},
          "execution_count": 279
        }
      ]
    },
    {
      "cell_type": "markdown",
      "source": [
        "Lifestyle factor(s): exercise angina"
      ],
      "metadata": {
        "id": "vpe2rde2RdLH"
      }
    },
    {
      "cell_type": "markdown",
      "source": [
        "###With lifestyle factor(s)"
      ],
      "metadata": {
        "id": "Sp975NQbRmbM"
      }
    },
    {
      "cell_type": "code",
      "source": [
        "#testing for the best mulitple features ranked by importance by that model, from a preivous section\n",
        "all_columns = remov()\n",
        "X = heart_data[all_columns]\n",
        "y = heart_data[target]\n",
        "#initializing 5 models\n",
        "model = ExtraTreesClassifier(n_estimators=100, random_state=42, class_weight='balanced')\n",
        "#splitting data\n",
        "aX_train, aX_test, ay_train, ay_test = train_test_split(X, y, test_size=0.2, random_state=42)\n",
        "#function for training and testing\n",
        "model.fit(aX_train, ay_train)\n",
        "ay_train_pred = model.predict(aX_train)\n",
        "ay_test_pred = model.predict(aX_test)\n",
        "with_f1 = f1_score(ay_test,ay_test_pred)"
      ],
      "metadata": {
        "id": "MqtYQu7FQvmT"
      },
      "execution_count": null,
      "outputs": []
    },
    {
      "cell_type": "markdown",
      "source": [
        "###Without lifestyle factor(s)"
      ],
      "metadata": {
        "id": "VbqcWTEGRsBB"
      }
    },
    {
      "cell_type": "code",
      "source": [
        "#Using best model from preivous evaluations\n",
        "all_columns = remov('exercise angina', 'oldpeak')\n",
        "X = heart_data[all_columns]\n",
        "y = heart_data[target]\n",
        "#initializing 5 models\n",
        "model = ExtraTreesClassifier(n_estimators=100, random_state=42, class_weight='balanced')\n",
        "#splitting data\n",
        "aX_train, aX_test, ay_train, ay_test = train_test_split(X, y, test_size=0.2, random_state=42)\n",
        "#function for training and testing\n",
        "model.fit(aX_train, ay_train)\n",
        "ay_train_pred = model.predict(aX_train)\n",
        "ay_test_pred = model.predict(aX_test)\n",
        "without_f1 = f1_score(ay_test,ay_test_pred)"
      ],
      "metadata": {
        "id": "NUDjWyLIRtKF"
      },
      "execution_count": null,
      "outputs": []
    },
    {
      "cell_type": "code",
      "source": [
        "print(f'{with_f1} (factors)\\n{without_f1} (no factors)')"
      ],
      "metadata": {
        "id": "PXdrC0UlPVDv",
        "colab": {
          "base_uri": "https://localhost:8080/"
        },
        "outputId": "14cdc5f4-17c5-4ae8-9115-be8e933c634d"
      },
      "execution_count": null,
      "outputs": [
        {
          "output_type": "stream",
          "name": "stdout",
          "text": [
            "0.9420849420849421 (factors)\n",
            "0.9353612167300379 (no factors)\n"
          ]
        }
      ]
    },
    {
      "cell_type": "markdown",
      "source": [
        "###Findings (Lifestyle vs No Lifestyle Factors)\n",
        "Removing exercise induced angina and oldpeak did not affect the result much, as it barely decreased the accuracy.\n",
        "\n",
        "This supports that the feature importance of Extra Trees shows that exercise angina was the second most important feature and oldpeak was the fourth most important."
      ],
      "metadata": {
        "id": "TzjnixhiO_Yx"
      }
    },
    {
      "cell_type": "markdown",
      "source": [
        "Removing Other Most Important Features Ranked from Before for this model:\n",
        "\n",
        "ST slope (1st), chest pain (3rd)"
      ],
      "metadata": {
        "id": "NoPJ93KGX0xP"
      }
    },
    {
      "cell_type": "code",
      "source": [
        "#Using best model from preivous evaluations\n",
        "all_columns = remov('ST slope')\n",
        "X = heart_data[all_columns]\n",
        "y = heart_data[target]\n",
        "#initializing 5 models\n",
        "model = ExtraTreesClassifier(n_estimators=100, random_state=42, class_weight='balanced')\n",
        "#splitting data\n",
        "aX_train, aX_test, ay_train, ay_test = train_test_split(X, y, test_size=0.2, random_state=42)\n",
        "#function for training and testing\n",
        "model.fit(aX_train, ay_train)\n",
        "ay_train_pred = model.predict(aX_train)\n",
        "ay_test_pred = model.predict(aX_test)\n",
        "print(f1_score(ay_test,ay_test_pred))"
      ],
      "metadata": {
        "colab": {
          "base_uri": "https://localhost:8080/"
        },
        "id": "a-Dj9vswXwlA",
        "outputId": "4f278de8-6679-4423-d30c-92e72aa18784"
      },
      "execution_count": null,
      "outputs": [
        {
          "output_type": "stream",
          "name": "stdout",
          "text": [
            "0.9140625000000001\n"
          ]
        }
      ]
    },
    {
      "cell_type": "code",
      "source": [
        "#Using best model from preivous evaluations\n",
        "all_columns = remov('chest pain')\n",
        "X = heart_data[all_columns]\n",
        "y = heart_data[target]\n",
        "#initializing 5 models\n",
        "model = ExtraTreesClassifier(n_estimators=100, random_state=42, class_weight='balanced')\n",
        "#splitting data\n",
        "aX_train, aX_test, ay_train, ay_test = train_test_split(X, y, test_size=0.2, random_state=42)\n",
        "#function for training and testing\n",
        "model.fit(aX_train, ay_train)\n",
        "ay_train_pred = model.predict(aX_train)\n",
        "ay_test_pred = model.predict(aX_test)\n",
        "print(f1_score(ay_test,ay_test_pred))"
      ],
      "metadata": {
        "colab": {
          "base_uri": "https://localhost:8080/"
        },
        "id": "hed2ctjZYE1G",
        "outputId": "5840c15a-eadb-4b8c-c81d-170d5241adc6"
      },
      "execution_count": null,
      "outputs": [
        {
          "output_type": "stream",
          "name": "stdout",
          "text": [
            "0.9420849420849421\n"
          ]
        }
      ]
    },
    {
      "cell_type": "markdown",
      "source": [
        "* Removing chest pain did not have much of an impact\n",
        "* Removing ST slope decreased accuracy to 91%\n",
        "\n",
        "Therefore, ST slope seems like an an important feature in predicting heart disease, as it was also ranked the most important feature of this model\n",
        "\n",
        "Slope of the Peak Exercise ST Segment is a psycological measure that can indicate how well the heart is functioning under stress."
      ],
      "metadata": {
        "id": "gM3ap1jCYZW1"
      }
    }
  ]
}